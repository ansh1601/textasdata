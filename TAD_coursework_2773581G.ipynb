{
 "cells": [
  {
   "cell_type": "code",
   "execution_count": 2,
   "id": "0d04021f",
   "metadata": {
    "id": "0d04021f"
   },
   "outputs": [],
   "source": [
    "import pandas as pd\n",
    "import numpy as np\n",
    "import re\n",
    "import spacy\n",
    "nlp = spacy.load('en_core_web_sm')\n",
    "from tqdm import tqdm\n",
    "from sklearn.model_selection import train_test_split\n",
    "from sklearn.preprocessing import LabelEncoder as LE\n",
    "from sklearn.metrics import classification_report\n",
    "from sklearn.linear_model import LogisticRegression\n",
    "import torch\n",
    "from sklearn.metrics import accuracy_score,f1_score\n",
    "import seaborn as sns\n",
    "import matplotlib.pyplot as plt\n",
    "from sklearn.metrics import confusion_matrix\n",
    "from sklearn.feature_extraction.text import TfidfVectorizer\n",
    "from sklearn.decomposition import PCA\n",
    "from sklearn.dummy import DummyClassifier as DC\n",
    "from sklearn.linear_model import LogisticRegression\n",
    "from sklearn.metrics import f1_score\n",
    "from sklearn.svm import SVC"
   ]
  },
  {
   "cell_type": "code",
   "execution_count": 3,
   "id": "329850b0",
   "metadata": {
    "colab": {
     "base_uri": "https://localhost:8080/"
    },
    "id": "329850b0",
    "outputId": "303e0585-058e-4745-aa28-8b7aeb734caa"
   },
   "outputs": [
    {
     "data": {
      "text/plain": [
       "positive    3700\n",
       "negative    3000\n",
       "neutral     2300\n",
       "Name: labels, dtype: int64"
      ]
     },
     "execution_count": 3,
     "metadata": {},
     "output_type": "execute_result"
    }
   ],
   "source": [
    "df = pd.read_csv(\"Corona_NLP_train.csv\",engine='python',encoding='ISO-8859-1')\n",
    "df['labels']=df['Sentiment'].map({'Extremely Negative':'negative','Negative':'negative','Neutral':'neutral',\n",
    "                                                       'Positive':'positive','Extremely Positive':'positive'})\n",
    "sample1  = df[df['labels']=='neutral'].sample(n=2300)\n",
    "sample2 = df[df['labels']=='positive'].sample(n=3700)\n",
    "sample3 = df[df['labels']=='negative'].sample(n=3000)\n",
    "token_data = pd.concat([sample1,sample2,sample3],ignore_index=True)\n",
    "#token_data = df.sample(n=9000)\n",
    "token_data['labels'].value_counts()"
   ]
  },
  {
   "cell_type": "code",
   "execution_count": 120,
   "id": "c46c9ac5",
   "metadata": {
    "colab": {
     "base_uri": "https://localhost:8080/",
     "height": 556
    },
    "id": "c46c9ac5",
    "outputId": "c7859c64-633f-4da8-c254-d648ce5e6f20",
    "scrolled": true
   },
   "outputs": [
    {
     "name": "stdout",
     "output_type": "stream",
     "text": [
      "0    @jfahmy I feel so sick!  I think IÂll drive a...\n",
      "1    UPDATED: Commissioner Nikki Fried Activates Ch...\n",
      "2    There are people who stock up with food and to...\n",
      "3    I work in retail where people come in and out ...\n",
      "4    Southern #Nevada Home Prices Hit New Record #L...\n",
      "5    COVID-19 is starting to take a deadly toll on ...\n",
      "6    Is there not a strategic reserve supply of #to...\n",
      "7    Anyone out there already sick of #pasta?\\r\\r\\n...\n",
      "8    @lisekimhorton This article says there are fiv...\n",
      "9    Some of us are going to be in this boat soon ?...\n",
      "Name: OriginalTweet, dtype: object\n"
     ]
    },
    {
     "name": "stderr",
     "output_type": "stream",
     "text": [
      "100%|██████████████████████████████████████████████████████████████████████████████| 9000/9000 [03:04<00:00, 48.77it/s]\n"
     ]
    },
    {
     "data": {
      "text/html": [
       "<div>\n",
       "<style scoped>\n",
       "    .dataframe tbody tr th:only-of-type {\n",
       "        vertical-align: middle;\n",
       "    }\n",
       "\n",
       "    .dataframe tbody tr th {\n",
       "        vertical-align: top;\n",
       "    }\n",
       "\n",
       "    .dataframe thead th {\n",
       "        text-align: right;\n",
       "    }\n",
       "</style>\n",
       "<table border=\"1\" class=\"dataframe\">\n",
       "  <thead>\n",
       "    <tr style=\"text-align: right;\">\n",
       "      <th></th>\n",
       "      <th>UserName</th>\n",
       "      <th>ScreenName</th>\n",
       "      <th>Location</th>\n",
       "      <th>TweetAt</th>\n",
       "      <th>OriginalTweet</th>\n",
       "      <th>Sentiment</th>\n",
       "      <th>labels</th>\n",
       "      <th>CleanTweet</th>\n",
       "      <th>tokens</th>\n",
       "    </tr>\n",
       "  </thead>\n",
       "  <tbody>\n",
       "    <tr>\n",
       "      <th>2085</th>\n",
       "      <td>10809</td>\n",
       "      <td>55761</td>\n",
       "      <td>Central London UK</td>\n",
       "      <td>19-03-2020</td>\n",
       "      <td>All #supermarket trollies and baskets need to ...</td>\n",
       "      <td>Neutral</td>\n",
       "      <td>neutral</td>\n",
       "      <td>All  trollies and baskets need to be cleaned r...</td>\n",
       "      <td>[trollie, basket, need, clean, regularly, long...</td>\n",
       "    </tr>\n",
       "    <tr>\n",
       "      <th>1522</th>\n",
       "      <td>28037</td>\n",
       "      <td>72989</td>\n",
       "      <td>Princeton, NJ</td>\n",
       "      <td>26-03-2020</td>\n",
       "      <td>Online food and grocery sales have jumped 186%...</td>\n",
       "      <td>Neutral</td>\n",
       "      <td>neutral</td>\n",
       "      <td>Online food and grocery sales have jumped  ove...</td>\n",
       "      <td>[online, food, grocery, sale, jump, week, late...</td>\n",
       "    </tr>\n",
       "    <tr>\n",
       "      <th>4480</th>\n",
       "      <td>13169</td>\n",
       "      <td>58121</td>\n",
       "      <td>NaN</td>\n",
       "      <td>20-03-2020</td>\n",
       "      <td>@skytv @SkyHelpTeam Did you seriously think it...</td>\n",
       "      <td>Extremely Positive</td>\n",
       "      <td>positive</td>\n",
       "      <td>Did you seriously think its a good idea to s...</td>\n",
       "      <td>[seriously, think, good, idea, start, increase...</td>\n",
       "    </tr>\n",
       "    <tr>\n",
       "      <th>4577</th>\n",
       "      <td>43139</td>\n",
       "      <td>88091</td>\n",
       "      <td>South Africa</td>\n",
       "      <td>12-04-2020</td>\n",
       "      <td>A healthy immune system will fight off #corona...</td>\n",
       "      <td>Extremely Positive</td>\n",
       "      <td>positive</td>\n",
       "      <td>A healthy immune system will fight off  just l...</td>\n",
       "      <td>[healthy, immune, system, fight, like, flu, re...</td>\n",
       "    </tr>\n",
       "    <tr>\n",
       "      <th>5787</th>\n",
       "      <td>43802</td>\n",
       "      <td>88754</td>\n",
       "      <td>NaN</td>\n",
       "      <td>13-04-2020</td>\n",
       "      <td>With people working from home protecting yours...</td>\n",
       "      <td>Extremely Positive</td>\n",
       "      <td>positive</td>\n",
       "      <td>With people working from home protecting yours...</td>\n",
       "      <td>[people, work, home, protect, network, importa...</td>\n",
       "    </tr>\n",
       "  </tbody>\n",
       "</table>\n",
       "</div>"
      ],
      "text/plain": [
       "      UserName  ScreenName           Location     TweetAt  \\\n",
       "2085     10809       55761  Central London UK  19-03-2020   \n",
       "1522     28037       72989      Princeton, NJ  26-03-2020   \n",
       "4480     13169       58121                NaN  20-03-2020   \n",
       "4577     43139       88091       South Africa  12-04-2020   \n",
       "5787     43802       88754                NaN  13-04-2020   \n",
       "\n",
       "                                          OriginalTweet           Sentiment  \\\n",
       "2085  All #supermarket trollies and baskets need to ...             Neutral   \n",
       "1522  Online food and grocery sales have jumped 186%...             Neutral   \n",
       "4480  @skytv @SkyHelpTeam Did you seriously think it...  Extremely Positive   \n",
       "4577  A healthy immune system will fight off #corona...  Extremely Positive   \n",
       "5787  With people working from home protecting yours...  Extremely Positive   \n",
       "\n",
       "        labels                                         CleanTweet  \\\n",
       "2085   neutral  All  trollies and baskets need to be cleaned r...   \n",
       "1522   neutral  Online food and grocery sales have jumped  ove...   \n",
       "4480  positive    Did you seriously think its a good idea to s...   \n",
       "4577  positive  A healthy immune system will fight off  just l...   \n",
       "5787  positive  With people working from home protecting yours...   \n",
       "\n",
       "                                                 tokens  \n",
       "2085  [trollie, basket, need, clean, regularly, long...  \n",
       "1522  [online, food, grocery, sale, jump, week, late...  \n",
       "4480  [seriously, think, good, idea, start, increase...  \n",
       "4577  [healthy, immune, system, fight, like, flu, re...  \n",
       "5787  [people, work, home, protect, network, importa...  "
      ]
     },
     "execution_count": 120,
     "metadata": {},
     "output_type": "execute_result"
    }
   ],
   "source": [
    "def tokenize(tweets):\n",
    "    tokens = []\n",
    "    text = nlp(tweets)\n",
    "    for t in text:\n",
    "        if not t.is_stop and not t.is_punct and not t.is_space:\n",
    "            tokens.append(t.lemma_.lower())\n",
    "    return tokens\n",
    "replacer ={r'#[^\\s]+\\W?':' ',r'@[^\\s]+\\W?':' ','\\n':' ','http\\S+':'','\\r':'',r'[#()\\[\\]]':'',r'[\"\"'':;.|!$%^&*=\\-\\+\\d\\\\\\/\\?\\`~><,]+':''}\n",
    "#first removing all the usernames from the tweet as it is irrelevant and will only create extra vocabulary\n",
    "print(token_data['OriginalTweet'].head(n=10))\n",
    "#handling end of lines , and other symbols using replacer \n",
    "token_data['CleanTweet'] = token_data['OriginalTweet'].replace(replacer,regex=True)\n",
    "#using regex to remove all non-asci characters.\n",
    "token_data['CleanTweet']=token_data['CleanTweet'].apply(lambda x: re.sub(r'[^\\x00-\\x7F]+', '', x))\n",
    "new_col = []\n",
    "for tweet in tqdm(token_data['CleanTweet']):\n",
    "    new_col.append(tokenize(tweet))\n",
    "token_data['tokens'] = new_col\n",
    "token_data.sample(n=5)"
   ]
  },
  {
   "cell_type": "code",
   "execution_count": null,
   "id": "91e954c2",
   "metadata": {
    "id": "91e954c2",
    "outputId": "ecf46625-8e56-4bac-ea59-641de16abde9"
   },
   "outputs": [
    {
     "name": "stdout",
     "output_type": "stream",
     "text": [
      "13543\n",
      "{'aaa': 0, 'aantal': 1, 'aap': 2, 'aapi': 3, 'aapl': 4, 'aaron': 5, 'ab': 6, 'abandon': 7, 'abandonment': 8, 'abass': 9, 'abate': 10, 'abattoir': 11, 'abbott': 12, 'abbreviation': 13, 'abc': 14, 'abce': 15, 'abd': 16, 'abdijan': 17, 'abdul': 18, 'abeg': 19, 'aberdeen': 20, 'abide': 21, 'ability': 22, 'abilty': 23, 'able': 24, 'abnormal': 25, 'aboard': 26, 'abode': 27, 'abou': 28, 'abound': 29, 'abourezk': 30, 'aboutturn': 31, 'abreast': 32, 'abroad': 33, 'abrupt': 34, 'absence': 35, 'absent': 36, 'absolute': 37, 'absolutely': 38, 'absorb': 39, 'absurd': 40, 'absynth': 41, 'abt': 42, 'abta': 43, 'abu': 44, 'abuja': 45, 'abundance': 46, 'abundant': 47, 'abuse': 48, 'abuser': 49, 'ac': 50, 'academy': 51, 'accc': 52, 'acce': 53, 'accelerant': 54, 'accelerate': 55, 'accelerator': 56, 'accept': 57, 'acceptable': 58, 'access': 59, 'accessible': 60, 'accessory': 61, 'accident': 62, 'accidental': 63, 'accidentally': 64, 'accidently': 65, 'accomadation': 66, 'accommodate': 67, 'accommodation': 68, 'accompany': 69, 'accord': 70, 'accordance': 71, 'account': 72, 'accountability': 73, 'accounting': 74, 'accounts': 75, 'accross': 76, 'acct': 77, 'accumulate': 78, 'accuracy': 79, 'accurate': 80, 'accuse': 81, 'achanak': 82, 'achat': 83, 'ache': 84, 'achieve': 85, 'achive': 86, 'achohol': 87, 'acid': 88, 'acknowledge': 89, 'acme': 90, 'acoem': 91, 'acquire': 92, 'acquisition': 93, 'acronym': 94, 'acrylic': 95, 'act': 96, 'acting': 97, 'action': 98, 'actionable': 99, 'actions': 100, 'activate': 101, 'activation': 102, 'active': 103, 'actively': 104, 'activist': 105, 'activity': 106, 'activityi': 107, 'actor': 108, 'actual': 109, 'actually': 110, 'acute': 111, 'ad': 112, 'ada': 113, 'adaa': 114, 'adam': 115, 'adame': 116, 'adams': 117, 'adapt': 118, 'adaptive': 119, 'add': 120, 'adderall': 121, 'addict': 122, 'addicted': 123, 'addiction': 124, 'addition': 125, 'additional': 126, 'additionally': 127, 'additive': 128, 'address': 129, 'addressing': 130, 'adebis': 131, 'adel': 132, 'adelaide': 133, 'adequate': 134, 'adequately': 135, 'adexchanger': 136, 'adhere': 137, 'adherence': 138, 'adi': 139, 'adis': 140, 'adityanath': 141, 'adjacent': 142, 'adjourn': 143, 'adjust': 144, 'adjusts': 145, 'adland': 146, 'admin': 147, 'administer': 148, 'administration': 149, 'administrator': 150, 'admiration': 151, 'admire': 152, 'admired': 153, 'admit': 154, 'admittance': 155, 'adobe': 156, 'adobeexpcloud': 157, 'adopt': 158, 'adoptadas': 159, 'adoption': 160, 'adoptions': 161, 'adoration': 162, 'adote': 163, 'ads': 164, 'adulation': 165, 'adult': 166, 'adults': 167, 'adumkumasi': 168, 'adv': 169, 'advance': 170, 'advanced': 171, 'advancement': 172, 'advantage': 173, 'advent': 174, 'adventure': 175, 'adverse': 176, 'adversely': 177, 'adversity': 178, 'advert': 179, 'advertise': 180, 'advertiser': 181, 'advertising': 182, 'advertisinread': 183, 'adverts': 184, 'advice': 185, 'adviceamp': 186, 'advise': 187, 'adviser': 188, 'advisor': 189, 'advisory': 190, 'advocacy': 191, 'advocacys': 192, 'advocate': 193, 'aegis': 194, 'aen': 195, 'aerion': 196, 'aerodynamics': 197, 'aerosol': 198, 'af': 199, 'afar': 200, 'afcajax_en': 201, 'affair': 202, 'affairs': 203, 'affect': 204, 'affected': 205, 'affiliate': 206, 'affirm': 207, 'afflict': 208, 'affliction': 209, 'affluent': 210, 'affluenza': 211, 'afford': 212, 'affordable': 213, 'affraid': 214, 'afghanis': 215, 'afloat': 216, 'afp': 217, 'afr': 218, 'afraid': 219, 'africa': 220, 'african': 221, 'africans': 222, 'africanunion': 223, 'africas': 224, 'afstand': 225, 'afterglow': 226, 'aftermath': 227, 'afternoon': 228, 'ag': 229, 'agai': 230, 'agaisnt': 231, 'agarwal': 232, 'age': 233, 'aged': 234, 'agencies': 235, 'agency': 236, 'agent': 237, 'aggregate': 238, 'aggressive': 239, 'aggressively': 240, 'agitate': 241, 'agitated': 242, 'agn': 243, 'ago': 244, 'agoraphobia': 245, 'agra': 246, 'agree': 247, 'agreement': 248, 'agressive': 249, 'agribusiness': 250, 'agricultural': 251, 'agriculture': 252, 'agrifood': 253, 'agrisa': 254, 'ags': 255, 'aguete': 256, 'aguh': 257, 'ah': 258, 'aha': 259, 'ahead': 260, 'ahmad': 261, 'ahmed': 262, 'ahmedabad': 263, 'ai': 264, 'aia': 265, 'aibased': 266, 'aid': 267, 'aide': 268, 'aider': 269, 'aiha': 270, 'aim': 271, 'aims': 272, 'ain': 273, 'air': 274, 'airbnb': 275, 'airborne': 276, 'airclean': 277, 'aircraft': 278, 'aires': 279, 'airfare': 280, 'airline': 281, 'airliner': 282, 'airlines': 283, 'airplane': 284, 'airport': 285, 'airtravelcruise': 286, 'airways': 287, 'aisle': 288, 'aj': 289, 'aja': 290, 'ajeeb': 291, 'aka': 292, 'akbaruddin': 293, 'akhira': 294, 'akpeteshie': 295, 'akpmhp': 296, 'aktion': 297, 'aku': 298, 'al': 299, 'alabama': 300, 'aladdin': 301, 'alai': 302, 'alan': 303, 'alarm': 304, 'alarmed': 305, 'alarming': 306, 'alarmist': 307, 'alaska': 308, 'alaye': 309, 'albanian': 310, 'albeit': 311, 'albermarle': 312, 'albert': 313, 'alberta': 314, 'albertan': 315, 'albertas': 316, 'albertson': 317, 'albertsons': 318, 'album': 319, 'albuterol': 320, 'alcohol': 321, 'alcoholbased': 322, 'alcoholhand': 323, 'alcoholicism': 324, 'alcoholism': 325, 'alcohols': 326, 'ald': 327, 'aldi': 328, 'aldut': 329, 'alert': 330, 'alertpublic': 331, 'alex': 332, 'alexander': 333, 'alexandria': 334, 'algernon': 335, 'algo': 336, 'algorithm': 337, 'algorithmic': 338, 'alhamdulillah': 339, 'ali': 340, 'alibaba': 341, 'alicia': 342, 'alien': 343, 'aliens': 344, 'align': 345, 'alike': 346, 'alim': 347, 'alive': 348, 'alla': 349, 'allah': 350, 'allay': 351, 'allegation': 352, 'allege': 353, 'alleged': 354, 'allegedly': 355, 'allegiance': 356, 'allen': 357, 'allende': 358, 'allender': 359, 'allergic': 360, 'allergy': 361, 'alliance': 362, 'alll': 363, 'allnatural': 364, 'allocate': 365, 'allocation': 366, 'allow': 367, 'allowance': 368, 'allowedencourage': 369, 'allstate': 370, 'allstates': 371, 'allthetime': 372, 'alltime': 373, 'allusion': 374, 'allw': 375, 'ally': 376, 'almostempty': 377, 'aloe': 378, 'alongside': 379, 'alot': 380, 'alphabet': 381, 'alphabets': 382, 'alrededor': 383, 'alright': 384, 'altar': 385, 'altekrete': 386, 'alter': 387, 'alterist': 388, 'alternate': 389, 'alternately': 390, 'alternative': 391, 'alternatives': 392, 'alternativethe': 393, 'alters': 394, 'altice': 395, 'altogether': 396, 'alton': 397, 'alumina': 398, 'aluminium': 399, 'aluminum': 400, 'alumnus': 401, 'alw': 402, 'alzheimer': 403, 'amam': 404, 'amanda': 405, 'amateur': 406, 'amazed': 407, 'amazing': 408, 'amazon': 409, 'amazonmoved': 410, 'amazonups': 411, 'ambani': 412, 'ambassador': 413, 'ambition': 414, 'ambitious': 415, 'ambulance': 416, 'amdmt': 417, 'ame': 418, 'ameliorate': 419, 'amen': 420, 'amend': 421, 'amendment': 422, 'amenity': 423, 'amer': 424, 'ameri': 425, 'america': 426, 'american': 427, 'americans': 428, 'americansll': 429, 'americas': 430, 'amex': 431, 'amid': 432, 'amidst': 433, 'amill': 434, 'amir': 435, 'ammex': 436, 'ammo': 437, 'amn': 438, 'amnesia': 439, 'amnesty': 440, 'amok': 441, 'amorina': 442, 'amount': 443, 'amountopportunity': 444, 'amp': 445, 'amphetamine': 446, 'ample': 447, 'amplify': 448, 'amply': 449, 'ampm': 450, 'ampother': 451, 'amritsari': 452, 'amusement': 453, 'amy': 454, 'ana': 455, 'anaesthetist': 456, 'anagram': 457, 'analogy': 458, 'analyse': 459, 'analysis': 460, 'analyst': 461, 'analytic': 462, 'analytics': 463, 'analyze': 464, 'anand': 465, 'anantapur': 466, 'anarchy': 467, 'ancestor': 468, 'anders': 469, 'anderson': 470, 'andhar': 471, 'andler': 472, 'andme': 473, 'andor': 474, 'andre': 475, 'andrew': 476, 'andrex': 477, 'android': 478, 'andthe': 479, 'andy': 480, 'anease': 481, 'anecdote': 482, 'angel': 483, 'angela': 484, 'angeles': 485, 'angell': 486, 'angelou': 487, 'angels': 488, 'angie': 489, 'angry': 490, 'angsty': 491, 'ani': 492, 'animal': 493, 'animali': 494, 'animation': 495, 'animator': 496, 'anjalilai': 497, 'ankle': 498, 'ann': 499, 'anna': 500, 'annabel': 501, 'annadominic': 502, 'anne': 503, 'annemarie': 504, 'annie': 505, 'annihilate': 506, 'annotated': 507, 'announce': 508, 'announced': 509, 'announcement': 510, 'announcements': 511, 'announces': 512, 'annoy': 513, 'annoyed': 514, 'annoying': 515, 'annual': 516, 'annualise': 517, 'annuity': 518, 'anonymous': 519, 'ans': 520, 'answer': 521, 'answers': 522, \"antalya'da\": 523, 'antar': 524, 'antenna': 525, 'anthem': 526, 'anthony': 527, 'anti': 528, 'antibac': 529, 'antibacteria': 530, 'antibacterial': 531, 'antibiotic': 532, 'antibody': 533, 'anticipate': 534, 'anticipation': 535, 'anticlimax': 536, 'antidotes': 537, 'antiimmigrant': 538, 'antimalarial': 539, 'antiprice': 540, 'antiseptic': 541, 'antitrust': 542, 'antonio': 543, 'anus': 544, 'anwohnerinnen': 545, 'anxiety': 546, 'anxietydriven': 547, 'anxious': 548, 'anxiously': 549, 'anybody': 550, 'anymore': 551, 'anytime': 552, 'anyways': 553, 'aoc': 554, 'aok': 555, 'aosafety': 556, 'aov': 557, 'ap': 558, 'apac': 559, 'apart': 560, 'apartment': 561, 'apel': 562, 'apex': 563, 'apl': 564, 'apna': 565, 'apnea': 566, 'apocalyps': 567, 'apocalypse': 568, 'apocalypsepaper': 569, 'apocalypseportrait': 570, 'apologetically': 571, 'apologise': 572, 'apologize': 573, 'app': 574, 'appal': 575, 'appalled': 576, 'appalling': 577, 'apparatus': 578, 'apparel': 579, 'apparent': 580, 'apparently': 581, 'appeal': 582, 'appealing': 583, 'appeals': 584, 'appear': 585, 'appearance': 586, 'appetite': 587, 'applaud': 588, 'applauds': 589, 'applause': 590, 'apple': 591, 'appliance': 592, 'applicant': 593, 'application': 594, 'apply': 595, 'appointment': 596, 'appreciate': 597, 'appreciated': 598, 'appreciation': 599, 'apprehend': 600, 'approach': 601, 'appropriate': 602, 'appropriately': 603, 'approvable': 604, 'approval': 605, 'approvall': 606, 'approve': 607, 'approved': 608, 'approx': 609, 'approximately': 610, 'apps': 611, 'appt': 612, 'apptopia': 613, 'appuyer': 614, 'apr': 615, 'aprender': 616, 'april': 617, 'aprn': 618, 'apron': 619, 'aptar': 620, 'aque': 621, 'ar': 622, 'arab': 623, 'arabia': 624, 'aradhna': 625, 'aradnz': 626, 'arak': 627, 'aramco': 628, 'arbitrage': 629, 'arcelia': 630, 'arch': 631, 'archduke': 632, 'arduous': 633, 'area': 634, 'areasjust': 635, 'aren': 636, \"aren't\": 637, 'argentina': 638, 'argentinian': 639, 'argh': 640, 'argo': 641, 'argue': 642, 'argument': 643, 'arib': 644, 'ariel': 645, 'arise': 646, 'arizona': 647, 'arkansas': 648, 'arm': 649, 'armed': 650, 'armor': 651, 'armour': 652, 'army': 653, 'arnold': 654, 'arora': 655, 'arradicate': 656, 'arrange': 657, 'arrangement': 658, 'arrear': 659, 'arrest': 660, 'arrival': 661, 'arrivalist': 662, 'arrive': 663, 'arrogant': 664, 'arrow': 665, 'arrowsmith': 666, 'arsehole': 667, 'arsewipe': 668, 'arsis': 669, 'arson': 670, 'art': 671, 'arthritis': 672, 'arthur': 673, 'article': 674, 'articlein': 675, 'artificial': 676, 'artificially': 677, 'artisanal': 678, 'artist': 679, 'artists': 680, 'artnaturals': 681, 'artwork': 682, 'arundel': 683, 'arv': 684, 'ary': 685, 'asap': 686, 'asbestos': 687, 'asda': 688, 'ashamed': 689, 'ashish': 690, 'ashley': 691, 'ashu': 692, 'asia': 693, 'asian': 694, 'aside': 695, 'ask': 696, 'asked': 697, 'asleep': 698, 'aso': 699, 'asp': 700, 'asparagus': 701, 'aspect': 702, 'aspecti': 703, 'aspects': 704, 'ass': 705, 'assam': 706, 'assault': 707, 'assemble': 708, 'assembly': 709, 'assert': 710, 'assess': 711, 'assessment': 712, 'asset': 713, 'asshat': 714, 'asshole': 715, 'assign': 716, 'assignment': 717, 'assignmentsresearch': 718, 'assist': 719, 'assistance': 720, 'assistant': 721, 'assisted': 722, 'assoc': 723, 'associate': 724, 'associated': 725, 'associates': 726, 'association': 727, 'asspaper': 728, 'assume': 729, 'assurance': 730, 'assure': 731, 'assvag': 732, 'asthma': 733, 'asthmatic': 734, 'astronomical': 735, 'asupermarketbefore': 736, 'asuu': 737, 'aswell': 738, 'asylum': 739, 'asymptomatic': 740, 'atampt': 741, 'atheletic': 742, 'athlete': 743, 'athome': 744, 'atiku': 745, 'atl': 746, 'atlanta': 747, 'atlantadecatur': 748, 'atlantic': 749, 'atleast': 750, 'atm': 751, 'atmosphere': 752, 'atms': 753, 'atomic': 754, 'atop': 755, 'atranchi': 756, 'atrisk': 757, 'attach': 758, 'attached': 759, 'attachment': 760, 'attack': 761, 'attain': 762, 'attemped': 763, 'attempt': 764, 'attend': 765, 'attendant': 766, 'attendants': 767, 'attendantsfood': 768, 'attendee': 769, 'attention': 770, 'attestation': 771, 'attire': 772, 'attitude': 773, 'attitudes': 774, 'attn': 775, 'attorney': 776, 'attract': 777, 'attraction': 778, 'attractive': 779, 'attribute': 780, 'attrition': 781, 'atus': 782, 'au': 783, 'auburn': 784, 'auckland': 785, 'aucklanders': 786, 'auction': 787, 'aud': 788, 'audience': 789, 'audio': 790, 'audit': 791, 'audits': 792, 'august': 793, 'auld': 794, 'aunt': 795, 'auntie': 796, 'aurivo': 797, 'aus': 798, 'aussie': 799, 'aussies': 800, 'austerity': 801, 'austin': 802, 'australia': 803, 'australian': 804, 'australians': 805, 'australias': 806, 'austria': 807, 'authenticity': 808, 'author': 809, 'authorise': 810, 'authoritiesthe': 811, 'authority': 812, 'authorize': 813, 'autism': 814, 'auto': 815, 'autofocuse': 816, 'autoimmune': 817, 'automate': 818, 'automatic': 819, 'automatically': 820, 'automation': 821, 'automobile': 822, 'automotive': 823, 'autonomous': 824, 'autonomously': 825, 'autumm': 826, 'av': 827, 'ava': 828, 'avail': 829, 'availability': 830, 'available': 831, 'avec': 832, 'avenge': 833, 'avenue': 834, 'average': 835, 'aversion': 836, 'avert': 837, 'aviation': 838, 'avid': 839, 'avishek': 840, 'aviv': 841, 'avod': 842, 'avoid': 843, 'avoidable': 844, 'avoiding': 845, 'avonmouth': 846, 'await': 847, 'awakening': 848, 'award': 849, 'aware': 850, 'awareness': 851, 'awash': 852, 'away': 853, 'awe': 854, 'awesome': 855, 'awful': 856, 'awhile': 857, 'awon': 858, 'axe': 859, 'ayurvedsocial': 860, 'az': 861, 'azfaal': 862, 'aztecas': 863, 'b': 864, \"b'ness\": 865, 'ba': 866, 'babaji': 867, 'babu': 868, 'baby': 869, 'back': 870, 'backdrop': 871, 'background': 872, 'backlash': 873, 'backlog': 874, 'backlogged': 875, 'backpacker': 876, 'backstage': 877, 'backup': 878, 'bacon': 879, 'bacteria': 880, 'bacterial': 881, 'bad': 882, 'badaunup': 883, 'badexpired': 884, 'badge': 885, 'badger': 886, 'badly': 887, 'badon': 888, 'baes': 889, 'baffle': 890, 'bag': 891, 'baggage': 892, 'bagger': 893, 'baggie': 894, 'bagp': 895, 'bagsltkg': 896, 'bagsyear': 897, 'baguette': 898, 'bahahaha': 899, 'bahar': 900, 'baidu': 901, 'bail': 902, 'bailing': 903, 'bailout': 904, 'bain': 905, 'bajans': 906, 'bake': 907, 'baked': 908, 'baker': 909, 'bakersfield': 910, 'bakery': 911, 'balance': 912, 'balanced': 913, 'balcony': 914, 'bald': 915, 'bali': 916, 'balik': 917, 'ball': 918, 'ballard': 919, 'balochistan': 920, 'balvaneda': 921, 'bampm': 922, 'ban': 923, 'banal': 924, 'banana': 925, 'bananas': 926, 'band': 927, 'banda': 928, 'bandage': 929, 'bandana': 930, 'bandanas': 931, 'bandanna': 932, 'bandito': 933, 'bang': 934, 'bangalore': 935, 'bangknockpull': 936, 'bangkok': 937, 'bangladesh': 938, 'bangor': 939, 'bank': 940, 'banker': 941, 'bankers': 942, 'banking': 943, 'bankrupt': 944, 'bankruptcy': 945, 'bankruptcygtlayoffsgtdemand': 946, 'banks': 947, 'banner': 948, 'banners': 949, 'bans': 950, 'baos': 951, 'bar': 952, 'barbara': 953, 'barbecue': 954, 'barbie': 955, 'barcode': 956, 'bare': 957, 'barely': 958, 'bargain': 959, 'bargaining': 960, 'bargains': 961, 'barge': 962, 'baringo': 963, 'barnaby': 964, 'barometer': 965, 'barr': 966, 'barrel': 967, 'barren': 968, 'barrestaurant': 969, 'barricade': 970, 'barrier': 971, 'barriers': 972, 'barrio': 973, 'barter': 974, 'bartuska': 975, 'bas': 976, 'base': 977, 'baseball': 978, 'based': 979, 'baseline': 980, 'basement': 981, 'bash': 982, 'basic': 983, 'basically': 984, 'basics': 985, 'basingstoke': 986, 'basis': 987, 'basket': 988, 'basketball': 989, 'basmati': 990, 'bastard': 991, 'bastardsthe': 992, 'basu': 993, 'bat': 994, 'batam': 995, 'batch': 996, 'bates': 997, 'bath': 998, 'bathrobe': 999, 'bathroom': 1000, 'batter': 1001, 'batterie': 1002, 'battle': 1003, 'battling': 1004, 'bauchi': 1005, 'baum': 1006, 'bay': 1007, 'bayman': 1008, 'bazaar': 1009, 'bazar': 1010, 'bb': 1011, 'bbb': 1012, 'bbc': 1013, 'bbl': 1014, 'bbox': 1015, 'bbq': 1016, 'bbqs': 1017, 'bc': 1018, 'bcg': 1019, 'bcoz': 1020, 'bdo': 1021, 'bds': 1022, 'be': 1023, 'beach': 1024, 'beaches': 1025, 'bean': 1026, 'beans': 1027, 'bear': 1028, 'beard': 1029, 'bearish': 1030, 'beast': 1031, 'beat': 1032, 'beatty': 1033, 'beaumaris': 1034, 'beautiful': 1035, 'beautifully': 1036, 'beauty': 1037, 'beautymatter': 1038, 'becker': 1039, 'beckley': 1040, 'beco': 1041, 'bed': 1042, 'bedazzle': 1043, 'bedevils': 1044, 'bedlam': 1045, 'bedroom': 1046, 'bee': 1047, 'beef': 1048, 'beefpotatoesbreadsoup': 1049, 'beer': 1050, 'beerwine': 1051, 'beetroot': 1052, 'bef': 1053, 'befreit': 1054, 'befriend': 1055, 'beg': 1056, 'beget': 1057, 'beggar': 1058, 'begin': 1059, 'beginnerin': 1060, 'beginning': 1061, 'begs': 1062, 'behalf': 1063, 'behave': 1064, 'behavior': 1065, 'behavioral': 1066, 'behavioryour': 1067, 'behaviour': 1068, 'behavioural': 1069, 'behaviours': 1070, 'behold': 1071, 'bei': 1072, 'beijing': 1073, 'being': 1074, 'beirut': 1075, 'belarus': 1076, 'belgian': 1077, 'belgium': 1078, 'belief': 1079, 'believe': 1080, 'believes': 1081, 'bell': 1082, 'belly': 1083, 'belo': 1084, 'belong': 1085, 'beloved': 1086, 'belt': 1087, 'ben': 1088, 'benchmark': 1089, 'bended': 1090, 'beneath': 1091, 'beneficiary': 1092, 'benefit': 1093, 'bengal': 1094, 'bengaluru': 1095, 'benson': 1096, 'bent': 1097, 'benzene': 1098, 'beperken': 1099, 'berg': 1100, 'bergneustadt': 1101, 'berichtet': 1102, 'berkeley': 1103, 'berkhera': 1104, 'berlin': 1105, 'berliner': 1106, 'bernankeyellen': 1107, 'bernie': 1108, 'berns': 1109, 'bernstein': 1110, 'berth': 1111, 'berweist': 1112, 'beset': 1113, 'beshear': 1114, 'besiege': 1115, 'best': 1116, 'bestaunen': 1117, 'bestbuy': 1118, 'bet': 1119, 'beta': 1120, 'bethesda': 1121, 'better': 1122, 'betty': 1123, 'betw': 1124, 'bev': 1125, 'beverage': 1126, 'beverly': 1127, 'beware': 1128, 'bexar': 1129, 'bezos': 1130, 'bfa': 1131, 'bg': 1132, 'bhai': 1133, 'bhar': 1134, 'bharati': 1135, 'bhatbhateni': 1136, 'bhau': 1137, 'bhaw': 1138, 'bhi': 1139, 'bhopal': 1140, 'bias': 1141, 'bib': 1142, 'bible': 1143, 'biblical': 1144, 'bibliography': 1145, 'bid': 1146, 'bide': 1147, 'biden': 1148, 'bidet': 1149, 'bidetstoilet': 1150, 'biel': 1151, 'bielefeld': 1152, 'big': 1153, 'bigbasket': 1154, 'biggest': 1155, 'biggestever': 1156, 'bigmacza': 1157, 'bihar': 1158, 'bike': 1159, 'biko': 1160, 'bil': 1161, 'bilbrough': 1162, 'bild': 1163, 'bill': 1164, 'billa': 1165, 'billing': 1166, 'billion': 1167, 'billionaire': 1168, 'billy': 1169, 'biman': 1170, 'bimco': 1171, 'bin': 1172, 'bind': 1173, 'binge': 1174, 'bio': 1175, 'biofuel': 1176, 'biofuels': 1177, 'biological': 1178, 'biology': 1179, 'biopharma': 1180, 'biosciences': 1181, 'biotche': 1182, 'biotech': 1183, 'bioweapon': 1184, 'bipartisan': 1185, 'birchwood': 1186, 'bird': 1187, 'birla': 1188, 'birra': 1189, 'birth': 1190, 'birthday': 1191, 'births': 1192, 'birx': 1193, 'biryani': 1194, 'bis': 1195, 'biscuit': 1196, 'biscuits': 1197, 'biso': 1198, 'bison': 1199, 'bit': 1200, 'bitch': 1201, 'bitcoin': 1202, 'bitcread': 1203, 'bitdefender': 1204, 'bite': 1205, 'bitesize': 1206, 'biway': 1207, 'biz': 1208, 'bizarrely': 1209, 'bj': 1210, 'bjp': 1211, 'bko': 1212, 'bks': 1213, 'black': 1214, 'blackmail': 1215, 'blackmarketing': 1216, 'blackout': 1217, 'blaise': 1218, 'blame': 1219, 'blanch': 1220, 'blank': 1221, 'blanket': 1222, 'blast': 1223, 'blatant': 1224, 'blatantly': 1225, 'blather': 1226, 'blaze': 1227, 'bldg': 1228, 'bleach': 1229, 'bleak': 1230, 'bless': 1231, 'blessed': 1232, 'blessing': 1233, 'blethering': 1234, 'blighty': 1235, 'blimmin': 1236, 'blind': 1237, 'blindeye': 1238, 'block': 1239, 'blockchain': 1240, 'blog': 1241, 'blogge': 1242, 'blogpost': 1243, 'bloke': 1244, 'blood': 1245, 'bloodstream': 1246, 'bloodsucker': 1247, 'bloody': 1248, 'bloomberg': 1249, 'blossom': 1250, 'blow': 1251, 'blowjob': 1252, 'blu': 1253, 'bluddy': 1254, 'bludgeon': 1255, 'blue': 1256, 'blueprint': 1257, 'blues': 1258, 'bluffs': 1259, 'blum': 1260, 'blumhouse': 1261, 'blvd': 1262, 'bm': 1263, 'bmtc': 1264, 'bn': 1265, 'bnm': 1266, 'bo': 1267, 'board': 1268, 'boarder': 1269, 'boat': 1270, 'bob': 1271, 'bode': 1272, 'bodily': 1273, 'body': 1274, 'bodyguard': 1275, 'bodylineart': 1276, 'bog': 1277, 'boggle': 1278, 'bogota': 1279, 'bogus': 1280, 'boil': 1281, 'bold': 1282, 'boleh': 1283, 'bollock': 1284, 'bollywood': 1285, 'bolognese': 1286, 'bolster': 1287, 'bolt': 1288, 'bomb': 1289, 'bombard': 1290, 'bond': 1291, 'bondi': 1292, 'bonding': 1293, 'bondor': 1294, 'bonesaw': 1295, 'bongkhao': 1296, 'boni': 1297, 'bonker': 1298, 'bonnett': 1299, 'bonus': 1300, 'boo': 1301, 'boobs': 1302, 'booger': 1303, 'book': 1304, 'booking': 1305, 'bookings': 1306, 'bookmark': 1307, 'bookstore': 1308, 'boom': 1309, 'boomer': 1310, 'boomers': 1311, 'booming': 1312, 'booms': 1313, 'boon': 1314, 'boonie': 1315, 'boost': 1316, 'booster': 1317, 'boot': 1318, 'booth': 1319, 'bootstrap': 1320, 'booty': 1321, 'booze': 1322, 'boozer': 1323, 'borawski': 1324, 'border': 1325, 'borders': 1326, 'bore': 1327, 'bored': 1328, 'boredom': 1329, 'boring': 1330, 'boris': 1331, 'borisjohnson': 1332, 'boro': 1333, 'borough': 1334, 'borrow': 1335, 'borrower': 1336, 'borrowing': 1337, 'bosa': 1338, 'boss': 1339, 'bossert': 1340, 'bossman': 1341, 'boston': 1342, 'bostonbusiness': 1343, 'bother': 1344, 'bothered': 1345, 'bothmildlysick': 1346, 'bottle': 1347, 'bottled': 1348, 'bounce': 1349, 'bouncer': 1350, 'bound': 1351, 'bountiful': 1352, 'bounty': 1353, 'bouquet': 1354, 'bourbon': 1355, 'bourgeois': 1356, 'bout': 1357, 'boutique': 1358, 'bow': 1359, 'bowser': 1360, 'box': 1361, 'boxes': 1362, 'boxing': 1363, 'boy': 1364, 'boycott': 1365, 'boycotts': 1366, 'boyfriend': 1367, 'boymy': 1368, 'bozeman': 1369, 'bpd': 1370, 'bpl': 1371, 'bpo': 1372, 'bps': 1373, 'br': 1374, 'bra': 1375, 'brace': 1376, 'bracket': 1377, 'brad': 1378, 'brag': 1379, 'bragging': 1380, 'brah': 1381, 'braid': 1382, 'brain': 1383, 'brainstorm': 1384, 'bran': 1385, 'branch': 1386, 'brand': 1387, 'branding': 1388, 'brands': 1389, 'brasileo': 1390, 'brave': 1391, 'bravehearted': 1392, 'bravely': 1393, 'braver': 1394, 'bravery': 1395, 'brawl': 1396, 'brazil': 1397, 'brazilhealthofficialconfirmfirstindigenouscoronaviruscaseamazonchiefbezossaydonatingfoodcharitycovidpandemictrumpcampaigndemandjeffsessioncampaignenddelusionalinvokingtiespresidentturkey': 1398, 'brc': 1399, 'bre': 1400, 'breach': 1401, 'bread': 1402, 'breadline': 1403, 'breadth': 1404, 'break': 1405, 'breakdown': 1406, 'breaker': 1407, 'breakfast': 1408, 'breaking': 1409, 'breakroom': 1410, 'breaksummer': 1411, 'breath': 1412, 'breathe': 1413, 'breathing': 1414, 'breeding': 1415, 'breeds': 1416, 'breeze': 1417, 'breitbart': 1418, 'brenda': 1419, 'brent': 1420, 'brescia': 1421, 'breton': 1422, 'bretoners': 1423, 'brevard': 1424, 'brevity': 1425, 'brew': 1426, 'brewer': 1427, 'brewery': 1428, 'brexit': 1429, 'brexiteer': 1430, 'brexitwatcher': 1431, 'brian': 1432, 'bribe': 1433, 'brick': 1434, 'brickandmortar': 1435, 'bridge': 1436, 'bridgwater': 1437, 'bridport': 1438, 'brief': 1439, 'briefing': 1440, 'bright': 1441, 'brighton': 1442, 'brightram': 1443, 'brilliant': 1444, 'brim': 1445, 'bring': 1446, 'brink': 1447, 'bristol': 1448, 'brit': 1449, 'brita': 1450, 'britain': 1451, 'british': 1452, 'britisher': 1453, 'briton': 1454, 'britons': 1455, 'brits': 1456, 'brix': 1457, 'bro': 1458, 'broad': 1459, 'broadband': 1460, 'broadcast': 1461, 'broadcasting': 1462, 'broaden': 1463, 'broadly': 1464, 'broadway': 1465, 'broccoli': 1466, 'brockless': 1467, 'broiler': 1468, 'broke': 1469, 'brooketaylor': 1470, 'brooklyn': 1471, 'bros': 1472, 'brotha': 1473, 'brother': 1474, 'brothers': 1475, 'brough': 1476, 'brow': 1477, 'broward': 1478, 'brown': 1479, 'browse': 1480, 'browser': 1481, 'browsing': 1482, 'bru': 1483, 'bruh': 1484, 'brunch': 1485, 'brunt': 1486, 'brussels': 1487, 'brutal': 1488, 'brutalizing': 1489, 'bryan': 1490, 'bs': 1491, 'bt': 1492, 'btc': 1493, 'btp': 1494, 'btps': 1495, 'btw': 1496, 'btwbut': 1497, 'bu': 1498, 'bubble': 1499, 'buchholz': 1500, 'buck': 1501, 'bucket': 1502, 'buckle': 1503, 'buckwheat': 1504, 'buddy': 1505, 'budgens': 1506, 'budget': 1507, 'buenos': 1508, 'buffer': 1509, 'buffet': 1510, 'buffett': 1511, 'buffoon': 1512, 'bug': 1513, 'buggy': 1514, 'buhari': 1515, 'buhl': 1516, 'build': 1517, 'builder': 1518, 'builders': 1519, 'building': 1520, 'bulb': 1521, 'bulk': 1522, 'bulkbuying': 1523, 'bulkcarrier': 1524, 'bulky': 1525, 'bull': 1526, 'bulldoze': 1527, 'bullet': 1528, 'bullheade': 1529, 'bullion': 1530, 'bullish': 1531, 'bullseye': 1532, 'bullshit': 1533, 'bullshitting': 1534, 'bum': 1535, 'bump': 1536, 'bumper': 1537, 'bumpers': 1538, 'bun': 1539, 'bunch': 1540, 'bundle': 1541, 'bunker': 1542, 'bunny': 1543, 'buoy': 1544, 'burada': 1545, 'burden': 1546, 'burdock': 1547, 'bureau': 1548, 'bureaucratic': 1549, 'burg': 1550, 'burgeon': 1551, 'burger': 1552, 'burgers': 1553, 'burgum': 1554, 'burn': 1555, 'burnhamthorpe': 1556, 'burr': 1557, 'burro': 1558, 'burstpexels': 1559, 'bury': 1560, 'bus': 1561, 'busecon': 1562, 'buseshand': 1563, 'bush': 1564, 'bushfire': 1565, 'bushwick': 1566, 'busi': 1567, 'busia': 1568, 'busine': 1569, 'business': 1570, 'businessbecause': 1571, 'businesses': 1572, 'businessman': 1573, 'businessmen': 1574, 'businessowner': 1575, 'businessthank': 1576, 'businesstoconsumer': 1577, 'bussinesse': 1578, 'bust': 1579, 'bustle': 1580, 'bustlineart': 1581, 'busy': 1582, 'butcher': 1583, 'butler': 1584, 'butt': 1585, 'butte': 1586, 'butter': 1587, 'buttermilk': 1588, 'butthole': 1589, 'button': 1590, 'buttons': 1591, 'buxton': 1592, 'buy': 1593, 'buyback': 1594, 'buyear': 1595, 'buyer': 1596, 'buying': 1597, 'buyingstock': 1598, 'buyno': 1599, 'buyslt': 1600, 'bvi': 1601, 'bx': 1602, 'byand': 1603, 'bylaw': 1604, 'byop': 1605, 'byproduct': 1606, 'byron': 1607, 'c': 1608, 'cab': 1609, 'cabbie': 1610, 'cabinet': 1611, 'cable': 1612, 'caca': 1613, 'cache': 1614, 'cadbury': 1615, 'cadila': 1616, 'cadillac': 1617, 'cafe': 1618, 'cafes': 1619, 'cafeteria': 1620, 'cage': 1621, 'cahill': 1622, 'cairandale': 1623, 'cajole': 1624, 'cake': 1625, 'calculate': 1626, 'calculation': 1627, 'calculator': 1628, 'caledonia': 1629, 'calf': 1630, 'calfresh': 1631, 'calgarybased': 1632, 'caliber': 1633, 'california': 1634, 'californians': 1635, 'californias': 1636, 'call': 1637, 'callahan': 1638, 'callcenter': 1639, 'caller': 1640, 'calls': 1641, 'callsmsmessageemailtweet': 1642, 'calltoaction': 1643, 'callwhatsapp': 1644, 'calm': 1645, 'calpol': 1646, 'cam': 1647, 'cambridge': 1648, 'camembert': 1649, 'camera': 1650, 'camp': 1651, 'campaign': 1652, 'campaigner': 1653, 'campbell': 1654, 'camping': 1655, 'campus': 1656, 'can': 1657, 'canada': 1658, 'canadian': 1659, 'canadians': 1660, 'canal': 1661, 'canalys': 1662, 'canary': 1663, 'canberra': 1664, 'cancel': 1665, 'cancell': 1666, 'cancellation': 1667, 'cancellations': 1668, 'cancer': 1669, 'candid': 1670, 'candidate': 1671, 'candle': 1672, 'candy': 1673, 'canister': 1674, 'cannabis': 1675, 'cannalogue': 1676, 'canned': 1677, 'cannon': 1678, 'canshould': 1679, 'canton': 1680, 'cantveven': 1681, 'canvas': 1682, 'canwe': 1683, 'cao': 1684, 'cap': 1685, 'capability': 1686, 'capable': 1687, 'capacity': 1688, 'cape': 1689, 'capital': 1690, 'capitalise': 1691, 'capitalism': 1692, 'capitalist': 1693, 'capitalistic': 1694, 'capitalize': 1695, 'capitec': 1696, 'capitol': 1697, 'capitulation': 1698, 'capping': 1699, 'caprio': 1700, 'caps': 1701, 'capsule': 1702, 'capt': 1703, 'captiva': 1704, 'capture': 1705, 'car': 1706, 'carb': 1707, 'carbon': 1708, 'card': 1709, 'cardano': 1710, 'cardboard': 1711, 'cardcash': 1712, 'cardmembers': 1713, 'care': 1714, 'career': 1715, 'careful': 1716, 'carefully': 1717, 'carer': 1718, 'carers': 1719, 'carersprison': 1720, 'cares': 1721, 'caretaker': 1722, 'cargo': 1723, 'cargoe': 1724, 'caribbean': 1725, 'caring': 1726, 'carling': 1727, 'carlsberg': 1728, 'carlson': 1729, 'carluccios': 1730, 'carnage': 1731, 'carnivorous': 1732, 'carol': 1733, 'carolin': 1734, 'carolina': 1735, 'carona': 1736, 'carphone': 1737, 'carrefour': 1738, 'carrie': 1739, 'carrier': 1740, 'carriersasymptomatic': 1741, 'carriersdistributor': 1742, 'carrot': 1743, 'carry': 1744, 'carryout': 1745, 'cars': 1746, 'carside': 1747, 'cart': 1748, 'cartel': 1749, 'carter': 1750, 'cartier': 1751, 'carton': 1752, 'cartoon': 1753, 'cartridge': 1754, 'cary': 1755, 'cas': 1756, 'cascade': 1757, 'cascar': 1758, 'case': 1759, 'caseload': 1760, 'cases': 1761, 'casey': 1762, 'cash': 1763, 'cashacceptance': 1764, 'cashapp': 1765, 'cashappvenmo': 1766, 'casher': 1767, 'cashew': 1768, 'cashflow': 1769, 'cashier': 1770, 'cashless': 1771, 'cashmanagement': 1772, 'cashpig': 1773, 'cashpoint': 1774, 'casino': 1775, 'cast': 1776, 'castle': 1777, 'casual': 1778, 'cat': 1779, 'catalog': 1780, 'catalyst': 1781, 'catapult': 1782, 'catastrophic': 1783, 'catch': 1784, 'catcher': 1785, 'catchphrase': 1786, 'catchup': 1787, 'categorically': 1788, 'categories': 1789, 'category': 1790, 'cater': 1791, 'catering': 1792, 'cath': 1793, 'catherine': 1794, 'catholic': 1795, 'cats': 1796, 'cattle': 1797, 'cauliflower': 1798, 'causal': 1799, 'cause': 1800, 'causes': 1801, 'causing': 1802, 'caution': 1803, 'cautionary': 1804, 'cautions': 1805, 'cautious': 1806, 'cautiously': 1807, 'cautiousness': 1808, 'cave': 1809, 'caveat': 1810, 'cbc': 1811, 'cbd': 1812, 'cbdd': 1813, 'cbn': 1814, 'cbre': 1815, 'cbs': 1816, 'cc': 1817, 'ccll': 1818, 'cco': 1819, 'ccp': 1820, 'cd': 1821, 'cda': 1822, 'cdc': 1823, 'cdn': 1824, 'cdt': 1825, 'ce': 1826, 'cease': 1827, 'cefaratti': 1828, 'ceiling': 1829, 'celeb': 1830, 'celebrate': 1831, 'celebration': 1832, 'celebrity': 1833, 'celebs': 1834, 'celeste': 1835, 'cell': 1836, 'cellphone': 1837, 'cellular': 1838, 'cement': 1839, 'census': 1840, 'cent': 1841, 'center': 1842, 'centers': 1843, 'central': 1844, 'centrally': 1845, 'centre': 1846, 'centric': 1847, 'centurion': 1848, 'century': 1849, 'ceo': 1850, 'cereal': 1851, 'cereals': 1852, 'certain': 1853, 'certainly': 1854, 'certificate': 1855, 'certification': 1856, 'certified': 1857, 'certify': 1858, 'cette': 1859, 'cf': 1860, 'cfa': 1861, 'cfc': 1862, 'cfi': 1863, 'cfo': 1864, 'cfpb': 1865, 'cg': 1866, 'cgi': 1867, 'cguro': 1868, 'ch': 1869, 'cha': 1870, 'chain': 1871, 'chainalysis': 1872, 'chains': 1873, 'chainscene': 1874, 'chainwhere': 1875, 'chair': 1876, 'chairman': 1877, 'challenge': 1878, 'challengeanyone': 1879, 'challenging': 1880, 'champagne': 1881, 'champion': 1882, 'chance': 1883, 'chancellor': 1884, 'chandler': 1885, 'change': 1886, 'changed': 1887, 'changes': 1888, 'changi': 1889, 'channel': 1890, 'channelsight': 1891, 'chaos': 1892, 'chaotic': 1893, 'chap': 1894, 'chapel': 1895, 'chaplains': 1896, 'chapman': 1897, 'chapter': 1898, 'chaque': 1899, 'character': 1900, 'charge': 1901, 'charging': 1902, 'charitable': 1903, 'charity': 1904, 'charles': 1905, 'charlie': 1906, 'charlotte': 1907, 'charmin': 1908, 'charms': 1909, 'chart': 1910, 'charter': 1911, 'chartered': 1912, 'chase': 1913, 'chat': 1914, 'chatbot': 1915, 'chattanooga': 1916, 'chatter': 1917, 'chauffeur': 1918, 'chawal': 1919, 'chch': 1920, 'cheap': 1921, 'cheaper': 1922, 'cheapest': 1923, 'cheat': 1924, 'check': 1925, 'checker': 1926, 'checkfor': 1927, 'checklist': 1928, 'checkout': 1929, 'checkpoint': 1930, 'checks': 1931, 'checkup': 1932, 'checkyourprivilege': 1933, 'cheddar': 1934, 'cheek': 1935, 'cheer': 1936, 'cheers': 1937, 'cheese': 1938, 'chef': 1939, 'chek': 1940, 'chem': 1941, 'chemical': 1942, 'chemicals': 1943, 'chemist': 1944, 'chemistry': 1945, 'cherish': 1946, 'chernobyl': 1947, 'cherry': 1948, 'cheryl': 1949, 'chest': 1950, 'chester': 1951, 'chevron': 1952, 'chewing': 1953, 'chewy': 1954, 'chi': 1955, 'chibizhub': 1956, 'chicago': 1957, 'chicagoarea': 1958, 'chicagoland': 1959, 'chick': 1960, 'chicken': 1961, 'chickenmuttonmedical': 1962, 'chickpeas': 1963, 'chief': 1964, 'chiefs': 1965, 'child': 1966, 'childcare': 1967, 'childhood': 1968, 'children': 1969, 'childteen': 1970, 'chile': 1971, 'chili': 1972, 'chill': 1973, 'chilli': 1974, 'chillin': 1975, 'chilling': 1976, 'chilly': 1977, 'chime': 1978, 'china': 1979, 'chinas': 1980, 'chinatown': 1981, 'chinese': 1982, 'ching': 1983, 'chink': 1984, 'chip': 1985, 'chitungwiza': 1986, 'chivalry': 1987, 'chloroquine': 1988, 'chocolate': 1989, 'choice': 1990, 'choices': 1991, 'cholle': 1992, 'choose': 1993, 'chop': 1994, 'chopped': 1995, 'choppy': 1996, 'chopraurgefanstockupjoylovegrocerypandemic': 1997, 'chorizo': 1998, 'chorus': 1999, 'chowder': 2000, 'chris': 2001, 'christ': 2002, 'christian': 2003, 'christianity': 2004, 'christmas': 2005, 'chronic': 2006, 'chronicle': 2007, 'chsl': 2008, 'chubby': 2009, 'chuck': 2010, 'chudy': 2011, 'chunk': 2012, 'chunky': 2013, 'church': 2014, 'churchill': 2015, 'churchthere': 2016, 'ciblant': 2017, 'cigar': 2018, 'cigars': 2019, 'cincinnati': 2020, 'cindy': 2021, 'cinema': 2022, 'cinematheatrewhere': 2023, 'circa': 2024, 'circle': 2025, 'circu': 2026, 'circuit': 2027, 'circular': 2028, 'circulate': 2029, 'circumstance': 2030, 'cirisis': 2031, 'cirko': 2032, 'cis': 2033, 'cit': 2034, 'cite': 2035, 'citi': 2036, 'cities': 2037, 'citigroup': 2038, 'citizen': 2039, 'citizens': 2040, 'city': 2041, 'citys': 2042, 'citythree': 2043, 'citywide': 2044, 'ciudadano': 2045, 'civic': 2046, 'civics': 2047, 'civil': 2048, 'civilian': 2049, 'civilised': 2050, 'civilization': 2051, 'civilize': 2052, 'civlisation': 2053, 'cl': 2054, 'claim': 2055, 'claims': 2056, 'clam': 2057, 'clamp': 2058, 'clan': 2059, 'clap': 2060, 'clapcelebration': 2061, 'clare': 2062, 'clarehall': 2063, 'clarification': 2064, 'clarify': 2065, 'clarity': 2066, 'clark': 2067, 'clarke': 2068, 'clash': 2069, 'class': 2070, 'classen': 2071, 'classic': 2072, 'classical': 2073, 'classification': 2074, 'classify': 2075, 'classless': 2076, 'classroom': 2077, 'classy': 2078, 'claus': 2079, 'claw': 2080, 'clc': 2081, 'clchan': 2082, 'cld': 2083, 'clean': 2084, 'cleaner': 2085, 'cleaning': 2086, 'cleaningaisle': 2087, 'cleaningsanitize': 2088, 'cleansing': 2089, 'clear': 2090, 'clearance': 2091, 'clearing': 2092, 'clearly': 2093, 'cleo': 2094, 'clergy': 2095, 'clerk': 2096, 'clerks': 2097, 'cleveland': 2098, 'clever': 2099, 'click': 2100, 'clickandcollect': 2101, 'clicker': 2102, 'client': 2103, 'cliente': 2104, 'climate': 2105, 'climb': 2106, 'clinic': 2107, 'clinical': 2108, 'clinician': 2109, 'clinton': 2110, 'clip': 2111, 'clipper': 2112, 'clipping': 2113, 'cloak': 2114, 'clock': 2115, 'clog': 2116, 'clorox': 2117, 'close': 2118, 'closed': 2119, 'closedonline': 2120, 'closely': 2121, 'closes': 2122, 'closet': 2123, 'closing': 2124, 'closings': 2125, 'closure': 2126, 'cloth': 2127, 'clothe': 2128, 'clothes': 2129, 'clothing': 2130, 'cloud': 2131, 'cloutchaser': 2132, 'clown': 2133, 'cls': 2134, 'club': 2135, 'clubs': 2136, 'clue': 2137, 'clueless': 2138, 'cluster': 2139, 'clutter': 2140, 'cm': 2141, 'cma': 2142, 'cmcsa': 2143, 'cmeri': 2144, 'cmo': 2145, 'cn': 2146, 'cnh': 2147, 'cnn': 2148, 'cnrl': 2149, 'cnsall': 2150, 'cnt': 2151, 'cny': 2152, 'co': 2153, 'coach': 2154, 'coal': 2155, 'coalition': 2156, 'coast': 2157, 'coat': 2158, 'coatbridge': 2159, 'coauthor': 2160, 'cobalt': 2161, 'coca': 2162, 'cocaine': 2163, 'cockle': 2164, 'cocksprocket': 2165, 'cocktails': 2166, 'cocoon': 2167, 'cod': 2168, 'code': 2169, 'codeshare': 2170, 'coeditor': 2171, 'coexistence': 2172, 'coffee': 2173, 'cofounder': 2174, 'cognizants': 2175, 'cohabit': 2176, 'coherent': 2177, 'coi': 2178, 'coil': 2179, 'coime': 2180, 'coin': 2181, 'coinage': 2182, 'coincidence': 2183, 'coincidental': 2184, 'coinspeaker': 2185, 'coke': 2186, 'cola': 2187, 'cold': 2188, 'coldturkey': 2189, 'cole': 2190, 'coles': 2191, 'collab': 2192, 'collaborate': 2193, 'collaboration': 2194, 'collap': 2195, 'collapse': 2196, 'colleague': 2197, 'collect': 2198, 'collection': 2199, 'collective': 2200, 'collectively': 2201, 'collector': 2202, 'collectorspeople': 2203, 'college': 2204, 'collie': 2205, 'cologne': 2206, 'colombia': 2207, 'colombian': 2208, 'colombo': 2209, 'colonel': 2210, 'colonize': 2211, 'colony': 2212, 'color': 2213, 'colorado': 2214, 'colorful': 2215, 'colorsampgreat': 2216, 'colossal': 2217, 'colour': 2218, 'colruyt': 2219, 'columbia': 2220, 'columbus': 2221, 'column': 2222, 'colvin': 2223, 'com': 2224, 'coma': 2225, 'comatose': 2226, 'combat': 2227, 'combination': 2228, 'combinator': 2229, 'combinators': 2230, 'combine': 2231, 'combinedthis': 2232, 'combo': 2233, 'combs': 2234, 'combustion': 2235, 'come': 2236, 'comedian': 2237, 'comex': 2238, 'comfort': 2239, 'comfortable': 2240, 'comfortably': 2241, 'comforting': 2242, 'comfy': 2243, 'comic': 2244, 'comic_strip': 2245, 'comics': 2246, 'cominglying': 2247, 'command': 2248, 'commander': 2249, 'commemorative': 2250, 'commence': 2251, 'commend': 2252, 'commendable': 2253, 'comment': 2254, 'commentary': 2255, 'commerce': 2256, 'commercial': 2257, 'commissary': 2258, 'commission': 2259, 'commissioner': 2260, 'commit': 2261, 'commitment': 2262, 'committed': 2263, 'committee': 2264, 'commodities': 2265, 'commoditiese': 2266, 'commodity': 2267, 'common': 2268, 'commons': 2269, 'commonsense': 2270, 'comms': 2271, 'communal': 2272, 'communicate': 2273, 'communication': 2274, 'communications': 2275, 'communism': 2276, 'communist': 2277, 'communities': 2278, 'community': 2279, 'communityagege': 2280, 'communityno': 2281, 'communitys': 2282, 'commute': 2283, 'commuter': 2284, 'comodittie': 2285, 'comodity': 2286, 'comp': 2287, 'compact': 2288, 'companies': 2289, 'companion': 2290, 'company': 2291, 'companys': 2292, 'comparable': 2293, 'compare': 2294, 'comparison': 2295, 'compartmentalize': 2296, 'compassion': 2297, 'compassionate': 2298, 'compel': 2299, 'compelling': 2300, 'compensate': 2301, 'compensation': 2302, 'compete': 2303, 'competition': 2304, 'competitive': 2305, 'competitor': 2306, 'compile': 2307, 'complacent': 2308, 'complain': 2309, 'complaining': 2310, 'complaint': 2311, 'complaints': 2312, 'complete': 2313, 'completedfeel': 2314, 'completely': 2315, 'completion': 2316, 'complex': 2317, 'complexity': 2318, 'compliance': 2319, 'compliant': 2320, 'complicated': 2321, 'complication': 2322, 'complimentary': 2323, 'comply': 2324, 'component': 2325, 'compose': 2326, 'composition': 2327, 'compound': 2328, 'comprehend': 2329, 'comprehension': 2330, 'comprehensive': 2331, 'comprise': 2332, 'compromise': 2333, 'compte': 2334, 'compulsory': 2335, 'computer': 2336, 'con': 2337, 'concealer': 2338, 'concede': 2339, 'concentrate': 2340, 'concentrated': 2341, 'concept': 2342, 'concern': 2343, 'concerned': 2344, 'concert': 2345, 'concerts': 2346, 'concessional': 2347, 'concessioncard': 2348, 'conclude': 2349, 'conclusion': 2350, 'concord': 2351, 'concumer': 2352, 'condense': 2353, 'condiment': 2354, 'condimentfood': 2355, 'condition': 2356, 'conditionsnot': 2357, 'condo': 2358, 'condominium': 2359, 'conduct': 2360, 'cone': 2361, 'conf': 2362, 'conferance': 2363, 'conference': 2364, 'conferencing': 2365, 'confess': 2366, 'confession': 2367, 'confidence': 2368, 'confident': 2369, 'confidential': 2370, 'confine': 2371, 'confinement': 2372, 'confirm': 2373, 'confirmation': 2374, 'confirmed': 2375, 'confiscate': 2376, 'conflicting': 2377, 'confrim': 2378, 'confront': 2379, 'confuse': 2380, 'confused': 2381, 'confusing': 2382, 'confusion': 2383, 'cong': 2384, 'congestion': 2385, 'congestive': 2386, 'congrats': 2387, 'congratulation': 2388, 'congregate': 2389, 'congregation': 2390, 'congress': 2391, 'congressional': 2392, 'connect': 2393, 'connected': 2394, 'connecti': 2395, 'connection': 2396, 'connector': 2397, 'connors': 2398, 'conomie': 2399, 'conpanie': 2400, 'conquer': 2401, 'conquerors': 2402, 'conrad': 2403, 'conscience': 2404, 'conscientious': 2405, 'conscious': 2406, 'consecutive': 2407, 'consensus': 2408, 'consequence': 2409, 'consider': 2410, 'considerable': 2411, 'considerably': 2412, 'considerate': 2413, 'consideration': 2414, 'consist': 2415, 'consistency': 2416, 'consistent': 2417, 'consistently': 2418, 'console': 2419, 'consolidate': 2420, 'consolidation': 2421, 'consortium': 2422, 'conspiracy': 2423, 'constant': 2424, 'constantand': 2425, 'constantly': 2426, 'constituency': 2427, 'constituent': 2428, 'constitute': 2429, 'constraint': 2430, 'construction': 2431, 'consult': 2432, 'consultant': 2433, 'consultation': 2434, 'consum': 2435, 'consumable': 2436, 'consume': 2437, 'consumer': 2438, 'consumeraffairs': 2439, 'consumerbankruptcy': 2440, 'consumerbased': 2441, 'consumerbehavior': 2442, 'consumercentric': 2443, 'consumerdrive': 2444, 'consumerdriven': 2445, 'consumereconomy': 2446, 'consumerface': 2447, 'consumerfacing': 2448, 'consumerfriendly': 2449, 'consumerhealth': 2450, 'consumeris': 2451, 'consumerist': 2452, 'consumerjourney': 2453, 'consumeroriente': 2454, 'consumerprice': 2455, 'consumers': 2456, 'consumersandpotential': 2457, 'consumertheir': 2458, 'consuming': 2459, 'consumption': 2460, 'cont': 2461, 'contact': 2462, 'contactless': 2463, 'contagion': 2464, 'contagious': 2465, 'contain': 2466, 'container': 2467, 'containment': 2468, 'contaminant': 2469, 'contaminate': 2470, 'contamination': 2471, 'contango': 2472, 'contemplate': 2473, 'content': 2474, 'contest': 2475, 'context': 2476, 'continent': 2477, 'continental': 2478, 'contingency': 2479, 'continually': 2480, 'continuation': 2481, 'continue': 2482, 'continued': 2483, 'continuity': 2484, 'continuous': 2485, 'contra': 2486, 'contraceptive': 2487, 'contract': 2488, 'contracted': 2489, 'contracting': 2490, 'contraction': 2491, 'contractor': 2492, 'contrast': 2493, 'contraste': 2494, 'contribute': 2495, 'contribution': 2496, 'control': 2497, 'controla': 2498, 'controll': 2499, 'controlledline': 2500, 'controlreal': 2501, 'conundrum': 2502, 'convenience': 2503, 'convenient': 2504, 'conveniently': 2505, 'conventions': 2506, 'conversation': 2507, 'conversations': 2508, 'conversion': 2509, 'convert': 2510, 'conveyan': 2511, 'conveying': 2512, 'convict': 2513, 'convid': 2514, 'convince': 2515, 'convinced': 2516, 'convo': 2517, 'cook': 2518, 'cookie': 2519, 'cooking': 2520, 'cooks': 2521, 'cookwmefevlt': 2522, 'cool': 2523, 'cooler': 2524, 'coombs': 2525, 'coooe': 2526, 'coop': 2527, 'coope': 2528, 'cooper': 2529, 'cooperate': 2530, 'cooperation': 2531, 'cooperative': 2532, 'coordinate': 2533, 'coordinated': 2534, 'coordination': 2535, 'coordinator': 2536, 'coot': 2537, 'cop': 2538, 'copay': 2539, 'copd': 2540, 'cope': 2541, 'copeland': 2542, 'copious': 2543, 'copper': 2544, 'copy': 2545, 'copypaste': 2546, 'cor': 2547, 'corbyn': 2548, 'cordray': 2549, 'core': 2550, 'corg': 2551, 'coriander': 2552, 'cork': 2553, 'corkscrew': 2554, 'corn': 2555, 'corned': 2556, 'cornell': 2557, 'corner': 2558, 'cornerside': 2559, 'cornhall': 2560, 'cornwall': 2561, 'corona': 2562, 'coronaangst': 2563, 'coronacake': 2564, 'coronaday': 2565, 'coronas': 2566, 'coronate': 2567, 'coronaviru': 2568, 'coronavirus': 2569, 'coronavirusbetternetizensmockerymodemelaniastarpandemicadswatchshopstaffpushelderlymanoutsidestorelondonpubliclosingtempercovidpriyanka': 2570, 'coronaviruscovid': 2571, 'coronavirusfuele': 2572, 'coronavirusfueled': 2573, 'coronavirusinduce': 2574, 'coronavirusrelate': 2575, 'coronavirusscammers': 2576, 'coronovirus': 2577, 'coronvirus': 2578, 'corp': 2579, 'corporate': 2580, 'corporateoffice': 2581, 'corporates': 2582, 'corporation': 2583, 'corps': 2584, 'corpse': 2585, 'corr': 2586, 'correct': 2587, 'corrected': 2588, 'correction': 2589, 'corrections': 2590, 'correctly': 2591, 'correlation': 2592, 'correspondent': 2593, 'corrigendum': 2594, 'corrupt': 2595, 'corrupted': 2596, 'corruption': 2597, 'corvette': 2598, 'cos': 2599, 'cosmetic': 2600, 'cosplaye': 2601, 'cost': 2602, 'costa': 2603, 'costco': 2604, 'costcutte': 2605, 'costessey': 2606, 'costly': 2607, 'costume': 2608, 'costumer': 2609, 'cottage': 2610, 'cotton': 2611, 'cottongreat': 2612, 'cottonworld': 2613, 'couch': 2614, 'coud': 2615, 'cough': 2616, 'coughfever': 2617, 'coughing': 2618, 'coughs': 2619, 'coughsneeze': 2620, \"could't\": 2621, 'coulditis': 2622, 'couldn': 2623, 'council': 2624, 'councils': 2625, 'counsel': 2626, 'counsellor': 2627, 'counselor': 2628, 'count': 2629, 'countdown': 2630, 'counter': 2631, 'counterpart': 2632, 'countertop': 2633, 'countless': 2634, 'countries': 2635, 'country': 2636, 'countryindonesia': 2637, 'countrys': 2638, 'county': 2639, 'countylevel': 2640, 'couple': 2641, 'couples': 2642, 'coupon': 2643, 'couponer': 2644, 'courage': 2645, 'courageous': 2646, 'courier': 2647, 'course': 2648, 'court': 2649, 'courteous': 2650, 'courtesy': 2651, 'courthouse': 2652, 'courts': 2653, 'cousin': 2654, 'cov': 2655, 'covent': 2656, 'cover': 2657, 'coverage': 2658, 'covering': 2659, 'coverup': 2660, 'covi': 2661, 'covid': 2662, 'covidabuse': 2663, 'covidachinesevirusandisasianintheeyesofeuropeansand': 2664, 'covidacross': 2665, 'covidalert': 2666, 'covidbusiness': 2667, 'covidclick': 2668, 'covidcollapse': 2669, 'covidconsumer': 2670, 'covidevery': 2671, 'covidgetting': 2672, 'covidgtgt': 2673, 'covidinduced': 2674, 'covidiot': 2675, 'covidlockdowndontpanicthereismorefooddeputyagricminister': 2676, 'covidpandemic': 2677, 'covidrelated': 2678, 'covidthey': 2679, 'coviduk': 2680, 'covidwe': 2681, 'cow': 2682, 'coward': 2683, 'coworker': 2684, 'cox': 2685, 'coz': 2686, 'cp': 2687, 'cpap': 2688, 'cpg': 2689, 'cps': 2690, 'cpt': 2691, 'cr': 2692, 'craaaazy': 2693, 'crab': 2694, 'crack': 2695, 'crackdown': 2696, 'cracker': 2697, 'craft': 2698, 'craigslist': 2699, 'cram': 2700, 'cramp': 2701, 'crank': 2702, 'crap': 2703, 'crapper': 2704, 'crappy': 2705, 'crash': 2706, 'crate': 2707, 'cratere': 2708, 'crave': 2709, 'craze': 2710, 'craziness': 2711, 'crazy': 2712, 'cre': 2713, 'cream': 2714, 'creamthe': 2715, 'creat': 2716, 'create': 2717, 'createdont': 2718, 'creation': 2719, 'creative': 2720, 'creatively': 2721, 'creativity': 2722, 'creator': 2723, 'creature': 2724, 'credibility': 2725, 'credible': 2726, 'credit': 2727, 'creditor': 2728, 'creditrefund': 2729, 'creditworthiness': 2730, 'creek': 2731, 'creep': 2732, 'crematory': 2733, 'crestview': 2734, 'cretsiz': 2735, 'crew': 2736, 'cri': 2737, 'cricket': 2738, 'crime': 2739, 'crimenow': 2740, 'criminal': 2741, 'criminalize': 2742, 'crip': 2743, 'crippling': 2744, 'crisis': 2745, 'crisisbuying': 2746, 'crisisfirst': 2747, 'crisisnew': 2748, 'crisp': 2749, 'crispr': 2750, 'cristiano': 2751, 'criterion': 2752, 'critical': 2753, 'critically': 2754, 'criticism': 2755, 'criticize': 2756, 'crn': 2757, 'crochet': 2758, 'crock': 2759, 'croissant': 2760, 'crook': 2761, 'crooked': 2762, 'crop': 2763, 'crore': 2764, 'cross': 2765, 'crossd': 2766, 'crossfire': 2767, 'crossing': 2768, 'crossroads': 2769, 'crowd': 2770, 'crowded': 2771, 'crowdfunde': 2772, 'crowding': 2773, 'crowdsource': 2774, 'crown': 2775, 'crucial': 2776, 'crude': 2777, 'cruel': 2778, 'cruise': 2779, 'crunch': 2780, 'crunchy': 2781, 'crush': 2782, 'crushes': 2783, 'cry': 2784, 'crying': 2785, 'cryowulf': 2786, 'crypto': 2787, 'cryptocurrencie': 2788, 'cs': 2789, 'csbs': 2790, 'csco': 2791, 'csis': 2792, 'csr': 2793, 'cstore': 2794, 'ct': 2795, 'ctfu': 2796, 'ctsi': 2797, 'cu': 2798, 'cua': 2799, 'cuban': 2800, 'cuck': 2801, 'cufflink': 2802, 'culinary': 2803, 'cult': 2804, 'cultivate': 2805, 'culturally': 2806, 'culture': 2807, 'cumberland': 2808, 'cumbria': 2809, 'cuna': 2810, 'cunt': 2811, 'cuomo': 2812, 'cup': 2813, 'cupboard': 2814, 'cuppa': 2815, 'curb': 2816, 'curbside': 2817, 'cure': 2818, 'cures': 2819, 'curfew': 2820, 'curfews': 2821, 'curious': 2822, 'currency': 2823, 'current': 2824, 'currently': 2825, 'curse': 2826, 'curtail': 2827, 'curtain': 2828, 'curtis': 2829, 'curve': 2830, 'cuse': 2831, 'cushion': 2832, 'custodian': 2833, 'custom': 2834, 'custome': 2835, 'customer': 2836, 'customers': 2837, 'customisable': 2838, 'customize': 2839, 'customs': 2840, 'custumer': 2841, 'cut': 2842, 'cutbacks': 2843, 'cute': 2844, 'cutlass': 2845, 'cutoffs': 2846, 'cuts': 2847, 'cutting': 2848, 'cuyahoga': 2849, 'cuz': 2850, 'cvirus': 2851, 'cvnt': 2852, 'cvs': 2853, 'cwa': 2854, 'cx': 2855, 'cyber': 2856, 'cyberbullye': 2857, 'cybersecurity': 2858, 'cycle': 2859, 'cycleway': 2860, 'cycling': 2861, 'cylinder': 2862, 'cystic': 2863, 'd': 2864, 'da': 2865, 'daal': 2866, 'dabur': 2867, 'daca': 2868, 'dad': 2869, 'daddy': 2870, 'dafr': 2871, 'dagger': 2872, 'daily': 2873, 'dailymail': 2874, 'dairy': 2875, 'dakota': 2876, 'dal': 2877, 'dallas': 2878, 'dallor': 2879, 'dalma': 2880, 'dalo': 2881, 'damage': 2882, 'damaged': 2883, 'damaging': 2884, 'dammit': 2885, 'damn': 2886, 'dampen': 2887, 'dampening': 2888, 'dampness': 2889, 'dan': 2890, 'dance': 2891, 'dancing': 2892, 'dandelion': 2893, 'dang': 2894, 'danger': 2895, 'dangerous': 2896, 'dangerously': 2897, 'daniel': 2898, 'danielle': 2899, 'daniels': 2900, 'danish': 2901, 'danke': 2902, 'danny': 2903, 'dano': 2904, 'danube': 2905, 'daredevil': 2906, 'dareportfraud': 2907, 'daria': 2908, 'dark': 2909, 'darl': 2910, 'dasani': 2911, 'dash': 2912, 'dashboard': 2913, 'dashti': 2914, 'dat': 2915, 'data': 2916, 'database': 2917, 'datacappe': 2918, 'datadriven': 2919, 'date': 2920, 'datebook': 2921, 'datum': 2922, 'daughter': 2923, 'daunt': 2924, 'daura': 2925, 'dave': 2926, 'david': 2927, 'davy': 2928, 'dawkins': 2929, 'dawn': 2930, 'dawsons': 2931, 'day': 2932, \"daydidn't\": 2933, 'daydream': 2934, 'dayim': 2935, 'daylight': 2936, 'dayneither': 2937, 'daysate': 2938, 'daysfirst': 2939, 'dayspooramp': 2940, 'daysweek': 2941, 'daytime': 2942, 'dazee': 2943, 'dbdoodle': 2944, 'dble': 2945, 'dbrs': 2946, 'dbvt': 2947, 'dc': 2948, 'dca': 2949, 'ddd': 2950, 'de': 2951, 'dead': 2952, 'deadline': 2953, 'deadly': 2954, 'deadpool': 2955, 'deal': 2956, 'dealer': 2957, 'dealin': 2958, 'dealz': 2959, 'dean': 2960, 'dear': 2961, 'death': 2962, 'deathknell': 2963, 'deaths': 2964, 'deb': 2965, 'debasish': 2966, 'debate': 2967, 'debatethe': 2968, 'debbie': 2969, 'debenhams': 2970, 'debit': 2971, 'debitcreditstore': 2972, 'deborah': 2973, 'debt': 2974, 'debut': 2975, 'dec': 2976, 'decade': 2977, 'decal': 2978, 'deceasedyou': 2979, 'deceive': 2980, 'december': 2981, 'decency': 2982, 'decent': 2983, 'decently': 2984, 'deceptively': 2985, 'decide': 2986, 'decimate': 2987, 'decision': 2988, 'decisions': 2989, 'decisionsjc': 2990, 'deck': 2991, 'declaration': 2992, 'declare': 2993, 'decline': 2994, 'decliner': 2995, 'declining': 2996, 'declutter': 2997, 'decon': 2998, 'decor': 2999, 'decorate': 3000, 'decrease': 3001, 'decreasing': 3002, 'decry': 3003, 'dedicate': 3004, 'dedicated': 3005, 'dedication': 3006, 'deduct': 3007, 'deem': 3008, 'deep': 3009, 'deepak': 3010, 'deepen': 3011, 'deeper': 3012, 'deeply': 3013, 'deer': 3014, 'default': 3015, 'defeat': 3016, 'defective': 3017, 'defend': 3018, 'defense': 3019, 'defer': 3020, 'deferment': 3021, 'deferral': 3022, 'deffer': 3023, 'deficiency': 3024, 'deficit': 3025, 'define': 3026, 'definitely': 3027, 'definition': 3028, 'definitive': 3029, 'deforest': 3030, 'defraud': 3031, 'defund': 3032, 'defuniak': 3033, 'defy': 3034, 'degli': 3035, 'deglobalization': 3036, 'degradation': 3037, 'degrade': 3038, 'degree': 3039, 'dejado': 3040, 'deke': 3041, 'del': 3042, 'delaware': 3043, 'delay': 3044, 'delays': 3045, 'delegation': 3046, 'delete': 3047, 'delhi': 3048, 'deli': 3049, 'deliberate': 3050, 'deliberately': 3051, 'deliberation': 3052, 'delicious': 3053, 'delight': 3054, 'delighted': 3055, 'deliver': 3056, 'deliveries': 3057, 'deliveroo': 3058, 'deliverwho': 3059, 'delivery': 3060, 'deliveryamp': 3061, 'deliverycollection': 3062, 'deliverycurbside': 3063, 'deloitte': 3064, 'delores': 3065, 'delta': 3066, 'deluge': 3067, 'delusional': 3068, 'deluxe': 3069, 'dem': 3070, 'dema': 3071, 'demand': 3072, 'demandand': 3073, 'demandside': 3074, 'demarcation': 3075, 'dementia': 3076, 'demings': 3077, 'demise': 3078, 'demo': 3079, 'democracy': 3080, 'democrat': 3081, 'democratic': 3082, 'democrats': 3083, 'demographic': 3084, 'demolition': 3085, 'demonisation': 3086, 'demonstrate': 3087, 'dems': 3088, 'den': 3089, 'denature': 3090, 'dengue': 3091, 'denial': 3092, 'denker': 3093, 'denmark': 3094, 'denn': 3095, 'dennis': 3096, 'denounce': 3097, 'dense': 3098, 'densely': 3099, 'density': 3100, 'dent': 3101, 'dentist': 3102, 'deny': 3103, 'deodorizer': 3104, 'department': 3105, 'departments': 3106, 'depend': 3107, 'dependable': 3108, 'dependant': 3109, 'dependence': 3110, 'dependency': 3111, 'dependent': 3112, 'deplete': 3113, 'deplorable': 3114, 'deploy': 3115, 'deployment': 3116, 'deport': 3117, 'deportation': 3118, 'deposit': 3119, 'depot': 3120, 'depravity': 3121, 'depress': 3122, 'depressed': 3123, 'depressing': 3124, 'depression': 3125, 'deprive': 3126, 'deprived': 3127, 'dept': 3128, 'deputize': 3129, 'deputy': 3130, 'der': 3131, 'dera': 3132, 'derek': 3133, 'derelict': 3134, 'dermatitis': 3135, 'dermott': 3136, 'derrell': 3137, 'des': 3138, 'desantis': 3139, 'descend': 3140, 'descent': 3141, 'describe': 3142, 'description': 3143, 'desde': 3144, 'desert': 3145, 'deserve': 3146, 'desi': 3147, 'design': 3148, 'designate': 3149, 'designation': 3150, 'designer': 3151, 'desinfections': 3152, 'desire': 3153, 'desk': 3154, 'desker': 3155, 'desktop': 3156, 'desperate': 3157, 'desperately': 3158, 'desperation': 3159, 'despicable': 3160, 'despite': 3161, 'despot': 3162, 'dessert': 3163, 'destin': 3164, 'destinado': 3165, 'destination': 3166, 'destinations': 3167, 'destorm': 3168, 'destroy': 3169, 'destruction': 3170, 'detail': 3171, 'details': 3172, 'detain': 3173, 'detect': 3174, 'detection': 3175, 'deter': 3176, 'deteriorate': 3177, 'deterioration': 3178, 'determinant': 3179, 'determine': 3180, 'determined': 3181, 'detour': 3182, 'detroit': 3183, 'detroiti': 3184, 'dettol': 3185, 'deuce': 3186, 'deutsche': 3187, 'dev': 3188, 'devalue': 3189, 'devastate': 3190, 'devastating': 3191, 'devastation': 3192, 'develop': 3193, 'developer': 3194, 'developers': 3195, 'development': 3196, 'deviants': 3197, 'device': 3198, 'devil': 3199, 'devon': 3200, 'dey': 3201, 'dezenfektan': 3202, 'dfa': 3203, 'dffnt': 3204, 'dfs': 3205, 'dhabi': 3206, 'dhanbad': 3207, 'dho': 3208, 'dhs': 3209, 'dia': 3210, 'diabete': 3211, 'diabetes': 3212, 'diabetic': 3213, 'diagnose': 3214, 'diagnostic': 3215, 'dial': 3216, 'dialysis': 3217, 'diamond': 3218, 'dianne': 3219, 'diaper': 3220, 'diaphragmatic': 3221, 'diarea': 3222, 'diarrhea': 3223, 'diarrhoea': 3224, 'diary': 3225, 'diaster': 3226, 'dici': 3227, 'dick': 3228, 'diclemente': 3229, 'dictate': 3230, 'didier': 3231, 'didiza': 3232, 'didn': 3233, 'die': 3234, 'diego': 3235, 'dieing': 3236, 'diese': 3237, 'diesel': 3238, 'diet': 3239, 'dietary': 3240, 'dieteate': 3241, 'difference': 3242, 'different': 3243, 'differently': 3244, 'difficult': 3245, 'difficulty': 3246, 'dig': 3247, 'digest': 3248, 'digestive': 3249, 'digetty': 3250, 'digit': 3251, 'digital': 3252, 'digitalisation': 3253, 'digitalpolice': 3254, 'diives': 3255, 'dijo': 3256, 'dil': 3257, 'dilemma': 3258, 'diligently': 3259, 'dilshad': 3260, 'dilute': 3261, 'diluted': 3262, 'dim': 3263, 'dime': 3264, 'diminish': 3265, 'dinein': 3266, 'ding': 3267, 'dinge': 3268, 'dining': 3269, 'dinner': 3270, 'dinsdale': 3271, 'dint': 3272, 'dip': 3273, 'diplomacy': 3274, 'dippstick': 3275, 'dir': 3276, 'dire': 3277, 'direct': 3278, 'directing': 3279, 'direction': 3280, 'directive': 3281, 'directly': 3282, 'director': 3283, 'directorgeneral': 3284, 'directors': 3285, 'directory': 3286, 'directtoconsumer': 3287, 'dirt': 3288, 'dirty': 3289, 'dis': 3290, 'disabilitiesillness': 3291, 'disability': 3292, 'disable': 3293, 'disabled': 3294, 'disadvantage': 3295, 'disadvantaged': 3296, 'disappear': 3297, 'disappoint': 3298, 'disappointed': 3299, 'disappointing': 3300, 'disappointment': 3301, 'disappointments': 3302, 'disapprove': 3303, 'disaster': 3304, 'disastrous': 3305, 'disburse': 3306, 'disbursement': 3307, 'discard': 3308, 'discgolfcenter': 3309, 'discharged': 3310, 'disciple': 3311, 'disciplinary': 3312, 'discipline': 3313, 'disciplined': 3314, 'disclose': 3315, 'discount': 3316, 'discounts': 3317, 'discourage': 3318, 'discover': 3319, 'discovery': 3320, 'discrepancy': 3321, 'discrete': 3322, 'discretion': 3323, 'discretionary': 3324, 'discriminar': 3325, 'discriminate': 3326, 'discrimination': 3327, 'discriminatory': 3328, 'discuss': 3329, 'discussion': 3330, 'disdain': 3331, 'disease': 3332, 'diseaseas': 3333, 'diseased': 3334, 'disembark': 3335, 'disfiguredtrumphasdubbe': 3336, 'disgraceful': 3337, 'disgracefully': 3338, 'disgust': 3339, 'disgusted': 3340, 'disgusting': 3341, 'dish': 3342, 'dishearten': 3343, 'dishonesty': 3344, 'dishsoap': 3345, 'disinfect': 3346, 'disinfectant': 3347, 'disinfecting': 3348, 'disinfection': 3349, 'disinfectors': 3350, 'disinflation': 3351, 'disinformation': 3352, 'disinvestment': 3353, 'dislocated': 3354, 'dismal': 3355, 'dismay': 3356, 'dismiss': 3357, 'dismisse': 3358, 'dismuke': 3359, 'disney': 3360, 'disobedience': 3361, 'disparity': 3362, 'dispatch': 3363, 'dispatcher': 3364, 'dispel': 3365, 'dispensary': 3366, 'dispenser': 3367, 'disperse': 3368, 'display': 3369, 'disposable': 3370, 'disposal': 3371, 'dispose': 3372, 'disproportionate': 3373, 'disproportionately': 3374, 'dispute': 3375, 'disregard': 3376, 'disrupt': 3377, 'disruption': 3378, 'disruptive': 3379, 'dissect': 3380, 'disseminate': 3381, 'dissipate': 3382, 'dissolve': 3383, 'distanc': 3384, 'distance': 3385, 'distanced': 3386, 'distancing': 3387, 'distancingcleanliness': 3388, 'distancingwe': 3389, 'distant': 3390, 'distantance': 3391, 'distaste': 3392, 'distiller': 3393, 'distillery': 3394, 'distilling': 3395, 'distinct': 3396, 'distinctive': 3397, 'distort': 3398, 'distract': 3399, 'distraction': 3400, 'distress': 3401, 'distressed': 3402, 'distressing': 3403, 'distribute': 3404, 'distribution': 3405, 'distributor': 3406, 'distributors': 3407, 'district': 3408, 'disturbing': 3409, 'ditch': 3410, 'dive': 3411, 'diverge': 3412, 'diverse': 3413, 'diversification': 3414, 'diversify': 3415, 'diversity': 3416, 'divert': 3417, 'divide': 3418, 'dividend': 3419, 'divino': 3420, 'division': 3421, 'divorce': 3422, 'divs': 3423, 'diy': 3424, 'diyor': 3425, 'djavad': 3426, 'djia': 3427, 'djt': 3428, 'dkk': 3429, 'dm': 3430, 'dmrt': 3431, 'dmv': 3432, 'dna': 3433, 'dnr': 3434, 'doc': 3435, 'docente': 3436, 'dock': 3437, 'doctor': 3438, 'doctorate': 3439, 'doctors': 3440, 'doctorsnurse': 3441, 'doctorsnurseshealth': 3442, 'document': 3443, 'documentary': 3444, 'documentation': 3445, 'dod': 3446, 'dodge': 3447, 'dodgers': 3448, 'dodgylooking': 3449, 'doesn': 3450, 'dog': 3451, 'dogooder': 3452, 'dogs': 3453, 'dogschildren': 3454, 'doi': 3455, 'doityourself': 3456, 'dol': 3457, 'dole': 3458, 'dollar': 3459, 'dollsits': 3460, 'domain': 3461, 'domestic': 3462, 'domestically': 3463, \"domesticint'l\": 3464, 'domex': 3465, 'dominance': 3466, 'dominate': 3467, 'dominican': 3468, 'domino': 3469, 'don': 3470, \"don't\": 3471, \"don'ts\": 3472, 'donald': 3473, 'donate': 3474, 'donating': 3475, 'donation': 3476, 'doncaster': 3477, 'donets': 3478, 'dong': 3479, 'donington': 3480, 'donkey': 3481, 'donor': 3482, 'dont': 3483, 'donut': 3484, 'doom': 3485, 'doomsday': 3486, 'door': 3487, 'doordash': 3488, 'doorknobs': 3489, 'doorman': 3490, 'doorso': 3491, 'doorstep': 3492, 'doorsteps': 3493, 'doris': 3494, 'doritos': 3495, 'dorm': 3496, 'dormant': 3497, 'dorn': 3498, 'dornan': 3499, 'dorset': 3500, 'dos': 3501, 'dose': 3502, 'dot': 3503, 'dou': 3504, 'double': 3505, 'doubt': 3506, 'doubts': 3507, 'douchebag': 3508, 'doug': 3509, 'dover': 3510, 'dow': 3511, 'dowm': 3512, 'down': 3513, 'downfrom': 3514, 'downgrade': 3515, 'downgrades': 3516, 'downhill': 3517, 'downingstreet': 3518, 'download': 3519, 'downplay': 3520, 'downregardless': 3521, 'downs': 3522, 'downside': 3523, 'downsize': 3524, 'downstream': 3525, 'downtown': 3526, 'downturn': 3527, 'downvote': 3528, 'downward': 3529, 'dox': 3530, 'dozen': 3531, 'dpd': 3532, 'dr': 3533, 'draconian': 3534, 'draft': 3535, 'drag': 3536, 'dragen': 3537, 'drain': 3538, 'drake': 3539, 'drama': 3540, 'dramatic': 3541, 'dramatically': 3542, 'drastic': 3543, 'drastically': 3544, 'draw': 3545, 'drawer': 3546, 'draya': 3547, 'drayton': 3548, 'dread': 3549, 'dreadful': 3550, 'dream': 3551, 'dreamstime': 3552, 'dress': 3553, 'drew': 3554, 'driller': 3555, 'drilling': 3556, 'drink': 3557, 'drinking': 3558, 'drive': 3559, 'driven': 3560, 'driver': 3561, 'drivers': 3562, 'drives': 3563, 'drivethrough': 3564, 'drivethru': 3565, 'drivethrus': 3566, 'driveup': 3567, 'driving': 3568, 'drone': 3569, 'drones': 3570, 'drongo': 3571, 'drop': 3572, 'droplet': 3573, 'dropoff': 3574, 'drops': 3575, 'drought': 3576, 'drove': 3577, 'drown': 3578, 'drtm': 3579, 'drug': 3580, 'drugstore': 3581, 'drumsticks': 3582, 'drunk': 3583, 'dry': 3584, 'drywall': 3585, 'dsouza': 3586, 'dsseldorf': 3587, 'dt': 3588, 'dtc': 3589, 'dth': 3590, 'dtla': 3591, 'dts': 3592, 'du': 3593, 'dual': 3594, 'dub': 3595, 'dubai': 3596, 'dublin': 3597, 'ducey': 3598, 'duck': 3599, 'ducker': 3600, 'duda': 3601, 'dude': 3602, 'duel': 3603, 'duffex': 3604, 'dukana': 3605, 'dum': 3606, 'dumb': 3607, 'dumbass': 3608, 'dumbfery': 3609, 'dumbfuckery': 3610, 'dummy': 3611, 'dump': 3612, 'dundalk': 3613, 'dung': 3614, 'dungeon': 3615, 'dunne': 3616, 'dunno': 3617, 'duo': 3618, 'dupe': 3619, 'duplicate': 3620, 'durable': 3621, 'duration': 3622, 'durin': 3623, 'duringaft': 3624, 'durne': 3625, 'dust': 3626, 'dusty': 3627, 'dutch': 3628, 'duterte': 3629, 'duty': 3630, 'dvd': 3631, 'dw': 3632, 'dweller': 3633, 'dwight': 3634, 'dwindle': 3635, 'dwindling': 3636, 'dwp': 3637, 'dxy': 3638, 'dye': 3639, 'dying': 3640, 'dyk': 3641, 'dynamic': 3642, 'dynata': 3643, 'dysfunctional': 3644, 'dyson': 3645, 'dystopian': 3646, 'dz': 3647, 'e': 3648, 'ea': 3649, 'eager': 3650, 'eagerness': 3651, 'eampj': 3652, 'eampoe': 3653, 'eampp': 3654, 'ear': 3655, 'early': 3656, 'earn': 3657, 'earner': 3658, 'earnest': 3659, 'earning': 3660, 'earring': 3661, 'earth': 3662, 'earthcore': 3663, 'earthfriendly': 3664, 'earthquake': 3665, 'ease': 3666, 'easier': 3667, 'easily': 3668, 'east': 3669, 'eastbourne': 3670, 'easter': 3671, 'eastern': 3672, 'easy': 3673, 'easyfundraise': 3674, 'eat': 3675, 'eater': 3676, 'eating': 3677, 'eatons': 3678, 'eatsswiggydelivery': 3679, 'eauction': 3680, 'eba': 3681, 'ebay': 3682, 'ebayand': 3683, 'ebayetsy': 3684, 'ebitda': 3685, 'ebola': 3686, 'ebt': 3687, 'ebtfood': 3688, 'ecb': 3689, 'ecg': 3690, 'eco': 3691, 'ecological': 3692, 'ecommerce': 3693, 'econ': 3694, 'econgdp': 3695, 'economic': 3696, 'economical': 3697, 'economics': 3698, 'economist': 3699, 'economy': 3700, 'economyopen': 3701, 'economys': 3702, 'ecowater': 3703, 'ecozone': 3704, 'ect': 3705, 'ecuador': 3706, 'ed': 3707, 'edahn': 3708, 'edeka': 3709, 'edemame': 3710, 'edge': 3711, 'edgewater': 3712, 'edible': 3713, 'edibles': 3714, 'edinburgh': 3715, 'edit': 3716, 'editdub': 3717, 'edition': 3718, 'editor': 3719, 'editorial': 3720, 'edmonton': 3721, 'edt': 3722, 'educate': 3723, 'education': 3724, 'educational': 3725, 'educator': 3726, 'educators': 3727, 'edwards': 3728, 'eeep': 3729, 'eerie': 3730, 'eff': 3731, 'effect': 3732, 'effective': 3733, 'effectively': 3734, 'effectiveness': 3735, 'efficacious': 3736, 'efficacy': 3737, 'efficiency': 3738, 'efficient': 3739, 'efficiently': 3740, 'effort': 3741, 'effortlessly': 3742, 'efforts': 3743, 'effurun': 3744, 'eg': 3745, 'egg': 3746, 'eggplant': 3747, 'eggs': 3748, 'ego': 3749, 'egoism': 3750, 'egregious': 3751, 'egrocery': 3752, 'egypt': 3753, 'eh': 3754, 'ehsan': 3755, 'ei': 3756, 'eic': 3757, 'eid': 3758, 'eigen': 3759, 'eine': 3760, 'einstein': 3761, 'eisenhower': 3762, 'eith': 3763, 'eitheror': 3764, 'ekman': 3765, 'el': 3766, 'elbow': 3767, 'eld': 3768, 'elder': 3769, 'elderly': 3770, 'elderlyonly': 3771, 'elderlysick': 3772, 'elderlyvulnerable': 3773, 'elearne': 3774, 'elect': 3775, 'election': 3776, 'elections': 3777, 'electric': 3778, 'electrical': 3779, 'electricians': 3780, 'electricinternetfoodmed': 3781, 'electricity': 3782, 'electricitywater': 3783, 'electrifying': 3784, 'electro': 3785, 'electronic': 3786, 'electronics': 3787, 'electronicsother': 3788, 'elegantly': 3789, 'element': 3790, 'elevate': 3791, 'elevator': 3792, 'eleven': 3793, 'elhout': 3794, 'eligibility': 3795, 'eligible': 3796, 'eliminate': 3797, 'eliquid': 3798, 'elisabeth': 3799, 'elite': 3800, 'elizabeth': 3801, 'ellie': 3802, 'elmvale': 3803, 'elon': 3804, 'else': 3805, 'elusive': 3806, 'elvis': 3807, 'em': 3808, 'emaar': 3809, 'emagazine': 3810, 'email': 3811, 'emailzhu_andy': 3812, 'emarketer': 3813, 'embark': 3814, 'embarrass': 3815, 'embarrassed': 3816, 'embarrassing': 3817, 'embarrassment': 3818, 'embed': 3819, 'embrace': 3820, 'embroidery': 3821, 'emergancy': 3822, 'emerge': 3823, 'emergence': 3824, 'emergencies': 3825, 'emergency': 3826, 'emergent': 3827, 'emeritus': 3828, 'emi': 3829, 'emini': 3830, 'emirates': 3831, 'emissions': 3832, 'emma': 3833, 'emmanuel': 3834, 'emotional': 3835, 'emotionally': 3836, 'empathetic': 3837, 'empathy': 3838, 'emphasis': 3839, 'emphasise': 3840, 'emphasize': 3841, 'employ': 3842, 'employee': 3843, 'employees': 3844, 'employer': 3845, 'employment': 3846, 'empower': 3847, 'emptor': 3848, 'empty': 3849, 'emptyand': 3850, 'emt': 3851, 'emts': 3852, 'en': 3853, 'enable': 3854, 'enabler': 3855, 'enact': 3856, 'enafrica': 3857, 'encash': 3858, 'encinitas': 3859, 'encounter': 3860, 'encourage': 3861, 'encouragement': 3862, 'encouraging': 3863, 'end': 3864, 'endanger': 3865, 'endangered': 3866, 'endeavour': 3867, 'endive': 3868, 'endless': 3869, 'endlessly': 3870, 'endometriosis': 3871, 'endorse': 3872, 'ends': 3873, 'endure': 3874, 'enemy': 3875, 'energetic': 3876, 'energy': 3877, 'enforce': 3878, 'enforcement': 3879, 'enforcer': 3880, 'engage': 3881, 'engaged': 3882, 'engagement': 3883, 'engine': 3884, 'engineer': 3885, 'engineering': 3886, 'england': 3887, 'englandampturkey': 3888, 'english': 3889, 'enh': 3890, 'enhance': 3891, 'enjoy': 3892, 'enniskillen': 3893, 'enormous': 3894, 'enoug': 3895, 'enoughrecieve': 3896, 'enployment': 3897, 'enquiry': 3898, 'enrage': 3899, 'enrich': 3900, 'enroll': 3901, 'enrollment': 3902, 'ensue': 3903, 'ensure': 3904, 'enter': 3905, 'enterprise': 3906, 'enterprises': 3907, 'enterprising': 3908, 'entertain': 3909, 'entertainer': 3910, 'entertainment': 3911, 'entire': 3912, 'entirely': 3913, 'entitle': 3914, 'entitled': 3915, 'entity': 3916, 'entrance': 3917, 'entrepreneur': 3918, 'entrepreneuryoure': 3919, 'entreprise': 3920, 'entry': 3921, 'entrylevel': 3922, 'entryway': 3923, 'envious': 3924, 'environ': 3925, 'environment': 3926, 'environmental': 3927, 'environmentally': 3928, 'envoy': 3929, 'envt': 3930, 'envy': 3931, 'eoc': 3932, 'eohed': 3933, 'eoi': 3934, 'ep': 3935, 'epa': 3936, 'epedimiologist': 3937, 'epic': 3938, 'epically': 3939, 'epicenter': 3940, 'epidemic': 3941, 'epidemicaggravatesracialdiscriminationasianfamiliesintheunitedstatessupermarketunprovokedattack': 3942, 'epipen': 3943, 'episode': 3944, 'equal': 3945, 'equality': 3946, 'equally': 3947, 'equip': 3948, 'equipment': 3949, 'equiteer': 3950, 'equity': 3951, 'equivalent': 3952, 'er': 3953, 'era': 3954, 'eradicate': 3955, 'eradication': 3956, 'erase': 3957, 'erdogan': 3958, 'erect': 3959, 'ergo': 3960, 'erie': 3961, 'erin': 3962, 'erode': 3963, 'err': 3964, 'errand': 3965, 'errandshot': 3966, 'erratic': 3967, 'error': 3968, 'erstwhile': 3969, 'erupt': 3970, 'esa': 3971, 'escalate': 3972, 'escalator': 3973, 'escape': 3974, 'escapism': 3975, 'escarpment': 3976, 'escena': 3977, 'eset': 3978, 'esm': 3979, 'esp': 3980, 'espaa': 3981, 'especial': 3982, 'especially': 3983, 'esport': 3984, 'essay': 3985, 'essays': 3986, 'essence': 3987, 'essential': 3988, 'essentialcutters': 3989, 'essentially': 3990, 'essentials': 3991, 'essentialsfree': 3992, 'essentialspeople': 3993, 'establish': 3994, 'establishment': 3995, 'estados': 3996, 'estantes': 3997, 'estate': 3998, 'este': 3999, 'esteban': 4000, 'esteemed': 4001, 'estimate': 4002, 'estimates': 4003, 'et': 4004, 'etailer': 4005, 'etc': 4006, 'etca': 4007, 'etci': 4008, 'etcio': 4009, 'etenergyworld': 4010, 'ethanol': 4011, 'ethic': 4012, 'ethical': 4013, 'ethics': 4014, 'ethyl': 4015, 'ethylene': 4016, 'etiquette': 4017, 'etretail': 4018, 'eu': 4019, 'eua': 4020, 'euclid': 4021, 'eularia': 4022, 'euro': 4023, 'europe': 4024, 'european': 4025, 'europeans': 4026, 'europes': 4027, 'euros': 4028, 'eurozone': 4029, 'eustice': 4030, 'ev': 4031, 'evacuate': 4032, 'evacuation': 4033, 'evah': 4034, 'evaluate': 4035, 'evaluation': 4036, 'evan': 4037, 'evangelical': 4038, 'evanston': 4039, 'evaporate': 4040, 'evaporation': 4041, 'eve': 4042, 'evening': 4043, 'event': 4044, 'eventhough': 4045, 'events': 4046, 'eventual': 4047, 'eventually': 4048, 'everchanging': 4049, 'everclear': 4050, 'everett': 4051, 'everlywell': 4052, 'evershifting': 4053, 'eversince': 4054, 'everton': 4055, 'everybody': 4056, 'everyday': 4057, 'everyone': 4058, 'everyonehere': 4059, 'everythingthat': 4060, 'evict': 4061, 'eviction': 4062, 'evidence': 4063, 'evidencebase': 4064, 'evident': 4065, 'evil': 4066, 'evisl': 4067, 'evita': 4068, 'evolution': 4069, 'evolve': 4070, 'evolved': 4071, 'evolving': 4072, 'evoucher': 4073, 'evp': 4074, 'ew': 4075, 'ewll': 4076, 'ex': 4077, 'exacerbate': 4078, 'exacerbating': 4079, 'exact': 4080, 'exactly': 4081, 'exagerate': 4082, 'exaggerate': 4083, 'exam': 4084, 'examine': 4085, 'example': 4086, 'exceed': 4087, 'excellence': 4088, 'excellent': 4089, 'exception': 4090, 'exceptional': 4091, 'excercise': 4092, 'excess': 4093, 'excessive': 4094, 'excessively': 4095, 'exchange': 4096, 'excise': 4097, 'excite': 4098, 'excited': 4099, 'excitement': 4100, 'exciting': 4101, 'exclude': 4102, 'exclusion': 4103, 'exclusive': 4104, 'exclusively': 4105, 'excop': 4106, 'excuse': 4107, 'exec': 4108, 'execute': 4109, 'executive': 4110, 'executives': 4111, 'exempt': 4112, 'exemption': 4113, 'exerci': 4114, 'exercise': 4115, 'exercises': 4116, 'exglobal': 4117, 'exhausted': 4118, 'exhaustion': 4119, 'exhibit': 4120, 'exhibitors': 4121, 'exist': 4122, 'existent': 4123, 'exit': 4124, 'exmilitary': 4125, 'exorbitant': 4126, 'expand': 4127, 'expands': 4128, 'expansion': 4129, 'expansive': 4130, 'expat': 4131, 'expatriate': 4132, 'expect': 4133, 'expectation': 4134, 'expectations': 4135, 'expecteda': 4136, 'expedite': 4137, 'expeditiously': 4138, 'expenditure': 4139, 'expense': 4140, 'expensive': 4141, 'experience': 4142, 'experiencedeep': 4143, 'experiencenow': 4144, 'experiential': 4145, 'experiment': 4146, 'expert': 4147, 'expertle': 4148, 'experts': 4149, 'expiration': 4150, 'expire': 4151, 'explain': 4152, 'explanation': 4153, 'explicitly': 4154, 'explode': 4155, 'exploit': 4156, 'exploitation': 4157, 'exploration': 4158, 'explore': 4159, 'explosion': 4160, 'exponential': 4161, 'export': 4162, 'exportation': 4163, 'exporter': 4164, 'exportsi': 4165, 'expose': 4166, 'exposure': 4167, 'express': 4168, 'expression': 4169, 'expressnews': 4170, 'exregional': 4171, 'extand': 4172, 'extend': 4173, 'extended': 4174, 'extends': 4175, 'extension': 4176, 'extensions': 4177, 'extensive': 4178, 'extensively': 4179, 'extent': 4180, 'external': 4181, 'extinct': 4182, 'extinction': 4183, 'extortion': 4184, 'extortionate': 4185, 'extra': 4186, 'extraneous': 4187, 'extrapolation': 4188, 'extreme': 4189, 'extremely': 4190, 'exxon': 4191, 'ey': 4192, 'eye': 4193, 'eyebrow': 4194, 'eyecontact': 4195, 'eyeopening': 4196, 'eyeroll': 4197, 'eyes': 4198, 'eyren': 4199, 'eyvallah': 4200, 'ezinne': 4201, 'f': 4202, 'fab': 4203, 'fable': 4204, 'fabric': 4205, 'fabricated': 4206, 'fabulous': 4207, 'face': 4208, 'facebook': 4209, 'faced': 4210, 'facemask': 4211, 'faceoff': 4212, 'faces': 4213, 'facet': 4214, 'facetoface': 4215, 'facial': 4216, 'facilitate': 4217, 'facilitation': 4218, 'facility': 4219, 'facing': 4220, 'facinguncontrolle': 4221, 'fact': 4222, 'factbox': 4223, 'facto': 4224, 'factor': 4225, 'factories': 4226, 'factory': 4227, 'faculty': 4228, 'fade': 4229, 'faffe': 4230, 'fag': 4231, 'fail': 4232, 'failsunderstand': 4233, 'failure': 4234, 'failures': 4235, 'fair': 4236, 'faire': 4237, 'fairly': 4238, 'fairness': 4239, 'fairprice': 4240, 'fairway': 4241, 'fairy': 4242, 'faith': 4243, 'faithful': 4244, 'faithfully': 4245, 'faizan': 4246, 'fake': 4247, 'fall': 4248, 'fallacy': 4249, 'fallout': 4250, 'falls': 4251, 'fallsgtconsumption': 4252, 'false': 4253, 'falsely': 4254, 'falter': 4255, 'fam': 4256, 'famer': 4257, 'familiar': 4258, 'families': 4259, 'familiesvege': 4260, 'family': 4261, 'familydoc': 4262, 'familyfriend': 4263, \"familyi'm\": 4264, 'familyit': 4265, 'familyowne': 4266, 'famine': 4267, 'famliy': 4268, 'famous': 4269, 'fan': 4270, 'fancy': 4271, 'fantastic': 4272, 'fantasy': 4273, 'fantini': 4274, 'fao': 4275, 'faq': 4276, 'far': 4277, 'farber': 4278, 'farce': 4279, 'fare': 4280, 'fareast': 4281, 'fareway': 4282, 'fargo': 4283, 'farm': 4284, 'farmer': 4285, 'farmers': 4286, 'farming': 4287, \"farming'd\": 4288, 'farmland': 4289, 'farmworker': 4290, 'farreache': 4291, 'farright': 4292, 'fart': 4293, 'faruki': 4294, 'fascinate': 4295, 'fascinating': 4296, 'fashion': 4297, 'fast': 4298, 'fastbuild': 4299, 'fasten': 4300, 'fastest': 4301, 'fat': 4302, 'fatality': 4303, 'fate': 4304, 'fatehgunj': 4305, 'father': 4306, 'fatigue': 4307, 'fatten': 4308, 'fauci': 4309, 'fault': 4310, 'fav': 4311, 'fave': 4312, 'favor': 4313, 'favorable': 4314, 'favorably': 4315, 'favorite': 4316, 'favorito': 4317, 'favour': 4318, 'favourite': 4319, 'fb': 4320, 'fcac': 4321, 'fcc': 4322, 'fccc': 4323, 'fck': 4324, 'fcking': 4325, 'fco': 4326, 'fcpc': 4327, 'fda': 4328, 'fdacs': 4329, 'fdic': 4330, 'fe': 4331, 'fealty': 4332, 'fear': 4333, 'fearful': 4334, 'fearfulness': 4335, 'fearing': 4336, 'fearless': 4337, 'fearpanic': 4338, 'fears': 4339, 'feature': 4340, 'feb': 4341, 'february': 4342, 'fed': 4343, 'federal': 4344, 'federally': 4345, 'federalstate': 4346, 'federation': 4347, 'fedex': 4348, 'fee': 4349, 'feed': 4350, 'feedback': 4351, 'feedgrain': 4352, 'feedin': 4353, 'feeding': 4354, 'feedlot': 4355, 'feel': 4356, 'feelin': 4357, 'feeling': 4358, 'feels': 4359, 'fees': 4360, 'feestaxe': 4361, 'feinstein': 4362, 'fella': 4363, 'fellow': 4364, 'felony': 4365, 'felt': 4366, 'fema': 4367, 'female': 4368, 'fensom': 4369, 'ferdinand': 4370, 'ferpa': 4371, 'ferr': 4372, 'ferrer': 4373, 'fertilizer': 4374, 'fesharaki': 4375, 'festival': 4376, 'fetch': 4377, 'fetish': 4378, 'feud': 4379, 'fever': 4380, 'few': 4381, 'ff': 4382, 'ffp': 4383, 'ffs': 4384, 'fg': 4385, 'fge': 4386, 'fhd': 4387, 'fi': 4388, 'fianc': 4389, 'fiance': 4390, 'fiascorona': 4391, 'fibromyalgia': 4392, 'fibrosis': 4393, 'fica': 4394, 'fiction': 4395, 'fictitious': 4396, 'field': 4397, 'fields': 4398, 'fiesta': 4399, 'fifth': 4400, 'fight': 4401, 'fighting': 4402, 'figurative': 4403, 'figuratively': 4404, 'figure': 4405, 'fiji': 4406, 'fijian': 4407, 'fijians': 4408, 'file': 4409, 'files': 4410, 'filing': 4411, 'filipino': 4412, 'filipinos': 4413, 'fill': 4414, 'filling': 4415, 'fillup': 4416, 'film': 4417, 'filter': 4418, 'filth': 4419, 'filthy': 4420, 'filtration': 4421, 'final': 4422, 'finalize': 4423, 'finally': 4424, 'finance': 4425, 'financial': 4426, 'financially': 4427, 'financialy': 4428, 'financing': 4429, 'find': 4430, 'finder': 4431, 'finding': 4432, 'findom': 4433, 'findomme': 4434, 'fine': 4435, 'fing': 4436, 'finger': 4437, 'fingertip': 4438, 'finish': 4439, 'finished': 4440, 'finland': 4441, 'finna': 4442, 'finney': 4443, 'finnish': 4444, 'finns': 4445, 'finra': 4446, 'finsub': 4447, 'fipi': 4448, 'fir': 4449, 'fire': 4450, 'firearm': 4451, 'firefighter': 4452, 'fires': 4453, 'firie': 4454, 'firm': 4455, 'firmly': 4456, 'firms': 4457, 'firstcashback': 4458, 'fiscal': 4459, 'fish': 4460, 'fishbulb': 4461, 'fisherman': 4462, 'fishermen': 4463, 'fishery': 4464, 'fishes': 4465, 'fishing': 4466, 'fishmonger': 4467, 'fishtank': 4468, 'fissure': 4469, 'fistfight': 4470, 'fit': 4471, 'fitch': 4472, 'fitness': 4473, 'fitterleaner': 4474, 'fitting': 4475, 'fivefold': 4476, 'fiver': 4477, 'fix': 4478, 'fixes': 4479, 'fixture': 4480, 'fizzy': 4481, 'fk': 4482, 'fl': 4483, 'flag': 4484, 'flamenco': 4485, 'flanchent': 4486, 'flare': 4487, 'flash': 4488, 'flashback': 4489, 'flashlight': 4490, 'flat': 4491, 'flatten': 4492, 'flattenthecurve': 4493, 'flatulence': 4494, 'flavonoid': 4495, 'flavor': 4496, 'flavour': 4497, 'flavouring': 4498, 'flaw': 4499, 'flee': 4500, 'fleece': 4501, 'fleet': 4502, 'flexed': 4503, 'flexibility': 4504, 'flexible': 4505, 'flexin': 4506, 'flight': 4507, 'flinch': 4508, 'flipkart': 4509, 'flirt': 4510, 'flkidsmeal': 4511, 'float': 4512, 'flock': 4513, 'flog': 4514, 'flood': 4515, 'flooding': 4516, 'floods': 4517, 'floor': 4518, 'florida': 4519, 'floridians': 4520, 'flour': 4521, 'floursaltriceand': 4522, 'flout': 4523, 'flow': 4524, 'flower': 4525, 'flowy': 4526, 'flu': 4527, 'fluctuate': 4528, 'fluctuation': 4529, 'fluid': 4530, 'fluschmann': 4531, 'flush': 4532, 'flushable': 4533, 'fly': 4534, 'flyer': 4535, 'fm': 4536, 'fmcg': 4537, 'fmi': 4538, 'fml': 4539, 'foam': 4540, 'foaming': 4541, 'fock': 4542, 'focus': 4543, 'focused': 4544, 'foe': 4545, 'fog': 4546, 'foia': 4547, 'foil': 4548, 'fold': 4549, 'folder': 4550, 'folk': 4551, 'folks': 4552, 'follow': 4553, 'follower': 4554, 'following': 4555, 'follw': 4556, 'folsom': 4557, 'fonu': 4558, 'food': 4559, 'foodampall': 4560, 'foodavoid': 4561, 'foodbank': 4562, 'foodbanks': 4563, 'fooddrink': 4564, 'foodgood': 4565, 'foodgrocery': 4566, 'foodie': 4567, 'foodland': 4568, 'foodmaxx': 4569, 'foodno': 4570, 'foods': 4571, 'foodscrap': 4572, 'foodsecurity': 4573, 'foodstoreschain': 4574, 'foodstuf': 4575, 'foodstuff': 4576, 'foodtp': 4577, 'foodwarewolf': 4578, 'foodwaste': 4579, 'foodwhat': 4580, 'fool': 4581, 'foot': 4582, 'footage': 4583, 'football': 4584, 'footfall': 4585, 'footing': 4586, 'footstep': 4587, 'foottraffic': 4588, 'foras': 4589, 'forbearance': 4590, 'forbes': 4591, 'forbid': 4592, 'forborne': 4593, 'force': 4594, 'forcefield': 4595, 'forcein': 4596, 'forceno': 4597, 'forces': 4598, 'ford': 4599, 'forecast': 4600, 'forecaster': 4601, 'forecasting': 4602, 'forecasts': 4603, 'foreclose': 4604, 'foreclosure': 4605, 'forefront': 4606, 'forehead': 4607, 'foreign': 4608, 'foremost': 4609, 'foresee': 4610, 'foreseeable': 4611, 'forest': 4612, 'forestall': 4613, 'forevah': 4614, 'forever': 4615, 'forex': 4616, 'forget': 4617, 'forgive': 4618, 'forgo': 4619, 'forgot': 4620, 'fori': 4621, 'forklift': 4622, 'forks': 4623, 'form': 4624, 'format': 4625, 'former': 4626, 'formula': 4627, 'forno': 4628, 'forresters': 4629, 'fort': 4630, 'forth': 4631, 'forthcome': 4632, 'fortify': 4633, 'fortinos': 4634, 'fortnight': 4635, 'fortnightly': 4636, 'fortnite': 4637, 'fortnum': 4638, 'fortunate': 4639, 'fortunately': 4640, 'fortune': 4641, 'forum': 4642, 'forward': 4643, 'forwardation': 4644, 'forwards': 4645, 'forza': 4646, 'fossil': 4647, 'foster': 4648, 'foto': 4649, 'fotos': 4650, 'foundation': 4651, 'foundational': 4652, 'foundations': 4653, 'founder': 4654, 'fourth': 4655, 'fox': 4656, 'fr': 4657, 'fracke': 4658, 'fraction': 4659, 'fractured': 4660, 'fraggang': 4661, 'fraggangyour': 4662, 'fragile': 4663, 'fragility': 4664, 'fragr': 4665, 'frail': 4666, 'frailty': 4667, 'frame': 4668, 'framework': 4669, 'france': 4670, 'frances': 4671, 'francesco': 4672, 'franchise': 4673, 'francia': 4674, 'francis': 4675, 'francisco': 4676, 'frankfurt': 4677, 'frankly': 4678, 'fransz': 4679, 'frantic': 4680, 'frantically': 4681, 'franz': 4682, 'franzsische': 4683, 'fraser': 4684, 'fraternity': 4685, 'fraud': 4686, 'fraudster': 4687, 'fraudulent': 4688, 'frazier': 4689, 'frazis': 4690, 'fre': 4691, 'freak': 4692, 'freaking': 4693, 'freakonomic': 4694, 'freaky': 4695, 'fred': 4696, 'free': 4697, 'freedom': 4698, 'freehold': 4699, 'freelance': 4700, 'freelancer': 4701, 'freely': 4702, 'freeman': 4703, 'freeze': 4704, 'freezer': 4705, 'freight': 4706, 'french': 4707, 'frenzy': 4708, 'frenzynamaka': 4709, 'frequency': 4710, 'frequent': 4711, 'frequently': 4712, 'fresh': 4713, 'freshly': 4714, 'freudian': 4715, 'friday': 4716, 'fridays': 4717, 'fridaytuesday': 4718, 'fridge': 4719, 'fried': 4720, 'friedman': 4721, 'friend': 4722, 'friendly': 4723, 'friends': 4724, 'friendship': 4725, 'frig': 4726, 'fright': 4727, 'frighten': 4728, 'frightening': 4729, 'fritz': 4730, 'frivolous': 4731, 'frm': 4732, 'front': 4733, 'frontfoot': 4734, 'frontier': 4735, 'frontline': 4736, 'frontlinebattlingcovidin': 4737, 'frontliner': 4738, 'frown': 4739, 'frozen': 4740, 'fruit': 4741, 'fruitsveggieschickenground': 4742, 'frustrating': 4743, 'fry': 4744, 'fryup': 4745, 'fscw': 4746, 'ft': 4747, 'ftc': 4748, 'ftcfdafincen': 4749, 'ftpeterson': 4750, 'ftplease': 4751, 'ftxp': 4752, 'fu': 4753, 'fuck': 4754, 'fucken': 4755, 'fucker': 4756, 'fuckin': 4757, 'fucking': 4758, 'fucktard': 4759, 'fuckwit': 4760, 'fuel': 4761, 'fuking': 4762, 'fukn': 4763, 'fulfil': 4764, 'fulfill': 4765, 'fulfillment': 4766, 'fulham': 4767, 'fullscale': 4768, 'fulltime': 4769, 'fully': 4770, 'fullyear': 4771, 'fulwell': 4772, 'fume': 4773, 'fun': 4774, 'function': 4775, 'functional': 4776, 'fund': 4777, 'fundamental': 4778, 'fundamentally': 4779, 'fundamentals': 4780, 'fundiariesdifferent': 4781, 'funding': 4782, 'fundraise': 4783, 'fundraiser': 4784, 'funeral': 4785, 'funnel': 4786, 'funny': 4787, 'furious': 4788, 'furlough': 4789, 'furnace': 4790, 'furnishing': 4791, 'furniture': 4792, 'fury': 4793, 'fusilli': 4794, 'fuss': 4795, 'futako': 4796, 'futile': 4797, 'futility': 4798, 'futtaim': 4799, 'future': 4800, 'futureproofe': 4801, 'futures': 4802, 'fvcking': 4803, 'fwaa': 4804, 'fwit': 4805, 'fy': 4806, 'fyi': 4807, 'g': 4808, 'ga': 4809, 'gabon': 4810, 'gadot': 4811, 'gafoors': 4812, 'gag': 4813, 'gai': 4814, 'gain': 4815, 'gainer': 4816, 'gainesville': 4817, 'gaither': 4818, 'gal': 4819, 'galen': 4820, 'gallaudet': 4821, 'gallery': 4822, 'gallo': 4823, 'gallon': 4824, 'galway': 4825, 'gam': 4826, 'gambia': 4827, 'gamble': 4828, 'gambling': 4829, 'game': 4830, 'gamer': 4831, 'games': 4832, 'gaming': 4833, 'gamp': 4834, 'gang': 4835, 'ganja': 4836, 'gap': 4837, 'garage': 4838, 'garbage': 4839, 'garcia': 4840, 'garda': 4841, 'gardai': 4842, 'garden': 4843, 'gardener': 4844, 'gardening': 4845, 'garland': 4846, 'garlic': 4847, 'garri': 4848, 'garu': 4849, 'garwood': 4850, 'gary': 4851, 'gas': 4852, 'gasoline': 4853, 'gate': 4854, 'gates': 4855, 'gathe': 4856, 'gather': 4857, 'gatherer': 4858, 'gathering': 4859, 'gauge': 4860, 'gauging': 4861, 'gaurd': 4862, 'gauteng': 4863, 'gavin': 4864, 'gavrillo': 4865, 'gaw': 4866, 'gawd': 4867, 'gaya': 4868, 'gaym': 4869, 'gaynor': 4870, 'gaza': 4871, 'gazette': 4872, 'gb': 4873, 'gbfb': 4874, 'gbp': 4875, 'gc': 4876, 'gcc': 4877, 'gcgx': 4878, 'gcw': 4879, 'gdp': 4880, 'gear': 4881, 'gearhard': 4882, 'geez': 4883, 'geico': 4884, 'gel': 4885, 'gelkid': 4886, 'gelml': 4887, 'gender': 4888, 'gene': 4889, 'general': 4890, 'generally': 4891, 'generals': 4892, 'generate': 4893, 'generation': 4894, 'generational': 4895, 'generationdefining': 4896, 'generic': 4897, 'generosity': 4898, 'generous': 4899, 'genetic': 4900, 'genius': 4901, 'geniuse': 4902, 'genocide': 4903, 'genomic': 4904, 'genre': 4905, 'gentleman': 4906, 'genuine': 4907, 'genuinely': 4908, 'geographic': 4909, 'geography': 4910, 'geoi': 4911, 'geopolitical': 4912, 'george': 4913, 'georgia': 4914, 'georgian': 4915, 'germ': 4916, 'german': 4917, 'germany': 4918, 'germanys': 4919, 'germicidal': 4920, 'germiest': 4921, 'germy': 4922, 'gestern': 4923, 'gesture': 4924, 'gestuurd': 4925, 'get': 4926, 'getaway': 4927, 'gets': 4928, 'getteste': 4929, 'gettin': 4930, 'getting': 4931, 'gettn': 4932, 'gewesen': 4933, 'gezondheid': 4934, 'gf': 4935, 'gfc': 4936, 'gfest': 4937, 'gfk': 4938, 'ggsm': 4939, 'gh': 4940, 'ghana': 4941, 'ghanaian': 4942, 'ghandi': 4943, 'ghodrati': 4944, 'ghost': 4945, 'gianourmous': 4946, 'giant': 4947, 'giantamp': 4948, 'gift': 4949, 'giftor': 4950, 'gifts': 4951, 'gig': 4952, 'gigantic': 4953, 'giggle': 4954, 'gild': 4955, 'gimme': 4956, 'gin': 4957, 'ginger': 4958, 'gingerlemon': 4959, 'ginning': 4960, 'gird': 4961, 'girl': 4962, 'girlfriend': 4963, 'gitmo': 4964, 'give': 4965, 'giveaway': 4966, 'gives': 4967, 'giving': 4968, 'gl': 4969, 'glad': 4970, 'glasgow': 4971, 'glass': 4972, 'glasto': 4973, 'gld': 4974, 'gleaners': 4975, 'glencore': 4976, 'glimmer': 4977, 'glimpse': 4978, 'glitch': 4979, 'gliumedia': 4980, 'global': 4981, 'globaldata': 4982, 'globalisation': 4983, 'globalised': 4984, 'globalism': 4985, 'globalized': 4986, 'globally': 4987, 'globe': 4988, 'gloom': 4989, 'glory': 4990, 'glove': 4991, 'gloves': 4992, 'glut': 4993, 'gluten': 4994, 'glutenfree': 4995, 'glycerin': 4996, 'gm': 4997, 'gma': 4998, 'gmail': 4999, 'gmp': 5000, 'gmv': 5001, 'gnight': 5002, 'go': 5003, 'goal': 5004, 'goat': 5005, 'gobble': 5006, 'gobeba': 5007, 'gobsmacke': 5008, 'god': 5009, 'godown': 5010, 'godpanic': 5011, 'godrej': 5012, 'goes': 5013, 'goggle': 5014, 'goi': 5015, 'goibibo': 5016, 'going': 5017, 'goingcome': 5018, 'gojo': 5019, 'gok': 5020, 'golan': 5021, 'gold': 5022, 'golden': 5023, 'goldsbrough': 5024, 'golf': 5025, 'gomez': 5026, 'gon': 5027, 'gona': 5028, 'gone': 5029, 'gonzale': 5030, 'good': 5031, 'goodbad': 5032, 'goodbye': 5033, 'goodie': 5034, 'goodies': 5035, 'goodness': 5036, 'goods': 5037, 'goodscommoditie': 5038, 'goodwill': 5039, 'goody': 5040, 'google': 5041, 'goon': 5042, 'gop': 5043, 'gorollick': 5044, 'gosh': 5045, 'goshhhhhhh': 5046, 'goss': 5047, 'got': 5048, 'gotcha': 5049, 'goto': 5050, 'gouge': 5051, 'gouged': 5052, 'gouger': 5053, 'gouging': 5054, 'gougingbut': 5055, 'gougingmarke': 5056, 'gould': 5057, 'gourav': 5058, 'gourmet': 5059, 'gout': 5060, 'gov': 5061, \"gov't\": 5062, 'goverment': 5063, 'govern': 5064, 'governance': 5065, 'government': 5066, 'governmentmandate': 5067, 'governmentpeople': 5068, 'governments': 5069, 'governor': 5070, 'governors': 5071, 'govt': 5072, 'govtguaranteed': 5073, 'govts': 5074, 'gown': 5075, 'gowns': 5076, 'gp': 5077, 'gps': 5078, 'gr': 5079, 'gra': 5080, 'grab': 5081, 'grace': 5082, 'graciously': 5083, 'grade': 5084, 'gradefake': 5085, 'gradual': 5086, 'gradually': 5087, 'graduate': 5088, 'graduation': 5089, 'graeme': 5090, 'graham': 5091, 'grahamelucas': 5092, 'grain': 5093, 'gram': 5094, 'grammar': 5095, 'grand': 5096, 'grandad': 5097, 'grandchild': 5098, 'grandma': 5099, 'grandmother': 5100, 'grandpa': 5101, 'grandparent': 5102, 'grandson': 5103, 'grant': 5104, 'grape': 5105, 'graphic': 5106, 'graphical': 5107, 'graphichow': 5108, 'grapple': 5109, 'grass': 5110, 'grateful': 5111, 'gratitude': 5112, 'gratuitous': 5113, 'grave': 5114, 'graveside': 5115, 'graveyard': 5116, 'gravity': 5117, 'gravy': 5118, 'graydon': 5119, 'graze': 5120, 'great': 5121, 'greater': 5122, 'greatliterally': 5123, 'greatly': 5124, 'greece': 5125, 'greed': 5126, 'greedmahatma': 5127, 'greedy': 5128, 'green': 5129, 'greenbelt': 5130, 'greengro': 5131, 'greengrocer': 5132, 'greenhouse': 5133, 'greenlight': 5134, 'greenlit': 5135, 'greenville': 5136, 'greenwich': 5137, 'greet': 5138, 'greeter': 5139, 'greg': 5140, 'gremlin': 5141, 'grid': 5142, 'gridlock': 5143, 'grievance': 5144, 'grieve': 5145, 'grifters': 5146, 'grill': 5147, 'grim': 5148, 'grind': 5149, 'grip': 5150, 'groan': 5151, 'groc': 5152, 'grocer': 5153, 'groceries': 5154, 'groceriesdeliverie': 5155, 'grocers': 5156, 'grocery': 5157, 'grocerydeli': 5158, 'grocerydrug': 5159, 'grocerypharmacy': 5160, 'grocey': 5161, 'grofer': 5162, 'grofers': 5163, 'gropods': 5164, 'gross': 5165, 'grossly': 5166, 'groucho': 5167, 'ground': 5168, 'groundbreaking': 5169, 'group': 5170, 'groups': 5171, 'grow': 5172, 'growing': 5173, 'growth': 5174, 'grr': 5175, 'gs': 5176, 'gst': 5177, 'gt': 5178, 'gta': 5179, 'gtbank': 5180, 'gtgt': 5181, 'gtgtgt': 5182, 'guanguancnsphoto': 5183, 'guarantee': 5184, 'guard': 5185, 'guardian': 5186, 'guardiola': 5187, 'guards': 5188, 'gucci': 5189, 'gud': 5190, 'guelph': 5191, 'guess': 5192, 'guest': 5193, 'guidance': 5194, 'guide': 5195, 'guideline': 5196, 'guidelines': 5197, 'guillotines': 5198, 'guilty': 5199, 'guinea': 5200, 'guise': 5201, 'guitar': 5202, 'gujarati': 5203, 'gujaratis': 5204, 'gulf': 5205, 'gulzar': 5206, 'gum': 5207, 'gummy': 5208, 'gump': 5209, 'gun': 5210, 'gunpowder': 5211, 'guns': 5212, 'gunsammo': 5213, 'gupta': 5214, 'gurugram': 5215, 'guss': 5216, 'gust': 5217, 'gutless': 5218, 'guy': 5219, 'guysi': 5220, 'guyzz': 5221, 'gvt': 5222, 'gwala': 5223, 'gym': 5224, 'gyms': 5225, 'h': 5226, 'ha': 5227, 'haaibo': 5228, 'habe': 5229, 'habit': 5230, 'habitat': 5231, 'habits': 5232, 'habra': 5233, 'hack': 5234, 'hacker': 5235, 'hackin': 5236, 'hadn': 5237, 'hagan': 5238, 'haggle': 5239, 'haha': 5240, 'hahahah': 5241, 'hahahaha': 5242, 'hahahahahaha': 5243, 'hai': 5244, 'haiku': 5245, 'hail': 5246, 'hair': 5247, 'hairbrush': 5248, 'hairdresser': 5249, 'hairnet': 5250, 'hairs': 5251, 'hakle': 5252, 'hal': 5253, 'halal': 5254, 'half': 5255, 'halfhour': 5256, 'halfway': 5257, 'haliburton': 5258, 'hall': 5259, 'hallelujah': 5260, 'hallock': 5261, 'halloween': 5262, 'hallway': 5263, 'halt': 5264, 'halting': 5265, 'halve': 5266, 'halving': 5267, 'ham': 5268, 'hamburger': 5269, 'hamilton': 5270, 'hamm': 5271, 'hammer': 5272, 'hammering': 5273, 'hamper': 5274, 'hamps': 5275, 'hampton': 5276, 'hamster': 5277, 'hamstere': 5278, 'hamsterkauf': 5279, 'han': 5280, 'hancock': 5281, 'hand': 5282, 'handbag': 5283, 'handful': 5284, 'handgel': 5285, 'handhe': 5286, 'handheld': 5287, 'handle': 5288, 'handles': 5289, 'handling': 5290, 'handmaid': 5291, 'handout': 5292, 'hands': 5293, 'handsanitise': 5294, 'handsanitizer': 5295, 'handshake': 5296, 'handvana': 5297, 'handwash': 5298, 'handwashing': 5299, 'handy': 5300, 'haneda': 5301, 'hang': 5302, 'hanger': 5303, 'hangnail': 5304, 'hangout': 5305, 'hannafin': 5306, 'hanoi': 5307, 'hanuman': 5308, 'happen': 5309, 'happens': 5310, 'happily': 5311, 'happy': 5312, 'har': 5313, 'haram': 5314, 'harass': 5315, 'harbour': 5316, 'hard': 5317, 'hardcore': 5318, 'hardeson': 5319, 'hardhit': 5320, 'hardly': 5321, 'hardship': 5322, 'hardware': 5323, 'hardworke': 5324, 'hardworking': 5325, 'hardy': 5326, 'harelsons': 5327, 'harewood': 5328, 'harm': 5329, 'harmful': 5330, 'harmony': 5331, 'harold': 5332, 'harper': 5333, 'harrow': 5334, 'harrr': 5335, 'harsh': 5336, 'harshly': 5337, 'harvest': 5338, 'harvester': 5339, 'harvesting': 5340, 'harvey': 5341, 'hashtag': 5342, 'hasn': 5343, 'hassle': 5344, 'hasta': 5345, 'hasten': 5346, 'haswa': 5347, 'hat': 5348, 'hate': 5349, 'hateful': 5350, 'hater': 5351, 'hatfield': 5352, 'hatred': 5353, 'hats': 5354, 'haul': 5355, 'haulage': 5356, 'haunt': 5357, 'have': 5358, 'haven': 5359, 'havenot': 5360, 'havin': 5361, 'having': 5362, 'havoc': 5363, 'hawaii': 5364, 'hawaiian': 5365, 'hawk': 5366, 'hawkins': 5367, 'hayfever': 5368, 'haysss': 5369, 'hazard': 5370, 'hazardous': 5371, 'hazardpay': 5372, 'hazemat': 5373, 'hazmat': 5374, 'hazzard': 5375, 'hbu': 5376, 'hca': 5377, 'hct': 5378, 'hd': 5379, 'head': 5380, 'headache': 5381, 'headband': 5382, 'headin': 5383, 'headlight': 5384, 'headline': 5385, 'headquarters': 5386, 'headset': 5387, 'heal': 5388, 'health': 5389, 'healthcare': 5390, 'healthvana': 5391, 'healthwearing': 5392, 'healthwise': 5393, 'healthworker': 5394, 'healthy': 5395, 'heaps': 5396, 'hear': 5397, 'heardddddd': 5398, 'hearing': 5399, 'heart': 5400, 'heartbreak': 5401, 'heartbreake': 5402, 'heartbreaking': 5403, 'heartbroken': 5404, 'heartfelt': 5405, 'heartwarme': 5406, 'heartwarming': 5407, 'heat': 5408, 'heater': 5409, 'heath': 5410, 'heather': 5411, 'heating': 5412, 'heatmap': 5413, 'heaux': 5414, 'heaven': 5415, 'heavenly': 5416, 'heavily': 5417, 'heavy': 5418, 'heb': 5419, 'heck': 5420, 'hectic': 5421, 'hedge': 5422, 'hedger': 5423, 'heed': 5424, 'heel': 5425, 'heeley': 5426, 'hefty': 5427, 'height': 5428, 'heighten': 5429, 'heightened': 5430, 'heights': 5431, 'heijn': 5432, 'heineken': 5433, 'heinenesser': 5434, 'heist': 5435, 'helicopter': 5436, 'hell': 5437, 'hello': 5438, 'hellosir': 5439, 'helmet': 5440, 'help': 5441, 'helped': 5442, 'helper': 5443, 'helpful': 5444, 'helping': 5445, 'helppppp': 5446, 'helps': 5447, 'hemp': 5448, 'hen': 5449, 'hena': 5450, 'henleaze': 5451, 'henry': 5452, 'henryk': 5453, 'herald': 5454, 'herb': 5455, 'herbal': 5456, 'herd': 5457, 'here': 5458, 'heres': 5459, 'herethe': 5460, 'herher': 5461, 'heri': 5462, 'heritage': 5463, 'hermanita': 5464, 'hermes': 5465, 'hernandez': 5466, 'hero': 5467, 'heroes': 5468, 'heroic': 5469, 'heroism': 5470, 'hertfordshire': 5471, 'hervey': 5472, 'heshe': 5473, 'hesitate': 5474, 'hesitation': 5475, 'hessen': 5476, 'het': 5477, 'hey': 5478, 'hgv': 5479, 'hi': 5480, 'hiace': 5481, 'hibiscus': 5482, 'hickey': 5483, 'hidden': 5484, 'hide': 5485, 'hideous': 5486, 'hifi': 5487, 'high': 5488, 'highdemand': 5489, 'highend': 5490, 'higher': 5491, 'highfalutin': 5492, 'highlander': 5493, 'highlight': 5494, 'highlights': 5495, 'highly': 5496, 'highness': 5497, 'highrisk': 5498, 'highticket': 5499, 'hightransactionsize': 5500, 'highway': 5501, 'higinico': 5502, 'hiiii': 5503, 'hij': 5504, 'hijack': 5505, 'hike': 5506, 'hiked': 5507, 'hiking': 5508, 'hilarious': 5509, 'hill': 5510, 'hillary': 5511, 'hills': 5512, 'hillside': 5513, 'hillyeah': 5514, 'hind': 5515, 'hindrance': 5516, 'hindustan': 5517, 'hinshaw': 5518, 'hint': 5519, 'hippie': 5520, 'hire': 5521, 'hirst': 5522, 'historian': 5523, 'historic': 5524, 'historical': 5525, 'historically': 5526, 'history': 5527, 'hit': 5528, 'hitman': 5529, 'hits': 5530, 'hk': 5531, 'hlor': 5532, 'hmm': 5533, 'hmmm': 5534, 'hmmmm': 5535, 'hmmmmmmm': 5536, 'hmpstkaf': 5537, 'hmv': 5538, 'hn': 5539, 'ho': 5540, 'hoader': 5541, 'hoard': 5542, 'hoardbut': 5543, 'hoarder': 5544, 'hoarders': 5545, 'hoarding': 5546, 'hoardingvirus': 5547, 'hoardnado': 5548, 'hoax': 5549, 'hobbies': 5550, 'hobby': 5551, 'hoboken': 5552, 'hobokens': 5553, 'hoc': 5554, 'hoe': 5555, 'hofbrauhaus': 5556, 'hoglet': 5557, 'hokianga': 5558, 'hokum': 5559, 'holbrook': 5560, 'hold': 5561, 'holder': 5562, 'holding': 5563, 'hole': 5564, 'holesinsky': 5565, 'holiday': 5566, 'holistic': 5567, 'holla': 5568, 'hollywood': 5569, 'holm': 5570, 'holy': 5571, 'home': 5572, 'homeaid': 5573, 'homebaker': 5574, 'homebody': 5575, 'homebound': 5576, 'homecooking': 5577, 'homeforce': 5578, 'homefront': 5579, 'homei': 5580, 'homeif': 5581, 'homeland': 5582, 'homeless': 5583, 'homelessness': 5584, 'homemade': 5585, 'homemadeavailable': 5586, 'homeowner': 5587, 'homes': 5588, 'homestead': 5589, 'hometown': 5590, 'homework': 5591, 'homeworkoffice': 5592, 'homie': 5593, 'hon': 5594, \"hon'ble\": 5595, 'honest': 5596, 'honestly': 5597, 'honey': 5598, 'honeymoon': 5599, 'hong': 5600, 'honge': 5601, 'honolulu': 5602, 'honor': 5603, 'honorable': 5604, 'honour': 5605, 'honours': 5606, 'hood': 5607, 'hooded': 5608, 'hook': 5609, 'hooman': 5610, 'hooray': 5611, 'hoosier': 5612, 'hoosiers': 5613, 'hoover': 5614, 'hop': 5615, 'hope': 5616, 'hopeful': 5617, 'hopefully': 5618, 'hopeometer': 5619, 'hopes': 5620, 'hor': 5621, 'horde': 5622, 'horder': 5623, 'hordes': 5624, 'hording': 5625, 'horizon': 5626, 'horn': 5627, 'horrendous': 5628, 'horrible': 5629, 'horribly': 5630, 'horrified': 5631, 'horrify': 5632, 'horse': 5633, 'hose': 5634, 'hospital': 5635, 'hospitalise': 5636, 'hospitality': 5637, 'hospitalize': 5638, 'hospitals': 5639, 'hosseini': 5640, 'host': 5641, 'hosta': 5642, 'hostess': 5643, 'hot': 5644, 'hotcake': 5645, 'hotel': 5646, 'hoteliers': 5647, 'hotels': 5648, 'hotelsflight': 5649, 'hoti': 5650, 'hotline': 5651, 'hotlink': 5652, 'hotspot': 5653, 'hottest': 5654, 'hound': 5655, 'hour': 5656, 'hourly': 5657, 'hours': 5658, 'hoursmin': 5659, 'house': 5660, 'housebound': 5661, 'household': 5662, 'housepassed': 5663, 'houseplant': 5664, 'housing': 5665, 'houston': 5666, 'hover': 5667, 'hoverboard': 5668, 'howard': 5669, 'howdy': 5670, 'howevr': 5671, 'howto': 5672, 'hq': 5673, 'hr': 5674, 'hrs': 5675, 'hrsday': 5676, 'hse': 5677, 'ht': 5678, \"ht'd\": 5679, 'http': 5680, 'hu': 5681, 'huang': 5682, 'hub': 5683, 'hubby': 5684, 'hubbys': 5685, 'hubei': 5686, 'hubs': 5687, 'huddle': 5688, 'hudson': 5689, 'huffpost': 5690, 'hug': 5691, 'huge': 5692, 'hugely': 5693, 'huh': 5694, 'hui': 5695, 'huis': 5696, 'hul': 5697, 'hull': 5698, 'hum': 5699, 'human': 5700, 'humanatm': 5701, 'humanity': 5702, 'humans': 5703, 'humansvirus': 5704, 'humble': 5705, 'humidor': 5706, 'humiliation': 5707, 'humor': 5708, 'humorous': 5709, 'humour': 5710, 'hunch': 5711, 'hundred': 5712, 'hunger': 5713, 'hungry': 5714, 'hunker': 5715, 'hunt': 5716, 'hunter': 5717, 'huntsman': 5718, 'hurdle': 5719, 'hurricane': 5720, 'hurry': 5721, 'hurst': 5722, 'hurt': 5723, 'hurtin': 5724, 'husain': 5725, 'husband': 5726, 'husbanda': 5727, 'hustle': 5728, 'husumbua': 5729, 'hut': 5730, 'hv': 5731, 'hvac': 5732, 'hw': 5733, 'hyd': 5734, 'hyderabad': 5735, 'hyderabadi': 5736, 'hydesmith': 5737, 'hydoxychloroquine': 5738, 'hydrate': 5739, 'hydration': 5740, 'hydro': 5741, 'hydroclean': 5742, 'hydrogen': 5743, 'hydroxychloroquine': 5744, 'hydroxycoroquine': 5745, 'hygiene': 5746, 'hygienic': 5747, 'hymn': 5748, 'hyperdrive': 5749, 'hyperinflation': 5750, 'hyperlink': 5751, 'hyperlocal': 5752, 'hypermarket': 5753, 'hypermarkets': 5754, 'hyphenated': 5755, 'hypochlorite': 5756, 'hypocrisy': 5757, 'hypocrite': 5758, 'hypothesis': 5759, 'hysteria': 5760, 'hyvee': 5761, \"i've\": 5762, 'ibadan': 5763, 'ibm': 5764, 'ibuprofen': 5765, 'ice': 5766, 'icecream': 5767, 'iceland': 5768, 'icert': 5769, 'icis': 5770, 'iconic': 5771, 'ics': 5772, 'icu': 5773, 'icw': 5774, 'icymi': 5775, 'id': 5776, 'idaho': 5777, 'idahoans': 5778, 'idc': 5779, 'idea': 5780, 'ideal': 5781, 'idealists': 5782, 'ideally': 5783, 'ideas': 5784, 'idell': 5785, 'identical': 5786, 'identification': 5787, 'identify': 5788, 'identity': 5789, 'idiot': 5790, 'idiotic': 5791, 'idiots': 5792, 'idiotsamp': 5793, 'idiotsb': 5794, 'idk': 5795, 'idle': 5796, \"idon'tgive\": 5797, 'ie': 5798, 'iffat': 5799, 'ifollow': 5800, 'iftar': 5801, 'ig': 5802, 'iga': 5803, 'igen': 5804, 'iggeneristouch': 5805, 'ignis': 5806, 'ignite': 5807, 'ignorance': 5808, 'ignorant': 5809, 'ignore': 5810, 'ihomecctv': 5811, 'ihre': 5812, 'ii': 5813, 'iic': 5814, 'iit': 5815, 'ijs': 5816, 'ikea': 5817, 'ikedaflynn': 5818, 'ilhali': 5819, 'ill': 5820, 'illcalle': 5821, 'illegal': 5822, 'illinois': 5823, 'illness': 5824, 'illnesse': 5825, 'illusion': 5826, 'illustrate': 5827, 'illustrative': 5828, 'ilorin': 5829, 'ilr': 5830, 'im': 5831, 'image': 5832, 'images': 5833, 'imaginable': 5834, 'imagine': 5835, 'imam': 5836, 'imcrese': 5837, 'imee': 5838, 'imf': 5839, 'img': 5840, 'imma': 5841, 'immediate': 5842, 'immediately': 5843, 'immense': 5844, 'immigrant': 5845, 'immigration': 5846, 'imminent': 5847, 'imminently': 5848, 'immoral': 5849, 'immune': 5850, 'immunecompromise': 5851, 'immunity': 5852, 'immunocompromise': 5853, 'imo': 5854, 'imodium': 5855, 'impact': 5856, 'impactful': 5857, 'impacting': 5858, 'impactingexpect': 5859, 'impacts': 5860, 'impair': 5861, 'impatient': 5862, 'impede': 5863, 'impending': 5864, 'imperative': 5865, 'imperial': 5866, 'implement': 5867, 'implementation': 5868, 'implication': 5869, 'implicit': 5870, 'implmte': 5871, 'implore': 5872, 'imply': 5873, 'import': 5874, 'importance': 5875, 'important': 5876, 'importantly': 5877, 'importer': 5878, 'impose': 5879, 'impossible': 5880, 'imposter': 5881, 'impoverished': 5882, 'impressed': 5883, 'impression': 5884, 'improve': 5885, 'improvement': 5886, 'improvise': 5887, 'imran': 5888, 'in': 5889, 'ina': 5890, 'inadan': 5891, 'inadequate': 5892, 'inbetween': 5893, 'inbox': 5894, 'inboxe': 5895, 'inc': 5896, 'incarcerated': 5897, 'incarceration': 5898, 'incentive': 5899, 'inch': 5900, 'incidence': 5901, 'incident': 5902, 'incidentally': 5903, 'incite': 5904, 'incl': 5905, 'inclination': 5906, 'incline': 5907, 'include': 5908, 'includin': 5909, 'inclusive': 5910, 'income': 5911, 'incomeearne': 5912, 'incoming': 5913, 'incompetent': 5914, 'inconsiderate': 5915, 'inconsistency': 5916, 'inconvenienc': 5917, 'inconvenience': 5918, 'inconvenient': 5919, 'incorporate': 5920, 'incorrectly': 5921, 'increase': 5922, 'increased': 5923, 'increasedmaterialise': 5924, 'increases': 5925, 'increasethe': 5926, 'increasingly': 5927, 'incredible': 5928, 'incredibly': 5929, 'increment': 5930, 'incrse': 5931, 'incur': 5932, 'ind': 5933, 'indane': 5934, 'indefinite': 5935, 'indefinitely': 5936, 'indemand': 5937, 'independant': 5938, 'independence': 5939, 'independent': 5940, 'independently': 5941, 'indepth': 5942, 'index': 5943, 'india': 5944, 'indian': 5945, 'indiana': 5946, 'indianapolis': 5947, 'indias': 5948, 'indicate': 5949, 'indication': 5950, 'indicationchallenge': 5951, 'indicative': 5952, 'indicator': 5953, 'indie': 5954, 'indirect': 5955, 'indispensable': 5956, 'individual': 5957, 'individualism': 5958, 'individualistic': 5959, 'indonesia': 5960, 'indonesian': 5961, 'indoor': 5962, 'indoors': 5963, 'indra': 5964, 'inds': 5965, 'induce': 5966, 'indulge': 5967, 'industrial': 5968, 'industrialist': 5969, 'industrialize': 5970, 'industrie': 5971, 'industries': 5972, 'industry': 5973, 'inefficiency': 5974, 'inelastic': 5975, 'ineligible': 5976, 'inept': 5977, 'ineptitude': 5978, 'inequalitie': 5979, 'inequality': 5980, 'inequitable': 5981, 'inequity': 5982, 'inevitable': 5983, 'inevitably': 5984, 'inews': 5985, 'inexpensive': 5986, 'inexplicable': 5987, 'infamous': 5988, 'infant': 5989, 'infarm': 5990, 'infect': 5991, 'infected': 5992, 'infection': 5993, 'infectionour': 5994, 'infectious': 5995, 'inffecte': 5996, 'infinitely': 5997, 'inflammatory': 5998, 'inflatable': 5999, 'inflate': 6000, 'inflated': 6001, 'inflation': 6002, 'inflationary': 6003, 'inflationincrease': 6004, 'inflection': 6005, 'inflict': 6006, 'inflight': 6007, 'influence': 6008, 'influencer': 6009, 'influenza': 6010, 'info': 6011, 'infographic': 6012, 'inforegarde': 6013, 'inform': 6014, 'informal': 6015, 'information': 6016, 'informative': 6017, 'informed': 6018, 'infowars': 6019, 'infra': 6020, 'infrared': 6021, 'infrastructure': 6022, 'infuriate': 6023, 'infuse': 6024, 'ing': 6025, 'ingenious': 6026, 'ingest': 6027, 'ingestion': 6028, 'ingot': 6029, 'ingredient': 6030, 'inhabitant': 6031, 'inhale': 6032, 'inhaler': 6033, 'inhofe': 6034, 'inhome': 6035, 'inhuman': 6036, 'inhumane': 6037, 'inhumanely': 6038, 'inhumanity': 6039, 'initial': 6040, 'initially': 6041, 'initiate': 6042, 'initiative': 6043, 'initiativeswhich': 6044, 'inject': 6045, 'injection': 6046, 'injustice': 6047, 'ink': 6048, 'inmate': 6049, 'inner': 6050, 'inno': 6051, 'innocent': 6052, 'innocently': 6053, 'innovate': 6054, 'innovation': 6055, 'innovationst': 6056, 'innovative': 6057, 'innovatively': 6058, 'inoculate': 6059, 'inperson': 6060, 'input': 6061, 'inquire': 6062, 'inquiry': 6063, 'insane': 6064, 'insanity': 6065, 'insatiable': 6066, 'inseam': 6067, 'insecure': 6068, 'insecurity': 6069, 'insecurityrise': 6070, 'insensitive': 6071, 'inside': 6072, 'insider': 6073, 'insight': 6074, 'insightful': 6075, 'insights': 6076, 'insinuate': 6077, 'insist': 6078, 'inslee': 6079, 'insolvency': 6080, 'insomnia': 6081, 'inspection': 6082, 'inspector': 6083, 'inspectr': 6084, 'inspire': 6085, 'inspite': 6086, 'instability': 6087, 'instacart': 6088, 'instagram': 6089, 'instal': 6090, 'install': 6091, 'installerstechs': 6092, 'installment': 6093, 'instance': 6094, 'instant': 6095, 'instantaneously': 6096, 'instead': 6097, 'instigate': 6098, 'instill': 6099, 'institute': 6100, 'institution': 6101, 'institutional': 6102, 'instore': 6103, 'instruct': 6104, 'instruction': 6105, 'instructor': 6106, 'insufficient': 6107, 'insufficiently': 6108, 'insulin': 6109, 'insult': 6110, 'insur': 6111, 'insurance': 6112, 'insure': 6113, 'insurer': 6114, 'insurers': 6115, 'insurtech': 6116, 'int': 6117, 'intactthe': 6118, 'intake': 6119, 'inte': 6120, 'integrate': 6121, 'integrated': 6122, 'integrity': 6123, 'integritys': 6124, 'intel': 6125, 'intelligence': 6126, 'intelligent': 6127, 'intend': 6128, 'intense': 6129, 'intensifie': 6130, 'intensify': 6131, 'intensive': 6132, 'intentional': 6133, 'intentionally': 6134, 'interact': 6135, 'interaction': 6136, 'interactions': 6137, 'interactive': 6138, 'interceptor': 6139, 'interconnect': 6140, 'intercultural': 6141, 'interest': 6142, 'interested': 6143, 'interesting': 6144, 'interestingly': 6145, 'interim': 6146, 'interior': 6147, 'intermediate': 6148, 'internal': 6149, 'internalize': 6150, 'international': 6151, 'internationally': 6152, 'internet': 6153, 'interpretation': 6154, 'interrupt': 6155, 'interrupted': 6156, 'intersection': 6157, 'interstate': 6158, 'interve': 6159, 'intervene': 6160, 'intervention': 6161, 'interview': 6162, 'inthe': 6163, 'intimate': 6164, 'intimidate': 6165, 'intro': 6166, 'introduce': 6167, 'introverting': 6168, 'intrusive': 6169, 'intubate': 6170, 'inundate': 6171, 'inuvik': 6172, 'inv': 6173, 'invade': 6174, 'invaluable': 6175, 'invent': 6176, 'invention': 6177, 'inventory': 6178, 'invercargill': 6179, 'invest': 6180, 'investigate': 6181, 'investigation': 6182, 'investigative': 6183, 'investigator': 6184, 'investing': 6185, 'investment': 6186, 'investments': 6187, 'investor': 6188, 'invisible': 6189, 'invite': 6190, 'invoke': 6191, 'invokes': 6192, 'involve': 6193, 'ioc': 6194, 'iodine': 6195, 'ion': 6196, 'ionization': 6197, 'iop': 6198, 'ios': 6199, 'iowa': 6200, 'ipa': 6201, 'ipc': 6202, 'iphone': 6203, 'ipo': 6204, 'iprice': 6205, 'ir': 6206, 'ira': 6207, 'iran': 6208, 'iranian': 6209, 'iranians': 6210, 'iraniansampgovt': 6211, 'irans': 6212, 'iraq': 6213, 'ireland': 6214, 'iremedy': 6215, 'irish': 6216, 'irl': 6217, 'irn': 6218, 'iron': 6219, 'ironic': 6220, 'ironically': 6221, 'irony': 6222, 'irradadicate': 6223, 'irrational': 6224, 'irrationality': 6225, 'irrelevant': 6226, 'irresponsible': 6227, 'irritated': 6228, 'irs': 6229, 'irwintoy': 6230, 'isaac': 6231, 'isaacvisit': 6232, 'ish': 6233, 'ishaan': 6234, 'islamabad': 6235, 'island': 6236, 'islands': 6237, 'isle': 6238, 'isn': 6239, 'isolat': 6240, 'isolate': 6241, 'isolated': 6242, 'isolatedelderly': 6243, 'isolating': 6244, 'isolation': 6245, 'isolationshe': 6246, 'isolator': 6247, 'isopropyl': 6248, 'israel': 6249, 'issue': 6250, 'issues': 6251, 'ist': 6252, 'isunless': 6253, 'italia': 6254, 'italian': 6255, 'italians': 6256, 'italy': 6257, 'italyonly': 6258, 'itc': 6259, 'itch': 6260, 'itchey': 6261, 'itchy': 6262, 'item': 6263, 'items': 6264, 'ithacabased': 6265, 'itis': 6266, 'itsupport': 6267, 'itunes': 6268, 'itvwatche': 6269, 'itwhen': 6270, 'iv': 6271, 'ivanka': 6272, 'iymi': 6273, 'j': 6274, 'jack': 6275, 'jacked': 6276, 'jacket': 6277, 'jacking': 6278, 'jackson': 6279, 'jacksonville': 6280, 'jacksonvilles': 6281, 'jagan': 6282, 'jai': 6283, 'jail': 6284, 'jakarta': 6285, 'jake': 6286, 'jalal': 6287, 'jalanalanakanakakak': 6288, 'jalna': 6289, 'james': 6290, 'jamestown': 6291, 'jamie': 6292, 'jammy': 6293, 'jampkpmru': 6294, 'jan': 6295, 'jane': 6296, 'janitor': 6297, 'janitors': 6298, 'janky': 6299, 'janta': 6300, 'january': 6301, 'japan': 6302, 'japanese': 6303, 'jar': 6304, 'jared': 6305, 'jason': 6306, 'jay': 6307, 'jb': 6308, 'jc': 6309, 'jd': 6310, 'jedhha': 6311, 'jeez': 6312, 'jeff': 6313, 'jefferson': 6314, 'jeffrey': 6315, 'jelly': 6316, 'jen': 6317, 'jenkins': 6318, 'jennifer': 6319, 'jennings': 6320, 'jeopardy': 6321, 'jeremy': 6322, 'jerk': 6323, 'jerke': 6324, 'jerky': 6325, 'jerry': 6326, 'jersey': 6327, 'jerseys': 6328, 'jesse': 6329, 'jessejames': 6330, 'jessica': 6331, 'jest': 6332, 'jesus': 6333, 'jet': 6334, 'jetta': 6335, 'jewell': 6336, 'jewelry': 6337, 'jewlsmulan': 6338, 'jharkhand': 6339, 'ji': 6340, 'jiko': 6341, 'jim': 6342, 'jimmy': 6343, 'jinks': 6344, 'jisko': 6345, 'jitin': 6346, 'jk': 6347, 'jn': 6348, 'jo': 6349, 'job': 6350, 'jobless': 6351, 'jobs': 6352, 'jobscareer': 6353, 'jobsthis': 6354, 'jobstollbooth': 6355, 'joburg': 6356, 'jock': 6357, 'jockstrap': 6358, 'joe': 6359, 'joes': 6360, 'jog': 6361, 'jogger': 6362, 'johannesburg': 6363, 'john': 6364, 'johnson': 6365, 'johnston': 6366, 'johor': 6367, 'join': 6368, 'joint': 6369, 'joke': 6370, 'joker': 6371, 'jokes': 6372, 'jokingly': 6373, 'jolly': 6374, 'jones': 6375, 'jongen': 6376, 'joomye': 6377, 'jordan': 6378, 'jordanians': 6379, 'jordans': 6380, 'jose': 6381, 'joseph': 6382, 'josh': 6383, 'joshua': 6384, 'jostle': 6385, 'jot': 6386, 'joule': 6387, 'journal': 6388, 'journalist': 6389, 'journey': 6390, 'joy': 6391, 'joyce': 6392, 'jp': 6393, 'jpm': 6394, 'jr': 6395, 'jse': 6396, 'jt': 6397, 'ju': 6398, 'judd': 6399, 'judge': 6400, 'judgement': 6401, 'judgmental': 6402, 'jug': 6403, 'juice': 6404, 'jukebox': 6405, 'julia': 6406, 'julii': 6407, 'july': 6408, 'jumanji': 6409, 'jumia': 6410, 'jump': 6411, 'jumpedwhy': 6412, 'jumps': 6413, 'jumpsuit': 6414, 'jun': 6415, 'june': 6416, 'junior': 6417, 'junk': 6418, 'junnov': 6419, 'jus': 6420, 'juscome': 6421, 'justice': 6422, 'justifiable': 6423, 'justify': 6424, 'jvvnl': 6425, 'jwn': 6426, 'jyot': 6427, 'k': 6428, 'kabhi': 6429, 'kada': 6430, 'kagan': 6431, 'kagwe': 6432, 'kaikohe': 6433, 'kaise': 6434, 'kaizer': 6435, 'kakana': 6436, 'kakoza': 6437, 'kal': 6438, 'kale': 6439, 'kalie': 6440, 'kallang': 6441, 'kally': 6442, 'kam': 6443, 'kama': 6444, 'kamiyab': 6445, 'kamloops': 6446, 'kampala': 6447, 'kampung': 6448, 'kano': 6449, 'kanoa': 6450, 'kansans': 6451, 'kansas': 6452, 'kanti': 6453, 'karachi': 6454, 'karen': 6455, 'karina': 6456, 'karma': 6457, 'karnataka': 6458, 'karte': 6459, 'karwick': 6460, 'kasie': 6461, 'kat': 6462, 'kate': 6463, 'kathryn': 6464, 'kathy': 6465, 'katie': 6466, 'katrincics': 6467, 'katsinawa': 6468, 'katunayake': 6469, 'kavacik': 6470, 'kavango': 6471, 'kay': 6472, 'kaya': 6473, 'kazakhstan': 6474, 'kcr': 6475, 'kcups': 6476, 'kddr': 6477, 'ke': 6478, 'kedaceramicsghanaandsundainternationaldealersinfastmovingconsumergoodshavedonatedfivehundredthousandghanacedisghc': 6479, 'keells': 6480, 'keen': 6481, 'keep': 6482, 'keeper': 6483, 'keepers': 6484, 'keeping': 6485, 'keg': 6486, 'kelly': 6487, 'kelowna': 6488, 'kelsie': 6489, 'kemp': 6490, 'kempston': 6491, 'kena': 6492, 'kenilworth': 6493, 'kenneth': 6494, 'kenney': 6495, 'kentucky': 6496, 'kenya': 6497, 'kenyan': 6498, 'kenyans': 6499, 'kenyatta': 6500, 'kerala': 6501, 'kerosense': 6502, 'kerzner': 6503, 'ketchup': 6504, 'kevin': 6505, 'key': 6506, 'keyfoodmilford': 6507, 'keypad': 6508, 'keystone': 6509, 'keyworker': 6510, 'keyworkers': 6511, 'kezelee': 6512, 'kfc': 6513, 'kfdmfox': 6514, 'kg': 6515, 'khaao': 6516, 'khaki': 6517, 'khamenei': 6518, 'khan': 6519, 'khanom': 6520, 'khc': 6521, 'khoelcher': 6522, 'khopoli': 6523, 'khwani': 6524, 'ki': 6525, 'kia': 6526, 'kiasi': 6527, 'kick': 6528, 'kicking': 6529, 'kid': 6530, 'kidda': 6531, 'kidnap': 6532, 'kidney': 6533, 'kids': 6534, 'kidston': 6535, 'kidthat': 6536, 'kigali': 6537, 'kijiji': 6538, 'kilburn': 6539, 'kildee': 6540, 'kill': 6541, 'killer': 6542, 'killerkyl': 6543, 'killing': 6544, 'kills': 6545, 'kilo': 6546, 'kilogram': 6547, 'kilometer': 6548, 'kilowatt': 6549, 'kim': 6550, 'kin': 6551, 'kina': 6552, 'kind': 6553, 'kinda': 6554, 'kinder': 6555, 'kindle': 6556, 'kindly': 6557, 'kindness': 6558, 'king': 6559, 'kingdom': 6560, 'kinyarwandai': 6561, 'kipling': 6562, 'kira': 6563, 'kirana': 6564, 'kiranawala': 6565, 'kiri': 6566, 'kirill': 6567, 'kisi': 6568, 'kismenti': 6569, 'kiss': 6570, 'kissel': 6571, 'kissinger': 6572, 'kit': 6573, 'kitchen': 6574, 'kitco': 6575, 'kitengela': 6576, 'kites': 6577, 'kits': 6578, 'kitten': 6579, 'kitty': 6580, 'kiwi': 6581, 'kiwis': 6582, 'kj': 6583, 'kk': 6584, 'klang': 6585, 'klant': 6586, 'kleenex': 6587, 'klen': 6588, 'km': 6589, 'kma': 6590, 'kmb': 6591, 'kn': 6592, 'knaul': 6593, 'knee': 6594, 'knife': 6595, 'knight': 6596, 'knit': 6597, 'knn': 6598, 'knock': 6599, 'know': 6600, 'knowing': 6601, 'knowledge': 6602, 'known': 6603, 'knowthat': 6604, 'ko': 6605, 'kobil': 6606, 'koboko': 6607, 'kodali': 6608, 'koi': 6609, 'kong': 6610, 'konnten': 6611, 'koolaid': 6612, 'kootenaycolumbia': 6613, 'korbut': 6614, 'korea': 6615, 'koreans': 6616, 'koronaso': 6617, 'kosovo': 6618, 'kozak': 6619, 'kpi': 6620, 'kpk': 6621, 'kpmg': 6622, 'kr': 6623, 'kravitz': 6624, 'kress': 6625, 'krg': 6626, 'kri': 6627, 'krishi': 6628, 'krishna': 6629, 'krisiallen': 6630, 'kristin': 6631, 'kristo': 6632, 'kroger': 6633, 'ksa': 6634, 'ksauae': 6635, 'kse': 6636, 'kstate': 6637, 'ku': 6638, 'kuala': 6639, 'kudo': 6640, 'kung': 6641, 'kupiec': 6642, 'kurana': 6643, 'kurdistan': 6644, 'kurt': 6645, 'kuwait': 6646, 'kwara': 6647, 'kwh': 6648, 'ky': 6649, 'kya': 6650, 'kyiv': 6651, 'kyoto': 6652, 'kyw': 6653, 'l': 6654, \"l'm\": 6655, \"l'oral\": 6656, 'la': 6657, 'lab': 6658, 'labasa': 6659, 'label': 6660, 'labeling': 6661, 'labels': 6662, 'lablaw': 6663, 'labor': 6664, 'laboratoire': 6665, 'laboratory': 6666, 'laborer': 6667, 'labour': 6668, 'labourer': 6669, 'labreport': 6670, 'labyrinth': 6671, 'lacetera': 6672, 'lack': 6673, 'lad': 6674, 'lade': 6675, 'ladies': 6676, 'ladki': 6677, 'ladoj': 6678, 'ladro': 6679, 'lady': 6680, 'lag': 6681, 'lagar': 6682, 'lager': 6683, 'lago': 6684, 'lagos': 6685, 'lagosians': 6686, 'laguh': 6687, 'laguna': 6688, 'lah': 6689, 'lai': 6690, 'laidoff': 6691, 'lake': 6692, 'lakh': 6693, 'lakhs': 6694, 'lalo': 6695, 'lamb': 6696, 'lame': 6697, 'lamp': 6698, 'lancaster': 6699, 'land': 6700, 'landlady': 6701, 'landlord': 6702, 'landon': 6703, 'landscape': 6704, 'landsdesolation': 6705, 'lane': 6706, 'language': 6707, 'lanka': 6708, 'lap': 6709, 'laptop': 6710, 'large': 6711, 'largely': 6712, 'largest': 6713, 'largo': 6714, 'lark': 6715, 'larsen': 6716, 'las': 6717, 'lasagna': 6718, 'laser': 6719, 'lass': 6720, 'last': 6721, 'lasting': 6722, 'lastingeffect': 6723, 'lastly': 6724, 'lastmile': 6725, 'lasttuesday': 6726, 'late': 6727, 'lately': 6728, 'later': 6729, 'lateral': 6730, 'latest': 6731, 'latex': 6732, 'lathicharge': 6733, 'latin': 6734, 'latino': 6735, 'latte': 6736, 'lauder': 6737, 'laugh': 6738, 'laughcry': 6739, 'laughter': 6740, 'launch': 6741, 'launches': 6742, 'laundromat': 6743, 'laundromats': 6744, 'laundry': 6745, 'laura': 6746, 'lauren': 6747, 'lavv': 6748, 'law': 6749, 'lawampregulations': 6750, 'lawmaker': 6751, 'lawn': 6752, 'lawsuit': 6753, 'lawyer': 6754, 'lax': 6755, 'laxman': 6756, 'lay': 6757, 'layed': 6758, 'layer': 6759, 'layoff': 6760, 'layoffs': 6761, 'lazada': 6762, 'lazy': 6763, 'lazzaro': 6764, 'lb': 6765, 'lbs': 6766, 'lcbo': 6767, 'lcs': 6768, 'ldn': 6769, 'le': 6770, 'lead': 6771, 'leader': 6772, 'leadership': 6773, 'league': 6774, 'leak': 6775, 'lean': 6776, 'leap': 6777, 'leapfrog': 6778, 'learn': 6779, 'learning': 6780, 'learnings': 6781, 'lease': 6782, 'leash': 6783, 'leastpaying': 6784, 'leather': 6785, 'leatherette': 6786, 'leathern': 6787, 'leave': 6788, 'leaver': 6789, 'lebanese': 6790, 'lebanon': 6791, 'lecture': 6792, 'lecturer': 6793, 'lee': 6794, 'left': 6795, 'leftno': 6796, 'leftover': 6797, 'leftso': 6798, 'leftwing': 6799, 'leg': 6800, 'legal': 6801, 'legend': 6802, 'legendary': 6803, 'legislation': 6804, 'legislative': 6805, 'legislator': 6806, 'legislature': 6807, 'legit': 6808, 'legitimate': 6809, 'legitimately': 6810, 'legum': 6811, 'leibniz': 6812, 'leicester': 6813, 'leilani': 6814, 'leisure': 6815, 'lele': 6816, 'lemon': 6817, 'lend': 6818, 'lender': 6819, 'lending': 6820, 'length': 6821, 'lengthen': 6822, 'lengthy': 6823, 'lenin': 6824, 'lens': 6825, 'lense': 6826, 'lentil': 6827, 'leo': 6828, 'leonard': 6829, 'lepore': 6830, 'les': 6831, 'lesley': 6832, 'less': 6833, 'lessen': 6834, 'lessening': 6835, 'lessens': 6836, 'lesson': 6837, 'let': 6838, 'lethal': 6839, 'lethality': 6840, 'lets': 6841, 'lett': 6842, 'letter': 6843, 'lettuce': 6844, 'leur': 6845, 'level': 6846, 'levelheaded': 6847, 'levels': 6848, 'lever': 6849, 'leverage': 6850, 'levi': 6851, 'levins': 6852, 'levity': 6853, 'levy': 6854, 'lewis': 6855, 'leyton': 6856, 'leytonstone': 6857, 'lf': 6858, 'lg': 6859, 'lga': 6860, 'li': 6861, 'liable': 6862, 'liar': 6863, 'liars': 6864, 'liases': 6865, 'liason': 6866, 'liberal': 6867, 'liberally': 6868, 'libertarian': 6869, 'library': 6870, 'lic': 6871, 'liccardo': 6872, 'lice': 6873, 'licence': 6874, 'license': 6875, 'licenses': 6876, 'licensing': 6877, 'lick': 6878, 'lidhell': 6879, 'lidl': 6880, 'lie': 6881, 'lies': 6882, 'life': 6883, 'lifebuoy': 6884, 'lifecycle': 6885, 'lifeline': 6886, 'lifesave': 6887, 'lifesaving': 6888, 'lifeso': 6889, 'lifespan': 6890, 'lifestyle': 6891, 'lifestylesupermarket': 6892, 'lifetime': 6893, 'lift': 6894, 'lifting': 6895, 'light': 6896, 'lighting': 6897, 'lightly': 6898, 'ligne': 6899, 'like': 6900, 'likelihood': 6901, 'likely': 6902, 'likeretweet': 6903, 'lil': 6904, 'lilly': 6905, 'limb': 6906, 'limbo': 6907, 'lime': 6908, 'limit': 6909, 'limitation': 6910, 'limited': 6911, 'lina': 6912, 'linde': 6913, 'line': 6914, 'linear': 6915, 'lined': 6916, 'linen': 6917, 'lines': 6918, 'lineshes': 6919, 'linetake': 6920, 'lineup': 6921, 'linger': 6922, 'lining': 6923, 'link': 6924, 'linkage': 6925, 'linkchain': 6926, 'linkedin': 6927, 'links': 6928, 'lion': 6929, 'lions': 6930, 'lip': 6931, 'lipstick': 6932, 'liquefied': 6933, 'liquefy': 6934, 'liquid': 6935, 'liquidate': 6936, 'liquidity': 6937, 'liquor': 6938, 'liric': 6939, 'lisa': 6940, 'lisce': 6941, 'lissone': 6942, 'list': 6943, 'listed': 6944, 'listen': 6945, 'listening': 6946, 'listing': 6947, 'liter': 6948, 'literal': 6949, 'literally': 6950, 'literary': 6951, \"literhaven't\": 6952, 'litigation': 6953, 'litre': 6954, 'litter': 6955, 'little': 6956, 'littleproudmp': 6957, 'liu': 6958, 'live': 6959, 'liveliho': 6960, 'livelihood': 6961, 'livelihoodafter': 6962, 'livelihoodsprecovid': 6963, 'liver': 6964, 'liverpool': 6965, 'lives': 6966, 'livesbut': 6967, 'livestock': 6968, 'livestream': 6969, 'livestreame': 6970, 'living': 6971, 'livonia': 6972, 'lixey': 6973, 'liya': 6974, 'liz': 6975, 'lizard': 6976, 'lizzy': 6977, 'll': 6978, 'llb': 6979, 'lmao': 6980, 'lmaooo': 6981, 'lng': 6982, 'lo': 6983, 'load': 6984, 'loading': 6985, 'loaf': 6986, 'loan': 6987, 'loangrant': 6988, 'loans': 6989, 'loanshark': 6990, 'loathe': 6991, 'loaves': 6992, 'lob': 6993, 'lobby': 6994, 'lobbyist': 6995, 'loblaw': 6996, 'loblaws': 6997, 'lobster': 6998, 'local': 6999, 'locally': 7000, 'locate': 7001, 'location': 7002, 'locations': 7003, 'locaux': 7004, 'loccitane': 7005, 'lock': 7006, 'lockdown': 7007, 'lockdownampkeepe': 7008, 'lockdowns': 7009, 'lockdownsimposed': 7010, 'lockdownugandan': 7011, 'lockdownuh': 7012, 'lockout': 7013, 'locust': 7014, 'lodge': 7015, 'loeffler': 7016, 'log': 7017, 'loggd': 7018, 'logic': 7019, 'login': 7020, 'logistic': 7021, 'logistical': 7022, 'logistics': 7023, 'logo': 7024, 'loitering': 7025, 'lol': 7026, 'lolol': 7027, 'london': 7028, 'londoner': 7029, 'lone': 7030, 'loneliest': 7031, 'lonely': 7032, 'long': 7033, 'longdispute': 7034, 'longerlaste': 7035, 'longerterm': 7036, 'longlived': 7037, 'longoverdue': 7038, 'longterm': 7039, 'longtime': 7040, 'loo': 7041, 'look': 7042, 'lookanother': 7043, 'loom': 7044, 'loon': 7045, 'loooooool': 7046, 'loop': 7047, 'loose': 7048, 'loosen': 7049, 'loot': 7050, 'looter': 7051, 'lord': 7052, 'lordba': 7053, 'lorry': 7054, 'los': 7055, 'lose': 7056, 'loser': 7057, 'losers': 7058, 'loservan': 7059, 'loss': 7060, 'losseshealth': 7061, 'lot': 7062, 'lothians': 7063, 'lotion': 7064, 'lots': 7065, 'lotta': 7066, 'lottery': 7067, 'louder': 7068, 'loudly': 7069, 'louis': 7070, 'louisbased': 7071, 'louise': 7072, 'lounge': 7073, 'lourenco': 7074, 'love': 7075, 'loveampcare': 7076, 'loved': 7077, 'lovely': 7078, 'lover': 7079, 'low': 7080, 'lowdown': 7081, 'loweconomicincomed': 7082, 'lower': 7083, 'lowering': 7084, 'lowerpaid': 7085, 'lowie': 7086, 'lowincome': 7087, 'lowkey': 7088, 'lowoccupancy': 7089, 'lowry': 7090, 'lowthat': 7091, 'lowtonocost': 7092, 'loyal': 7093, 'loyalist': 7094, 'loyalty': 7095, 'lozenge': 7096, 'lp': 7097, 'lpd': 7098, 'lpg': 7099, 'lsfo': 7100, 'lsh': 7101, 'lt': 7102, 'ltclick': 7103, 'ltltlt': 7104, 'luck': 7105, 'luckily': 7106, 'lucky': 7107, 'lucrative': 7108, 'lukewarm': 7109, 'lull': 7110, 'lulu': 7111, 'lump': 7112, 'lumpur': 7113, 'lunch': 7114, 'lunchmeat': 7115, 'lunchtime': 7116, 'lunds': 7117, 'lung': 7118, 'lupe': 7119, 'lupus': 7120, 'lurch': 7121, 'lure': 7122, 'lurk': 7123, 'luscious': 7124, 'lusk': 7125, 'lusty': 7126, 'luthuli': 7127, 'luxuriously': 7128, 'luxury': 7129, 'luzon': 7130, 'luzonwide': 7131, 'lyk': 7132, 'lyn': 7133, 'lynch': 7134, 'lynda': 7135, 'lynn': 7136, 'lynx': 7137, 'lysol': 7138, 'm': 7139, 'ma': 7140, 'maaan': 7141, 'mac': 7142, 'macdill': 7143, 'mace': 7144, 'machine': 7145, 'machinery': 7146, 'machos': 7147, 'mack': 7148, 'macro': 7149, 'mad': 7150, 'madden': 7151, 'madding': 7152, 'maddness': 7153, 'madetomeasure': 7154, 'madison': 7155, 'madness': 7156, 'maestro': 7157, 'mafia': 7158, 'mag': 7159, 'magazine': 7160, 'magic': 7161, 'magnitude': 7162, 'mahalo': 7163, 'maharashtra': 7164, 'maharastra': 7165, 'mahdi': 7166, 'mahindra': 7167, 'maid': 7168, 'maids': 7169, 'maiintindihan': 7170, 'mail': 7171, 'mailpersons': 7172, 'main': 7173, 'maine': 7174, 'mainly': 7175, 'mainstream': 7176, 'maintain': 7177, 'maintenance': 7178, 'maisano': 7179, 'maize': 7180, 'majeure': 7181, 'majid': 7182, 'major': 7183, 'majority': 7184, 'majorly': 7185, 'makaylamcange': 7186, 'make': 7187, 'maker': 7188, 'makes': 7189, 'makeshift': 7190, 'makeup': 7191, 'makinde': 7192, 'makoni': 7193, 'maks': 7194, 'malaise': 7195, 'malaria': 7196, 'malawi': 7197, 'malaysia': 7198, 'malaysians': 7199, 'malaysias': 7200, 'male': 7201, 'malhati': 7202, 'malicious': 7203, 'malignancy': 7204, 'mall': 7205, 'mallbase': 7206, 'mallick': 7207, 'malls': 7208, 'malware': 7209, 'mammoth': 7210, 'mampa': 7211, 'mamps': 7212, 'man': 7213, 'manage': 7214, 'management': 7215, 'manager': 7216, 'managing': 7217, 'manat': 7218, 'manchester': 7219, 'manda': 7220, 'mandaluyong': 7221, 'mandate': 7222, 'mandatory': 7223, 'manger': 7224, 'manhattan': 7225, 'manhatten': 7226, 'mani': 7227, 'mania': 7228, 'maniac': 7229, 'maniacs': 7230, 'manifest': 7231, 'manila': 7232, 'manipulate': 7233, 'manipulation': 7234, 'mankind': 7235, 'mann': 7236, 'manner': 7237, 'manoeuvre': 7238, 'manpower': 7239, 'manual': 7240, 'manufacture': 7241, 'manufacturer': 7242, 'manufacturers': 7243, 'manufacturersbusinesses': 7244, 'manufacturing': 7245, 'manuscript': 7246, 'manx': 7247, 'map': 7248, 'maple': 7249, 'maps': 7250, 'mar': 7251, 'maraist': 7252, 'marathon': 7253, 'march': 7254, 'marcos': 7255, 'mareeba': 7256, 'margaret': 7257, 'margarine': 7258, 'margarita': 7259, 'margin': 7260, 'marginal': 7261, 'marginalize': 7262, 'marginally': 7263, 'margins': 7264, 'mariano': 7265, 'marico': 7266, 'marie': 7267, 'marijuana': 7268, 'marin': 7269, 'marine': 7270, 'marius': 7271, 'mark': 7272, 'markedup': 7273, 'markel': 7274, 'marker': 7275, 'market': 7276, 'marketeer': 7277, 'marketer': 7278, 'marketing': 7279, 'marketit': 7280, 'marketplace': 7281, 'markets': 7282, 'marketsa': 7283, 'marketsplease': 7284, 'markette': 7285, 'marketwatch': 7286, 'marking': 7287, 'marks': 7288, 'markson': 7289, 'markup': 7290, 'marriage': 7291, 'marshmallows': 7292, 'mart': 7293, 'martech': 7294, 'martial': 7295, 'martian': 7296, 'martin': 7297, 'martinez': 7298, 'martins': 7299, 'marvelouswhen': 7300, 'marx': 7301, 'mary': 7302, 'maryland': 7303, 'maryse': 7304, 'mas': 7305, 'mascot': 7306, 'mask': 7307, 'maskeyi': 7308, 'maskgood': 7309, 'masks': 7310, 'masksbandannas': 7311, 'masksface': 7312, 'maskslocal': 7313, 'masocial': 7314, 'mason': 7315, 'mass': 7316, 'massachusetts': 7317, 'massacre': 7318, 'masse': 7319, 'massive': 7320, 'massively': 7321, 'massow': 7322, 'mastercard': 7323, 'masterpiece': 7324, 'masters': 7325, 'masturbatory': 7326, 'mat': 7327, 'matajiri': 7328, 'matatu': 7329, 'match': 7330, 'mate': 7331, 'material': 7332, 'materialism': 7333, 'math': 7334, 'maths': 7335, 'matoshree': 7336, 'matt': 7337, 'matter': 7338, 'matthew': 7339, 'mattresses': 7340, 'mature': 7341, 'maw': 7342, 'max': 7343, 'maximal': 7344, 'maximize': 7345, 'maximum': 7346, 'maxine': 7347, 'maxvalue': 7348, 'maya': 7349, 'maybe': 7350, 'mayfair': 7351, 'mayhem': 7352, 'mayo': 7353, 'mayor': 7354, 'mb': 7355, 'mba': 7356, 'mbagathi': 7357, 'mbb': 7358, 'mbbs': 7359, 'mbd': 7360, 'mbie': 7361, 'mbs': 7362, 'mccarthy': 7363, 'mccolls': 7364, 'mcconnell': 7365, 'mcdonald': 7366, 'mcdonalds': 7367, 'mckenzie': 7368, 'mckinsey': 7369, 'mcleod': 7370, 'mcm': 7371, 'mcnally': 7372, 'mcq': 7373, 'mcx': 7374, 'md': 7375, 'meal': 7376, 'meals': 7377, 'mealsonwheel': 7378, 'mean': 7379, 'meango': 7380, 'meaning': 7381, 'meaningful': 7382, 'means': 7383, 'meantime': 7384, 'measure': 7385, 'measurement': 7386, 'measures': 7387, 'measuresregistration': 7388, 'meat': 7389, 'meatbecause': 7390, 'mechanic': 7391, 'mechanism': 7392, 'mecoworker': 7393, 'med': 7394, 'medal': 7395, 'media': 7396, 'median': 7397, 'medias': 7398, 'medica': 7399, 'medicaid': 7400, 'medical': 7401, 'medicare': 7402, 'medication': 7403, 'medications': 7404, 'medicine': 7405, 'medicines': 7406, 'medicinevitamin': 7407, 'medics': 7408, 'medidas': 7409, 'medieval': 7410, 'medio': 7411, 'medium': 7412, 'mediziner': 7413, 'meds': 7414, 'meedha': 7415, 'meee': 7416, 'meeeeeeeeeeee': 7417, 'meepl': 7418, 'meet': 7419, 'meetanddeep': 7420, 'meeting': 7421, 'meetings': 7422, 'mega': 7423, 'megastore': 7424, 'meghan': 7425, 'mehtaa': 7426, 'meijer': 7427, 'meitzner': 7428, 'melanie': 7429, 'melb': 7430, 'melbourne': 7431, 'melissa': 7432, 'meltblown': 7433, 'meltdown': 7434, 'member': 7435, 'membership': 7436, 'meme': 7437, 'memed': 7438, 'memo': 7439, 'memorable': 7440, 'memory': 7441, 'men': 7442, 'menace': 7443, 'menacing': 7444, 'mendelson': 7445, 'menstrual': 7446, 'mental': 7447, 'mentality': 7448, 'mentally': 7449, 'mention': 7450, 'menu': 7451, 'menwhile': 7452, 'mep': 7453, 'mer': 7454, 'mercantile': 7455, 'merch': 7456, 'merchandise': 7457, 'merchandisers': 7458, 'merchant': 7459, 'merchants': 7460, 'mercury': 7461, 'mere': 7462, 'meredith': 7463, 'merge': 7464, 'merger': 7465, 'meridian': 7466, 'merit': 7467, 'merkel': 7468, 'merlot': 7469, 'mess': 7470, 'message': 7471, 'messaging': 7472, 'messenger': 7473, 'messy': 7474, 'meta': 7475, 'metal': 7476, 'metalminer': 7477, 'metals': 7478, 'meter': 7479, 'metering': 7480, 'methane': 7481, 'methink': 7482, 'method': 7483, 'meticulous': 7484, 'metlife': 7485, 'metre': 7486, 'metro': 7487, 'mexican': 7488, 'mexico': 7489, 'meyer': 7490, 'mf': 7491, 'mfp': 7492, 'mfs': 7493, 'mg': 7494, 'mgmt': 7495, 'mgvcl': 7496, 'mi': 7497, 'miami': 7498, 'mib': 7499, 'michael': 7500, 'michaels': 7501, 'michigan': 7502, 'michigans': 7503, 'mickey': 7504, 'micro': 7505, 'microfiber': 7506, 'microsoft': 7507, 'microwaveable': 7508, 'mid': 7509, 'midcentury': 7510, 'midday': 7511, 'middle': 7512, 'middleclass': 7513, 'midia': 7514, 'midjanuary': 7515, 'midlands': 7516, 'midmarch': 7517, 'midnight': 7518, 'midoctober': 7519, 'midst': 7520, 'midussbbl': 7521, 'midwest': 7522, 'mifi': 7523, 'mighty': 7524, 'migrant': 7525, 'migrate': 7526, 'migration': 7527, 'miguel': 7528, 'mike': 7529, 'mil': 7530, 'milan': 7531, 'milano': 7532, 'mild': 7533, 'mildly': 7534, 'mile': 7535, 'mileslong': 7536, 'military': 7537, 'militarystyle': 7538, 'militia': 7539, 'milk': 7540, 'milkman': 7541, 'milkmedicinetoilet': 7542, 'mill': 7543, 'millat': 7544, 'millennial': 7545, 'million': 7546, 'millionaire': 7547, 'millions': 7548, 'milt': 7549, 'milton': 7550, 'milwaukee': 7551, 'mimble': 7552, 'mimic': 7553, 'min': 7554, 'mince': 7555, 'mind': 7556, 'minddo': 7557, 'minded': 7558, 'minders': 7559, 'mindful': 7560, 'mindfulness': 7561, 'mindnumbe': 7562, 'mindset': 7563, 'mine': 7564, 'mingle': 7565, 'mini': 7566, 'minimal': 7567, 'minimise': 7568, 'minimize': 7569, 'minimum': 7570, 'mining': 7571, 'minion': 7572, 'minishop': 7573, 'minister': 7574, 'ministers': 7575, 'ministries': 7576, 'ministry': 7577, 'minnesota': 7578, 'minor': 7579, 'minority': 7580, 'mint': 7581, 'mintel': 7582, 'minu': 7583, 'minus': 7584, 'minustry': 7585, 'minute': 7586, 'miracle': 7587, 'mirepoix': 7588, 'mirror': 7589, 'mirrors': 7590, 'mirza': 7591, 'mis': 7592, 'misallocated': 7593, 'mischief': 7594, 'miserable': 7595, 'miserably': 7596, 'misery': 7597, 'misfit': 7598, 'misfits': 7599, 'misfortune': 7600, 'misguide': 7601, 'mishandling': 7602, 'misinformation': 7603, 'misinformed': 7604, 'misleading': 7605, 'misread': 7606, 'miss': 7607, 'mission': 7608, 'mississauga': 7609, 'missouri': 7610, 'mistake': 7611, 'misuse': 7612, 'mitarbeitern': 7613, 'mitch': 7614, 'mitchell': 7615, 'mitigate': 7616, 'mitigation': 7617, 'mitigations': 7618, 'mitt': 7619, 'mix': 7620, 'mixture': 7621, 'mizuho': 7622, 'mkg': 7623, 'mkhize': 7624, 'mkt': 7625, 'ml': 7626, 'mlbottle': 7627, 'mls': 7628, 'mmc': 7629, 'mmm': 7630, 'mmo': 7631, 'mmt': 7632, 'mn': 7633, 'mngr': 7634, 'mnuchins': 7635, 'mo': 7636, 'moan': 7637, 'moaning': 7638, 'mobile': 7639, 'mobility': 7640, 'mobilize': 7641, 'mock': 7642, 'moco': 7643, 'mode': 7644, 'model': 7645, 'modeling': 7646, 'modelling': 7647, 'modern': 7648, 'modernism': 7649, 'modi': 7650, 'modification': 7651, 'modify': 7652, 'modrnhealthcr': 7653, 'modwyer': 7654, 'mofos': 7655, 'mohamad': 7656, 'mohammed': 7657, 'mohr': 7658, 'moi': 7659, 'moisten': 7660, 'moisturiser': 7661, 'moisturizing': 7662, 'moj': 7663, 'molecular': 7664, 'mom': 7665, 'mombasa': 7666, 'moment': 7667, 'momentous': 7668, 'momentum': 7669, 'mommy': 7670, 'mon': 7671, 'monday': 7672, 'mondays': 7673, 'mondkapje': 7674, 'monetary': 7675, 'monetizing': 7676, 'money': 7677, 'moneycontrol': 7678, 'moneynot': 7679, 'moneyslave': 7680, 'monger': 7681, 'monie': 7682, 'monika': 7683, 'monitor': 7684, 'monitoring': 7685, 'monologue': 7686, 'monopolise': 7687, 'monopoly': 7688, 'monroe': 7689, 'monster': 7690, 'montana': 7691, 'month': 7692, 'monthey': 7693, 'monthlong': 7694, 'monthly': 7695, 'months': 7696, 'montrealer': 7697, 'mood': 7698, 'moody': 7699, 'moon': 7700, 'moonrise': 7701, 'mopani': 7702, 'mopng': 7703, 'moq': 7704, 'mor': 7705, 'moral': 7706, 'morale': 7707, 'morally': 7708, 'moratorium': 7709, 'morbid': 7710, 'moretti': 7711, 'morgan': 7712, 'morn': 7713, 'morning': 7714, 'morningstar': 7715, 'moroccan': 7716, 'moron': 7717, 'moronic': 7718, 'morons': 7719, 'morph': 7720, 'morrison': 7721, 'morrisons': 7722, 'mortality': 7723, 'mortar': 7724, 'mortgage': 7725, 'mortgages': 7726, 'mos': 7727, 'moscow': 7728, 'moshon': 7729, 'mosque': 7730, 'motel': 7731, 'mother': 7732, 'motherinlaw': 7733, 'mothers': 7734, 'motherway': 7735, 'motion': 7736, 'motivated': 7737, 'motorhome': 7738, 'motorist': 7739, 'motto': 7740, 'motu': 7741, 'mouldy': 7742, 'mound': 7743, 'mount': 7744, 'mountain': 7745, 'mourn': 7746, 'mouse': 7747, 'mouth': 7748, 'mouthsnose': 7749, 'move': 7750, 'movement': 7751, 'moven': 7752, 'moves': 7753, 'movevan': 7754, 'movie': 7755, 'movielive': 7756, 'movies': 7757, 'moviesonline': 7758, 'mow': 7759, 'mp': 7760, 'mpesa': 7761, 'mpls': 7762, 'mps': 7763, 'mr': 7764, 'mre': 7765, 'mri': 7766, 'mrmodi': 7767, 'ms': 7768, 'msc': 7769, 'msft': 7770, 'msg': 7771, 'msia': 7772, 'msm': 7773, 'mt': 7774, 'mtg': 7775, 'mtgs': 7776, 'mth': 7777, 'mtl': 7778, 'mtn': 7779, 'muchforecasted': 7780, 'muchmind': 7781, 'muchneede': 7782, 'muchneeded': 7783, 'mucho': 7784, 'mucsfo': 7785, 'muddled': 7786, 'mudhole': 7787, 'mueller': 7788, 'muestra': 7789, 'muffin': 7790, 'muhammad': 7791, 'mulan': 7792, 'mule': 7793, 'mullin': 7794, 'multicultural': 7795, 'multifunctional': 7796, 'multiple': 7797, 'multiply': 7798, 'multipurpose': 7799, 'multistores': 7800, 'multiyear': 7801, 'mum': 7802, 'muma': 7803, 'mumbai': 7804, 'mummy': 7805, 'mumvoice': 7806, 'mundane': 7807, 'mundo': 7808, 'munich': 7809, 'municipal': 7810, 'municipality': 7811, 'muntinlupa': 7812, 'murder': 7813, 'murderer': 7814, 'murderous': 7815, 'murdoch': 7816, 'murdochcontrolle': 7817, 'murkowski': 7818, 'murphy': 7819, 'murphys': 7820, 'muscle': 7821, 'museum': 7822, 'museveni': 7823, 'music': 7824, 'musician': 7825, 'musing': 7826, 'musk': 7827, 'muslim': 7828, 'mussel': 7829, 'musthave': 7830, 'mustread': 7831, 'mutahi': 7832, 'mutation': 7833, 'mutiny': 7834, 'mutual': 7835, 'muzak': 7836, 'mvp': 7837, 'mycotoxin': 7838, 'myers': 7839, 'mylan': 7840, 'mypov': 7841, 'myspark': 7842, 'mystery': 7843, 'mysuru': 7844, 'mysz': 7845, 'myteam': 7846, 'myth': 7847, 'mythical': 7848, 'myths': 7849, 'myus': 7850, 'myusare': 7851, 'n': 7852, 'na': 7853, 'naa': 7854, 'naar': 7855, 'nabarro': 7856, 'nachmittag': 7857, 'nada': 7858, 'nadeem': 7859, 'nadu': 7860, 'nagaland': 7861, 'nagar': 7862, 'nager': 7863, 'nagpunta': 7864, 'nah': 7865, 'nahi': 7866, 'nail': 7867, 'naira': 7868, 'nairobi': 7869, 'nairobians': 7870, 'nairobilets': 7871, 'nak': 7872, 'naka': 7873, 'naked': 7874, 'nalanda': 7875, 'namaaz': 7876, 'name': 7877, 'nan': 7878, 'nanaimo': 7879, 'nancy': 7880, 'napa': 7881, 'naples': 7882, 'narendra': 7883, 'narrate': 7884, 'narrative': 7885, 'nascent': 7886, 'nasdaq': 7887, 'nashp': 7888, 'nashville': 7889, 'nasty': 7890, 'natalie': 7891, 'nation': 7892, 'national': 7893, 'nationalise': 7894, 'nationally': 7895, 'nationals': 7896, 'nations': 7897, 'nationwide': 7898, 'native': 7899, 'natively': 7900, 'natnl': 7901, 'natraj': 7902, 'natter': 7903, 'natural': 7904, 'naturally': 7905, 'naturals': 7906, 'nature': 7907, 'natured': 7908, 'naval': 7909, 'navarro': 7910, 'navigate': 7911, 'navy': 7912, 'naxxar': 7913, 'naysayer': 7914, 'nazi': 7915, 'nazis': 7916, 'nba': 7917, 'nbi': 7918, 'nbn': 7919, 'nc': 7920, 'ncbased': 7921, 'ncc': 7922, 'ncdc': 7923, 'ncis': 7924, 'ncl': 7925, 'ncmi': 7926, 'ncov': 7927, 'ncr': 7928, 'nd': 7929, 'ndc': 7930, 'ndia': 7931, 'ndis': 7932, 'ne': 7933, 'near': 7934, 'nearby': 7935, 'nearly': 7936, 'nearness': 7937, 'neat': 7938, 'nebraska': 7939, 'nebraskans': 7940, 'nec': 7941, 'neccesitie': 7942, 'necessarily': 7943, 'necessary': 7944, 'necessity': 7945, 'neck': 7946, 'need': 7947, 'needed': 7948, 'needful': 7949, 'needif': 7950, 'needs': 7951, 'needsdelooroll': 7952, 'needy': 7953, 'negative': 7954, 'negatively': 7955, 'neglect': 7956, 'negligent': 7957, 'negotiable': 7958, 'negotiate': 7959, 'neighbor': 7960, 'neighborhood': 7961, 'neighboring': 7962, 'neighbors': 7963, 'neighbour': 7964, 'neighbourhood': 7965, 'neighbouring': 7966, 'neighbours': 7967, 'nennt': 7968, 'neocolonization': 7969, 'neoliberal': 7970, 'nepal': 7971, 'nephew': 7972, 'nerve': 7973, 'nervewracking': 7974, 'nervous': 7975, 'nessel': 7976, 'nestlequick': 7977, 'net': 7978, 'netflix': 7979, 'netflixwent': 7980, 'netherlands': 7981, 'netizen': 7982, 'netsamphealthcare': 7983, 'network': 7984, 'neuklln': 7985, 'neutral': 7986, 'neutralize': 7987, 'nevada': 7988, 'nevasa': 7989, 'neverbeforeplunge': 7990, 'nevermind': 7991, 'new': 7992, 'newcastle': 7993, 'newly': 7994, 'news': 7995, 'newscast': 7996, 'newscaster': 7997, 'newsest': 7998, 'newsipsos': 7999, 'newsleader': 8000, 'newsletter': 8001, 'newsom': 8002, 'newsoms': 8003, 'newspaper': 8004, 'newsroom': 8005, 'newt': 8006, 'newton': 8007, 'nextdoor': 8008, 'nfha': 8009, 'nfl': 8010, 'ng': 8011, 'ngayon': 8012, 'ngele': 8013, 'ngf': 8014, 'ngl': 8015, 'ngo': 8016, 'ngod': 8017, 'ngos': 8018, 'nguyen': 8019, 'ngyuen': 8020, 'nhs': 8021, 'ni': 8022, 'niagara': 8023, 'nibble': 8024, 'nice': 8025, 'nicelooking': 8026, 'nicely': 8027, 'nicht': 8028, 'nick': 8029, 'nickcohen': 8030, 'nickel': 8031, 'nicola': 8032, 'nicosia': 8033, 'nicotine': 8034, 'niece': 8035, 'nielsen': 8036, 'niet': 8037, 'nigeria': 8038, 'nigerian': 8039, 'nigerians': 8040, 'night': 8041, 'nightgown': 8042, 'nightly': 8043, 'nightmare': 8044, 'nighttime': 8045, 'nih': 8046, 'nii': 8047, 'nike': 8048, 'nikki': 8049, 'nils': 8050, 'ninety': 8051, 'niosh': 8052, 'nip': 8053, 'nirala': 8054, 'nitrate': 8055, 'nitrile': 8056, 'nix': 8057, 'nj': 8058, 'nkgf': 8059, 'nky': 8060, 'nm': 8061, 'nmdc': 8062, 'no': 8063, 'nob': 8064, 'nocontact': 8065, 'nodal': 8066, 'noida': 8067, 'noma': 8068, 'nominate': 8069, 'non': 8070, 'nonaccount': 8071, 'nonautomate': 8072, 'noncyclical': 8073, 'nondiscretionary': 8074, 'nonessential': 8075, 'nonetheless': 8076, 'nonexpired': 8077, 'nonfood': 8078, 'nongear': 8079, 'nonmedical': 8080, 'nonna': 8081, 'nonno': 8082, 'nononsense': 8083, 'nonpayment': 8084, 'nonperforme': 8085, 'nonperishable': 8086, 'nonplaye': 8087, 'nonprofit': 8088, 'nonsense': 8089, 'nonsensically': 8090, 'nonshelf': 8091, 'nonsterile': 8092, 'nonstop': 8093, 'nontalk': 8094, 'nontoxic': 8095, 'nonveg': 8096, 'noo': 8097, 'noodle': 8098, 'noodles': 8099, 'noon': 8100, 'nope': 8101, 'nordrheinwestfalen': 8102, 'nordstrom': 8103, 'norm': 8104, 'normal': 8105, 'normalcy': 8106, 'normalday': 8107, 'normalif': 8108, 'normalize': 8109, 'normally': 8110, 'north': 8111, 'northam': 8112, 'northeast': 8113, 'northern': 8114, 'northland': 8115, 'northridge': 8116, 'northumberland': 8117, 'northwest': 8118, 'norway': 8119, 'norwegian': 8120, 'nos': 8121, 'nose': 8122, 'nosedive': 8123, 'not': 8124, 'notable': 8125, 'notably': 8126, 'note': 8127, \"noth'in\": 8128, 'nothing': 8129, 'notice': 8130, 'noticed': 8131, 'noticing': 8132, 'notification': 8133, 'notify': 8134, 'notre': 8135, 'noun': 8136, 'nourish': 8137, 'nov': 8138, 'nova': 8139, 'novartis': 8140, 'novel': 8141, 'novelty': 8142, 'november': 8143, 'novv': 8144, 'now': 8145, 'nowadays': 8146, 'nowshould': 8147, 'nowthis': 8148, 'nozzle': 8149, 'nrma': 8150, 'ns': 8151, 'nsa': 8152, 'nsf': 8153, 'nsw': 8154, 'nt': 8155, 'ntuc': 8156, 'nuclear': 8157, 'nuevo': 8158, 'nuisance': 8159, 'null': 8160, 'num': 8161, 'numb': 8162, 'number': 8163, 'numberbank': 8164, 'numerous': 8165, 'numpties': 8166, 'nung': 8167, 'nuntilturn': 8168, 'nurse': 8169, 'nursedrporterdomesticadmin': 8170, 'nursery': 8171, 'nurses': 8172, 'nursesdocs': 8173, 'nursesdoctor': 8174, 'nursing': 8175, 'nut': 8176, 'nutrition': 8177, 'nutritionally': 8178, 'nutritious': 8179, 'nuts': 8180, 'nv': 8181, 'nwo': 8182, 'nwt': 8183, 'nxt': 8184, 'ny': 8185, 'nyah': 8186, 'nyc': 8187, 'nys': 8188, 'nysc': 8189, 'nyy': 8190, 'nz': 8191, 'o': 8192, \"o'clock\": 8193, 'oadby': 8194, 'oak': 8195, 'oap': 8196, 'oatmeal': 8197, 'oatmilk': 8198, 'obama': 8199, 'obamacare': 8200, 'obesity': 8201, 'obey': 8202, 'object': 8203, 'objective': 8204, 'obligated': 8205, 'obligation': 8206, 'obligations': 8207, 'oblige': 8208, 'oblivion': 8209, 'oblivious': 8210, 'obscene': 8211, 'observar': 8212, 'observation': 8213, 'observations': 8214, 'observe': 8215, 'obsessed': 8216, 'obsession': 8217, 'obsessively': 8218, 'obstacle': 8219, 'obtain': 8220, 'obtuse': 8221, 'obv': 8222, 'obvious': 8223, 'obviously': 8224, 'obvs': 8225, 'oc': 8226, 'ocado': 8227, 'occasion': 8228, 'occasional': 8229, 'occasionally': 8230, 'occidental': 8231, 'occoquan': 8232, 'occupancy': 8233, 'occupant': 8234, 'occupation': 8235, 'occupational': 8236, 'occupy': 8237, 'occur': 8238, 'occurrence': 8239, 'ocd': 8240, 'ocean': 8241, 'ocha': 8242, 'october': 8243, 'octopus': 8244, 'oculus': 8245, 'odd': 8246, 'oddly': 8247, 'oddsare': 8248, 'odinga': 8249, 'odisha': 8250, 'odsp': 8251, 'oeb': 8252, 'ofall': 8253, 'ofavail': 8254, 'off': 8255, 'offbrand': 8256, 'offence': 8257, 'offend': 8258, 'offender': 8259, 'offensive': 8260, 'offer': 8261, 'offering': 8262, 'offfor': 8263, 'office': 8264, 'officer': 8265, 'officers': 8266, 'offices': 8267, 'officesupermarket': 8268, 'official': 8269, 'officially': 8270, 'offing': 8271, 'offline': 8272, 'offpeak': 8273, 'offset': 8274, 'offshore': 8275, 'offthe': 8276, 'oftenwith': 8277, 'oglala': 8278, 'oh': 8279, 'ohhh': 8280, 'ohio': 8281, 'oil': 8282, 'oildependent': 8283, 'oilgas': 8284, 'oilpatch': 8285, 'oilproduce': 8286, 'oilsand': 8287, 'oilsands': 8288, 'oilygarchy': 8289, 'ok': 8290, 'okay': 8291, 'okc': 8292, 'okhla': 8293, 'oklahoma': 8294, 'oku': 8295, 'olamide': 8296, 'old': 8297, 'oldget': 8298, 'oldham': 8299, 'oldie': 8300, 'oldpeople': 8301, 'oleson': 8302, 'oligarchs': 8303, 'olive': 8304, 'oll': 8305, 'olympics': 8306, 'om': 8307, 'omaha': 8308, 'oman': 8309, 'ombudsman': 8310, 'omdia': 8311, 'omelet': 8312, 'omg': 8313, 'onceaweek': 8314, 'oncebut': 8315, 'onceinsatiable': 8316, 'onceobscure': 8317, 'one': 8318, 'onem': 8319, 'onerous': 8320, 'ones': 8321, 'onestop': 8322, 'onethird': 8323, 'onetime': 8324, 'onetwo': 8325, 'oneway': 8326, 'ongoing': 8327, 'onion': 8328, 'onl': 8329, 'online': 8330, 'onlineassistanceconsultation': 8331, 'onlinelove': 8332, 'onlineonly': 8333, 'onlinephone': 8334, 'onlineshopping': 8335, 'onlydont': 8336, 'onlywith': 8337, 'onset': 8338, 'onsite': 8339, 'onslaught': 8340, 'ont': 8341, 'ontario': 8342, 'onward': 8343, 'onwards': 8344, 'ooo': 8345, 'ooooh': 8346, 'op': 8347, 'opec': 8348, 'oped': 8349, 'open': 8350, 'openair': 8351, 'opening': 8352, 'openjust': 8353, 'openoutcry': 8354, 'opensim': 8355, 'openthey': 8356, 'operable': 8357, 'operate': 8358, 'operating': 8359, 'operation': 8360, 'operational': 8361, 'operations': 8362, 'operator': 8363, 'ophthalmology': 8364, 'opinion': 8365, 'opoku': 8366, 'opp': 8367, 'oppo': 8368, 'opportunistic': 8369, 'opportunity': 8370, 'oppose': 8371, 'opposed': 8372, 'opposite': 8373, 'opposition': 8374, 'oppression': 8375, 'opt': 8376, 'optic': 8377, 'optical': 8378, 'optimise': 8379, 'optimism': 8380, 'optimistic': 8381, 'optimize': 8382, 'optimum': 8383, 'option': 8384, 'optional': 8385, 'options': 8386, 'orange': 8387, 'order': 8388, 'ordered': 8389, 'ordering': 8390, 'orderly': 8391, 'orders': 8392, 'ordinance': 8393, 'ordinary': 8394, 'ore': 8395, 'oregon': 8396, 'oregonians': 8397, 'orem': 8398, 'org': 8399, 'organisation': 8400, 'organisational': 8401, 'organise': 8402, 'organised': 8403, 'organization': 8404, 'organizations': 8405, 'organize': 8406, 'orgasmic': 8407, 'orgs': 8408, 'orient': 8409, 'oriental': 8410, 'origin': 8411, 'original': 8412, 'originate': 8413, 'orlando': 8414, 'orleans': 8415, 'orrrrrr': 8416, 'oseni': 8417, 'osha': 8418, 'oshawa': 8419, 'ostensibly': 8420, 'ot': 8421, 'otc': 8422, 'otcqb': 8423, 'othr': 8424, 'ottawa': 8425, 'otto': 8426, 'ottobock': 8427, 'ought': 8428, 'ounce': 8429, 'oura': 8430, 'ourretail': 8431, 'out': 8432, 'outage': 8433, 'outbid': 8434, 'outbreak': 8435, 'outbreakha': 8436, 'outbreaksupermarket': 8437, 'outbrske': 8438, 'outchea': 8439, 'outcome': 8440, 'outcomes': 8441, 'outdoor': 8442, 'outdoors': 8443, 'outer': 8444, 'outfit': 8445, 'outfitters': 8446, 'outhustle': 8447, 'outing': 8448, 'outlast': 8449, 'outlaw': 8450, 'outlay': 8451, 'outlet': 8452, 'outlier': 8453, 'outline': 8454, 'outlook': 8455, 'outnumber': 8456, 'outofcontrol': 8457, 'outofdate': 8458, 'outofstate': 8459, 'outpace': 8460, 'outperform': 8461, 'output': 8462, 'outrage': 8463, 'outrageous': 8464, 'outrageously': 8465, 'outrightly': 8466, 'outside': 8467, 'outsideit': 8468, 'outstanding': 8469, 'outstrip': 8470, 'outta': 8471, 'outwithin': 8472, 'ov': 8473, 'over': 8474, 'overage': 8475, 'overall': 8476, 'overblown': 8477, 'overboard': 8478, 'overbuye': 8479, 'overcapacity': 8480, 'overcharge': 8481, 'overcome': 8482, 'overcrowded': 8483, 'overcrowding': 8484, 'overdirty': 8485, 'overdraft': 8486, 'overdrive': 8487, 'overflow': 8488, 'overhear': 8489, 'overhype': 8490, 'overinflate': 8491, 'overload': 8492, 'overlook': 8493, 'overly': 8494, 'overnight': 8495, 'overpowering': 8496, 'overprice': 8497, 'overpricing': 8498, 'overrate': 8499, 'overreaction': 8500, 'overrun': 8501, 'overseas': 8502, 'oversell': 8503, 'overshadow': 8504, 'overshoot': 8505, 'oversight': 8506, 'overstock': 8507, 'oversupplied': 8508, 'oversupply': 8509, 'overtake': 8510, 'overthecounter': 8511, 'overtime': 8512, 'overuse': 8513, 'overview': 8514, 'overweegt': 8515, 'overweight': 8516, 'overwhelm': 8517, 'overwhelmed': 8518, 'overwhelming': 8519, 'overwing': 8520, 'overwork': 8521, 'owaisi': 8522, 'owe': 8523, 'own': 8524, 'owner': 8525, 'ownership': 8526, 'oximeter': 8527, 'oxygen': 8528, 'oyeekiti': 8529, 'oz': 8530, 'ozarks': 8531, 'p': 8532, 'pa': 8533, 'pace': 8534, 'pacific': 8535, 'pacificcfc': 8536, 'pack': 8537, 'package': 8538, 'packaging': 8539, 'packed': 8540, 'packer': 8541, 'packet': 8542, 'packing': 8543, 'pacman': 8544, 'pacp': 8545, 'pact': 8546, 'pad': 8547, 'paddy': 8548, 'page': 8549, 'pah': 8550, 'pail': 8551, 'pain': 8552, 'painful': 8553, 'painfully': 8554, 'paint': 8555, 'paintball': 8556, 'paints': 8557, 'pair': 8558, 'paisley': 8559, 'pakistan': 8560, 'pakistani': 8561, 'pakistnai': 8562, 'pakken': 8563, 'pal': 8564, 'paladhi': 8565, 'palestine': 8566, 'pallet': 8567, 'palliative': 8568, 'palm': 8569, 'paloma': 8570, 'pan': 8571, 'panama': 8572, 'panamera': 8573, 'panarin': 8574, 'pandem': 8575, 'pandemic': 8576, 'pandemichave': 8577, 'pandemicthe': 8578, 'pandemonium': 8579, 'pandmie': 8580, 'pane': 8581, 'panel': 8582, 'panelist': 8583, 'panettieri': 8584, 'pangolin': 8585, 'panic': 8586, 'panicbase': 8587, 'panicbought': 8588, 'panicbulk': 8589, 'panicbuye': 8590, 'panicbuyer': 8591, 'panicfleer': 8592, 'panichoarding': 8593, 'panicit': 8594, 'panick': 8595, 'panicked': 8596, 'panicshop': 8597, 'panicstruck': 8598, 'panicuse': 8599, 'pant': 8600, 'pantries': 8601, 'pantry': 8602, 'pantryloading': 8603, 'papel': 8604, 'paper': 8605, 'paperbecause': 8606, 'papernot': 8607, 'paperwork': 8608, 'papillion': 8609, 'pappou': 8610, 'par': 8611, 'para': 8612, 'paracetamol': 8613, 'paracetamolfvck': 8614, 'paradigm': 8615, 'paraguay': 8616, 'parallel': 8617, 'paralysis': 8618, 'paramedic': 8619, 'paramedics': 8620, 'paramount': 8621, 'paranoia': 8622, 'paranoid': 8623, 'parasite': 8624, 'parcel': 8625, 'pared': 8626, 'parekh': 8627, 'parent': 8628, 'parents': 8629, 'parentseach': 8630, 'parentswere': 8631, 'paris': 8632, 'park': 8633, 'parking': 8634, 'parkinson': 8635, 'parknshop': 8636, 'parks': 8637, 'parle': 8638, 'parliament': 8639, 'parlous': 8640, 'parmiggiano': 8641, 'parrishable': 8642, 'part': 8643, 'partialfull': 8644, 'participant': 8645, 'participate': 8646, 'particle': 8647, 'particular': 8648, 'particularly': 8649, 'particulate': 8650, 'partieswake': 8651, 'partition': 8652, 'partlaptop': 8653, 'partly': 8654, 'partner': 8655, 'partnership': 8656, 'parttime': 8657, 'party': 8658, 'partying': 8659, 'pas': 8660, 'pasadena': 8661, 'pass': 8662, 'passenger': 8663, 'passion': 8664, 'passionate': 8665, 'passover': 8666, 'passport': 8667, 'passwe': 8668, 'password': 8669, 'past': 8670, 'pasta': 8671, 'pastor': 8672, 'pastorspriests': 8673, 'pasty': 8674, 'paswan': 8675, 'pat': 8676, 'patanjali': 8677, 'patch': 8678, 'patchwork': 8679, 'patel': 8680, 'patent': 8681, 'path': 8682, 'pathani': 8683, 'pathatic': 8684, 'pathetic': 8685, 'patience': 8686, 'patient': 8687, 'patiently': 8688, 'patna': 8689, 'patrick': 8690, 'patriot': 8691, 'patrol': 8692, 'patron': 8693, 'patrona': 8694, 'pattern': 8695, 'patterns': 8696, 'paul': 8697, 'paunthursday': 8698, 'pause': 8699, 'paused': 8700, 'pav': 8701, 'pave': 8702, 'pavement': 8703, 'pavilion': 8704, 'paw': 8705, 'pawsclawsandquill': 8706, 'paxton': 8707, 'pay': 8708, 'paycheck': 8709, 'payday': 8710, 'payer': 8711, 'paygrade': 8712, 'paying': 8713, 'payload': 8714, 'payment': 8715, 'payne': 8716, 'payouts': 8717, 'paypal': 8718, 'paypig': 8719, 'paywall': 8720, 'paywhatyoucan': 8721, 'pboc': 8722, 'pbs': 8723, 'pc': 8724, 'pctl': 8725, 'pdd': 8726, 'pds': 8727, 'pe': 8728, 'pea': 8729, 'peace': 8730, 'peaceful': 8731, 'peach': 8732, 'peachie': 8733, 'peak': 8734, 'peanut': 8735, 'pearl': 8736, 'pecan': 8737, 'peddle': 8738, 'pedestrian': 8739, 'pedro': 8740, 'peel': 8741, 'peeler': 8742, 'peep': 8743, 'peepee': 8744, 'peeps': 8745, 'peer': 8746, 'peg': 8747, 'peggy': 8748, 'pei': 8749, 'pelosi': 8750, 'pen': 8751, 'penalise': 8752, 'penalty': 8753, 'pendant': 8754, 'pende': 8755, 'pendemic': 8756, 'penfield': 8757, 'penguin': 8758, 'penis': 8759, 'penne': 8760, 'penney': 8761, 'pennsylvania': 8762, 'pennsylvanians': 8763, 'penny': 8764, 'pennycook': 8765, 'pension': 8766, 'pensioner': 8767, 'pensions': 8768, 'people': 8769, 'peoplei': 8770, 'peopleinstead': 8771, 'peoplelabour': 8772, 'peoplepostage': 8773, 'peoples': 8774, 'peoplesocial': 8775, 'pep': 8776, 'pepperoni': 8777, 'perceive': 8778, 'percent': 8779, 'percentage': 8780, 'perception': 8781, 'perdue': 8782, 'perfect': 8783, 'perfectly': 8784, 'perform': 8785, 'performance': 8786, 'perfume': 8787, 'perfumery': 8788, 'perhead': 8789, 'peril': 8790, 'perilously': 8791, 'perinton': 8792, 'period': 8793, 'perish': 8794, 'perishable': 8795, 'perks': 8796, 'perla': 8797, 'perliskuala': 8798, 'permanent': 8799, 'permanently': 8800, 'permaroute': 8801, 'permission': 8802, 'permit': 8803, 'permitting': 8804, 'pero': 8805, 'peroxide': 8806, 'perpetrate': 8807, 'perpetrator': 8808, 'perrylaw': 8809, 'perscription': 8810, 'persist': 8811, 'person': 8812, 'personal': 8813, 'personalised': 8814, 'personality': 8815, 'personally': 8816, 'personnel': 8817, 'perspective': 8818, 'perssuer': 8819, 'pertain': 8820, 'pertinent': 8821, 'peru': 8822, 'peruse': 8823, 'peruvian': 8824, 'pessimism': 8825, 'pessimistic': 8826, 'pet': 8827, 'pete': 8828, 'peter': 8829, 'petition': 8830, 'petrochemical': 8831, 'petrol': 8832, 'petroldiesel': 8833, 'petroleum': 8834, 'pettakandi': 8835, 'petty': 8836, 'petulant': 8837, 'peut': 8838, 'pfas': 8839, 'pfgc': 8840, 'pfister': 8841, 'pfizer': 8842, 'pflicht': 8843, 'pfoas': 8844, 'pg': 8845, 'ph': 8846, 'pham': 8847, 'phantom': 8848, 'phap': 8849, 'pharamacy': 8850, 'pharm': 8851, 'pharma': 8852, 'pharmaceutical': 8853, 'pharmaceuticals': 8854, 'pharmacies': 8855, 'pharmacist': 8856, 'pharmacists': 8857, 'pharmacy': 8858, 'pharmacyhomco': 8859, 'pharmahospital': 8860, 'phase': 8861, 'phd': 8862, 'phew': 8863, 'phil': 8864, 'philadelphia': 8865, 'philanthropy': 8866, 'philip': 8867, 'philipp': 8868, 'philippine': 8869, 'philippines': 8870, 'phillips': 8871, 'philly': 8872, 'philosopher': 8873, 'phishe': 8874, 'phisher': 8875, 'phishing': 8876, 'phle': 8877, 'phone': 8878, 'phonecall': 8879, 'phoney': 8880, 'phony': 8881, 'phosphate': 8882, 'photo': 8883, 'photographer': 8884, 'photography': 8885, 'phrase': 8886, 'physical': 8887, 'physically': 8888, 'pi': 8889, 'pic': 8890, 'pick': 8891, 'pickedclean': 8892, 'picken': 8893, 'picker': 8894, 'pickin': 8895, 'picking': 8896, 'pickled': 8897, 'pickup': 8898, 'pickuponly': 8899, 'picky': 8900, 'picnic': 8901, 'pics': 8902, 'pict': 8903, 'picture': 8904, 'pictures': 8905, 'piece': 8906, 'pier': 8907, 'pierce': 8908, 'pierre': 8909, 'pietre': 8910, 'pig': 8911, 'pigs': 8912, 'pii': 8913, 'pile': 8914, 'piler': 8915, 'piling': 8916, 'pill': 8917, 'pillage': 8918, 'pilling': 8919, 'pillitteri': 8920, 'pillow': 8921, 'pilot': 8922, 'pilsner': 8923, 'pimentel': 8924, 'pin': 8925, 'pinch': 8926, 'pinduoduo': 8927, 'pinellas': 8928, 'pinker': 8929, 'pinnacle': 8930, 'pint': 8931, 'pinterest': 8932, 'pinto': 8933, 'pip': 8934, 'pipe': 8935, 'pipeline': 8936, 'pippa': 8937, 'pirate': 8938, 'pirates': 8939, 'pirmasens': 8940, 'piscespieceshandmade': 8941, 'piss': 8942, 'pitampura': 8943, 'pitch': 8944, 'pitiful': 8945, 'pittis': 8946, 'pittsburgh': 8947, 'pivot': 8948, 'pivots': 8949, 'pizza': 8950, 'pj': 8951, 'pk': 8952, 'pl': 8953, 'place': 8954, 'placebo': 8955, 'places': 8956, 'placeshospital': 8957, 'plague': 8958, 'plain': 8959, 'plan': 8960, 'plane': 8961, 'planet': 8962, 'planning': 8963, 'plant': 8964, 'plantain': 8965, 'planting': 8966, 'plantings': 8967, 'plants': 8968, 'plashet': 8969, 'plastic': 8970, 'plasticand': 8971, 'plate': 8972, 'platform': 8973, 'platforms': 8974, 'platts': 8975, 'play': 8976, 'playbook': 8977, 'player': 8978, 'playground': 8979, 'playin': 8980, 'playing': 8981, 'playlist': 8982, 'playstation': 8983, 'playthe': 8984, 'plaza': 8985, 'plc': 8986, 'plcb': 8987, 'ple': 8988, 'plea': 8989, 'plead': 8990, 'pleasant': 8991, 'pleasantly': 8992, 'please': 8993, 'pleased': 8994, 'pleaseeeeeeee': 8995, 'pleasure': 8996, 'pledge': 8997, 'pleeease': 8998, 'plenary': 8999, 'plentiful': 9000, 'plenty': 9001, 'plentyfull': 9002, 'plethora': 9003, 'plexiglass': 9004, 'plight': 9005, 'pll': 9006, 'plnt': 9007, 'plow': 9008, 'pls': 9009, 'plss': 9010, 'plsss': 9011, 'plug': 9012, 'plugin': 9013, 'plumber': 9014, 'plumbers': 9015, 'plummet': 9016, 'plunge': 9017, 'plungethe': 9018, 'plus': 9019, 'ply': 9020, 'plz': 9021, 'pm': 9022, 'pma': 9023, 'pneumonia': 9024, 'pnico': 9025, 'po': 9026, 'poac': 9027, 'pocket': 9028, 'pocketbook': 9029, 'pocketbooks': 9030, 'poco': 9031, 'pod': 9032, 'podcast': 9033, 'podcastsspotifypandora': 9034, 'pods': 9035, 'poin': 9036, 'point': 9037, 'pointer': 9038, 'pointless': 9039, 'points': 9040, 'pointspeople': 9041, 'poise': 9042, 'poison': 9043, 'poisoning': 9044, 'poisonous': 9045, 'poitin': 9046, 'poke': 9047, 'polaris': 9048, 'polarizer': 9049, 'police': 9050, 'policeman': 9051, 'policemen': 9052, 'policy': 9053, 'policyholder': 9054, 'policymaker': 9055, 'polio': 9056, 'polis': 9057, 'polish': 9058, 'politely': 9059, 'politic': 9060, 'political': 9061, 'politician': 9062, 'poll': 9063, 'pollen': 9064, 'polls': 9065, 'polluted': 9066, 'pollution': 9067, 'polly': 9068, 'polyester': 9069, 'polymer': 9070, 'polypropylene': 9071, 'pomade': 9072, 'pond': 9073, 'ponyboy': 9074, 'pooch': 9075, 'pooe': 9076, 'pooh': 9077, 'pool': 9078, 'pools': 9079, 'poop': 9080, 'poope': 9081, 'poopoo': 9082, 'poor': 9083, 'poorly': 9084, 'poors': 9085, 'pop': 9086, 'popk': 9087, 'popular': 9088, 'popularity': 9089, 'populated': 9090, 'population': 9091, 'popup': 9092, 'por': 9093, 'porch': 9094, 'pork': 9095, 'porridge': 9096, 'porsche': 9097, 'port': 9098, 'portable': 9099, 'portage': 9100, 'portal': 9101, 'portapottie': 9102, 'porter': 9103, 'portfolio': 9104, 'portion': 9105, 'portman': 9106, 'portrayal': 9107, 'portugal': 9108, 'pos': 9109, 'pose': 9110, 'posho': 9111, 'position': 9112, 'positional': 9113, 'positioned': 9114, 'positiva': 9115, 'positive': 9116, 'positively': 9117, 'positivity': 9118, 'possi': 9119, 'possibility': 9120, 'possible': 9121, 'possibly': 9122, 'post': 9123, 'postage': 9124, 'postal': 9125, 'postcard': 9126, 'postcoronavirus': 9127, 'postcovid': 9128, 'poster': 9129, 'posterior': 9130, 'postie': 9131, 'posting': 9132, 'postive': 9133, 'postman': 9134, 'postpandemic': 9135, 'postpone': 9136, 'postponement': 9137, 'postpost': 9138, 'postquarantine': 9139, 'pot': 9140, 'potato': 9141, 'potatoe': 9142, 'potatono': 9143, 'potent': 9144, 'potential': 9145, 'potentially': 9146, 'potion': 9147, 'potts': 9148, 'potty': 9149, 'poultry': 9150, 'pound': 9151, 'poundstretcher': 9152, 'pour': 9153, 'pourhouse': 9154, 'poverty': 9155, 'powder': 9156, 'power': 9157, 'powerful': 9158, 'powerless': 9159, 'powers': 9160, 'pp': 9161, 'ppe': 9162, 'ppes': 9163, 'ppethis': 9164, 'ppl': 9165, 'ppp': 9166, 'pps': 9167, 'ppv': 9168, 'pr': 9169, 'practical': 9170, 'practically': 9171, 'practice': 9172, 'practices': 9173, 'practise': 9174, 'practitioner': 9175, 'praise': 9176, 'prajala': 9177, 'pranayam': 9178, 'prank': 9179, 'pranked': 9180, 'prankster': 9181, 'prasad': 9182, 'pratley': 9183, 'praunheim': 9184, 'prawn': 9185, 'pray': 9186, 'prayer': 9187, 'prc': 9188, 'pre': 9189, 'preach': 9190, 'preandpost': 9191, 'precaution': 9192, 'precautionary': 9193, 'precedented': 9194, 'precente': 9195, 'prechristmas': 9196, 'precious': 9197, 'precipitously': 9198, 'precisely': 9199, 'preclude': 9200, 'precovid': 9201, 'preda': 9202, 'predatory': 9203, 'predict': 9204, 'prediction': 9205, 'predominant': 9206, 'predominantly': 9207, 'preemptive': 9208, 'prefer': 9209, 'preferable': 9210, 'preference': 9211, 'preferences': 9212, 'pregnancy': 9213, 'pregnant': 9214, 'pregnantwe': 9215, 'prelim': 9216, 'preliminary': 9217, 'premade': 9218, 'premankur': 9219, 'premier': 9220, 'premiership': 9221, 'premise': 9222, 'premium': 9223, 'preorder': 9224, 'preordering': 9225, 'prep': 9226, 'prepacked': 9227, 'preparation': 9228, 'prepare': 9229, 'prepared': 9230, 'preparedness': 9231, 'prepayment': 9232, 'prepesach': 9233, 'prepper': 9234, 'preppers': 9235, 'pres': 9236, 'prescient': 9237, 'prescribe': 9238, 'prescribing': 9239, 'prescription': 9240, 'prescriptive': 9241, 'presence': 9242, 'present': 9243, 'presenter': 9244, 'preservative': 9245, 'preserve': 9246, 'presidency': 9247, 'president': 9248, 'presidential': 9249, 'press': 9250, 'presses': 9251, 'pressing': 9252, 'pressure': 9253, 'prestige': 9254, 'preston': 9255, 'presumably': 9256, 'pretect': 9257, 'pretend': 9258, 'prethinker': 9259, 'pretty': 9260, 'pretzel': 9261, 'prev': 9262, 'prevail': 9263, 'prevalent': 9264, 'prevent': 9265, 'prevention': 9266, 'preventive': 9267, 'preview': 9268, 'previous': 9269, 'previously': 9270, 'prey': 9271, 'pri': 9272, 'price': 9273, 'pricee': 9274, 'pricegouge': 9275, 'pricegouging': 9276, 'priceless': 9277, 'prices': 9278, 'pricesand': 9279, 'pricescan': 9280, 'pricesgo': 9281, 'pricesif': 9282, 'pricesive': 9283, 'pricesiyoh': 9284, 'priceslast': 9285, 'pricesthe': 9286, 'pricesthey': 9287, 'pricesway': 9288, 'pricey': 9289, 'priceyes': 9290, 'pricing': 9291, 'prick': 9292, 'pride': 9293, 'primarily': 9294, 'primark': 9295, 'primary': 9296, 'prime': 9297, 'primer': 9298, 'primitive': 9299, 'primitives': 9300, 'prince': 9301, 'princess': 9302, 'princeton': 9303, 'princip': 9304, 'principal': 9305, 'principle': 9306, 'pringles': 9307, 'print': 9308, 'printed': 9309, 'printer': 9310, 'printing': 9311, 'printpatente': 9312, 'priode': 9313, 'prior': 9314, 'priorities': 9315, 'prioritise': 9316, 'prioritization': 9317, 'prioritize': 9318, 'prioritizing': 9319, 'priority': 9320, 'prison': 9321, 'prisoner': 9322, 'prisonwhereas': 9323, 'pristine': 9324, 'priti': 9325, 'priv': 9326, 'privacy': 9327, 'private': 9328, 'privately': 9329, 'privilege': 9330, 'prix': 9331, 'prmie': 9332, 'pro': 9333, 'proactive': 9334, 'proactively': 9335, 'prob': 9336, 'probably': 9337, 'probe': 9338, 'probl': 9339, 'problem': 9340, 'problematic': 9341, 'probs': 9342, 'procedure': 9343, 'proceed': 9344, 'process': 9345, 'processing': 9346, 'processor': 9347, 'processors': 9348, 'proclaim': 9349, 'procure': 9350, 'procurement': 9351, 'prod': 9352, 'produce': 9353, 'producer': 9354, 'producers': 9355, 'product': 9356, 'production': 9357, 'productionn': 9358, 'productions': 9359, 'productionwhich': 9360, 'productive': 9361, 'productively': 9362, 'productivity': 9363, 'products': 9364, 'produit': 9365, 'prof': 9366, 'profession': 9367, 'professional': 9368, 'professionalism': 9369, 'professor': 9370, 'profit': 9371, 'profitability': 9372, 'profitable': 9373, 'profiteer': 9374, 'profiteering': 9375, 'profiteers': 9376, 'profiting': 9377, 'profitte': 9378, 'profound': 9379, 'prog': 9380, 'progess': 9381, 'program': 9382, 'programme': 9383, 'programming': 9384, 'programs': 9385, 'progress': 9386, 'progressive': 9387, 'prohibit': 9388, 'proje': 9389, 'project': 9390, 'projection': 9391, 'prolific': 9392, 'prolly': 9393, 'prolong': 9394, 'prolonged': 9395, 'prom': 9396, 'prominent': 9397, 'promise': 9398, 'promo': 9399, 'promote': 9400, 'promotion': 9401, 'prompt': 9402, 'prone': 9403, 'pronto': 9404, 'proof': 9405, 'proozy': 9406, 'prop': 9407, 'propaganda': 9408, 'propcos': 9409, 'proper': 9410, 'properly': 9411, 'property': 9412, 'prophecy': 9413, 'prophet': 9414, 'prophylactic': 9415, 'prople': 9416, 'proponent': 9417, 'proportion': 9418, 'proposal': 9419, 'propose': 9420, 'proposition': 9421, 'proprietary': 9422, 'proprietor': 9423, 'propublica': 9424, 'propylene': 9425, 'prosecute': 9426, 'prosecution': 9427, 'proshop': 9428, 'prospect': 9429, 'prospective': 9430, 'prosperity': 9431, 'prostitutebut': 9432, 'protec': 9433, 'protect': 9434, 'protection': 9435, 'protections': 9436, 'protective': 9437, 'protein': 9438, 'protest': 9439, 'protests': 9440, 'protocol': 9441, 'protocols': 9442, 'prototype': 9443, 'proud': 9444, 'proudest': 9445, 'proudly': 9446, 'provde': 9447, 'prove': 9448, 'provide': 9449, 'provider': 9450, 'providers': 9451, 'province': 9452, 'provincial': 9453, 'provision': 9454, 'proximity': 9455, 'proxy': 9456, 'prudent': 9457, 'prudential': 9458, 'ps': 9459, 'psa': 9460, 'psalm': 9461, 'pshsb': 9462, 'pss': 9463, 'psyche': 9464, 'psychological': 9465, 'psychologist': 9466, 'psychology': 9467, 'pt': 9468, 'pterodactyls': 9469, 'pto': 9470, 'pu': 9471, 'pub': 9472, 'pubcos': 9473, 'public': 9474, 'publication': 9475, 'publiccant': 9476, 'publicly': 9477, 'publicmake': 9478, 'publish': 9479, 'published': 9480, 'publisher': 9481, 'publix': 9482, 'pubs': 9483, 'pudding': 9484, 'puerto': 9485, 'pug': 9486, 'pull': 9487, 'pulse': 9488, 'pump': 9489, 'pun': 9490, 'punch': 9491, 'pundit': 9492, 'pune': 9493, 'punish': 9494, 'punishing': 9495, 'punjab': 9496, 'purchase': 9497, 'purchaser': 9498, 'purchases': 9499, 'purchasin': 9500, 'purchasing': 9501, 'pure': 9502, 'purell': 9503, 'purely': 9504, 'purgatory': 9505, 'puri': 9506, 'purpose': 9507, 'purposefully': 9508, 'purposele': 9509, 'purposely': 9510, 'purrell': 9511, 'purse': 9512, 'pursuit': 9513, 'push': 9514, 'pushback': 9515, 'pushes': 9516, 'put': 9517, 'putin': 9518, 'putting': 9519, 'puur': 9520, 'pwani': 9521, 'pwc': 9522, 'pweek': 9523, 'pyjama': 9524, 'pymnt': 9525, 'pyramid': 9526, 'q': 9527, 'qai': 9528, 'qampa': 9529, 'qampas': 9530, 'qatar': 9531, 'qell': 9532, 'qqq': 9533, 'qr': 9534, 'qs': 9535, 'qt': 9536, 'qty': 9537, 'qu': 9538, 'quadruple': 9539, 'quake': 9540, 'qualification': 9541, 'qualifie': 9542, 'qualified': 9543, 'qualify': 9544, 'qualifying': 9545, 'qualitative': 9546, 'quality': 9547, 'quantify': 9548, 'quantitative': 9549, 'quantity': 9550, 'quarantine': 9551, 'quarantined': 9552, 'quarantinediaries': 9553, 'quarantines': 9554, 'quaratine': 9555, 'quarter': 9556, 'quarterly': 9557, 'qubcois': 9558, 'qubec': 9559, 'que': 9560, 'quebec': 9561, 'quee': 9562, 'queen': 9563, 'queens': 9564, 'queensland': 9565, 'queer': 9566, 'quell': 9567, 'query': 9568, 'quesadillas': 9569, 'quest': 9570, 'question': 9571, 'questiona': 9572, 'questionable': 9573, 'questionsay': 9574, 'quetion': 9575, 'queue': 9576, 'queues': 9577, 'queuing': 9578, 'quezon': 9579, 'quiche': 9580, 'quick': 9581, 'quickl': 9582, 'quickly': 9583, 'quiet': 9584, 'quieter': 9585, 'quietly': 9586, 'quijadacnn': 9587, 'quilt': 9588, 'quilted': 9589, 'quinine': 9590, 'quiroga': 9591, 'quit': 9592, 'quiz': 9593, 'quota': 9594, 'quote': 9595, 'quran': 9596, 'r': 9597, 'rabbit': 9598, 'rabun': 9599, 'raccoon': 9600, 'race': 9601, 'raceno': 9602, 'rachael': 9603, 'rachel': 9604, 'racism': 9605, 'racist': 9606, 'rack': 9607, 'rad': 9608, 'radical': 9609, 'radically': 9610, 'radinsky': 9611, 'radio': 9612, 'radius': 9613, 'rafael': 9614, 'raffat': 9615, 'rag': 9616, 'rage': 9617, 'rahim': 9618, 'rahman': 9619, 'raica': 9620, 'raid': 9621, 'raidsin': 9622, 'rail': 9623, 'raila': 9624, 'railway': 9625, 'railways': 9626, 'rain': 9627, 'rainy': 9628, 'raise': 9629, 'raisesbonusesdividend': 9630, 'raisin': 9631, 'raising': 9632, 'rajagopalan': 9633, 'rake': 9634, 'rallies': 9635, 'rally': 9636, 'rallybye': 9637, 'ralphs': 9638, 'ram': 9639, 'ramadan': 9640, 'raman': 9641, 'ramaphosa': 9642, 'ramification': 9643, 'ramin': 9644, 'ramli': 9645, 'ramp': 9646, 'rampage': 9647, 'rampant': 9648, 'rampedup': 9649, 'rampid': 9650, 'rampr': 9651, 'ramune': 9652, 'ran': 9653, 'ranch': 9654, 'rancher': 9655, 'ranchers': 9656, 'rand': 9657, 'randburg': 9658, 'random': 9659, 'randomly': 9660, 'ranga': 9661, 'range': 9662, 'ranger': 9663, 'rank': 9664, 'ransack': 9665, 'ransom': 9666, 'rant': 9667, 'rao': 9668, 'rape': 9669, 'rapid': 9670, 'rapidly': 9671, 'rapture': 9672, 'rare': 9673, 'rarely': 9674, 'rashmi': 9675, 'rat': 9676, 'rate': 9677, 'rates': 9678, 'rathi': 9679, 'rating': 9680, 'ratio': 9681, 'ration': 9682, 'rational': 9683, 'rationing': 9684, 'rations': 9685, 'ratnadeep': 9686, 'rattle': 9687, 'rattles': 9688, 'raul': 9689, 'raunheim': 9690, 'ravage': 9691, 'ravages': 9692, 'rave': 9693, 'ravenous': 9694, 'ravindra': 9695, 'raw': 9696, 'rawfoodsvegetablemasksanitizeramp': 9697, 'ray': 9698, 'raymond': 9699, 'rbc': 9700, 'rbi': 9701, 'rcb': 9702, 'rd': 9703, 'rdc': 9704, 're': 9705, 'reach': 9706, 'react': 9707, 'reaction': 9708, 'reactionsthe': 9709, 'reacts': 9710, 'read': 9711, 'readabilitydesign': 9712, 'reader': 9713, 'readers': 9714, 'readily': 9715, 'reading': 9716, 'ready': 9717, 'readymade': 9718, 'reaffirm': 9719, 'real': 9720, 'realeyes': 9721, 'realise': 9722, 'realism': 9723, 'realistic': 9724, 'reality': 9725, 'realize': 9726, 'reallife': 9727, 'realtime': 9728, 'realtor': 9729, 'realtors': 9730, 'realworld': 9731, 'reappear': 9732, 'rear': 9733, 'reasi': 9734, 'reason': 9735, 'reasonable': 9736, 'reasons': 9737, 'reassess': 9738, 'reassurance': 9739, 'reassure': 9740, 'reassuring': 9741, 'rebate': 9742, 'rebecca': 9743, 'rebel': 9744, 'rebottle': 9745, 'rebound': 9746, 'rebrand': 9747, 'rebuild': 9748, 'recall': 9749, 'recap': 9750, 'reccomend': 9751, 'recd': 9752, 'receipt': 9753, 'receive': 9754, 'receiving': 9755, 'recent': 9756, 'recently': 9757, 'receptionist': 9758, 'receptive': 9759, 'recession': 9760, 'recessionary': 9761, 'recipe': 9762, 'recipient': 9763, 'reckless': 9764, 'recklessness': 9765, 'reckon': 9766, 'reco': 9767, 'recognise': 9768, 'recognition': 9769, 'recognize': 9770, 'recommend': 9771, 'recommendation': 9772, 'reconsider': 9773, 'record': 9774, 'recording': 9775, 'recordsit': 9776, 'recoronate': 9777, 'recover': 9778, 'recovery': 9779, 'recreate': 9780, 'recreates': 9781, 'recreation': 9782, 'recruit': 9783, 'recruitment': 9784, 'rectify': 9785, 'recur': 9786, 'recycle': 9787, 'recycling': 9788, 'red': 9789, 'redbubble': 9790, 'redditor': 9791, 'redeem': 9792, 'redefine': 9793, 'redeploy': 9794, 'redirect': 9795, 'redistribute': 9796, 'redistribution': 9797, 'redo': 9798, 'redressal': 9799, 'redshift': 9800, 'reduce': 9801, 'reduced': 9802, 'reducng': 9803, 'reduction': 9804, 'redundancy': 9805, 'reel': 9806, 'reelection': 9807, 'reexamine': 9808, 'refer': 9809, 'reference': 9810, 'referral': 9811, 'refill': 9812, 'refining': 9813, 'reflect': 9814, 'reflection': 9815, 'reflexive': 9816, 'reform': 9817, 'refrain': 9818, 'refreshing': 9819, 'refrie': 9820, 'refrigerator': 9821, 'refuge': 9822, 'refugee': 9823, 'refund': 9824, 'refundcredit': 9825, 'refundvoucher': 9826, 'refuse': 9827, 'reg': 9828, 'regain': 9829, 'regard': 9830, 'regardless': 9831, 'regenerate': 9832, 'regierung': 9833, 'regime': 9834, 'regimes': 9835, 'region': 9836, 'regional': 9837, 'register': 9838, 'registration': 9839, 'registry': 9840, 'regret': 9841, 'regrow': 9842, 'regular': 9843, 'regularly': 9844, 'regularlyeat': 9845, 'regulate': 9846, 'regulated': 9847, 'regulating': 9848, 'regulation': 9849, 'regulations': 9850, 'regulator': 9851, 'regulatory': 9852, 'rehabilitation': 9853, 'reign': 9854, 'reignite': 9855, 'reimagine': 9856, 'reimburse': 9857, 'reinforce': 9858, 'reinvent': 9859, 'reinvest': 9860, 'reinveste': 9861, 'reissue': 9862, 'reit': 9863, 'reiterate': 9864, 'reject': 9865, 'rejig': 9866, 'relate': 9867, 'related': 9868, 'relation': 9869, 'relationship': 9870, 'relative': 9871, 'relatively': 9872, 'relaunche': 9873, 'relavant': 9874, 'relax': 9875, 'relaxation': 9876, 'relaxing': 9877, 'relay': 9878, 'release': 9879, 'releases': 9880, 'relevant': 9881, 'reliable': 9882, 'reliance': 9883, 'reliant': 9884, 'relief': 9885, 'relieve': 9886, 'relieved': 9887, 'religion': 9888, 'relocate': 9889, 'relook': 9890, 'rely': 9891, 'remain': 9892, 'remainclose': 9893, 'remains': 9894, 'remake': 9895, 'remark': 9896, 'remarkable': 9897, 'remarkably': 9898, 'remeber': 9899, 'remedy': 9900, 'remember': 9901, 'remembert': 9902, 'remind': 9903, 'reminder': 9904, 'remittance': 9905, 'remodel': 9906, 'remote': 9907, 'remotely': 9908, 'remove': 9909, 'removedoutsidethen': 9910, 'remover': 9911, 'remuneration': 9912, 'ren': 9913, 'renaissance': 9914, 'render': 9915, 'renew': 9916, 'renewable': 9917, 'renewal': 9918, 'rent': 9919, 'rental': 9920, 'renter': 9921, 'reopen': 9922, 'reopened': 9923, 'reoutbreaks': 9924, 'rep': 9925, 'repair': 9926, 'repatriate': 9927, 'repatriation': 9928, 'repay': 9929, 'repayment': 9930, 'repeat': 9931, 'repetition': 9932, 'repetitive': 9933, 'repite': 9934, 'replace': 9935, 'replacement': 9936, 'replay': 9937, 'replenish': 9938, 'replenishment': 9939, 'reply': 9940, 'reporrts': 9941, 'report': 9942, 'reportedly': 9943, 'reporter': 9944, 'reporting': 9945, 'reports': 9946, 'reportview': 9947, 'repository': 9948, 'repost': 9949, 'reposte': 9950, 'reppin': 9951, 'reprehensible': 9952, 'represent': 9953, 'representative': 9954, 'representatives': 9955, 'reprieve': 9956, 'reprint': 9957, 'reprogramme': 9958, 'reps': 9959, 'republic': 9960, 'republican': 9961, 'republicans': 9962, 'repurpose': 9963, 'repurposed': 9964, 'reputable': 9965, 'reputation': 9966, 'repute': 9967, 'request': 9968, 'require': 9969, 'required': 9970, 'requirement': 9971, 'requisition': 9972, 'rerack': 9973, 'res': 9974, 'resale': 9975, 'reschedule': 9976, 'rescue': 9977, 'research': 9978, 'researcher': 9979, 'resell': 9980, 'reseller': 9981, 'reservation': 9982, 'reservations': 9983, 'reservationsonly': 9984, 'reserve': 9985, 'reset': 9986, 'reshape': 9987, 'reshapes': 9988, 'reshaping': 9989, 'reshift': 9990, 'reside': 9991, 'residence': 9992, 'residency': 9993, 'resident': 9994, 'residential': 9995, 'residents': 9996, 'resilience': 9997, 'resiliency': 9998, 'resilient': 9999, 'resist': 10000, 'resistance': 10001, 'resistant': 10002, 'resold': 10003, 'resolution': 10004, 'resolve': 10005, 'resonate': 10006, 'resort': 10007, 'resource': 10008, 'resourceful': 10009, 'resources': 10010, 'resourcesprogramsresponse': 10011, 'respect': 10012, 'respectable': 10013, 'respected': 10014, 'respectful': 10015, 'respectfully': 10016, 'respective': 10017, 'respectively': 10018, 'respirator': 10019, 'respiratory': 10020, 'respite': 10021, 'respo': 10022, 'respond': 10023, 'respondent': 10024, 'responder': 10025, 'responders': 10026, 'respondersfiremengrocery': 10027, 'respons': 10028, 'response': 10029, 'responsenot': 10030, 'responses': 10031, 'responsibility': 10032, 'responsible': 10033, 'responsibly': 10034, 'responsiveness': 10035, 'rest': 10036, 'restaff': 10037, 'restart': 10038, 'restaurant': 10039, 'restaurants': 10040, 'restaurantsdel': 10041, \"restaurantsi've\": 10042, 'restaurateur': 10043, 'restock': 10044, 'restocker': 10045, 'restocking': 10046, 'restockingcleane': 10047, 'restore': 10048, 'restrict': 10049, 'restriction': 10050, 'restroom': 10051, 'resturant': 10052, 'result': 10053, 'resulting': 10054, 'resume': 10055, 'resumption': 10056, 'resurgence': 10057, 'resuscitate': 10058, 'retail': 10059, 'retailer': 10060, 'retailers': 10061, 'retailgazette': 10062, 'retailgrocery': 10063, 'retailing': 10064, 'retain': 10065, 'retard': 10066, 'retention': 10067, 'rethink': 10068, 'retire': 10069, 'retirement': 10070, 'retort': 10071, 'retreat': 10072, 'retrenchmentdemandpull': 10073, 'retrievable': 10074, 'retrieve': 10075, 'retroactive': 10076, 'retrogress': 10077, 'return': 10078, 'retweet': 10079, 'retweete': 10080, 'retweeting': 10081, 'retweets': 10082, 'reusable': 10083, 'reuse': 10084, 'reuters': 10085, 'rev': 10086, 'reveal': 10087, 'revealedthe': 10088, 'reveals': 10089, 'revel': 10090, 'revelations': 10091, 'revenue': 10092, 'revenues': 10093, 'revera': 10094, 'reverend': 10095, 'reverentialsympathetic': 10096, 'reverse': 10097, 'revew': 10098, 'review': 10099, 'revise': 10100, 'revised': 10101, 'revision': 10102, 'revisit': 10103, 'revival': 10104, 'revive': 10105, 'revoke': 10106, 'revolution': 10107, 'revolve': 10108, 'reward': 10109, 'rewe': 10110, 'rewrote': 10111, 'rex': 10112, 'reyes': 10113, 'reynders': 10114, 'rga': 10115, 'rhe': 10116, 'rhinewestphalia': 10117, 'rhodesconway': 10118, 'ri': 10119, 'riau': 10120, 'rib': 10121, 'ricard': 10122, 'rice': 10123, 'rich': 10124, 'richa': 10125, 'richard': 10126, 'richardson': 10127, 'richmond': 10128, 'richpoor': 10129, 'rickford': 10130, 'rico': 10131, 'rid': 10132, 'riddance': 10133, 'ride': 10134, 'rider': 10135, 'ridicule': 10136, 'ridiculous': 10137, 'ridiculously': 10138, 'ridiculousness': 10139, 'riding': 10140, 'rife': 10141, 'riffa': 10142, 'rig': 10143, 'right': 10144, 'rightly': 10145, 'rights': 10146, 'rightthis': 10147, 'rightwhoever': 10148, 'rind': 10149, 'ring': 10150, 'rinse': 10151, 'riot': 10152, 'rip': 10153, 'ripoff': 10154, 'rippedoff': 10155, 'rippingoff': 10156, 'ripple': 10157, 'rise': 10158, 'rishi': 10159, 'rising': 10160, 'risk': 10161, 'riskmy': 10162, 'risky': 10163, 'rite': 10164, 'ritual': 10165, 'ritualsbiinky': 10166, 'rival': 10167, 'riverina': 10168, 'riyadh': 10169, 'rm': 10170, 'rmbt': 10171, 'rmc': 10172, 'rn': 10173, 'rnib': 10174, 'roa': 10175, 'road': 10176, 'roadblock': 10177, 'roadcharge': 10178, 'roadrunner': 10179, 'roar': 10180, 'roaring': 10181, 'rob': 10182, 'robbery': 10183, 'robert': 10184, 'robertson': 10185, 'robin': 10186, 'robinsons': 10187, 'robocall': 10188, 'robocalls': 10189, 'robot': 10190, 'robotic': 10191, 'robson': 10192, 'robust': 10193, 'rochester': 10194, 'rocio': 10195, 'rock': 10196, 'rockbottom': 10197, 'rocket': 10198, 'rod': 10199, 'rogan': 10200, 'roger': 10201, 'rogers': 10202, 'rohini': 10203, 'rohrbaugh': 10204, 'roil': 10205, 'role': 10206, 'rolex': 10207, 'roll': 10208, 'rollback': 10209, 'rollercoaster': 10210, 'rolling': 10211, 'rolloh': 10212, 'rollout': 10213, 'romaine': 10214, 'romania': 10215, 'rome': 10216, 'ron': 10217, 'rona': 10218, 'ronaldo': 10219, 'rongai': 10220, 'roof': 10221, 'room': 10222, 'root': 10223, 'rootsnow': 10224, 'roseafter': 10225, 'rosengren': 10226, 'roshida': 10227, 'rospotrebnadzor': 10228, 'rosy': 10229, 'rot': 10230, 'rothman': 10231, 'roti': 10232, 'rotsa': 10233, 'rotunden': 10234, 'rouble': 10235, 'rough': 10236, 'roughlow': 10237, 'roughly': 10238, 'roulette': 10239, 'round': 10240, 'roundtable': 10241, 'roundtrip': 10242, 'roundup': 10243, 'roundy': 10244, 'roussin': 10245, 'rout': 10246, 'route': 10247, 'router': 10248, 'routine': 10249, 'routinely': 10250, 'row': 10251, 'roy': 10252, 'royal': 10253, 'royalty': 10254, 'rq': 10255, 'rs': 10256, 'rsltr': 10257, 'rsr': 10258, 'rss': 10259, 'rsvp': 10260, 'rt': 10261, 'rtgs': 10262, 'rtpcr': 10263, 'ru': 10264, 'rub': 10265, 'rubber': 10266, 'rubbing': 10267, 'rubbish': 10268, 'ruble': 10269, 'ruby': 10270, 'ruck': 10271, 'rude': 10272, 'rudely': 10273, 'ruffalo': 10274, 'ruhle': 10275, 'ruin': 10276, 'ruins': 10277, 'ruiru': 10278, 'rule': 10279, 'ruler': 10280, 'ruling': 10281, 'rum': 10282, 'rumor': 10283, 'rumour': 10284, 'rumours': 10285, 'run': 10286, 'runda': 10287, 'rundown': 10288, 'runner': 10289, 'running': 10290, 'runon': 10291, 'rupee': 10292, 'rupert': 10293, 'rupture': 10294, 'rural': 10295, 'rush': 10296, 'russher': 10297, 'russia': 10298, 'russian': 10299, 'russians': 10300, 'russiasaudi': 10301, 'ruthless': 10302, 'ruthlessly': 10303, 'rwanda': 10304, 'rwjbarnabas': 10305, 'rx': 10306, 'ryan': 10307, 'ryu': 10308, 'ryvita': 10309, 's': 10310, 'sa': 10311, 'saa': 10312, 'sab': 10313, 'sabzi': 10314, 'sacha': 10315, 'sacramento': 10316, 'sacramentoarea': 10317, 'sacred': 10318, 'sacrifice': 10319, 'sad': 10320, 'sadbuye': 10321, 'sadden': 10322, 'saddle': 10323, 'sadly': 10324, 'sadpathetic': 10325, 'sadtire': 10326, 'saf': 10327, 'safal': 10328, 'safe': 10329, 'safeguard': 10330, 'safely': 10331, 'safety': 10332, 'safetyfusion': 10333, 'safetyhygiene': 10334, 'safeway': 10335, 'sahulat': 10336, 'sainsbury': 10337, 'sainsburys': 10338, 'saint': 10339, 'sake': 10340, 'sakhile': 10341, 'sakura': 10342, 'sala': 10343, 'salaam': 10344, 'salad': 10345, 'salar': 10346, 'salary': 10347, 'sale': 10348, 'salehiisfahani': 10349, 'salem': 10350, 'sales': 10351, 'salesmanration': 10352, 'salessss': 10353, 'salinas': 10354, 'saliva': 10355, 'salle': 10356, 'salman': 10357, 'salon': 10358, 'salt': 10359, 'salute': 10360, 'salux': 10361, 'salvation': 10362, 'salvos': 10363, 'sam': 10364, 'samaritans': 10365, 'sameor': 10366, 'sampai': 10367, 'sample': 10368, 'sampp': 10369, 'sampr': 10370, 'samreen': 10371, 'sams': 10372, 'samsclub': 10373, 'samsung': 10374, 'samuel': 10375, 'san': 10376, 'sana': 10377, 'sanauto': 10378, 'sanctifier': 10379, 'sanction': 10380, 'sanctionscovid': 10381, 'sand': 10382, 'sandbox': 10383, 'sandeep': 10384, 'sanders': 10385, 'sandler': 10386, 'sandpoint': 10387, 'sandwich': 10388, 'sane': 10389, 'sanglangmy': 10390, 'sanitarias': 10391, 'sanitary': 10392, 'sanitation': 10393, 'saniter': 10394, 'sanitise': 10395, 'sanitiser': 10396, 'sanitisers': 10397, 'sanitiz': 10398, 'sanitization': 10399, 'sanitize': 10400, 'sanitizer': 10401, 'sanitizercontaine': 10402, 'sanitizergt': 10403, 'sanitizers': 10404, 'sanitizing': 10405, 'sanity': 10406, 'sanitzer': 10407, 'sanjana': 10408, 'santa': 10409, 'santana': 10410, 'santion': 10411, 'santize': 10412, 'santizer': 10413, 'santorini': 10414, 'sanusi': 10415, 'sappy': 10416, 'sara': 10417, 'saratoga': 10418, 'sarbananda': 10419, 'sardine': 10420, 'sars': 10421, 'sarscov': 10422, 'sashay': 10423, 'sassescottscottgraham': 10424, 'sat': 10425, 'satisfy': 10426, 'satu': 10427, 'satunya': 10428, 'saturation': 10429, 'saturday': 10430, 'saturdays': 10431, 'sauce': 10432, 'saud': 10433, 'sauda': 10434, 'saudi': 10435, 'saudibase': 10436, 'saudirussia': 10437, 'saudis': 10438, 'sauer': 10439, 'saugata': 10440, 'saulevu': 10441, 'sausage': 10442, 'savage': 10443, 'savannah': 10444, 'save': 10445, 'savemore': 10446, 'saver': 10447, 'savin': 10448, 'saving': 10449, 'saviour': 10450, 'savlon': 10451, 'savvy': 10452, 'saw': 10453, 'say': 10454, 'saying': 10455, 'says': 10456, 'saywho': 10457, 'sb': 10458, 'sbs': 10459, 'scale': 10460, 'scalefast': 10461, 'scam': 10462, 'scamdemic': 10463, 'scamfake': 10464, 'scamme': 10465, 'scammer': 10466, 'scammers': 10467, 'scams': 10468, 'scamwatch': 10469, 'scan': 10470, 'scandalous': 10471, 'scanky': 10472, 'scanner': 10473, 'scarborough': 10474, 'scarce': 10475, 'scarcity': 10476, 'scare': 10477, 'scared': 10478, 'scarefest': 10479, 'scaremongere': 10480, 'scarf': 10481, 'scarsdale': 10482, 'scary': 10483, 'scat': 10484, 'scenario': 10485, 'scene': 10486, 'scenes': 10487, 'scent': 10488, 'scented': 10489, 'schedule': 10490, 'scheduled': 10491, 'scheduling': 10492, 'scheme': 10493, 'schiff': 10494, 'schlesinger': 10495, 'schmeling': 10496, 'schmidt': 10497, 'schmitt': 10498, 'schnuck': 10499, 'scholar': 10500, 'school': 10501, 'schoolage': 10502, 'schools': 10503, 'schoolteacher': 10504, 'science': 10505, 'sciences': 10506, 'scientific': 10507, 'scientifically': 10508, 'scientist': 10509, 'scold': 10510, 'scoop': 10511, 'scooter': 10512, 'scope': 10513, 'score': 10514, 'scotch': 10515, 'scotia': 10516, 'scotland': 10517, 'scotlands': 10518, 'scott': 10519, 'scottish': 10520, 'scourge': 10521, 'scramble': 10522, 'scrape': 10523, 'scrappage': 10524, 'scratch': 10525, 'scream': 10526, 'screen': 10527, 'screening': 10528, 'screens': 10529, 'screw': 10530, 'scroll': 10531, 'scrub': 10532, 'scrubbed': 10533, 'scruffy': 10534, 'scrum': 10535, 'scrutiny': 10536, 'scs': 10537, 'sculpture': 10538, 'scum': 10539, 'sd': 10540, 'sddistatty': 10541, 'se': 10542, 'sea': 10543, 'seaborne': 10544, 'seafarer': 10545, 'seafood': 10546, 'seagulls': 10547, 'seal': 10548, 'sealand': 10549, 'search': 10550, 'seashell': 10551, 'season': 10552, 'seasonal': 10553, 'seat': 10554, 'seatbelt': 10555, 'seater': 10556, 'seattle': 10557, 'seattlebase': 10558, 'sec': 10559, 'seclusion': 10560, 'second': 10561, 'secondary': 10562, 'secondlarg': 10563, 'secondly': 10564, 'seconds': 10565, 'secrecy': 10566, 'secret': 10567, 'secretary': 10568, 'section': 10569, 'sectioni': 10570, 'sector': 10571, 'sectors': 10572, 'secure': 10573, 'securely': 10574, 'securities': 10575, 'security': 10576, 'sedate': 10577, 'sedative': 10578, 'seder': 10579, 'sedgwick': 10580, 'seditious': 10581, 'see': 10582, 'seed': 10583, 'seeds': 10584, 'seeingyet': 10585, 'seek': 10586, 'seeker': 10587, 'seekerwonder': 10588, 'seema': 10589, 'seemingly': 10590, 'sees': 10591, 'segment': 10592, 'segmented': 10593, 'segregation': 10594, 'sei': 10595, 'seia': 10596, 'seismic': 10597, 'seize': 10598, 'sel': 10599, 'select': 10600, 'selection': 10601, 'selective': 10602, 'self': 10603, 'selfadministered': 10604, 'selfcare': 10605, 'selfemploye': 10606, 'selfemployed': 10607, 'selfesteem': 10608, 'selfie': 10609, 'selfish': 10610, 'selfishly': 10611, 'selfishness': 10612, 'selfishnessvirus': 10613, 'selfisolate': 10614, 'selfisolating': 10615, 'selfisolation': 10616, 'selfless': 10617, 'selflessness': 10618, 'selfquarantine': 10619, 'selfreliant': 10620, 'selfservatism': 10621, 'selfservice': 10622, 'selfstande': 10623, 'selfsufficient': 10624, 'selk': 10625, 'sell': 10626, 'seller': 10627, 'sellers': 10628, 'sellersville': 10629, 'selli': 10630, 'selling': 10631, 'selloff': 10632, 'selten': 10633, 'semarang': 10634, 'semblance': 10635, 'semester': 10636, 'semi': 10637, 'semiconductors': 10638, 'sen': 10639, 'senate': 10640, 'senator': 10641, 'sencorp': 10642, 'send': 10643, 'sender': 10644, 'sends': 10645, 'seneca': 10646, 'senior': 10647, 'senioronly': 10648, 'seniors': 10649, 'sensationalise': 10650, 'sensationalize': 10651, 'sense': 10652, 'sensi': 10653, 'sensible': 10654, 'sensibly': 10655, 'sensitive': 10656, 'sensor': 10657, 'sentence': 10658, 'sentieo': 10659, 'sentiment': 10660, 'seo': 10661, 'sepan': 10662, 'separate': 10663, 'separation': 10664, 'separatist': 10665, 'seprede': 10666, 'sept': 10667, 'september': 10668, 'septic': 10669, 'sequoia': 10670, 'ser': 10671, 'serame': 10672, 'series': 10673, 'seriously': 10674, 'seriousness': 10675, 'servant': 10676, 'serve': 10677, 'service': 10678, 'servicer': 10679, 'services': 10680, 'serving': 10681, 'servo': 10682, 'session': 10683, 'set': 10684, 'setback': 10685, 'seth': 10686, 'sethi': 10687, 'setter': 10688, 'setting': 10689, 'settingup': 10690, 'settle': 10691, 'settlement': 10692, 'setup': 10693, 'seven': 10694, 'severe': 10695, 'severely': 10696, 'severity': 10697, 'sew': 10698, 'sewer': 10699, 'sewing': 10700, 'sex': 10701, 'sexy': 10702, 'seye': 10703, 'seyi': 10704, 'sf': 10705, 'sgs': 10706, 'sh': 10707, 'sha': 10708, 'shade': 10709, 'shaded': 10710, 'shadow': 10711, 'shady': 10712, 'shahbaz': 10713, 'shahenshah': 10714, 'shahibaugh': 10715, 'shake': 10716, 'shakeup': 10717, 'shaky': 10718, 'shale': 10719, 'shall': 10720, 'shallow': 10721, 'shame': 10722, 'shameful': 10723, 'shampoos': 10724, 'shandil': 10725, 'shannon': 10726, 'shape': 10727, 'share': 10728, 'shareholder': 10729, 'sharif': 10730, 'sharon': 10731, 'sharp': 10732, 'sharpen': 10733, 'sharply': 10734, 'shauntel': 10735, 'shaw': 10736, 'shd': 10737, 'shea': 10738, 'shed': 10739, 'sheen': 10740, 'sheep': 10741, 'sheeple': 10742, 'sheer': 10743, 'sheet': 10744, 'sheffield': 10745, 'shelf': 10746, 'shelfs': 10747, 'shelfsno': 10748, 'shelfstable': 10749, 'shell': 10750, 'shellfish': 10751, 'shelter': 10752, 'shelterinplace': 10753, 'shelve': 10754, 'shelves': 10755, 'shelvesamp': 10756, 'sheperd': 10757, 'shera': 10758, 'sheriff': 10759, 'sherlock': 10760, 'sherrod': 10761, 'sherry': 10762, 'sherwinwilliams': 10763, 'shibley': 10764, 'shield': 10765, 'shielded': 10766, 'shifa': 10767, 'shifaa': 10768, 'shift': 10769, 'shifting': 10770, 'shifts': 10771, 'shikist': 10772, 'shill': 10773, 'shin': 10774, 'shine': 10775, 'shiny': 10776, 'ship': 10777, \"ship'g\": 10778, 'shipfromstore': 10779, 'shipment': 10780, 'shipper': 10781, 'shipping': 10782, 'shirt': 10783, 'shit': 10784, 'shite': 10785, 'shithead': 10786, 'shithole': 10787, 'shithouse': 10788, 'shitkicker': 10789, 'shitty': 10790, 'shitwhy': 10791, 'shock': 10792, 'shocking': 10793, 'shockwave': 10794, 'shoddy': 10795, 'shoe': 10796, 'shoot': 10797, 'shooting': 10798, 'shop': 10799, 'shopee': 10800, 'shopkeeper': 10801, 'shopoffice': 10802, 'shopoholic': 10803, 'shopp': 10804, 'shopper': 10805, 'shoppers': 10806, 'shoppin': 10807, 'shopping': 10808, 'shoppingbill': 10809, 'shoppingdelivery': 10810, 'shoppinghamsterkufeor': 10811, 'shoprite': 10812, 'shoprites': 10813, 'shopshotel': 10814, 'shopsme': 10815, 'shopsupermarket': 10816, 'shordy': 10817, 'shore': 10818, 'shorr': 10819, 'short': 10820, 'shortage': 10821, 'shortages': 10822, 'shortagesas': 10823, 'shortagesplease': 10824, 'shortagez': 10825, 'shorten': 10826, 'shortest': 10827, 'shortfall': 10828, 'shortlive': 10829, 'shortly': 10830, 'shortstaffe': 10831, 'shortterm': 10832, 'shot': 10833, 'shoukd': 10834, 'shoul': 10835, \"should'nt\": 10836, 'shoulda': 10837, 'shoulder': 10838, 'shouldn': 10839, 'shout': 10840, 'shoutout': 10841, 'shove': 10842, 'shovel': 10843, 'show': 10844, 'showcase': 10845, 'shower': 10846, 'showroom': 10847, 'shpn': 10848, 'shrewd': 10849, 'shri': 10850, 'shrink': 10851, 'shrivel': 10852, 'shrug': 10853, 'shs': 10854, 'sht': 10855, 'shtty': 10856, 'shud': 10857, 'shuffleboardcurling': 10858, 'shut': 10859, 'shutdown': 10860, 'shutin': 10861, 'shutoff': 10862, 'shutter': 10863, 'shuttered': 10864, 'shutterstock': 10865, 'shutting': 10866, 'si': 10867, 'sia': 10868, 'siberia': 10869, 'sibling': 10870, 'siciliano': 10871, 'sick': 10872, 'sicken': 10873, 'sickhave': 10874, 'sickle': 10875, 'sickness': 10876, 'sicko': 10877, 'sicktime': 10878, 'sickwhile': 10879, 'side': 10880, 'sidewalk': 10881, 'sideways': 10882, 'sie': 10883, 'siege': 10884, 'siena': 10885, 'sierra': 10886, 'siete': 10887, 'sift': 10888, 'sight': 10889, 'sighting': 10890, 'sign': 10891, 'signage': 10892, 'signal': 10893, 'signature': 10894, 'signedup': 10895, 'significance': 10896, 'significant': 10897, 'significantly': 10898, 'signs': 10899, 'sikh': 10900, 'silence': 10901, 'silent': 10902, 'silently': 10903, 'silicon': 10904, 'silk': 10905, 'silly': 10906, 'silver': 10907, 'sim': 10908, 'simcoe': 10909, 'similar': 10910, 'simon': 10911, 'simons': 10912, 'simple': 10913, 'simplicity': 10914, 'simplifyreduce': 10915, 'simply': 10916, 'simpsons': 10917, 'sims': 10918, 'simulate': 10919, 'simulation': 10920, 'simultaneously': 10921, 'sin': 10922, 'sina': 10923, 'sincere': 10924, 'sincerely': 10925, 'sinclair': 10926, 'sindh': 10927, 'sing': 10928, 'singapore': 10929, 'singe': 10930, 'singer': 10931, 'singh': 10932, 'singing': 10933, 'single': 10934, 'singlecough': 10935, 'singlefile': 10936, 'singlemarket': 10937, 'singlepoint': 10938, 'singular': 10939, 'sinha': 10940, 'sinister': 10941, 'sink': 10942, 'sioux': 10943, 'sip': 10944, 'sir': 10945, 'siren': 10946, 'sirwith': 10947, 'sis': 10948, 'sister': 10949, 'sisterinlaw': 10950, 'sisters': 10951, 'sit': 10952, 'sitaraman': 10953, 'site': 10954, 'siti': 10955, 'sitrep': 10956, 'situacin': 10957, 'situation': 10958, 'sixteen': 10959, 'sixth': 10960, 'size': 10961, 'sized': 10962, 'sj': 10963, 'sk': 10964, 'skeeve': 10965, 'skellig': 10966, 'sketch': 10967, 'sketchy': 10968, 'ski': 10969, 'skid': 10970, 'skill': 10971, 'skilled': 10972, 'skimmer': 10973, 'skimming': 10974, 'skimp': 10975, 'skin': 10976, 'skincare': 10977, 'skinned': 10978, 'skint': 10979, 'skip': 10980, 'skipapay': 10981, 'skipthedishes': 10982, 'skull': 10983, 'sky': 10984, 'skyhigh': 10985, 'skype': 10986, 'skypes': 10987, 'skyrocket': 10988, 'slackness': 10989, 'slam': 10990, 'slap': 10991, 'slash': 10992, 'slashes': 10993, 'slashing': 10994, 'slate': 10995, 'slaughter': 10996, 'slaughterhouse': 10997, 'slave': 10998, 'slay': 10999, 'slc': 11000, 'sleazebag': 11001, 'sledgehammer': 11002, 'sleep': 11003, 'sleeping': 11004, 'sleepover': 11005, 'sleepy': 11006, 'sleeve': 11007, 'slew': 11008, 'slice': 11009, 'sliced': 11010, 'slick': 11011, 'slide': 11012, 'slides': 11013, 'slideshow': 11014, 'slight': 11015, 'slightly': 11016, 'slim': 11017, 'slip': 11018, 'slippin': 11019, 'slips': 11020, 'slogan': 11021, 'slomo': 11022, 'slope': 11023, 'slot': 11024, 'slots': 11025, 'slough': 11026, 'slovakia': 11027, 'slow': 11028, 'slowdown': 11029, 'slowly': 11030, 'slug': 11031, 'sluggish': 11032, 'slump': 11033, 'slumtrust': 11034, 'sly': 11035, 'sm': 11036, 'small': 11037, 'smallerscale': 11038, 'smart': 11039, 'smartly': 11040, 'smartphone': 11041, 'smash': 11042, 'smear': 11043, 'smell': 11044, 'smelly': 11045, 'smg': 11046, 'smh': 11047, 'smhgotta': 11048, 'smile': 11049, 'smiley': 11050, 'smishe': 11051, 'smith': 11052, 'smithfield': 11053, 'smiths': 11054, 'smme': 11055, 'smoke': 11056, 'smoker': 11057, 'smokers': 11058, 'smoking': 11059, 'smooth': 11060, 'smoothly': 11061, 'smp': 11062, 'sms': 11063, 'smtnirmala': 11064, 'smug': 11065, 'smuggle': 11066, 'snack': 11067, 'snacking': 11068, 'snacks': 11069, 'snackswatche': 11070, 'snag': 11071, 'snap': 11072, 'snapauthorize': 11073, 'snappy': 11074, 'snapshot': 11075, 'snatch': 11076, 'sndor': 11077, 'sneaky': 11078, 'sneeze': 11079, 'sniff': 11080, 'sniffle': 11081, 'snippet': 11082, 'snitch': 11083, 'snorkelling': 11084, 'snortsays': 11085, 'snow': 11086, 'snowbirds': 11087, 'snowstorm': 11088, 'snyder': 11089, 'soafter': 11090, 'soaked': 11091, 'soap': 11092, 'soar': 11093, 'sobering': 11094, 'socal': 11095, 'soccer': 11096, 'socia': 11097, 'social': 11098, 'socialcorporate': 11099, 'socialise': 11100, 'socialising': 11101, 'socialism': 11102, 'socialist': 11103, 'socially': 11104, 'sociallydistant': 11105, 'socialmediaday': 11106, 'societal': 11107, 'societie': 11108, 'society': 11109, 'societys': 11110, 'socio': 11111, 'socioeconomic': 11112, 'sociology': 11113, 'sock': 11114, 'soda': 11115, 'sodastream': 11116, 'sodepur': 11117, 'sodium': 11118, 'sofa': 11119, 'sofi': 11120, 'soft': 11121, 'soften': 11122, 'softpower': 11123, 'software': 11124, 'sofya': 11125, 'soil': 11126, 'sol': 11127, 'solar': 11128, 'sold': 11129, 'soldier': 11130, 'soldiers': 11131, 'soleil': 11132, 'solely': 11133, 'solemos': 11134, 'solicitor': 11135, 'solicitors': 11136, 'solid': 11137, 'solidarity': 11138, 'solo': 11139, 'sologenic': 11140, 'solution': 11141, 'solutions': 11142, 'solve': 11143, 'solved': 11144, 'som': 11145, 'somber': 11146, 'sombre': 11147, 'somebody': 11148, 'someday': 11149, 'somehe': 11150, 'someone': 11151, 'something': 11152, 'somewhat': 11153, 'son': 11154, 'song': 11155, 'sonia': 11156, 'sonnet': 11157, 'sonny': 11158, 'sonowal': 11159, 'soo': 11160, 'soon': 11161, 'sooo': 11162, 'soooooo': 11163, 'soopers': 11164, 'soothe': 11165, 'sophie': 11166, 'sore': 11167, 'soreen': 11168, 'sorely': 11169, 'sorpresa': 11170, 'sorry': 11171, 'sort': 11172, 'sorta': 11173, 'sos': 11174, 'sosabowski': 11175, 'soughtafter': 11176, 'soul': 11177, 'soulard': 11178, 'sound': 11179, 'soundtrack': 11180, 'soup': 11181, 'source': 11182, 'south': 11183, 'southcentre': 11184, 'southeast': 11185, 'southeastern': 11186, 'southern': 11187, 'southmead': 11188, 'southn': 11189, 'southwest': 11190, 'sovereign': 11191, 'soviet': 11192, 'soybean': 11193, 'sp': 11194, 'space': 11195, 'spacex': 11196, 'spade': 11197, 'spaghetti': 11198, 'spahr': 11199, 'spain': 11200, 'spainamp': 11201, 'spallanzani': 11202, 'spam': 11203, 'span': 11204, 'spanish': 11205, 'spar': 11206, 'spare': 11207, 'spark': 11208, 'sparse': 11209, 'sparsely': 11210, 'spas': 11211, 'spat': 11212, 'spate': 11213, 'spca': 11214, 'spead': 11215, 'speak': 11216, 'speaker': 11217, 'spec': 11218, 'special': 11219, 'specialist': 11220, 'specialize': 11221, 'specially': 11222, 'specialty': 11223, 'specie': 11224, 'species': 11225, 'specific': 11226, 'specifically': 11227, 'specification': 11228, 'specify': 11229, 'specimen': 11230, 'spectrum': 11231, 'speculate': 11232, 'speech': 11233, 'speechless': 11234, 'speed': 11235, 'speedo': 11236, 'spel': 11237, 'spell': 11238, 'spelling': 11239, 'spencer': 11240, 'spend': 11241, 'spending': 11242, 'spew': 11243, 'spglobal': 11244, 'spice': 11245, 'spicy': 11246, 'spike': 11247, 'spill': 11248, 'spillover': 11249, 'spin': 11250, 'spiral': 11251, 'spirit': 11252, 'spiritual': 11253, 'spit': 11254, 'spite': 11255, 'spitting': 11256, 'spiv': 11257, 'splash': 11258, 'splint': 11259, 'split': 11260, 'splurge': 11261, 'spoil': 11262, 'spoiler': 11263, 'spoke': 11264, 'spokesperson': 11265, 'sponsor': 11266, 'spook': 11267, 'spoon': 11268, 'sport': 11269, 'sporting': 11270, 'sports': 11271, 'sportsbook': 11272, 'sportswriter': 11273, 'spot': 11274, 'spotify': 11275, 'spotlight': 11276, 'sppl': 11277, 'spray': 11278, 'spre': 11279, 'spread': 11280, 'spreader': 11281, 'spreading': 11282, 'spreadit': 11283, 'spreads': 11284, 'spreaduse': 11285, 'spreat': 11286, 'spree': 11287, 'spring': 11288, 'springfield': 11289, 'springs': 11290, 'springtime': 11291, 'sprouts': 11292, 'spruce': 11293, 'spud': 11294, 'spur': 11295, 'spx': 11296, 'spy': 11297, 'spys': 11298, 'sqm': 11299, 'squad': 11300, 'square': 11301, 'squarely': 11302, 'squeaky': 11303, 'squeeze': 11304, 'squid': 11305, 'squirt': 11306, 'sri': 11307, 'srz': 11308, 'ss': 11309, 'ssa': 11310, 'ssd': 11311, 'ssi': 11312, 'ssn': 11313, 'st': 11314, 'stab': 11315, 'stabilitech': 11316, 'stability': 11317, 'stabilization': 11318, 'stabilize': 11319, 'stable': 11320, 'stack': 11321, 'stacker': 11322, 'stadium': 11323, 'stadtteil': 11324, 'staff': 11325, 'staffer': 11326, 'staffing': 11327, 'staffsuddenly': 11328, 'stage': 11329, 'stageit': 11330, 'stagger': 11331, 'staggered': 11332, 'staggering': 11333, 'stagnant': 11334, 'stainless': 11335, 'stair': 11336, 'stake': 11337, 'stakeholder': 11338, 'stalker': 11339, 'stall': 11340, 'stamp': 11341, 'stampeding': 11342, 'stance': 11343, 'stand': 11344, 'standalone': 11345, 'standard': 11346, 'standards': 11347, 'standing': 11348, 'standstill': 11349, 'stanfield': 11350, 'staple': 11351, 'staples': 11352, 'star': 11353, 'starbuck': 11354, 'starbucks': 11355, 'stare': 11356, 'stark': 11357, 'starswould': 11358, 'start': 11359, 'starter': 11360, 'starting': 11361, 'startof': 11362, 'starts': 11363, 'startup': 11364, 'starvation': 11365, 'starve': 11366, 'stash': 11367, 'stat': 11368, 'state': 11369, 'statement': 11370, 'staten': 11371, 'staterun': 11372, 'states': 11373, 'stateswoman': 11374, 'statewide': 11375, 'static': 11376, 'station': 11377, 'stationery': 11378, 'stations': 11379, 'statistic': 11380, 'statistics': 11381, 'statue': 11382, 'status': 11383, 'statutory': 11384, 'stave': 11385, 'stay': 11386, 'stayathome': 11387, 'stayhome': 11388, 'ste': 11389, 'stead': 11390, 'steady': 11391, 'steak': 11392, 'steakhouse': 11393, 'steal': 11394, 'stealth': 11395, 'steam': 11396, 'steamboat': 11397, 'steaming': 11398, 'steel': 11399, 'steep': 11400, 'steepen': 11401, 'stella': 11402, 'stellar': 11403, 'stem': 11404, 'stenographer': 11405, 'step': 11406, 'stepdad': 11407, 'stepford': 11408, 'stephanie': 11409, 'stephen': 11410, 'stereotyping': 11411, 'sterile': 11412, 'sterilise': 11413, 'sterilization': 11414, 'sterilize': 11415, 'sterilizer': 11416, 'steriod': 11417, 'sterling': 11418, 'stern': 11419, 'sternberg': 11420, 'steroplast': 11421, 'steuer': 11422, 'steve': 11423, 'stew': 11424, 'stewthink': 11425, 'stfu': 11426, 'sth': 11427, 'sti': 11428, 'stick': 11429, 'sticker': 11430, 'stickley': 11431, 'sticks': 11432, 'sticky': 11433, 'stiff': 11434, 'still': 11435, 'stillthis': 11436, 'stimulant': 11437, 'stimulate': 11438, 'stimulis': 11439, 'stimulus': 11440, 'stimulusrescue': 11441, 'stink': 11442, 'stip': 11443, 'stipend': 11444, 'stock': 11445, 'stockboy': 11446, 'stocked': 11447, 'stockedfor': 11448, 'stocker': 11449, 'stockholm': 11450, 'stockindex': 11451, 'stocking': 11452, 'stockmarket': 11453, 'stockpile': 11454, 'stockpiler': 11455, 'stockpiling': 11456, 'stocks': 11457, 'stockup': 11458, 'stoke': 11459, 'stole': 11460, 'stolenloote': 11461, 'stomp': 11462, 'stone': 11463, 'stonewalling': 11464, 'stooge': 11465, 'stop': 11466, 'stopp': 11467, 'stoppage': 11468, 'stopped': 11469, 'storage': 11470, 'store': 11471, 'storeamp': 11472, 'storeand': 11473, \"storecouldn't\": 11474, 'storedroppe': 11475, 'storeespecially': 11476, 'storefront': 11477, 'storekeeper': 11478, 'storerestaurant': 11479, 'storeretail': 11480, 'stores': 11481, 'storesand': 11482, 'storesmall': 11483, 'storesother': 11484, 'storesthat': 11485, 'storesupermarket': 11486, 'storesveggie': 11487, 'storethe': 11488, 'storethey': 11489, 'storething': 11490, 'storety': 11491, 'storevege': 11492, 'storewhen': 11493, 'storewhole': 11494, 'storey': 11495, 'storm': 11496, 'storming': 11497, 'storr': 11498, 'story': 11499, 'strafford': 11500, 'straight': 11501, 'strain': 11502, 'strait': 11503, 'strand': 11504, 'stranded': 11505, 'strange': 11506, 'strangenesschaos': 11507, 'stranger': 11508, 'strangers': 11509, 'strata': 11510, 'strate': 11511, 'strategic': 11512, 'strategize': 11513, 'strategy': 11514, 'strawberrys': 11515, 'streak': 11516, 'stream': 11517, 'streaming': 11518, 'streamline': 11519, 'streatham': 11520, 'streeck': 11521, 'street': 11522, 'streets': 11523, 'strength': 11524, 'strengthen': 11525, 'stress': 11526, 'stressed': 11527, 'stressedout': 11528, 'stressful': 11529, 'stretch': 11530, 'stricken': 11531, 'strict': 11532, 'strictly': 11533, 'stride': 11534, 'strike': 11535, 'striking': 11536, 'string': 11537, 'stringent': 11538, 'strip': 11539, 'stripped': 11540, 'stripping': 11541, 'stroke': 11542, 'stroll': 11543, 'strong': 11544, 'stronger': 11545, 'stronghold': 11546, 'strongly': 11547, 'structural': 11548, 'structure': 11549, 'struggle': 11550, 'ststemic': 11551, 'stuart': 11552, 'stubborn': 11553, 'stuck': 11554, 'student': 11555, 'students': 11556, 'studentstat': 11557, 'studio': 11558, 'studios': 11559, 'study': 11560, 'stuff': 11561, 'stuffbut': 11562, 'stuffnor': 11563, 'stuffor': 11564, 'stunts': 11565, 'stupid': 11566, 'stupidity': 11567, 'stupidly': 11568, 'stupidstore': 11569, 'style': 11570, 'su': 11571, 'sub': 11572, 'subcommittee': 11573, 'subdl': 11574, 'sube': 11575, 'subject': 11576, 'submission': 11577, 'submit': 11578, 'subramani': 11579, 'subsaharan': 11580, 'subscribe': 11581, 'subscriber': 11582, 'subscription': 11583, 'subsequent': 11584, 'subsequently': 11585, 'subside': 11586, 'subsidiary': 11587, 'subsidise': 11588, 'subsidization': 11589, 'subsidy': 11590, 'subsist': 11591, 'substance': 11592, 'substantially': 11593, 'substantiallychange': 11594, 'substitute': 11595, 'substitution': 11596, 'subtle': 11597, 'suburb': 11598, 'suburban': 11599, 'suburbia': 11600, 'subway': 11601, 'succeed': 11602, 'success': 11603, 'successful': 11604, 'successfully': 11605, 'successive': 11606, 'succumb': 11607, 'sucharita': 11608, 'suck': 11609, 'sud': 11610, 'sudden': 11611, 'suddenly': 11612, 'sue': 11613, 'suffer': 11614, 'sufferer': 11615, 'suffering': 11616, 'sufficient': 11617, 'suffocate': 11618, 'sugar': 11619, 'sugaryou': 11620, 'suggest': 11621, 'suggestion': 11622, 'suicidal': 11623, 'suicide': 11624, 'suisse': 11625, 'suit': 11626, 'suitable': 11627, 'suite': 11628, 'sulfuric': 11629, 'sullivan': 11630, 'sultanates': 11631, 'sum': 11632, 'sumantra': 11633, 'summa': 11634, 'summarise': 11635, 'summarize': 11636, 'summary': 11637, 'summer': 11638, 'summit': 11639, 'sun': 11640, 'sunak': 11641, 'sunbathe': 11642, 'suncor': 11643, 'sunday': 11644, 'sunflower': 11645, 'sunglasse': 11646, 'sunny': 11647, 'sunrice': 11648, 'sunshine': 11649, 'suo': 11650, 'suomoto': 11651, 'sup': 11652, 'super': 11653, 'superb': 11654, 'supercomputer': 11655, 'superdrug': 11656, 'superhero': 11657, 'superior': 11658, 'supermark': 11659, 'supermarket': 11660, 'supermarketdelivery': 11661, 'supermarketfear': 11662, 'supermarketgrocery': 11663, 'supermarketmeanwhile': 11664, 'supermarketofflicenseshop': 11665, 'supermarketraider': 11666, 'supermarkets': 11667, 'supermarketsfood': 11668, 'supermarketshop': 11669, 'supermarketsonly': 11670, 'supermarketstore': 11671, 'supermarketwith': 11672, 'supermarketwoke': 11673, 'supermarktkette': 11674, 'supermart': 11675, 'supermercado': 11676, 'supermkt': 11677, 'superplease': 11678, 'superpower': 11679, 'supersede': 11680, 'superstar': 11681, 'supervalu': 11682, 'superyummy': 11683, 'supoort': 11684, 'supplement': 11685, 'supplier': 11686, 'supplies': 11687, 'suppliesfor': 11688, 'supplieswe': 11689, 'supply': 11690, 'supplychain': 11691, 'supplydemand': 11692, 'supplys': 11693, 'support': 11694, 'supporter': 11695, 'supportive': 11696, 'supports': 11697, 'suppose': 11698, 'supposedly': 11699, 'suppress': 11700, 'supreme': 11701, 'suprise': 11702, 'surcharge': 11703, 'sure': 11704, 'surely': 11705, 'surface': 11706, 'surfaces': 11707, 'surge': 11708, 'surgery': 11709, 'surgical': 11710, 'surging': 11711, 'surpass': 11712, 'surplus': 11713, 'surprise': 11714, 'surprised': 11715, 'surprising': 11716, 'surprisingly': 11717, 'surreal': 11718, 'surrogate': 11719, 'surround': 11720, 'surveillance': 11721, 'survey': 11722, 'surveys': 11723, 'survival': 11724, 'survivalist': 11725, 'survive': 11726, 'survivor': 11727, 'sus': 11728, 'susan': 11729, 'susanna': 11730, 'susceptible': 11731, 'susie': 11732, 'suspect': 11733, 'suspend': 11734, 'suspended': 11735, 'suspends': 11736, 'suspension': 11737, 'suspicious': 11738, 'sustain': 11739, 'sustainability': 11740, 'sustainable': 11741, 'sustainably': 11742, 'sustenance': 11743, 'suzette': 11744, 'svcs': 11745, 'svod': 11746, 'svp': 11747, 'sw': 11748, 'swab': 11749, 'swallow': 11750, 'swamp': 11751, 'swan': 11752, 'swancrisis': 11753, 'swatch': 11754, 'swear': 11755, 'sweat': 11756, 'sweater': 11757, 'sweden': 11758, 'swedish': 11759, 'sweeeeeeeeeeeeeeeeeet': 11760, 'sweep': 11761, 'sweeping': 11762, 'sweet': 11763, 'sweete': 11764, 'sweeten': 11765, 'sweetheart': 11766, 'sweetie': 11767, 'swell': 11768, 'swift': 11769, 'swiftly': 11770, 'swim': 11771, 'swimmingpool': 11772, 'swindon': 11773, 'swine': 11774, 'swing': 11775, 'swinge': 11776, 'swipe': 11777, 'swiss': 11778, 'switch': 11779, 'switzerland': 11780, 'swoop': 11781, 'sword': 11782, 'swt': 11783, 'sycamore': 11784, 'syd': 11785, 'sydney': 11786, 'syldon': 11787, 'sylhet': 11788, 'symbol': 11789, 'symbolic': 11790, 'sympathy': 11791, 'symptom': 11792, 'symptomatic': 11793, 'symptome': 11794, 'sympton': 11795, 'sync': 11796, 'synthesize': 11797, 'synthetic': 11798, 'system': 11799, 'systemic': 11800, 'systemically': 11801, 'systems': 11802, 't': 11803, 'ta': 11804, 'taber': 11805, 'table': 11806, 'tablet': 11807, 'tabs': 11808, 'tackle': 11809, 'taco': 11810, 'tacos': 11811, 'tactic': 11812, 'tad': 11813, 'tag': 11814, 'tailormade': 11815, 'tailspin': 11816, 'taiwan': 11817, 'taiwanese': 11818, 'tak': 11819, 'take': 11820, 'takeaway': 11821, 'takeout': 11822, 'takeoutdine': 11823, 'taker': 11824, 'takin': 11825, 'taking': 11826, 'takoradi': 11827, 'takout': 11828, 'tale': 11829, 'talent': 11830, 'talented': 11831, 'taliban': 11832, 'talk': 11833, 'talking': 11834, 'tall': 11835, 'tallahassee': 11836, 'tally': 11837, 'tam': 11838, 'tamil': 11839, 'tamilnaduunfortunately': 11840, 'tampcs': 11841, 'tamper': 11842, 'tamperevident': 11843, 'tank': 11844, 'tanking': 11845, 'tannoy': 11846, 'tantamount': 11847, 'tantrum': 11848, 'tanya': 11849, 'taobao': 11850, 'tap': 11851, 'tape': 11852, 'tapedup': 11853, 'tar': 11854, 'taraxa': 11855, 'tarek': 11856, 'target': 11857, 'targeted': 11858, 'tariff': 11859, 'tariffs': 11860, 'taro': 11861, 'tart': 11862, 'tasere': 11863, 'task': 11864, 'taskforce': 11865, 'tasmanian': 11866, 'taste': 11867, 'tata': 11868, 'tattoo': 11869, 'taukobong': 11870, 'tax': 11871, 'taxation': 11872, 'taxfiddle': 11873, 'taxi': 11874, 'taxis': 11875, 'taxman': 11876, 'taxmdefist': 11877, 'taxpayer': 11878, 'taylor': 11879, 'taytay': 11880, 'tb': 11881, 'tbe': 11882, 'tbs': 11883, 'tcpa': 11884, 'td': 11885, 'tdoc': 11886, 'tdsb': 11887, 'te': 11888, 'tea': 11889, 'teach': 11890, 'teacher': 11891, 'teachers': 11892, 'team': 11893, 'teams': 11894, 'tear': 11895, 'tearful': 11896, 'tears': 11897, 'tech': 11898, 'technavio': 11899, 'technical': 11900, 'technician': 11901, 'technicians': 11902, 'technique': 11903, 'technode': 11904, 'technologies': 11905, 'technology': 11906, 'ted': 11907, 'tedbirleri': 11908, 'tee': 11909, 'teen': 11910, 'teenage': 11911, 'teenager': 11912, 'teenagers': 11913, 'teenpatti': 11914, 'tees': 11915, 'teksi': 11916, 'tel': 11917, 'telangana': 11918, 'telco': 11919, 'teleco': 11920, 'telecom': 11921, 'telecome': 11922, 'telecommunication': 11923, 'teleconference': 11924, 'telegram': 11925, 'telegraph': 11926, 'telehealth': 11927, 'telemedicine': 11928, 'telepathy': 11929, 'telephone': 11930, 'televangelist': 11931, 'televised': 11932, 'television': 11933, 'teleworke': 11934, 'tell': 11935, 'teller': 11936, 'tellers': 11937, 'telling': 11938, 'tells': 11939, 'temp': 11940, 'tempat': 11941, 'temperature': 11942, 'temperatures': 11943, 'template': 11944, 'temporarily': 11945, 'temporary': 11946, 'tempt': 11947, 'temptation': 11948, 'tempting': 11949, 'ten': 11950, 'tenacious': 11951, 'tenant': 11952, 'tenaris': 11953, 'tend': 11954, 'tendency': 11955, 'tender': 11956, 'tenderness': 11957, 'tenemos': 11958, 'tenfold': 11959, 'tennessee': 11960, 'tension': 11961, 'tent': 11962, 'tentative': 11963, 'ter': 11964, 'teranet': 11965, 'term': 11966, 'terminal': 11967, 'termination': 11968, 'terra': 11969, 'terraform': 11970, 'terrain': 11971, 'terrible': 11972, 'terribly': 11973, 'terrific': 11974, 'terrified': 11975, 'terrify': 11976, 'terrifying': 11977, 'territory': 11978, 'terror': 11979, 'terrorism': 11980, 'terrorist': 11981, 'terry': 11982, 'tesco': 11983, 'tescos': 11984, 'tesla': 11985, 'test': 11986, 'testedknown': 11987, 'testing': 11988, 'tests': 11989, 'tet': 11990, 'teva': 11991, 'texans': 11992, 'texas': 11993, 'text': 11994, 'texte': 11995, 'textile': 11996, 'tf': 11997, 'tfl': 11998, 'tgonu': 11999, 'tgt': 12000, 'th': 12001, 'thackeray': 12002, 'thailand': 12003, 'thalis': 12004, 'thank': 12005, 'thankful': 12006, 'thankfully': 12007, 'thanking': 12008, 'thanks': 12009, 'thankyou': 12010, 'thanx': 12011, 'thapril': 12012, 'thar': 12013, 'thatriot': 12014, 'thats': 12015, 'thc': 12016, 'theamericanconsumer': 12017, 'theater': 12018, 'theatre': 12019, 'theblaze': 12020, 'thecoronaviruspandemic': 12021, 'theft': 12022, 'thegr': 12023, 'thehousekeepingteamamp': 12024, 'theiss': 12025, 'theknockon': 12026, 'them': 12027, 'themalso': 12028, 'theme': 12029, 'theorist': 12030, 'theory': 12031, 'therapeutic': 12032, 'therapists': 12033, 'therapy': 12034, 'thereowner': 12035, 'theres': 12036, 'theresa': 12037, 'therewhat': 12038, 'thermal': 12039, 'thermally': 12040, 'thermo': 12041, 'thermometer': 12042, 'thermometers': 12043, 'theses': 12044, 'thesis': 12045, 'theu': 12046, \"they'e\": 12047, \"they'll\": 12048, 'thi': 12049, 'thick': 12050, 'thief': 12051, 'thin': 12052, 'thing': 12053, 'thingamajig': 12054, 'thingi': 12055, 'things': 12056, 'thingsthis': 12057, 'think': 12058, 'thinker': 12059, 'thinking': 12060, 'thinkwhat': 12061, 'thirst': 12062, 'thirsty': 12063, 'thisexplanation': 12064, 'thiswhat': 12065, 'tho': 12066, 'thomas': 12067, 'thompson': 12068, 'thorndon': 12069, 'thorny': 12070, 'thorough': 12071, 'thoroughly': 12072, 'thoughgt': 12073, 'thought': 12074, 'thoughtful': 12075, 'thoughtfully': 12076, 'thoughtprovoking': 12077, 'thoughtsimage': 12078, 'thoughtsmy': 12079, 'thousand': 12080, 'thousands': 12081, 'thread': 12082, 'threat': 12083, 'threaten': 12084, 'threeday': 12085, 'threeheaded': 12086, 'threeitem': 12087, 'threepart': 12088, 'threshold': 12089, 'thresholds': 12090, 'thrift': 12091, 'thrilled': 12092, 'thrive': 12093, 'throat': 12094, 'throng': 12095, 'throttle': 12096, 'throughput': 12097, 'throw': 12098, 'thrus': 12099, 'tht': 12100, 'thu': 12101, 'thug': 12102, 'thuggish': 12103, 'thumb': 12104, 'thumping': 12105, 'thurs': 12106, 'thursday': 12107, 'thx': 12108, 'tick': 12109, 'ticket': 12110, 'tickle': 12111, 'tide': 12112, 'tidy': 12113, 'tie': 12114, 'tiempos': 12115, 'tienda': 12116, 'tier': 12117, 'tierras': 12118, 'tifa': 12119, 'tiger': 12120, 'tight': 12121, 'tighten': 12122, 'tikegi': 12123, 'tiktok': 12124, 'til': 12125, 'tilak': 12126, 'till': 12127, 'tilt': 12128, 'tim': 12129, 'timberdine': 12130, 'time': 12131, 'timecovid': 12132, 'timeframe': 12133, 'timeline': 12134, 'timely': 12135, 'timeplz': 12136, 'times': 12137, 'timespun': 12138, 'timing': 12139, 'tin': 12140, 'tinderbox': 12141, 'tindie': 12142, 'tingle': 12143, 'tinker': 12144, 'tiny': 12145, 'tip': 12146, 'tipping': 12147, 'tips': 12148, 'tiptoe': 12149, 'tiramisu': 12150, 'tire': 12151, 'tired': 12152, 'tirelessly': 12153, 'tirupati': 12154, 'tissue': 12155, 'tit': 12156, 'tita': 12157, 'title': 12158, 'titlemax': 12159, 'tito': 12160, 'titos': 12161, 'tix': 12162, 'tjx': 12163, 'tm': 12164, 'tmobile': 12165, 'tmoro': 12166, 'tns': 12167, 'to': 12168, 'toast': 12169, 'toaster': 12170, 'tobacco': 12171, 'tobago': 12172, 'tobu': 12173, 'today': 12174, 'todaycovid': 12175, 'todays': 12176, 'todaythen': 12177, 'todo': 12178, 'togo': 12179, 'togrocery': 12180, 'tohoku': 12181, 'toilet': 12182, 'toiletpaper': 12183, 'toiletpapier': 12184, 'toiletry': 12185, 'tokd': 12186, 'token': 12187, 'tokhang': 12188, 'tokyo': 12189, 'tolerance': 12190, 'tolerate': 12191, 'toll': 12192, 'tollfree': 12193, 'toloui': 12194, 'tom': 12195, 'tom_brunt': 12196, 'tomac': 12197, 'toman': 12198, 'tomato': 12199, 'tomatoe': 12200, 'tomorrow': 12201, 'ton': 12202, 'tone': 12203, 'tongue': 12204, 'tonic': 12205, 'tonight': 12206, 'tonightso': 12207, 'tonne': 12208, 'tony': 12209, 'toobut': 12210, 'toodata': 12211, 'tooevery': 12212, 'tool': 12213, 'toolkit': 12214, 'tooth': 12215, 'top': 12216, 'topeka': 12217, 'topic': 12218, 'topics': 12219, 'toplevel': 12220, 'topofmind': 12221, 'tops': 12222, 'torbjrn': 12223, 'torch': 12224, 'toronto': 12225, 'torres': 12226, 'tortilla': 12227, 'torwards': 12228, 'toss': 12229, 'tosser': 12230, 'total': 12231, 'totally': 12232, 'totino': 12233, 'toubro': 12234, 'touch': 12235, 'touching': 12236, 'touchless': 12237, 'touchscreens': 12238, 'tough': 12239, 'toughness': 12240, 'tour': 12241, 'tourism': 12242, 'tourismheavy': 12243, 'tourist': 12244, 'touro': 12245, 'tout': 12246, 'tovar': 12247, 'tow': 12248, 'towel': 12249, 'towels': 12250, 'towelsmeet': 12251, 'tower': 12252, 'town': 12253, 'towne': 12254, 'township': 12255, 'toxic': 12256, 'toy': 12257, 'toyota': 12258, 'tp': 12259, 'tpci': 12260, 'tpi': 12261, 'tptw': 12262, 'trace': 12263, 'traceability': 12264, 'tracey': 12265, 'track': 12266, 'tracker': 12267, 'tracking': 12268, 'trackout': 12269, 'trade': 12270, 'trader': 12271, 'traderjoe': 12272, 'traders': 12273, 'tradersshop': 12274, 'tradeshow': 12275, 'trading': 12276, 'traditional': 12277, 'traditionally': 12278, 'traffic': 12279, 'trafficking': 12280, 'tragedy': 12281, 'tragic': 12282, 'trai': 12283, 'trail': 12284, 'trailer': 12285, 'train': 12286, 'training': 12287, 'trait': 12288, 'traitor': 12289, 'trajectory': 12290, 'tramp': 12291, 'trample': 12292, 'trampoline': 12293, 'tran': 12294, 'transaction': 12295, 'transfat': 12296, 'transfer': 12297, 'transference': 12298, 'transform': 12299, 'transformation': 12300, 'transformed': 12301, 'transit': 12302, 'transition': 12303, 'transitions': 12304, 'translate': 12305, 'transmission': 12306, 'transmissioncentral': 12307, 'transmit': 12308, 'transmitter': 12309, 'transparency': 12310, 'transparent': 12311, 'transplant': 12312, 'transport': 12313, 'transportation': 12314, 'transunion': 12315, 'transurban': 12316, 'trap': 12317, 'trash': 12318, 'trashing': 12319, 'trauma': 12320, 'traumatic': 12321, 'traumatise': 12322, 'travel': 12323, 'traveler': 12324, 'travelers': 12325, 'traveller': 12326, 'travelonline': 12327, 'travolta': 12328, 'traweeh': 12329, 'tray': 12330, 'treasure': 12331, 'treasury': 12332, 'treat': 12333, 'treatcure': 12334, 'treatment': 12335, 'treatments': 12336, 'tree': 12337, 'tremendous': 12338, 'tremorogenic': 12339, 'trench': 12340, 'trend': 12341, 'trends': 12342, 'trendy': 12343, 'trenton': 12344, 'trevor': 12345, 'trial': 12346, 'tribute': 12347, 'tricities': 12348, 'trick': 12349, 'trickle': 12350, 'tricky': 12351, 'tricol': 12352, 'triest': 12353, 'trifold': 12354, 'trigger': 12355, 'tril': 12356, 'trillion': 12357, 'trillions': 12358, 'trillionweek': 12359, 'trim': 12360, 'trimming': 12361, 'trinidad': 12362, 'trinity': 12363, 'trip': 12364, 'triple': 12365, 'tripling': 12366, 'trips': 12367, 'tripsweek': 12368, 'triptk': 12369, 'tritax': 12370, 'trivial': 12371, 'trivialise': 12372, \"trkiye'nin\": 12373, 'trolley': 12374, 'trolleydistance': 12375, 'trolleys': 12376, 'trollie': 12377, 'troop': 12378, 'trophy': 12379, 'tropical': 12380, 'trotz': 12381, 'trouble': 12382, 'troubled': 12383, 'troubleviolence': 12384, 'troubling': 12385, 'truce': 12386, 'truck': 12387, 'truckcar': 12388, 'trucker': 12389, 'truckers': 12390, 'truckfam': 12391, 'trucking': 12392, 'truckload': 12393, 'trucks': 12394, 'trudeau': 12395, 'true': 12396, 'truethough': 12397, 'truffle': 12398, 'truly': 12399, 'trump': 12400, 'trumpet': 12401, 'trumps': 12402, 'trunk': 12403, 'trust': 12404, 'trustee': 12405, 'trustintegrity': 12406, 'trustworthy': 12407, 'trusty': 12408, 'truth': 12409, 'try': 12410, 'tryd': 12411, 'trym': 12412, 'ts': 12413, 'tseng': 12414, 'tshirt': 12415, 'tsunami': 12416, 'ttrault': 12417, 'ttsa': 12418, 'tu': 12419, 'tub': 12420, 'tube': 12421, 'tucker': 12422, 'tues': 12423, 'tuesday': 12424, 'tuesdays': 12425, 'tugofwar': 12426, 'tulsa': 12427, 'tumble': 12428, 'tumbling': 12429, 'tun': 12430, 'tuna': 12431, 'tune': 12432, 'tuned': 12433, 'tunnel': 12434, 'turbo': 12435, 'turbulent': 12436, 'turkey': 12437, 'turkish': 12438, 'turmeric': 12439, 'turmoil': 12440, 'turn': 12441, 'turnaround': 12442, 'turner': 12443, 'turnin': 12444, 'turnip': 12445, 'turnover': 12446, 'tuscan': 12447, 'tutorial': 12448, 'tutti': 12449, 'tv': 12450, 'tvetc': 12451, 'tw': 12452, 'twa': 12453, 'twat': 12454, 'tweep': 12455, 'tweeps': 12456, 'tweet': 12457, 'tweeted': 12458, 'twice': 12459, 'twin': 12460, 'twinkie': 12461, 'twisted': 12462, 'twitter': 12463, 'twoandhalf': 12464, 'twoday': 12465, 'twoperperson': 12466, 'twos': 12467, 'twoweek': 12468, 'twp': 12469, 'tx': 12470, 'ty': 12471, 'tycoon': 12472, 'tylenol': 12473, 'type': 12474, 'types': 12475, 'typical': 12476, 'typically': 12477, 'tyrant': 12478, 'tyson': 12479, 'tysons': 12480, 'tyvek': 12481, 'u': 12482, 'uae': 12483, 'uber': 12484, 'ubereats': 12485, 'ubi': 12486, 'ubs': 12487, 'ucr': 12488, 'udanroulette': 12489, 'ufcw': 12490, 'ufo': 12491, 'ugadi': 12492, 'uganda': 12493, 'ugandan': 12494, 'ugh': 12495, 'ugly': 12496, 'uht': 12497, 'uhuru': 12498, 'uit': 12499, 'uk': 12500, 'ukampmexico': 12501, 'ukbrits': 12502, 'ukeleles': 12503, 'ukhad': 12504, 'uklisted': 12505, 'ukraine': 12506, 'ukrainian': 12507, 'uks': 12508, 'ukusa': 12509, 'ul': 12510, 'ulhaq': 12511, 'ulster': 12512, 'ulta': 12513, 'ultimate': 12514, 'ultimately': 12515, 'ultra': 12516, 'ultralow': 12517, 'um': 12518, 'umbrella': 12519, 'umich': 12520, 'umm': 12521, 'ummmm': 12522, 'un': 12523, 'unable': 12524, 'unacceptable': 12525, 'unaffordable': 12526, 'unavailable': 12527, 'unavoidable': 12528, 'unaware': 12529, 'unawares': 12530, 'unb': 12531, 'unbelievable': 12532, 'unbelievably': 12533, 'unbox': 12534, 'unbranded': 12535, 'uncalled': 12536, 'uncertain': 12537, 'uncertainty': 12538, 'unchanged': 12539, 'uncharted': 12540, 'unchecked': 12541, 'uncle': 12542, 'unclear': 12543, 'uncomfortable': 12544, 'uncommon': 12545, 'uncontrollably': 12546, 'uncover': 12547, 'uncut': 12548, 'undateable': 12549, 'undeniable': 12550, 'undeniably': 12551, 'underappreciated': 12552, 'undercut': 12553, 'underemployed': 12554, 'underground': 12555, 'underlie': 12556, 'underlying': 12557, 'undermine': 12558, 'underpay': 12559, 'underpin': 12560, 'underrate': 12561, 'underserviced': 12562, 'understand': 12563, 'understanding': 12564, 'understandwhat': 12565, 'understnd': 12566, 'undertake': 12567, 'undervalued': 12568, 'underway': 12569, 'underwood': 12570, 'underwrite': 12571, 'undocumented': 12572, 'undoubtably': 12573, 'undoubtedly': 12574, 'undue': 12575, 'unearned': 12576, 'uneasy': 12577, 'unecessary': 12578, 'unemploye': 12579, 'unemployed': 12580, 'unemployment': 12581, 'unethical': 12582, 'uneven': 12583, 'unexpected': 12584, 'unfair': 12585, 'unfairly': 12586, 'unfamiliar': 12587, 'unfeasible': 12588, 'unfill': 12589, 'unfiltered': 12590, 'unfit': 12591, 'unflushable': 12592, 'unfold': 12593, 'unforeseen': 12594, 'unfortuna': 12595, 'unfortunate': 12596, 'unfortunately': 12597, 'unfreeze': 12598, 'ungodly': 12599, 'ungrateful': 12600, 'unh': 12601, 'uni': 12602, 'unicorn': 12603, 'unidos': 12604, 'unification': 12605, 'unified': 12606, 'uniform': 12607, 'unilever': 12608, 'unimaginable': 12609, 'unintended': 12610, 'uninterrupte': 12611, 'union': 12612, 'unique': 12613, 'uniquely': 12614, 'unit': 12615, 'unite': 12616, 'united': 12617, 'unity': 12618, 'universal': 12619, 'universe': 12620, 'universities': 12621, 'university': 12622, 'unjustifiable': 12623, 'unklar': 12624, 'unknown': 12625, 'unkown': 12626, 'unlawful': 12627, 'unleaded': 12628, 'unleash': 12629, 'unlike': 12630, 'unlikely': 12631, 'unlimited': 12632, 'unload': 12633, 'unlock': 12634, 'unmanageable': 12635, 'unmanned': 12636, 'unmatched': 12637, 'unnecessarily': 12638, 'unnecessary': 12639, 'unneede': 12640, 'unneeded': 12641, 'uno': 12642, 'unopened': 12643, 'unpack': 12644, 'unpaid': 12645, 'unpopular': 12646, 'unprecedented': 12647, 'unpreventable': 12648, 'unprofitable': 12649, 'unprotected': 12650, 'unquenched': 12651, 'unreal': 12652, 'unrelated': 12653, 'unrest': 12654, 'unruly': 12655, 'unsafe': 12656, 'unsanitarily': 12657, 'unsatisfactory': 12658, 'unscrupulously': 12659, 'unsettling': 12660, 'unskille': 12661, 'unskilled': 12662, 'unsolicite': 12663, 'unsolicited': 12664, 'unstable': 12665, 'unstaged': 12666, 'unstoppable': 12667, 'unsung': 12668, 'unsupported': 12669, 'unsure': 12670, 'unsurprisingly': 12671, 'unsuspecting': 12672, 'unt': 12673, 'unthinkable': 12674, 'untimely': 12675, 'unused': 12676, 'unusual': 12677, 'unusually': 12678, 'unveil': 12679, 'unwanted': 12680, 'unwashed': 12681, 'unwell': 12682, 'unwilling': 12683, 'unwrap': 12684, 'uob': 12685, 'up': 12686, 'upadate': 12687, 'upcharging': 12688, 'upcoming': 12689, 'update': 12690, 'updates': 12691, 'upend': 12692, 'upends': 12693, 'upgrade': 12694, 'upgrading': 12695, 'upheaval': 12696, 'upheavel': 12697, 'uphoard': 12698, 'upload': 12699, 'upmarket': 12700, 'upmost': 12701, 'upnow': 12702, 'upped': 12703, 'upper': 12704, 'uppity': 12705, 'upppppp': 12706, 'uproar': 12707, 'ups': 12708, 'upscale': 12709, 'upset': 12710, 'upsetting': 12711, 'upside': 12712, 'upstream': 12713, 'uptick': 12714, 'upto': 12715, 'uptodate': 12716, 'uptotheminute': 12717, 'upward': 12718, 'upwards': 12719, 'upwith': 12720, 'upyes': 12721, 'ur': 12722, 'uranium': 12723, 'urban': 12724, 'urbanrural': 12725, 'urge': 12726, 'urgency': 12727, 'urgent': 12728, 'urgently': 12729, 'urger': 12730, 'urges': 12731, 'urgly': 12732, 'urine': 12733, 'url': 12734, 'ursula': 12735, 'usa': 12736, 'usability': 12737, 'usable': 12738, 'usage': 12739, 'usb': 12740, 'usd': 12741, 'usda': 12742, 'usdcad': 12743, 'use': 12744, 'usebasket': 12745, 'useful': 12746, 'useless': 12747, 'useloom': 12748, 'user': 12749, 'userfriendly': 12750, 'username': 12751, 'usertesting': 12752, 'usfor': 12753, 'ushaped': 12754, 'usher': 12755, 'uski': 12756, 'usmc': 12757, 'usn': 12758, 'ussaudi': 12759, 'ussbbl': 12760, 'usual': 12761, 'usually': 12762, 'ut': 12763, 'utah': 12764, 'utahs': 12765, 'utd': 12766, 'utilisation': 12767, 'utilities': 12768, 'utility': 12769, 'utilization': 12770, 'utilize': 12771, 'utmost': 12772, 'utopia': 12773, 'utter': 12774, 'utterly': 12775, 'uv': 12776, 'uvc': 12777, 'uve': 12778, 'v': 12779, 'va': 12780, 'vacancy': 12781, 'vacant': 12782, 'vacation': 12783, 'vacationer': 12784, 'vaccinate': 12785, 'vaccination': 12786, 'vaccine': 12787, 'vaccinecure': 12788, 'vaccines': 12789, 'vacos': 12790, 'vacuum': 12791, 'vaisman': 12792, 'vakkenvuller': 12793, 'valdosta': 12794, 'valens': 12795, 'valentin': 12796, 'valentine': 12797, 'valid': 12798, 'valley': 12799, 'valuable': 12800, 'valuation': 12801, 'valuations': 12802, 'value': 12803, 'valuedriven': 12804, 'valueless': 12805, 'values': 12806, 'valve': 12807, 'valyou': 12808, 'van': 12809, 'vancouver': 12810, 'vanish': 12811, 'vape': 12812, 'vapers': 12813, 'vapid': 12814, 'vaporisation': 12815, 'var': 12816, 'varadkar': 12817, 'variability': 12818, 'variance': 12819, 'variation': 12820, 'varie': 12821, 'varied': 12822, 'varies': 12823, 'variety': 12824, 'vary': 12825, 'vast': 12826, 'vastly': 12827, 'vat': 12828, 'vaud': 12829, 'vc': 12830, 've': 12831, 'vector': 12832, 'veg': 12833, 'vegan': 12834, 'vegans': 12835, 'vegas': 12836, 'vegetabl': 12837, 'vegetable': 12838, 'vegetables': 12839, 'vegetablesmedicine': 12840, 'vegetarian': 12841, 'vegetation': 12842, 'veggie': 12843, 'vehicle': 12844, 'veiligheid': 12845, 'velocity': 12846, 'vender': 12847, 'vendor': 12848, 'vendors': 12849, 'vendorsfruitvegetable': 12850, 'venerable': 12851, 'venezueala': 12852, 'venezuelan': 12853, 'vengeance': 12854, 'vengranovich': 12855, 'venmo': 12856, 'ventes': 12857, 'ventilation': 12858, 'ventilator': 12859, 'ventilators': 12860, 'ventilatorsppe': 12861, 'venture': 12862, 'venue': 12863, 'ver': 12864, 'verantwortlich': 12865, 'verb': 12866, 'verbally': 12867, 'verge': 12868, 'verifiable': 12869, 'verification': 12870, 'verity': 12871, 'veriyorlar': 12872, 'vermont': 12873, 'verno': 12874, 'vernon': 12875, 'version': 12876, 'versionim': 12877, 'versova': 12878, 'versus': 12879, 'vertical': 12880, 'veteran': 12881, 'veterinarian': 12882, 'veterinarians': 12883, 'veterinary': 12884, 'viable': 12885, 'vibe': 12886, 'viber': 12887, 'vice': 12888, 'vicious': 12889, 'vicki': 12890, 'vicky': 12891, 'victim': 12892, 'victims': 12893, 'victoria': 12894, 'victorian': 12895, 'victorious': 12896, 'victory': 12897, 'vid': 12898, 'video': 12899, 'vie': 12900, 'vietnam': 12901, 'vietnamese': 12902, 'view': 12903, 'viewer': 12904, 'viewpoint': 12905, 'vigilant': 12906, 'vikramch': 12907, 'vilas': 12908, 'vile': 12909, 'viligant': 12910, 'villa': 12911, 'village': 12912, 'villain': 12913, 'vine': 12914, 'vineyard': 12915, 'vintage': 12916, 'violate': 12917, 'violation': 12918, 'violence': 12919, 'violet': 12920, 'viral': 12921, 'viralism': 12922, 'virginia': 12923, 'virologist': 12924, 'virology': 12925, 'virtual': 12926, 'virtually': 12927, 'virus': 12928, 'viruse': 12929, 'virusse': 12930, 'virusspooked': 12931, 'virusthen': 12932, 'visa': 12933, 'viscelli': 12934, 'vishwakarmai': 12935, 'visibility': 12936, 'visible': 12937, 'visibly': 12938, 'visit': 12939, 'visiting': 12940, 'visitor': 12941, 'visual': 12942, 'visually': 12943, 'vital': 12944, 'vitamin': 12945, 'vitaminc': 12946, \"vitimaybey'all\": 12947, 'viva': 12948, 'vividly': 12949, 'vix': 12950, 'vladimir': 12951, 'vlncf': 12952, 'vlns': 12953, 'vlog': 12954, 'vlogger': 12955, 'vocational': 12956, 'vodka': 12957, 'voice': 12958, 'voices': 12959, 'void': 12960, 'voila': 12961, 'volatile': 12962, 'volatility': 12963, 'voltaire': 12964, 'volume': 12965, 'voluntarily': 12966, 'voluntaryrun': 12967, 'volunteer': 12968, 'volunteers': 12969, 'von': 12970, 'voss': 12971, 'vote': 12972, 'voter': 12973, 'voting': 12974, 'voucher': 12975, 'vow': 12976, 'vox': 12977, 'vp': 12978, 'vpn': 12979, 'vr': 12980, 'vra': 12981, 'vs': 12982, 'vshaped': 12983, 'vta': 12984, 'vuitton': 12985, 'vulgar': 12986, 'vulgortie': 12987, 'vulnerability': 12988, 'vulnerable': 12989, 'vulnerableelderly': 12990, 'vulture': 12991, 'vunna': 12992, 'vxx': 12993, 'vyor': 12994, 'w': 12995, 'wa': 12996, 'waaaay': 12997, 'waffle': 12998, 'wafrica': 12999, 'wage': 13000, 'wager': 13001, 'wagon': 13002, 'wait': 13003, 'waitcnn': 13004, 'waiting': 13005, 'waitkenyan': 13006, 'waitlist': 13007, 'waitrose': 13008, 'waive': 13009, 'waiver': 13010, 'waivers': 13011, 'wake': 13012, 'wakeandbake': 13013, 'wakeup': 13014, 'wales': 13015, 'walgreens': 13016, 'walk': 13017, 'walker': 13018, 'walkrun': 13019, 'walkthrough': 13020, 'wall': 13021, 'wallet': 13022, 'walletrinse': 13023, 'wally': 13024, 'walmart': 13025, 'walt': 13026, 'waltermart': 13027, 'walton': 13028, 'wana': 13029, 'wanajua': 13030, 'wand': 13031, 'wander': 13032, 'wane': 13033, 'wanna': 13034, 'wannabe': 13035, 'want': 13036, 'wapo': 13037, 'war': 13038, 'ward': 13039, 'wardi': 13040, 'wardrobe': 13041, 'warehouse': 13042, 'warehouser': 13043, 'warehousing': 13044, 'warfare': 13045, 'warm': 13046, 'warmhot': 13047, 'warn': 13048, 'warning': 13049, 'warnings': 13050, 'warns': 13051, 'warrant': 13052, 'warranty': 13053, 'warren': 13054, 'warrenton': 13055, 'warrington': 13056, 'warrior': 13057, 'wars': 13058, 'wary': 13059, 'warzone': 13060, 'wash': 13061, 'washable': 13062, 'washing': 13063, 'washington': 13064, 'washingtonians': 13065, 'washlite': 13066, 'washout': 13067, 'wasn': 13068, 'wassup': 13069, 'wastage': 13070, 'waste': 13071, 'wasteand': 13072, 'wasting': 13073, 'watauga': 13074, 'watch': 13075, 'watchdog': 13076, 'water': 13077, 'waterborne': 13078, 'waterclean': 13079, 'waterford': 13080, 'waterless': 13081, 'waterloo': 13082, 'watermelon': 13083, 'waters': 13084, 'watershould': 13085, 'watersstrange': 13086, 'waterstones': 13087, 'watu': 13088, 'wav': 13089, 'wave': 13090, 'waves': 13091, 'wawa': 13092, 'way': 13093, 'ways': 13094, 'wb': 13095, 'wcopd': 13096, 'wcustomers': 13097, 'wds': 13098, 'wea': 13099, 'weak': 13100, 'weaken': 13101, 'weakening': 13102, 'weakness': 13103, 'weald': 13104, 'wealth': 13105, 'wealthy': 13106, 'weaning': 13107, 'weapon': 13108, 'wear': 13109, 'wearer': 13110, 'wearin': 13111, 'wearing': 13112, 'wearly': 13113, 'weasel': 13114, 'weather': 13115, 'web': 13116, 'webcam': 13117, 'webcast': 13118, 'webi': 13119, 'webinar': 13120, 'webinars': 13121, 'webpage': 13122, 'website': 13123, 'websitebloglandingpageecommerce': 13124, 'websites': 13125, 'wedding': 13126, 'wedge': 13127, 'wednesday': 13128, 'weds': 13129, 'weed': 13130, 'week': 13131, 'weekend': 13132, 'weekly': 13133, 'weeks': 13134, 'weeksis': 13135, 'weep': 13136, 'wegmans': 13137, 'weigh': 13138, 'weighs': 13139, 'weight': 13140, 'weil': 13141, 'weinstein': 13142, 'weird': 13143, 'weirdo': 13144, 'weis': 13145, 'weiser': 13146, 'welcome': 13147, 'welfare': 13148, 'well': 13149, 'wellbee': 13150, 'wellbeing': 13151, 'welli': 13152, 'wellington': 13153, 'wellmeane': 13154, 'wellness': 13155, 'wellplaced': 13156, 'wellpositione': 13157, 'wellprepare': 13158, 'wells': 13159, 'wellstocke': 13160, 'wellstocked': 13161, 'wellsupporte': 13162, 'welp': 13163, 'wembley': 13164, 'wen': 13165, 'wench': 13166, 'went': 13167, 'wentworth': 13168, 'wer': 13169, 'weret': 13170, 'werk': 13171, 'west': 13172, 'westbury': 13173, 'western': 13174, 'westminster': 13175, 'weston': 13176, 'wet': 13177, 'wetaskiwin': 13178, 'wetherby': 13179, 'wetherspoon': 13180, 'wetin': 13181, 'weworks': 13182, 'wfh': 13183, 'wfp': 13184, 'wglovesmocke': 13185, 'wh': 13186, 'whack': 13187, 'whale': 13188, 'whammy': 13189, 'whamond': 13190, 'whassup': 13191, 'whataboutery': 13192, 'whatnot': 13193, 'whatsapp': 13194, 'whatsoever': 13195, 'whatsup': 13196, 'wheat': 13197, 'wheatampsoybeans': 13198, 'wheel': 13199, 'wheeler': 13200, 'wheezy': 13201, 'whenwe': 13202, 'wheres': 13203, 'whilst': 13204, 'whine': 13205, 'whinge': 13206, 'whiplash': 13207, 'whippy': 13208, 'whiskey': 13209, 'whiskeyclveland': 13210, 'whisky': 13211, 'whisper': 13212, 'whispering': 13213, 'whistler': 13214, 'whitchaple': 13215, 'white': 13216, 'whiteslave': 13217, 'whitty': 13218, 'whn': 13219, 'whoknowswhatkind': 13220, 'wholefood': 13221, 'wholeheartedly': 13222, 'wholesale': 13223, 'wholesaler': 13224, 'whopping': 13225, 'whos': 13226, 'whstsapp': 13227, 'wi': 13228, 'wic': 13229, 'wicked': 13230, 'wid': 13231, 'wide': 13232, 'widely': 13233, 'widen': 13234, 'widespread': 13235, 'wife': 13236, 'wig': 13237, 'wihout': 13238, 'wikimedia': 13239, 'wil': 13240, 'wild': 13241, 'wilde': 13242, 'wildest': 13243, 'wildin': 13244, 'wildlife': 13245, 'wildrye': 13246, 'will': 13247, 'willful': 13248, 'willfully': 13249, 'willing': 13250, 'wilm': 13251, 'wiltshire': 13252, 'win': 13253, 'winco': 13254, 'wind': 13255, 'window': 13256, 'windricksville': 13257, 'windshield': 13258, 'windsor': 13259, 'wine': 13260, 'winery': 13261, 'wines': 13262, 'winewhich': 13263, 'wing': 13264, 'wingate': 13265, 'winner': 13266, 'winners': 13267, 'winnie': 13268, 'wino': 13269, 'winston': 13270, 'winter': 13271, 'wipe': 13272, 'wipeaid': 13273, 'wipingthem': 13274, 'wire': 13275, 'wireless': 13276, 'wirenew': 13277, 'wirh': 13278, 'wiring': 13279, 'wisconsin': 13280, 'wisdom': 13281, 'wise': 13282, 'wisely': 13283, 'wish': 13284, 'witch': 13285, 'witchelstowe': 13286, 'withdraw': 13287, 'withdrawal': 13288, 'withhold': 13289, 'withpreexiste': 13290, 'withregram': 13291, 'withstand': 13292, 'withthe': 13293, 'witness': 13294, 'wiv': 13295, 'wk': 13296, 'wks': 13297, 'wmask': 13298, 'wmaskmocke': 13299, 'wmt': 13300, 'wmy': 13301, 'wo': 13302, 'woah': 13303, 'wobble': 13304, 'woe': 13305, 'woefully': 13306, 'woking': 13307, 'woman': 13308, 'won': 13309, \"won't\": 13310, 'wonder': 13311, 'wonderful': 13312, 'wonky': 13313, 'wood': 13314, 'woodlands': 13315, 'woods': 13316, 'woodsides': 13317, 'woody': 13318, 'woofer': 13319, 'woolie': 13320, 'woolies': 13321, 'woolworth': 13322, 'woolworths': 13323, 'worcester': 13324, 'word': 13325, 'wordcloud': 13326, 'work': 13327, 'workathome': 13328, 'workbook': 13329, 'worker': 13330, 'workergoing': 13331, 'workers': 13332, 'workersdelivery': 13333, 'workersfirst': 13334, 'workerslandlord': 13335, 'workersnhs': 13336, 'workerspastorseveryone': 13337, 'workerspilotsflight': 13338, 'workflow': 13339, 'workforce': 13340, 'workfromhome': 13341, 'working': 13342, 'workinglearning': 13343, 'workload': 13344, 'workout': 13345, 'workplace': 13346, 'works': 13347, 'workstation': 13348, 'world': 13349, 'worldclass': 13350, 'worlddddd': 13351, 'worlds': 13352, 'worldthe': 13353, 'worldwide': 13354, 'worldwideplease': 13355, 'worm': 13356, 'worried': 13357, 'worrisome': 13358, 'worry': 13359, 'worryin': 13360, 'worrying': 13361, 'worse': 13362, 'worsen': 13363, 'worship': 13364, 'worst': 13365, 'worsthit': 13366, 'worstpossible': 13367, 'worth': 13368, 'worthless': 13369, 'worthy': 13370, 'wouldn': 13371, 'wout': 13372, 'wover': 13373, 'wow': 13374, 'wpeople': 13375, 'wprod': 13376, 'wracking': 13377, 'wrap': 13378, 'wreak': 13379, 'wreck': 13380, 'wrench': 13381, 'wrestle': 13382, 'wrestler': 13383, 'write': 13384, 'writing': 13385, 'wrong': 13386, 'wrongful': 13387, 'wrst': 13388, 'wrt': 13389, 'wsj': 13390, 'wspace': 13391, 'wt': 13392, 'wtf': 13393, 'wth': 13394, 'wti': 13395, 'wtop': 13396, 'wtrg': 13397, 'wtrh': 13398, 'wud': 13399, 'wuhan': 13400, 'wush': 13401, 'wv': 13402, 'ww': 13403, 'wwe': 13404, 'wwi': 13405, 'wwii': 13406, 'wyss': 13407, 'x': 13408, 'xam': 13409, 'xboxetc': 13410, 'xbr': 13411, 'xd': 13412, 'xente': 13413, 'xhb': 13414, 'xiaomi': 13415, 'xl': 13416, 'xly': 13417, 'xoxoxo': 13418, 'xrp': 13419, 'xweek': 13420, 'xx': 13421, 'xxx': 13422, 'y': 13423, \"y'all\": 13424, \"y'know\": 13425, 'ya': 13426, \"ya'll\": 13427, 'yaayan': 13428, 'yahaya': 13429, 'yahoo': 13430, 'yall': 13431, 'yam': 13432, 'yamah': 13433, 'yan': 13434, 'yannathan': 13435, 'yard': 13436, 'yarrow': 13437, 'yase': 13438, 'yasky': 13439, 'yay': 13440, 'yday': 13441, 'ye': 13442, 'yeah': 13443, 'year': 13444, 'yearend': 13445, 'yearly': 13446, 'yearold': 13447, 'yearoveryear': 13448, 'yeast': 13449, 'yell': 13450, 'yellow': 13451, 'yemen': 13452, 'yen': 13453, 'yep': 13454, 'yes': 13455, 'yesbut': 13456, 'yesterday': 13457, 'yetgo': 13458, 'yext': 13459, 'yield': 13460, 'yikes': 13461, 'yknow': 13462, 'yo': 13463, 'yoda': 13464, 'yoday': 13465, 'yoga': 13466, 'yogendrayadav': 13467, 'yogi': 13468, 'yogis': 13469, 'york': 13470, 'yorkers': 13471, 'yoruba': 13472, 'yost': 13473, 'you': 13474, 'yougov': 13475, 'young': 13476, 'younis': 13477, \"your'all\": 13478, 'youre': 13479, 'yourselfbut': 13480, 'yourselvesmask': 13481, 'yous': 13482, 'youth': 13483, 'youthful': 13484, 'youthled': 13485, 'youtube': 13486, 'youwish': 13487, 'yoweri': 13488, 'yoy': 13489, 'yoyo_thomas': 13490, 'yr': 13491, 'yrs': 13492, 'ys': 13493, 'yu': 13494, 'yubanet': 13495, 'yum': 13496, 'yuma': 13497, 'yummy': 13498, 'yup': 13499, 'yusuf': 13500, 'yves': 13501, 'yvonne': 13502, 'zachary': 13503, 'zafar': 13504, 'zakatify': 13505, 'zalora': 13506, 'zambia': 13507, 'zealand': 13508, 'zealot': 13509, 'zed': 13510, 'zeidler': 13511, 'zeller': 13512, 'zengele': 13513, 'zenobia': 13514, 'zep': 13515, 'zero': 13516, 'zetten': 13517, 'zhengzhou': 13518, 'zijn': 13519, 'zilch': 13520, 'zimbabwe': 13521, 'zimbabwean': 13522, 'zimmerman': 13523, 'zitapewa': 13524, 'zleynzzzz': 13525, 'zm': 13526, 'zoe': 13527, 'zoey': 13528, 'zomatouber': 13529, 'zombie': 13530, 'zombies': 13531, 'zone': 13532, 'zoning': 13533, 'zonrox': 13534, 'zoo': 13535, 'zoom': 13536, 'zoomer': 13537, 'zoonotic': 13538, 'zumbuehl': 13539, 'zuschlge': 13540, 'zusendung': 13541, 'zweli': 13542}\n"
     ]
    }
   ],
   "source": [
    "def make_vocab(token_list):\n",
    "    tokens = sorted(set(tok for token in token_list for tok in token))\n",
    "    vocab = {v:k for k,v in enumerate(tokens)}\n",
    "    return vocab\n",
    "vocab = make_vocab(new_col)\n",
    "print(len(vocab))\n",
    "print(vocab)"
   ]
  },
  {
   "cell_type": "code",
   "execution_count": null,
   "id": "e14acc53",
   "metadata": {
    "id": "e14acc53",
    "outputId": "7d81b89d-b438-4764-9b32-616b8eb5041b"
   },
   "outputs": [
    {
     "name": "stdout",
     "output_type": "stream",
     "text": [
      "(9000, 13508)\n",
      "(5, 13508)\n"
     ]
    },
    {
     "data": {
      "image/png": "[encoded data removed]",
      "text/plain": [
       "<Figure size 640x480 with 1 Axes>"
      ]
     },
     "metadata": {},
     "output_type": "display_data"
    }
   ],
   "source": [
    "def cosine_similarity_fn(doc, centroid):\n",
    "    \"\"\"\n",
    "    Calculate the cosine similarity between two vectors.\n",
    "    \"\"\"\n",
    "    norm_doc = np.linalg.norm(doc)\n",
    "    norm_centroid = np.linalg.norm(centroid)\n",
    "    if norm_doc == 0 or norm_centroid == 0:\n",
    "        return 0\n",
    "    else:\n",
    "        return np.dot(doc, centroid)/ (norm_doc * norm_centroid)\n",
    "\n",
    "# Convert the list of tokens into a TF-IDF matrix\n",
    "vectorizer = TfidfVectorizer()\n",
    "X_train_test = vectorizer.fit_transform(token_data['tokens'].apply(lambda x: ' '.join(x))).toarray()\n",
    "print(X_train_test.shape)\n",
    "# Define the number of clusters\n",
    "k_clusters = 5\n",
    "\n",
    "# Initialize the centroids randomly\n",
    "new_centroids = X_train_test[np.random.choice(range(len(X_train_test)), k_clusters, replace=False)]\n",
    "print(new_centroids.shape)\n",
    "# Set the maximum number of iterations and the convergence tolerance\n",
    "max_iterations = 100\n",
    "convergence_tolerance = 0.001\n",
    "\n",
    "# Perform K-means clustering using cosine similarity as the distance metric\n",
    "for iteration in range(max_iterations):\n",
    "    # Assign each document to the closest centroid based on cosine similarity\n",
    "    similarities = np.apply_along_axis(cosine_similarity_fn, 1, X_train_test, new_centroids.T)\n",
    "    clusters = np.argmax(similarities, axis=1)\n",
    "\n",
    "    # Update the centroids based on the mean of the documents in each cluster\n",
    "    updated_centroids = new_centroids.copy()\n",
    "    for k in range(k_clusters):\n",
    "        clustered_docs = X_train_test[clusters == k]\n",
    "        if len(clustered_docs) > 0:\n",
    "            new_centroids[k] = np.mean(clustered_docs, axis=0)\n",
    "\n",
    "    # Check for convergence\n",
    "    if np.sqrt(((new_centroids - updated_centroids)**2).sum(axis=1)).max() < convergence_tolerance:\n",
    "        break\n",
    "# Use PCA to project the documents into two dimensions for visualization\n",
    "pca = PCA(n_components=2)\n",
    "pc1, pc2 = pca.fit_transform(X_train_test).T\n",
    "\n",
    "# Plot the clusters\n",
    "plt.scatter(pc1, pc2, c=clusters)\n",
    "plt.show()"
   ]
  },
  {
   "cell_type": "code",
   "execution_count": null,
   "id": "67732fd8",
   "metadata": {
    "id": "67732fd8",
    "outputId": "626bbe29-ef27-42d5-ea56-1861ba886a03"
   },
   "outputs": [
    {
     "name": "stdout",
     "output_type": "stream",
     "text": [
      "Cluster 0\n",
      "----I'm going out to the supermarket .... do you need something?\r",
      "\r\n",
      "\r",
      "\r\n",
      "#animal #animals #cats #cat #coronavirus #ThursdayThoughts #ThursdayMotivation #thursdayvibes https://t.co/7TnKJwBzAD\n",
      "----Borough Market campaign comes after a video of one nurse, Dawn Bilbrough, went viral, when she posted a tearful message about being unable to get fruit and veg at the supermarket following her shift.  #panicbuying over  #coronavirus @boroughmarket \r",
      "\r\n",
      "https://t.co/txGYCCH20s https://t.co/8bHHoAYNbk\n",
      "----Today I needed bread, so I went to the supermarket. I didn't get a trolley. I didnt get a basket. Because I needed bread. Just bread. #StopPanicBuying #coronavirus #COVID19 #covid19UK\n",
      "\n",
      "\n",
      "Top 5 tokens for cluster 0 are:\n",
      "['supermarket', 'online', 'sanitizer', 'hand', 'shopping']\n",
      "--------------------------------------------------------------------\n",
      "Cluster 1\n",
      "----@nikkig60 @PeterDevonUK Had the same experience yesterday. Shoppers barging past, leaning over. I wasnÂt loitering either.   WeÂre all in a rush but keep your distance people.\n",
      "----This quarantine ainÂt it chief?? #bowl #bowling #DV8 #outcast #QuarantineDiaries #QuarantineLife #coronavirus #Covid_19  #virus #outside #toiletpaper #tiktok #bored #boredathome #gaming #gamer #pba #pbatour #pro #missed #messenger #24hours #2weeks  #Wow https://t.co/yo8odNzoMu\n",
      "----This pandemic is already beyond control My nephew is an MD and told me to stock up with food and plan on staying home for at least a month His hospital is preparing separate facilities for 500 expected Covid 19 patients to not endanger regular hospital patients staff\n",
      "\n",
      "\n",
      "Top 5 tokens for cluster 1 are:\n",
      "['food', 'panic', 'stock', 'people', 'need']\n",
      "--------------------------------------------------------------------\n",
      "Cluster 2\n",
      "----Benchmark Data: How COVID-19 Is Impacting Sales and Marketing Performance [Updated Weekly]\r",
      "\r\n",
      "\r",
      "\r\n",
      "The economic impact of COVID-19 is undeniable. In the face of closures and shifting consumer behavior, businesses across the world have had to adapt to rapidly changing economic circuÂ",
      " https://t.co/0c357XhkPt\n",
      "----Universal Pictures to make its movies available at home on the same day they are released in theaters worldwide responding to changing consumer behavior as spreads\n",
      "----COVID-19 is impacting supply chain, trade, the workforce and so much more. WeÂve put together a guide on what business leaders should know. Find it here: https://t.co/tCjOWvB2Y3 https://t.co/9bekwqH0G3\n",
      "\n",
      "\n",
      "Top 5 tokens for cluster 2 are:\n",
      "['consumer', 'covid', 'impact', 'pandemic', 'change']\n",
      "--------------------------------------------------------------------\n",
      "Cluster 3\n",
      "----When you cough at the grocery store due to allergies and you get the why are you out in public look\n",
      "----COVID-19: slightly over 3% of all cases have diarrhea related symptoms. Rather over 80% of cases have a fever. Why don't you get an updated thermometer instead eh? Don't be that person at the store! #covid19 #coronavirus #corona #plain #plainclothingstore #toiletpaper #donthoard https://t.co/ennuOrTwWW\n",
      "----With the impact of pandemic many sectors are benefiting from the practice of social distancing Up 25 Online Grocery Shopping Up 100 Virus Protection Products Up 807\n",
      "\n",
      "\n",
      "Top 5 tokens for cluster 3 are:\n",
      "['store', 'grocery', 'worker', 'work', 'go']\n",
      "--------------------------------------------------------------------\n",
      "Cluster 4\n",
      "----Is anyone willing to sell me  a roll of toilet paper? #toiletpaper #coronavirus #lastroll #shitjustgotreal\n",
      "----Oil prices at $22.90\r",
      "\r\n",
      "#Oilprices #coronavirus #CoronaVirusUpdate\n",
      "----When it s your last toilet paper 19 us\n",
      "\n",
      "\n",
      "Top 5 tokens for cluster 4 are:\n",
      "['price', 'oil', 'covid', 'low', 'toilet']\n",
      "--------------------------------------------------------------------\n"
     ]
    }
   ],
   "source": [
    "#Top 3 Original tweet documents for each cluster and top 5 tokens for each centroid\n",
    "features = vectorizer.get_feature_names_out()\n",
    "for i in range(5):\n",
    "    cluster_docs = token_data.loc[clusters == i][\"OriginalTweet\"]\n",
    "    print(\"Cluster \"+str(i))\n",
    "    for doc in cluster_docs.iloc[:3]:\n",
    "        print(\"----\" + doc,end='\\n')\n",
    "    print(\"\\n\")\n",
    "    print(f\"Top 5 tokens for cluster {i} are:\",end='\\n')\n",
    "    cluster_centre = updated_centroids[i]\n",
    "    top_features = cluster_centre.argsort()[-5:][::-1]\n",
    "    print([features[index] for index in top_features])\n",
    "    print(\"--------------------------------------------------------------------\")"
   ]
  },
  {
   "cell_type": "code",
   "execution_count": null,
   "id": "ad0c272b",
   "metadata": {
    "id": "ad0c272b",
    "outputId": "c912bdf8-1fb9-4ca7-9980-e34cd1a9d0bd"
   },
   "outputs": [
    {
     "data": {
      "image/png": "[encoded data removed]",
      "text/plain": [
       "<Figure size 640x480 with 2 Axes>"
      ]
     },
     "metadata": {},
     "output_type": "display_data"
    }
   ],
   "source": [
    "#confusion matrix between clusters and target labels\n",
    "''''there are total 5 labels given extremely positive , positive, neutral , negative, extremely negative\n",
    "which can be converted to positive , neutral and negative\n",
    "'''\n",
    "mapper = {0:'positive', 1:'negative', 2:'neutral', 3:'positive', 4:'negative'}\n",
    "mapped_cluster = np.array([mapper[val] for val in clusters])\n",
    "y_true = np.array(token_data['labels'])\n",
    "y_pred = mapped_cluster\n",
    "cf_matrix = confusion_matrix(y_true,y_pred)\n",
    "labelY = ['negative', 'neutral' , 'positive']\n",
    "labelX = ['cluster 1, 4','cluster 2','cluster 0, 3']\n",
    "sns.heatmap(cf_matrix, annot=True, cmap='Blues', fmt='g', xticklabels=labelX, yticklabels=labelY)\n",
    "plt.xlabel('\\nCluster Labels')\n",
    "plt.ylabel('Original')\n",
    "plt.title('Confusion Matrix')\n",
    "plt.show()"
   ]
  },
  {
   "cell_type": "code",
   "execution_count": 4,
   "id": "01079c2c",
   "metadata": {
    "id": "01079c2c"
   },
   "outputs": [],
   "source": [
    "X_train,X_val_test,Y_train,Y_val_test = train_test_split(token_data,token_data['labels'],test_size=0.4,random_state=43)\n",
    "X_val,X_test,Y_val,Y_test = train_test_split(X_val_test,Y_val_test,test_size=0.5)"
   ]
  },
  {
   "cell_type": "code",
   "execution_count": 5,
   "id": "22f6bca1",
   "metadata": {},
   "outputs": [
    {
     "data": {
      "text/plain": [
       "positive    2224\n",
       "negative    1766\n",
       "neutral     1410\n",
       "Name: labels, dtype: int64"
      ]
     },
     "execution_count": 5,
     "metadata": {},
     "output_type": "execute_result"
    }
   ],
   "source": [
    "X_train['labels'].value_counts()"
   ]
  },
  {
   "cell_type": "code",
   "execution_count": 7,
   "id": "60f7762a",
   "metadata": {},
   "outputs": [
    {
     "data": {
      "text/plain": [
       "positive    732\n",
       "negative    616\n",
       "neutral     452\n",
       "Name: labels, dtype: int64"
      ]
     },
     "execution_count": 7,
     "metadata": {},
     "output_type": "execute_result"
    }
   ],
   "source": [
    "X_val['labels'].value_counts()"
   ]
  },
  {
   "cell_type": "code",
   "execution_count": 6,
   "id": "073be4f8",
   "metadata": {},
   "outputs": [
    {
     "data": {
      "text/plain": [
       "positive    744\n",
       "negative    618\n",
       "neutral     438\n",
       "Name: labels, dtype: int64"
      ]
     },
     "execution_count": 6,
     "metadata": {},
     "output_type": "execute_result"
    }
   ],
   "source": [
    "X_test['labels'].value_counts()"
   ]
  },
  {
   "cell_type": "code",
   "execution_count": 15,
   "id": "6ea3720c",
   "metadata": {
    "id": "6ea3720c"
   },
   "outputs": [],
   "source": [
    "vec = TfidfVectorizer()\n",
    "Y_train = LE().fit_transform(Y_train)\n",
    "Y_val = LE().fit_transform(Y_val)\n",
    "Y_test =LE().fit_transform(Y_test)\n",
    "X_train_1 = vec.fit_transform(X_train['tokens'].apply(lambda x: ' '.join(x)))\n",
    "X_val_1 = vec.transform(X_val['tokens'].apply(lambda x: ' '.join(x)))"
   ]
  },
  {
   "cell_type": "code",
   "execution_count": null,
   "id": "54d9c99c",
   "metadata": {
    "id": "54d9c99c",
    "outputId": "0d7888ed-df34-416d-cda3-0e70fabff384"
   },
   "outputs": [
    {
     "name": "stdout",
     "output_type": "stream",
     "text": [
      "                      On Training Data\n",
      "\n",
      "              precision    recall  f1-score   support\n",
      "\n",
      "           0      0.000     1.000     0.000         0\n",
      "           1      0.000     1.000     0.000         0\n",
      "           2      1.000     0.412     0.583      5400\n",
      "\n",
      "    accuracy                          0.412      5400\n",
      "   macro avg      0.333     0.804     0.194      5400\n",
      "weighted avg      1.000     0.412     0.583      5400\n",
      "\n",
      "-----------------------------------\n",
      "                     On Validation Data\n",
      "\n",
      "              precision    recall  f1-score   support\n",
      "\n",
      "           0      0.000     1.000     0.000         0\n",
      "           1      0.000     1.000     0.000         0\n",
      "           2      1.000     0.408     0.579      1800\n",
      "\n",
      "    accuracy                          0.408      1800\n",
      "   macro avg      0.333     0.803     0.193      1800\n",
      "weighted avg      1.000     0.408     0.579      1800\n",
      "\n"
     ]
    }
   ],
   "source": [
    "DC_freq = DC(strategy=\"most_frequent\").fit(X_train,Y_train)\n",
    "\n",
    "print(\"                      On Training Data\\n\")\n",
    "Y_pred_freq_train = DC_freq.predict(X_train_1)\n",
    "print(classification_report(Y_pred_freq_train,Y_train,zero_division=True,digits=3))\n",
    "print(\"-----------------------------------\\n                     On Validation Data\\n\")\n",
    "Y_pred_freq = DC_freq.predict(X_val_1)\n",
    "print(classification_report(Y_pred_freq,Y_val,zero_division=True,digits=3))"
   ]
  },
  {
   "cell_type": "code",
   "execution_count": null,
   "id": "48f67637",
   "metadata": {
    "id": "48f67637",
    "outputId": "9cfd29c9-5f88-46ea-a5bf-94b269b24725"
   },
   "outputs": [
    {
     "name": "stdout",
     "output_type": "stream",
     "text": [
      "                      On Training Data\n",
      "\n",
      "              precision    recall  f1-score   support\n",
      "\n",
      "           0      0.342     0.335     0.338      1804\n",
      "           1      0.263     0.267     0.265      1390\n",
      "           2      0.405     0.408     0.406      2206\n",
      "\n",
      "    accuracy                          0.347      5400\n",
      "   macro avg      0.337     0.337     0.337      5400\n",
      "weighted avg      0.347     0.347     0.347      5400\n",
      "\n",
      "-----------------------------------\n",
      "                     On Validation Data\n",
      "\n",
      "              precision    recall  f1-score   support\n",
      "\n",
      "           0      0.338     0.364     0.350       591\n",
      "           1      0.291     0.269     0.280       464\n",
      "           2      0.409     0.403     0.406       745\n",
      "\n",
      "    accuracy                          0.356      1800\n",
      "   macro avg      0.346     0.345     0.345      1800\n",
      "weighted avg      0.355     0.356     0.355      1800\n",
      "\n"
     ]
    }
   ],
   "source": [
    "DC_strat = DC(strategy='stratified').fit(X_train,Y_train)\n",
    "print(\"                      On Training Data\\n\")\n",
    "Y_pred_strat_train = DC_strat.predict(X_train_1)\n",
    "print(classification_report(Y_pred_strat_train,Y_train,zero_division=True,digits=3))\n",
    "print(\"-----------------------------------\\n                     On Validation Data\\n\")\n",
    "Y_test_strat = DC_strat.predict(X_val_1)\n",
    "print(classification_report(Y_test_strat,Y_val,digits=3))"
   ]
  },
  {
   "cell_type": "code",
   "execution_count": null,
   "id": "d33d5b42",
   "metadata": {
    "id": "d33d5b42",
    "outputId": "c4327163-7b0e-4d3f-e930-c3699b35f9a0"
   },
   "outputs": [
    {
     "name": "stdout",
     "output_type": "stream",
     "text": [
      "                      On Training Data\n",
      "\n",
      "              precision    recall  f1-score   support\n",
      "\n",
      "           0      0.899     0.925     0.912      1715\n",
      "           1      0.855     0.925     0.888      1303\n",
      "           2      0.953     0.890     0.921      2382\n",
      "\n",
      "    accuracy                          0.910      5400\n",
      "   macro avg      0.902     0.913     0.907      5400\n",
      "weighted avg      0.912     0.910     0.910      5400\n",
      "\n",
      "-----------------------------------\n",
      "                     On Validation Data\n",
      "\n",
      "              precision    recall  f1-score   support\n",
      "\n",
      "           0      0.691     0.726     0.708       606\n",
      "           1      0.517     0.665     0.582       334\n",
      "           2      0.815     0.695     0.750       860\n",
      "\n",
      "    accuracy                          0.700      1800\n",
      "   macro avg      0.674     0.695     0.680      1800\n",
      "weighted avg      0.718     0.700     0.705      1800\n",
      "\n"
     ]
    }
   ],
   "source": [
    "lr = LogisticRegression(max_iter=10000)\n",
    "log_model = lr.fit(X_train_1,Y_train)\n",
    "print(\"                      On Training Data\\n\")\n",
    "Y_pred_log_train = log_model.predict(X_train_1)\n",
    "print(classification_report(Y_pred_log_train,Y_train,digits=3))\n",
    "print(\"-----------------------------------\\n                     On Validation Data\\n\")\n",
    "Y_log = log_model.predict(X_val_1)\n",
    "print(classification_report(Y_log,Y_val,digits=3))"
   ]
  },
  {
   "cell_type": "code",
   "execution_count": null,
   "id": "d6d59484",
   "metadata": {
    "id": "d6d59484"
   },
   "outputs": [],
   "source": []
  },
  {
   "cell_type": "code",
   "execution_count": null,
   "id": "5c175f08",
   "metadata": {
    "id": "5c175f08",
    "outputId": "72d18805-10ef-49bb-f6ca-27e09af38edf"
   },
   "outputs": [
    {
     "name": "stdout",
     "output_type": "stream",
     "text": [
      "                      On Training Data\n",
      "\n",
      "              precision    recall  f1-score   support\n",
      "\n",
      "           0      0.976     0.983     0.980      1754\n",
      "           1      0.982     0.965     0.973      1434\n",
      "           2      0.981     0.986     0.984      2212\n",
      "\n",
      "    accuracy                          0.980      5400\n",
      "   macro avg      0.980     0.978     0.979      5400\n",
      "weighted avg      0.980     0.980     0.980      5400\n",
      "\n",
      "-----------------------------------\n",
      "                     On Validation Data\n",
      "\n",
      "              precision    recall  f1-score   support\n",
      "\n",
      "           0      0.662     0.763     0.709       553\n",
      "           1      0.737     0.628     0.678       503\n",
      "           2      0.762     0.751     0.756       744\n",
      "\n",
      "    accuracy                          0.721      1800\n",
      "   macro avg      0.720     0.714     0.715      1800\n",
      "weighted avg      0.724     0.721     0.720      1800\n",
      "\n"
     ]
    }
   ],
   "source": [
    "from sklearn.feature_extraction.text import CountVectorizer\n",
    "one_hot = CountVectorizer(binary=True)\n",
    "X_train_2 = one_hot.fit_transform(X_train['tokens'].apply(lambda x: ' '.join(x)))\n",
    "X_val_2 = one_hot.transform(X_val['tokens'].apply(lambda x: ' '.join(x)))\n",
    "log_one_hot = lr.fit(X_train_2,Y_train)\n",
    "print(\"                      On Training Data\\n\")\n",
    "Y_pred_log1_train = log_one_hot.predict(X_train_2)\n",
    "print(classification_report(Y_pred_log1_train,Y_train,digits=3))\n",
    "print(\"-----------------------------------\\n                     On Validation Data\\n\")\n",
    "Y_one_hot = log_one_hot.predict(X_val_2)\n",
    "print(classification_report(Y_one_hot,Y_val,digits=3))"
   ]
  },
  {
   "cell_type": "code",
   "execution_count": null,
   "id": "b8511521",
   "metadata": {
    "id": "b8511521",
    "outputId": "40b85a2d-0144-48d6-f468-fd2ae0f1e871"
   },
   "outputs": [
    {
     "data": {
      "image/png": "[encoded data removed]",
      "text/plain": [
       "<Figure size 640x480 with 1 Axes>"
      ]
     },
     "metadata": {},
     "output_type": "display_data"
    }
   ],
   "source": [
    "f1_log = f1_score(Y_one_hot,Y_val,average=None)\n",
    "fig, ax = plt.subplots()\n",
    "ax.bar(np.arange(3), f1_log, tick_label=labelY, color='lightblue',ec='k')\n",
    "for i, j in enumerate(f1_log):\n",
    "    ax.text(i, j+0.018, str(round(j,3)), color='k', ha='center', va='center',fontsize = 13)\n",
    "ax.set_ylabel(\"F1 Score\", color='b')\n",
    "ax.set_xlabel('Labels', color='b')\n",
    "ax.set_title(\"F1 Score of labels for One hot Logistic\")\n",
    "plt.show()"
   ]
  },
  {
   "cell_type": "code",
   "execution_count": null,
   "id": "8be3291a",
   "metadata": {
    "id": "8be3291a",
    "outputId": "87a3e277-376a-4841-fe42-f4d5a76ad7d3"
   },
   "outputs": [
    {
     "name": "stdout",
     "output_type": "stream",
     "text": [
      "                      On Training Data\n",
      "\n",
      "              precision    recall  f1-score   support\n",
      "\n",
      "           0      0.926     0.977     0.951      1673\n",
      "           1      0.951     0.865     0.906      1551\n",
      "           2      0.943     0.964     0.953      2176\n",
      "\n",
      "    accuracy                          0.939      5400\n",
      "   macro avg      0.940     0.935     0.937      5400\n",
      "weighted avg      0.940     0.939     0.939      5400\n",
      "\n",
      "-----------------------------------\n",
      "                     On Validation Data\n",
      "\n",
      "              precision    recall  f1-score   support\n",
      "\n",
      "           0      0.589     0.740     0.656       507\n",
      "           1      0.690     0.597     0.640       496\n",
      "           2      0.751     0.691     0.720       797\n",
      "\n",
      "    accuracy                          0.679      1800\n",
      "   macro avg      0.676     0.676     0.672      1800\n",
      "weighted avg      0.688     0.679     0.680      1800\n",
      "\n"
     ]
    }
   ],
   "source": [
    "svc_clf1 = SVC()\n",
    "svc_one_hot = svc_clf1.fit(X_train_2,Y_train)\n",
    "print(\"                      On Training Data\\n\")\n",
    "Y_pred_svc_train = svc_one_hot.predict(X_train_2)\n",
    "print(classification_report(Y_pred_svc_train,Y_train,digits=3))\n",
    "print(\"-----------------------------------\\n                     On Validation Data\\n\")\n",
    "Y_svc_hot = svc_one_hot.predict(X_val_2)\n",
    "print(classification_report(Y_svc_hot,Y_val,digits=3))"
   ]
  },
  {
   "cell_type": "code",
   "execution_count": null,
   "id": "025ec485",
   "metadata": {
    "id": "025ec485",
    "outputId": "945b553f-3645-4e7c-ea94-82bc3803d023",
    "scrolled": false
   },
   "outputs": [
    {
     "name": "stdout",
     "output_type": "stream",
     "text": [
      "                      On Training Data\n",
      "\n",
      "              precision    recall  f1-score   support\n",
      "\n",
      "           0      0.921     0.943     0.932      1725\n",
      "           1      0.940     0.923     0.931      1436\n",
      "           2      0.945     0.939     0.942      2239\n",
      "\n",
      "    accuracy                          0.936      5400\n",
      "   macro avg      0.935     0.935     0.935      5400\n",
      "weighted avg      0.936     0.936     0.936      5400\n",
      "\n",
      "-----------------------------------\n",
      "                     On Validation Data\n",
      "\n",
      "              precision    recall  f1-score   support\n",
      "\n",
      "           0      0.703     0.790     0.744       567\n",
      "           1      0.716     0.663     0.688       463\n",
      "           2      0.812     0.774     0.793       770\n",
      "\n",
      "    accuracy                          0.751      1800\n",
      "   macro avg      0.744     0.742     0.742      1800\n",
      "weighted avg      0.753     0.751     0.751      1800\n",
      "\n"
     ]
    }
   ],
   "source": [
    "from sklearn.svm import LinearSVC\n",
    "svc_clf2 = LinearSVC(penalty = 'l1',C=1,dual =False)\n",
    "svc_model = svc_clf2.fit(X_train_1,Y_train)\n",
    "print(\"                      On Training Data\\n\")\n",
    "Y_svc_train = svc_model.predict(X_train_1)\n",
    "print(classification_report(Y_svc_train,Y_train,digits=3))\n",
    "print(\"-----------------------------------\\n                     On Validation Data\\n\")\n",
    "Y_svc = svc_model.predict(X_val_1)\n",
    "print(classification_report(Y_svc,Y_val,digits=3))"
   ]
  },
  {
   "cell_type": "code",
   "execution_count": null,
   "id": "4e054306",
   "metadata": {
    "id": "4e054306",
    "outputId": "1a340b98-19fb-4290-e2df-3e7ef613bfe8"
   },
   "outputs": [
    {
     "name": "stdout",
     "output_type": "stream",
     "text": [
      "-----------------------------------\n",
      "                     On Validation Data\n",
      "\n",
      "              precision    recall  f1-score   support\n",
      "\n",
      "           0      0.688     0.768     0.726       570\n",
      "           1      0.727     0.654     0.689       477\n",
      "           2      0.808     0.788     0.798       753\n",
      "\n",
      "    accuracy                          0.746      1800\n",
      "   macro avg      0.741     0.737     0.737      1800\n",
      "weighted avg      0.748     0.746     0.746      1800\n",
      "\n",
      "                      On Training Data\n",
      "\n",
      "              precision    recall  f1-score   support\n",
      "\n",
      "           0      0.804     0.868     0.835      1634\n",
      "           1      0.865     0.786     0.823      1553\n",
      "           2      0.870     0.874     0.872      2213\n",
      "\n",
      "    accuracy                          0.847      5400\n",
      "   macro avg      0.846     0.843     0.843      5400\n",
      "weighted avg      0.849     0.847     0.847      5400\n",
      "\n"
     ]
    }
   ],
   "source": [
    "tfidf = TfidfVectorizer(min_df= 5,ngram_range=(1,3),sublinear_tf=True,max_features=8000)\n",
    "X_train_3 = tfidf.fit_transform(X_train['tokens'].apply(lambda x: ' '.join(x)))\n",
    "X_val_3 = tfidf.transform(X_val['tokens'].apply(lambda x: ' '.join(x)))\n",
    "tuned_lr = LogisticRegression(C=1.7,solver='saga',penalty='l1',max_iter=10000)\n",
    "tuned_lr.fit(X_train_3,Y_train)\n",
    "Y_tuned_lr = tuned_lr.predict(X_val_3)\n",
    "print(\"-----------------------------------\\n                     On Validation Data\\n\")\n",
    "print(classification_report(Y_tuned_lr,Y_val,digits=3))\n",
    "print(\"                      On Training Data\\n\")\n",
    "Y_pred_training = tuned_lr.predict(X_train_3)\n",
    "print(classification_report(Y_pred_training,Y_train,digits=3))"
   ]
  },
  {
   "cell_type": "code",
   "execution_count": 7,
   "id": "eff05e5c",
   "metadata": {
    "colab": {
     "base_uri": "https://localhost:8080/"
    },
    "id": "eff05e5c",
    "outputId": "8fe2b691-42d1-435d-c7ce-55eeeca9e9a8"
   },
   "outputs": [
    {
     "name": "stdout",
     "output_type": "stream",
     "text": [
      "Looking in indexes: https://pypi.org/simple, https://us-python.pkg.dev/colab-wheels/public/simple/\n",
      "Collecting transformers\n",
      "  Downloading transformers-4.27.1-py3-none-any.whl (6.7 MB)\n",
      "\u001b[2K     \u001b[90m━━━━━━━━━━━━━━━━━━━━━━━━━━━━━━━━━━━━━━━━\u001b[0m \u001b[32m6.7/6.7 MB\u001b[0m \u001b[31m100.7 MB/s\u001b[0m eta \u001b[36m0:00:00\u001b[0m\n",
      "\u001b[?25hRequirement already satisfied: packaging>=20.0 in /usr/local/lib/python3.9/dist-packages (from transformers) (23.0)\n",
      "Requirement already satisfied: regex!=2019.12.17 in /usr/local/lib/python3.9/dist-packages (from transformers) (2022.6.2)\n",
      "Collecting huggingface-hub<1.0,>=0.11.0\n",
      "  Downloading huggingface_hub-0.13.2-py3-none-any.whl (199 kB)\n",
      "\u001b[2K     \u001b[90m━━━━━━━━━━━━━━━━━━━━━━━━━━━━━━━━━━━━━━\u001b[0m \u001b[32m199.2/199.2 KB\u001b[0m \u001b[31m24.0 MB/s\u001b[0m eta \u001b[36m0:00:00\u001b[0m\n",
      "\u001b[?25hRequirement already satisfied: requests in /usr/local/lib/python3.9/dist-packages (from transformers) (2.25.1)\n",
      "Requirement already satisfied: pyyaml>=5.1 in /usr/local/lib/python3.9/dist-packages (from transformers) (6.0)\n",
      "Requirement already satisfied: numpy>=1.17 in /usr/local/lib/python3.9/dist-packages (from transformers) (1.22.4)\n",
      "Requirement already satisfied: filelock in /usr/local/lib/python3.9/dist-packages (from transformers) (3.9.1)\n",
      "Collecting tokenizers!=0.11.3,<0.14,>=0.11.1\n",
      "  Downloading tokenizers-0.13.2-cp39-cp39-manylinux_2_17_x86_64.manylinux2014_x86_64.whl (7.6 MB)\n",
      "\u001b[2K     \u001b[90m━━━━━━━━━━━━━━━━━━━━━━━━━━━━━━━━━━━━━━━━\u001b[0m \u001b[32m7.6/7.6 MB\u001b[0m \u001b[31m108.1 MB/s\u001b[0m eta \u001b[36m0:00:00\u001b[0m\n",
      "\u001b[?25hRequirement already satisfied: tqdm>=4.27 in /usr/local/lib/python3.9/dist-packages (from transformers) (4.65.0)\n",
      "Requirement already satisfied: typing-extensions>=3.7.4.3 in /usr/local/lib/python3.9/dist-packages (from huggingface-hub<1.0,>=0.11.0->transformers) (4.5.0)\n",
      "Requirement already satisfied: chardet<5,>=3.0.2 in /usr/local/lib/python3.9/dist-packages (from requests->transformers) (4.0.0)\n",
      "Requirement already satisfied: urllib3<1.27,>=1.21.1 in /usr/local/lib/python3.9/dist-packages (from requests->transformers) (1.26.15)\n",
      "Requirement already satisfied: idna<3,>=2.5 in /usr/local/lib/python3.9/dist-packages (from requests->transformers) (2.10)\n",
      "Requirement already satisfied: certifi>=2017.4.17 in /usr/local/lib/python3.9/dist-packages (from requests->transformers) (2022.12.7)\n",
      "Installing collected packages: tokenizers, huggingface-hub, transformers\n",
      "Successfully installed huggingface-hub-0.13.2 tokenizers-0.13.2 transformers-4.27.1\n"
     ]
    }
   ],
   "source": [
    "import locale\n",
    "def getpreferredencoding(do_setlocale = True):\n",
    "    return \"UTF-8\"\n",
    "locale.getpreferredencoding = getpreferredencoding\n",
    "!pip install transformers\n",
    "\n",
    "from transformers import pipeline"
   ]
  },
  {
   "cell_type": "code",
   "execution_count": 122,
   "id": "35d16afe",
   "metadata": {
    "colab": {
     "base_uri": "https://localhost:8080/",
     "height": 594,
     "referenced_widgets": [
      "be7c52d528ac47dd911bdad532c92fba",
      "8639209e9cff48e8919deb293af6d8d4",
      "b3800f43b53d459ab2a24d8d78a9a6a3",
      "96c0973207a44a6ea2e5332ffd7840f2",
      "d6ae77278495455c9941d78a0af5ca53",
      "044b0b47fa11416ea53189144f540500",
      "c790b7ec42d44311af5f8bf84843860d",
      "bb8eaa71b63f4a91a704b2824c3991e1",
      "61f0f90e23b5423486ba57dc1820ed71",
      "7a897a5decc046a68df3ce5071cad1e8",
      "212bdb0b9db9468b83f9ef3deeb4b37d",
      "0b16e2796c264cfeb12d1da098d3f963",
      "4cbef72f8bb1483fba716406f451bbd9",
      "00c3934fbd1c47bb90d4cb315ac03612",
      "89e35c69239548e28ccaae405dcef233",
      "d687412464a14b24af35acfb6cb6b810",
      "998b98a39f13432abfc7c0afe271a41b",
      "f6144258f5204bc5a1e84427d40a78d4",
      "0301034590f54343896b5c0cd1bb0a66",
      "594cf0ba4b884275ad4b5cae926a0db1",
      "c8738a0c03434b8886f0510e55c626e5",
      "abd9250647a8473a8dc8146fe6ed0ac6",
      "dfea4fc448bb472782be93da00df9c5c",
      "d30ac011a1df4392b9b3be32070e7b3f",
      "1bd3e1c28b01429bb7f3ed15de78ec9f",
      "12348a4251314016b51d27188e908a78",
      "a4be5938528e47698233e821df6ea11d",
      "2cbdf81c2d2a4635aafdc48e86fe82b9",
      "93e24ebca9484e03aa2c0f136b7f554b",
      "fe8b3ef9d8f049db89bea0ea7136c06d",
      "c328d58174da4934ad2e513d90e2a666",
      "695d05eded214a2abf94cc078c2d792a",
      "1abb5a2911a4464aa26effc62ba1a9e7",
      "2257ec97c4274aa4a0ba8f8af3931018",
      "7797186a07154b20aafb040c76702ed1",
      "dacd7907ce094bbcb9e201eac2fdf90e",
      "a77663d37c7447ad902b28d1517da258",
      "35a88cde80e64e9495c0690c00801e50",
      "206c778a483643ac991a4eae19f54af5",
      "f688c183cf7a4a8482bb8e6bc9f56f67",
      "2fc0103b5bde40ef87835f403f327ec1",
      "48d9f4c1b7e6497eb6a8d89f72b0de7c",
      "16946a44a9954651849dc0060f41a94a",
      "891bfded9d644774a5a86f0dd58e77cf",
      "14bf4b43147644c584b606e87fd89f58",
      "8228eebd83564f7a950f7ec64fcab8d0",
      "1a8bb9d981984d0082a6b37b3cdcee4d",
      "cfff13a4f4bf485e9ff8ced364a2d266",
      "270c22a1f21443669aba9ae1b1c2822c",
      "11f836a17e6d46bcb16609a09e5414c9",
      "4297d83044064cb49912d116ff9f7f22",
      "b795de02ac054fbcbd370beccaf34062",
      "aa3f4c64d1924739ae41737ac403401f",
      "53e0f66345e14fc9a47362dcdc63145c",
      "8b3db1f6801a4bd29eb82436a1f8cb53"
     ]
    },
    "id": "35d16afe",
    "outputId": "38a9a22b-d3aa-4049-d375-12a4e0cbab1a"
   },
   "outputs": [
    {
     "name": "stderr",
     "output_type": "stream",
     "text": [
      "Some weights of the model checkpoint at roberta-base were not used when initializing RobertaModel: ['lm_head.decoder.weight', 'lm_head.dense.bias', 'lm_head.layer_norm.weight', 'lm_head.bias', 'lm_head.layer_norm.bias', 'lm_head.dense.weight']\n",
      "- This IS expected if you are initializing RobertaModel from the checkpoint of a model trained on another task or with another architecture (e.g. initializing a BertForSequenceClassification model from a BertForPreTraining model).\n",
      "- This IS NOT expected if you are initializing RobertaModel from the checkpoint of a model that you expect to be exactly identical (initializing a BertForSequenceClassification model from a BertForSequenceClassification model).\n"
     ]
    }
   ],
   "source": [
    "tokenizer = pipeline('feature-extraction', model='roberta-base')\n",
    "X_train_enc = tokenizer(X_train['CleanTweet'].tolist(),truncation=True,padding=True,max_length=100)\n",
    "X_val_enc = tokenizer(X_val['CleanTweet'].tolist(),truncation=True,padding=True,max_length=100)"
   ]
  },
  {
   "cell_type": "code",
   "execution_count": null,
   "id": "547b7097",
   "metadata": {
    "id": "547b7097"
   },
   "outputs": [],
   "source": []
  },
  {
   "cell_type": "code",
   "execution_count": null,
   "id": "3acc5ca4",
   "metadata": {
    "id": "3acc5ca4",
    "outputId": "0d7259a2-9b19-452f-aece-2f642508ec4a"
   },
   "outputs": [
    {
     "name": "stdout",
     "output_type": "stream",
     "text": [
      "                      On Training Data\n",
      "\n",
      "              precision    recall  f1-score   support\n",
      "\n",
      "           0      0.633     0.659     0.646      1697\n",
      "           1      0.591     0.653     0.621      1278\n",
      "           2      0.722     0.662     0.690      2425\n",
      "\n",
      "    accuracy                          0.659      5400\n",
      "   macro avg      0.649     0.658     0.652      5400\n",
      "weighted avg      0.663     0.659     0.660      5400\n",
      "\n",
      "-----------------------------------\n",
      "                     On Validation Data\n",
      "\n",
      "              precision    recall  f1-score   support\n",
      "\n",
      "           0      0.612     0.640     0.626       609\n",
      "           1      0.534     0.577     0.554       397\n",
      "           2      0.672     0.621     0.645       794\n",
      "\n",
      "    accuracy                          0.618      1800\n",
      "   macro avg      0.606     0.613     0.609      1800\n",
      "weighted avg      0.621     0.618     0.619      1800\n",
      "\n"
     ]
    }
   ],
   "source": [
    "train_CLS = np.array([enc[0][0] for enc in X_train_enc])\n",
    "val_CLS = np.array([enc[0][0] for enc in X_val_enc])\n",
    "cv_lr = lr.fit(train_CLS,Y_train)\n",
    "print(\"                      On Training Data\\n\")\n",
    "Y_pred_cv = cv_lr.predict(train_CLS)\n",
    "print(classification_report(Y_pred_cv,Y_train,digits=3))\n",
    "Y_vector = cv_lr.predict(val_CLS)\n",
    "print(\"-----------------------------------\\n                     On Validation Data\\n\")\n",
    "print(classification_report(Y_vector,Y_val,digits=3))"
   ]
  },
  {
   "cell_type": "code",
   "execution_count": 10,
   "id": "03740ea0",
   "metadata": {
    "id": "03740ea0"
   },
   "outputs": [],
   "source": [
    "from transformers import pipeline\n",
    "from transformers import RobertaTokenizer, RobertaForSequenceClassification, TrainingArguments, Trainer\n",
    "from transformers import AdamW\n",
    "import torch"
   ]
  },
  {
   "cell_type": "code",
   "execution_count": 11,
   "id": "c6bcd028",
   "metadata": {
    "id": "c6bcd028"
   },
   "outputs": [],
   "source": [
    "tokenizer_trainer = RobertaTokenizer.from_pretrained('roberta-base',num_labels=3)\n",
    "X_train_tr = tokenizer_trainer.batch_encode_plus(X_train['CleanTweet'].tolist(),truncation=True,padding=True,max_length=128,\n",
    "                                               return_tensors='pt',return_attention_mask=True)\n",
    "X_val_tr = tokenizer_trainer.batch_encode_plus(X_val['CleanTweet'].tolist(),truncation=True,padding=True,max_length=128,\n",
    "                                              return_tensors='pt',return_attention_mask=True)"
   ]
  },
  {
   "cell_type": "code",
   "execution_count": 32,
   "id": "7011b2b9",
   "metadata": {
    "id": "7011b2b9"
   },
   "outputs": [],
   "source": [
    "Y_train_tr = torch.tensor(Y_train)\n",
    "Y_val_tr = torch.tensor(Y_val)\n",
    "Y_test_tr = torch.tensor(Y_test)\n",
    "Y_train_tr = Y_train_tr.type(torch.LongTensor)\n",
    "Y_val_tr = Y_val_tr.type(torch.LongTensor)\n",
    "Y_test_tr = Y_test_tr.type(torch.LongTensor)"
   ]
  },
  {
   "cell_type": "code",
   "execution_count": 17,
   "id": "e8f302f8",
   "metadata": {
    "id": "e8f302f8"
   },
   "outputs": [],
   "source": [
    "#Convert the input and output tensors to PyTorch datasets\n",
    "from torch.utils.data import DataLoader, TensorDataset\n",
    "batch_size=16\n",
    "train_data = TensorDataset(X_train_tr.input_ids, X_train_tr.attention_mask, Y_train_tr)\n",
    "train_loader = DataLoader(train_data, batch_size=batch_size, shuffle=True)\n",
    "val_data = TensorDataset(X_val_tr.input_ids, X_val_tr.attention_mask, Y_val_tr)\n",
    "val_loader = DataLoader(val_data, batch_size=batch_size, shuffle=False)"
   ]
  },
  {
   "cell_type": "code",
   "execution_count": 20,
   "id": "e916c006",
   "metadata": {
    "id": "e916c006"
   },
   "outputs": [],
   "source": [
    "training_args = TrainingArguments(\n",
    "    output_dir='./results',\n",
    "    learning_rate=1e-4,\n",
    "    per_device_train_batch_size=16,\n",
    "    per_device_eval_batch_size=16,\n",
    "    num_train_epochs=1,\n",
    "    weight_decay=0,\n",
    "    load_best_model_at_end=True,\n",
    "    metric_for_best_model='accuracy',\n",
    "    evaluation_strategy='epoch',\n",
    "    save_strategy='epoch'\n",
    ")"
   ]
  },
  {
   "cell_type": "code",
   "execution_count": 22,
   "id": "152e3d5a",
   "metadata": {
    "colab": {
     "base_uri": "https://localhost:8080/"
    },
    "id": "152e3d5a",
    "outputId": "b4991b19-df27-4977-a331-001f97e0176e"
   },
   "outputs": [
    {
     "name": "stderr",
     "output_type": "stream",
     "text": [
      "Some weights of the model checkpoint at roberta-base were not used when initializing RobertaForSequenceClassification: ['roberta.pooler.dense.bias', 'lm_head.bias', 'lm_head.dense.weight', 'roberta.pooler.dense.weight', 'lm_head.decoder.weight', 'lm_head.layer_norm.bias', 'lm_head.dense.bias', 'lm_head.layer_norm.weight']\n",
      "- This IS expected if you are initializing RobertaForSequenceClassification from the checkpoint of a model trained on another task or with another architecture (e.g. initializing a BertForSequenceClassification model from a BertForPreTraining model).\n",
      "- This IS NOT expected if you are initializing RobertaForSequenceClassification from the checkpoint of a model that you expect to be exactly identical (initializing a BertForSequenceClassification model from a BertForSequenceClassification model).\n",
      "Some weights of RobertaForSequenceClassification were not initialized from the model checkpoint at roberta-base and are newly initialized: ['classifier.out_proj.bias', 'classifier.dense.bias', 'classifier.dense.weight', 'classifier.out_proj.weight']\n",
      "You should probably TRAIN this model on a down-stream task to be able to use it for predictions and inference.\n",
      "/usr/local/lib/python3.9/dist-packages/transformers/optimization.py:391: FutureWarning: This implementation of AdamW is deprecated and will be removed in a future version. Use the PyTorch implementation torch.optim.AdamW instead, or set `no_deprecation_warning=True` to disable this warning\n",
      "  warnings.warn(\n"
     ]
    }
   ],
   "source": [
    "model = RobertaForSequenceClassification.from_pretrained('roberta-base',num_labels=3)\n",
    "optimizer = AdamW(model.parameters(), lr=training_args.learning_rate, weight_decay=training_args.weight_decay)"
   ]
  },
  {
   "cell_type": "code",
   "execution_count": null,
   "id": "e67b44eb",
   "metadata": {
    "id": "e67b44eb"
   },
   "outputs": [],
   "source": [
    "from sklearn.metrics import accuracy_score"
   ]
  },
  {
   "cell_type": "code",
   "execution_count": 26,
   "id": "b0163dc0",
   "metadata": {
    "colab": {
     "base_uri": "https://localhost:8080/",
     "height": 143
    },
    "id": "b0163dc0",
    "outputId": "b0ea78a2-3fb8-4deb-ae0f-3c7aadaaabec"
   },
   "outputs": [
    {
     "data": {
      "text/html": [
       "\n",
       "    <div>\n",
       "      \n",
       "      <progress value='338' max='338' style='width:300px; height:20px; vertical-align: middle;'></progress>\n",
       "      [338/338 01:51, Epoch 1/1]\n",
       "    </div>\n",
       "    <table border=\"1\" class=\"dataframe\">\n",
       "  <thead>\n",
       " <tr style=\"text-align: left;\">\n",
       "      <th>Epoch</th>\n",
       "      <th>Training Loss</th>\n",
       "      <th>Validation Loss</th>\n",
       "      <th>Accuracy</th>\n",
       "    </tr>\n",
       "  </thead>\n",
       "  <tbody>\n",
       "    <tr>\n",
       "      <td>1</td>\n",
       "      <td>No log</td>\n",
       "      <td>0.606786</td>\n",
       "      <td>0.770556</td>\n",
       "    </tr>\n",
       "  </tbody>\n",
       "</table><p>"
      ],
      "text/plain": [
       "<IPython.core.display.HTML object>"
      ]
     },
     "metadata": {},
     "output_type": "display_data"
    },
    {
     "data": {
      "text/plain": [
       "TrainOutput(global_step=338, training_loss=0.8378112612391365, metrics={'train_runtime': 112.374, 'train_samples_per_second': 48.054, 'train_steps_per_second': 3.008, 'total_flos': 285827505742800.0, 'train_loss': 0.8378112612391365, 'epoch': 1.0})"
      ]
     },
     "execution_count": 26,
     "metadata": {},
     "output_type": "execute_result"
    }
   ],
   "source": [
    "trainer = Trainer(\n",
    "    model=model,\n",
    "    args=training_args,\n",
    "    train_dataset=train_data,\n",
    "    eval_dataset=val_data,\n",
    "    data_collator=lambda data: {'input_ids': torch.stack([item[0] for item in data]),\n",
    "                                'attention_mask': torch.stack([item[1] for item in data]),\n",
    "                                'labels': torch.tensor([item[2] for item in data])},\n",
    "    compute_metrics=lambda pred: {\"accuracy\": accuracy_score(pred.label_ids, pred.predictions.argmax(-1))}\n",
    "    \n",
    ")\n",
    "trainer.train()"
   ]
  },
  {
   "cell_type": "code",
   "execution_count": 28,
   "id": "37dc94d5",
   "metadata": {
    "colab": {
     "base_uri": "https://localhost:8080/",
     "height": 473
    },
    "id": "37dc94d5",
    "outputId": "54fec756-ca1e-4f28-d431-e09783418e30"
   },
   "outputs": [
    {
     "name": "stdout",
     "output_type": "stream",
     "text": [
      "                      On Training Data\n",
      "\n"
     ]
    },
    {
     "data": {
      "text/html": [],
      "text/plain": [
       "<IPython.core.display.HTML object>"
      ]
     },
     "metadata": {},
     "output_type": "display_data"
    },
    {
     "name": "stdout",
     "output_type": "stream",
     "text": [
      "              precision    recall  f1-score   support\n",
      "\n",
      "           0      0.854     0.797     0.824      1892\n",
      "           1      0.757     0.846     0.799      1262\n",
      "           2      0.838     0.830     0.834      2246\n",
      "\n",
      "    accuracy                          0.822      5400\n",
      "   macro avg      0.816     0.824     0.819      5400\n",
      "weighted avg      0.825     0.822     0.823      5400\n",
      "\n",
      "-----------------------------------\n",
      "                     On Validation Data\n",
      "\n"
     ]
    },
    {
     "data": {
      "text/html": [],
      "text/plain": [
       "<IPython.core.display.HTML object>"
      ]
     },
     "metadata": {},
     "output_type": "display_data"
    },
    {
     "name": "stdout",
     "output_type": "stream",
     "text": [
      "              precision    recall  f1-score   support\n",
      "\n",
      "           0      0.797     0.762     0.779       650\n",
      "           1      0.668     0.766     0.714       384\n",
      "           2      0.809     0.781     0.795       766\n",
      "\n",
      "    accuracy                          0.771      1800\n",
      "   macro avg      0.758     0.769     0.762      1800\n",
      "weighted avg      0.775     0.771     0.772      1800\n",
      "\n"
     ]
    }
   ],
   "source": [
    "print(\"                      On Training Data\\n\")\n",
    "bert_pred = trainer.predict(train_data)\n",
    "Y_bert = bert_pred.predictions.argmax(-1)\n",
    "print(classification_report(Y_bert,Y_train,digits=3))\n",
    "print(\"-----------------------------------\\n                     On Validation Data\\n\")\n",
    "pred = trainer.predict(val_data)\n",
    "Y_pred = pred.predictions.argmax(-1)\n",
    "print(classification_report(Y_pred,Y_val,digits=3))"
   ]
  },
  {
   "cell_type": "code",
   "execution_count": 37,
   "id": "a38cd2a0",
   "metadata": {
    "id": "a38cd2a0"
   },
   "outputs": [],
   "source": [
    "#Bert tuning\n",
    "training_args_tuned = TrainingArguments(\n",
    "    output_dir='./results',\n",
    "    learning_rate=1e-4,\n",
    "    per_device_train_batch_size=32,\n",
    "    per_device_eval_batch_size=32,\n",
    "    num_train_epochs=4,\n",
    "    weight_decay=0,\n",
    "    load_best_model_at_end=True,\n",
    "    metric_for_best_model='accuracy',\n",
    "    evaluation_strategy='epoch',\n",
    "    save_strategy='epoch'\n",
    ")\n"
   ]
  },
  {
   "cell_type": "code",
   "execution_count": 39,
   "id": "bTJhMHK0Zir5",
   "metadata": {
    "colab": {
     "base_uri": "https://localhost:8080/",
     "height": 262
    },
    "id": "bTJhMHK0Zir5",
    "outputId": "9f7af6c6-a097-413c-ea05-265bcdd334f9"
   },
   "outputs": [
    {
     "name": "stderr",
     "output_type": "stream",
     "text": [
      "/usr/local/lib/python3.9/dist-packages/transformers/optimization.py:391: FutureWarning: This implementation of AdamW is deprecated and will be removed in a future version. Use the PyTorch implementation torch.optim.AdamW instead, or set `no_deprecation_warning=True` to disable this warning\n",
      "  warnings.warn(\n"
     ]
    },
    {
     "data": {
      "text/html": [
       "\n",
       "    <div>\n",
       "      \n",
       "      <progress value='507' max='507' style='width:300px; height:20px; vertical-align: middle;'></progress>\n",
       "      [507/507 05:09, Epoch 3/3]\n",
       "    </div>\n",
       "    <table border=\"1\" class=\"dataframe\">\n",
       "  <thead>\n",
       " <tr style=\"text-align: left;\">\n",
       "      <th>Epoch</th>\n",
       "      <th>Training Loss</th>\n",
       "      <th>Validation Loss</th>\n",
       "      <th>Accuracy</th>\n",
       "    </tr>\n",
       "  </thead>\n",
       "  <tbody>\n",
       "    <tr>\n",
       "      <td>1</td>\n",
       "      <td>No log</td>\n",
       "      <td>0.885680</td>\n",
       "      <td>0.792222</td>\n",
       "    </tr>\n",
       "    <tr>\n",
       "      <td>2</td>\n",
       "      <td>No log</td>\n",
       "      <td>0.850942</td>\n",
       "      <td>0.800000</td>\n",
       "    </tr>\n",
       "    <tr>\n",
       "      <td>3</td>\n",
       "      <td>0.185700</td>\n",
       "      <td>0.885867</td>\n",
       "      <td>0.810556</td>\n",
       "    </tr>\n",
       "  </tbody>\n",
       "</table><p>"
      ],
      "text/plain": [
       "<IPython.core.display.HTML object>"
      ]
     },
     "metadata": {},
     "output_type": "display_data"
    },
    {
     "data": {
      "text/plain": [
       "TrainOutput(global_step=507, training_loss=0.18557659926028883, metrics={'train_runtime': 310.5406, 'train_samples_per_second': 52.167, 'train_steps_per_second': 1.633, 'total_flos': 857482517228400.0, 'train_loss': 0.18557659926028883, 'epoch': 3.0})"
      ]
     },
     "execution_count": 39,
     "metadata": {},
     "output_type": "execute_result"
    }
   ],
   "source": [
    "trainer = Trainer(\n",
    "    model=model,\n",
    "    args=training_args_tuned,\n",
    "    train_dataset=train_data,\n",
    "    eval_dataset=val_data,\n",
    "    data_collator=lambda data: {'input_ids': torch.stack([item[0] for item in data]),\n",
    "                                'attention_mask': torch.stack([item[1] for item in data]),\n",
    "                                'labels': torch.tensor([item[2] for item in data])},\n",
    "    compute_metrics=lambda pred: {\"accuracy\": accuracy_score(pred.label_ids, pred.predictions.argmax(-1))}\n",
    "    \n",
    ")\n",
    "trainer.train()"
   ]
  },
  {
   "cell_type": "code",
   "execution_count": 35,
   "id": "LS0ZQ1T4ZvXX",
   "metadata": {
    "colab": {
     "base_uri": "https://localhost:8080/",
     "height": 473
    },
    "id": "LS0ZQ1T4ZvXX",
    "outputId": "2f084c3a-b932-4fce-832c-30e91a868704"
   },
   "outputs": [
    {
     "name": "stdout",
     "output_type": "stream",
     "text": [
      "                      On Training Data\n",
      "\n"
     ]
    },
    {
     "data": {
      "text/html": [],
      "text/plain": [
       "<IPython.core.display.HTML object>"
      ]
     },
     "metadata": {},
     "output_type": "display_data"
    },
    {
     "name": "stdout",
     "output_type": "stream",
     "text": [
      "              precision    recall  f1-score   support\n",
      "\n",
      "           0      0.987     0.937     0.961      1861\n",
      "           1      0.896     0.972     0.932      1299\n",
      "           2      0.970     0.963     0.967      2240\n",
      "\n",
      "    accuracy                          0.956      5400\n",
      "   macro avg      0.951     0.957     0.953      5400\n",
      "weighted avg      0.958     0.956     0.957      5400\n",
      "\n",
      "-----------------------------------\n",
      "                     On Validation Data\n",
      "\n"
     ]
    },
    {
     "data": {
      "text/html": [],
      "text/plain": [
       "<IPython.core.display.HTML object>"
      ]
     },
     "metadata": {},
     "output_type": "display_data"
    },
    {
     "name": "stdout",
     "output_type": "stream",
     "text": [
      "              precision    recall  f1-score   support\n",
      "\n",
      "           0      0.831     0.802     0.816       643\n",
      "           1      0.766     0.826     0.795       408\n",
      "           2      0.846     0.834     0.840       749\n",
      "\n",
      "    accuracy                          0.821      1800\n",
      "   macro avg      0.814     0.821     0.817      1800\n",
      "weighted avg      0.822     0.821     0.821      1800\n",
      "\n"
     ]
    }
   ],
   "source": [
    "print(\"                      On Training Data\\n\")\n",
    "bert_pred = trainer.predict(train_data)\n",
    "Y_bert = bert_pred.predictions.argmax(-1)\n",
    "print(classification_report(Y_bert,Y_train,digits=3))\n",
    "print(\"-----------------------------------\\n                     On Validation Data\\n\")\n",
    "pred = trainer.predict(val_data)\n",
    "Y_pred = pred.predictions.argmax(-1)\n",
    "print(classification_report(Y_pred,Y_val,digits=3))"
   ]
  },
  {
   "cell_type": "code",
   "execution_count": 36,
   "id": "tLQfOO3zZk6s",
   "metadata": {
    "colab": {
     "base_uri": "https://localhost:8080/",
     "height": 218
    },
    "id": "tLQfOO3zZk6s",
    "outputId": "88e05410-c754-428e-de84-f57c1e49da3d"
   },
   "outputs": [
    {
     "name": "stdout",
     "output_type": "stream",
     "text": [
      "                    Best Model BERT On Test Data\n"
     ]
    },
    {
     "data": {
      "text/html": [],
      "text/plain": [
       "<IPython.core.display.HTML object>"
      ]
     },
     "metadata": {},
     "output_type": "display_data"
    },
    {
     "name": "stdout",
     "output_type": "stream",
     "text": [
      "              precision    recall  f1-score   support\n",
      "\n",
      "           0      0.858     0.822     0.840       640\n",
      "           1      0.762     0.862     0.809       398\n",
      "           2      0.862     0.833     0.847       762\n",
      "\n",
      "    accuracy                          0.836      1800\n",
      "   macro avg      0.827     0.839     0.832      1800\n",
      "weighted avg      0.838     0.836     0.836      1800\n",
      "\n"
     ]
    }
   ],
   "source": [
    "print(\"                    Best Model BERT On Test Data\")\n",
    "X_test_tr = tokenizer_trainer.batch_encode_plus(X_test['CleanTweet'].tolist(),truncation=True,padding=True,max_length=128,\n",
    "                                              return_tensors='pt',return_attention_mask=True)\n",
    "test_data = TensorDataset(X_test_tr.input_ids, X_test_tr.attention_mask, Y_test_tr)\n",
    "test_loader = DataLoader(test_data, batch_size=batch_size, shuffle=False)\n",
    "pred_test =  trainer.predict(test_data)\n",
    "Y_test_pred = pred_test.predictions.argmax(-1)\n",
    "print(classification_report(Y_test_pred,Y_test,digits=3))"
   ]
  },
  {
   "cell_type": "code",
   "execution_count": 81,
   "id": "SebYFifaowoj",
   "metadata": {
    "colab": {
     "base_uri": "https://localhost:8080/"
    },
    "id": "SebYFifaowoj",
    "outputId": "533ba88b-3f74-40b4-b8e3-70d74a02654f"
   },
   "outputs": [
    {
     "data": {
      "text/plain": [
       "array(['positive', 'negative', 'neutral'], dtype=object)"
      ]
     },
     "execution_count": 81,
     "metadata": {},
     "output_type": "execute_result"
    }
   ],
   "source": []
  },
  {
   "cell_type": "code",
   "execution_count": 109,
   "id": "k6WlQv3YlVJA",
   "metadata": {
    "colab": {
     "base_uri": "https://localhost:8080/",
     "height": 529
    },
    "id": "k6WlQv3YlVJA",
    "outputId": "8610e290-e06c-4e1d-f93f-c046cae67c6e"
   },
   "outputs": [
    {
     "name": "stderr",
     "output_type": "stream",
     "text": [
      "<ipython-input-109-1bd0e3906319>:2: SettingWithCopyWarning: \n",
      "A value is trying to be set on a copy of a slice from a DataFrame.\n",
      "Try using .loc[row_indexer,col_indexer] = value instead\n",
      "\n",
      "See the caveats in the documentation: https://pandas.pydata.org/pandas-docs/stable/user_guide/indexing.html#returning-a-view-versus-a-copy\n",
      "  manual_df['Predicted'] = Y_test_pred\n"
     ]
    },
    {
     "data": {
      "text/html": [
       "\n",
       "  <div id=\"df-9f6cc617-86ae-4cc2-95ed-0e16f73cca49\">\n",
       "    <div class=\"colab-df-container\">\n",
       "      <div>\n",
       "<style scoped>\n",
       "    .dataframe tbody tr th:only-of-type {\n",
       "        vertical-align: middle;\n",
       "    }\n",
       "\n",
       "    .dataframe tbody tr th {\n",
       "        vertical-align: top;\n",
       "    }\n",
       "\n",
       "    .dataframe thead th {\n",
       "        text-align: right;\n",
       "    }\n",
       "</style>\n",
       "<table border=\"1\" class=\"dataframe\">\n",
       "  <thead>\n",
       "    <tr style=\"text-align: right;\">\n",
       "      <th></th>\n",
       "      <th>OriginalTweet</th>\n",
       "      <th>Sentiment</th>\n",
       "      <th>labels</th>\n",
       "      <th>Predicted</th>\n",
       "    </tr>\n",
       "  </thead>\n",
       "  <tbody>\n",
       "    <tr>\n",
       "      <th>7563</th>\n",
       "      <td>@kmoxnews I am not the \"get-off-my-lawn guy,\" ...</td>\n",
       "      <td>Extremely Negative</td>\n",
       "      <td>negative</td>\n",
       "      <td>0</td>\n",
       "    </tr>\n",
       "    <tr>\n",
       "      <th>3252</th>\n",
       "      <td>Our partners at @NetElixir are using their kno...</td>\n",
       "      <td>Positive</td>\n",
       "      <td>positive</td>\n",
       "      <td>2</td>\n",
       "    </tr>\n",
       "    <tr>\n",
       "      <th>7966</th>\n",
       "      <td>Michigan farmers fear ruin as coronavirus lock...</td>\n",
       "      <td>Extremely Negative</td>\n",
       "      <td>negative</td>\n",
       "      <td>0</td>\n",
       "    </tr>\n",
       "    <tr>\n",
       "      <th>2266</th>\n",
       "      <td>Wondering what impact Covid-19 is having on on...</td>\n",
       "      <td>Neutral</td>\n",
       "      <td>neutral</td>\n",
       "      <td>1</td>\n",
       "    </tr>\n",
       "    <tr>\n",
       "      <th>2921</th>\n",
       "      <td>Imagine there's no loo roll\\r\\r\\nIt's easy if ...</td>\n",
       "      <td>Extremely Positive</td>\n",
       "      <td>positive</td>\n",
       "      <td>2</td>\n",
       "    </tr>\n",
       "    <tr>\n",
       "      <th>365</th>\n",
       "      <td>Tuskys partners with Amref to provide on groun...</td>\n",
       "      <td>Neutral</td>\n",
       "      <td>neutral</td>\n",
       "      <td>1</td>\n",
       "    </tr>\n",
       "    <tr>\n",
       "      <th>5515</th>\n",
       "      <td>We canÂt thank them enough!! #nhs #nurses #do...</td>\n",
       "      <td>Positive</td>\n",
       "      <td>positive</td>\n",
       "      <td>2</td>\n",
       "    </tr>\n",
       "    <tr>\n",
       "      <th>5480</th>\n",
       "      <td>In light of DARE America is pulling employees ...</td>\n",
       "      <td>Extremely Positive</td>\n",
       "      <td>positive</td>\n",
       "      <td>2</td>\n",
       "    </tr>\n",
       "    <tr>\n",
       "      <th>6066</th>\n",
       "      <td>Antibac handwash like gold dust in shops, but ...</td>\n",
       "      <td>Negative</td>\n",
       "      <td>negative</td>\n",
       "      <td>2</td>\n",
       "    </tr>\n",
       "    <tr>\n",
       "      <th>1378</th>\n",
       "      <td>Another PSA supermarket edition: please stop b...</td>\n",
       "      <td>Neutral</td>\n",
       "      <td>neutral</td>\n",
       "      <td>0</td>\n",
       "    </tr>\n",
       "  </tbody>\n",
       "</table>\n",
       "</div>\n",
       "      <button class=\"colab-df-convert\" onclick=\"convertToInteractive('df-9f6cc617-86ae-4cc2-95ed-0e16f73cca49')\"\n",
       "              title=\"Convert this dataframe to an interactive table.\"\n",
       "              style=\"display:none;\">\n",
       "        \n",
       "  <svg xmlns=\"http://www.w3.org/2000/svg\" height=\"24px\"viewBox=\"0 0 24 24\"\n",
       "       width=\"24px\">\n",
       "    <path d=\"M0 0h24v24H0V0z\" fill=\"none\"/>\n",
       "    <path d=\"M18.56 5.44l.94 2.06.94-2.06 2.06-.94-2.06-.94-.94-2.06-.94 2.06-2.06.94zm-11 1L8.5 8.5l.94-2.06 2.06-.94-2.06-.94L8.5 2.5l-.94 2.06-2.06.94zm10 10l.94 2.06.94-2.06 2.06-.94-2.06-.94-.94-2.06-.94 2.06-2.06.94z\"/><path d=\"M17.41 7.96l-1.37-1.37c-.4-.4-.92-.59-1.43-.59-.52 0-1.04.2-1.43.59L10.3 9.45l-7.72 7.72c-.78.78-.78 2.05 0 2.83L4 21.41c.39.39.9.59 1.41.59.51 0 1.02-.2 1.41-.59l7.78-7.78 2.81-2.81c.8-.78.8-2.07 0-2.86zM5.41 20L4 18.59l7.72-7.72 1.47 1.35L5.41 20z\"/>\n",
       "  </svg>\n",
       "      </button>\n",
       "      \n",
       "  <style>\n",
       "    .colab-df-container {\n",
       "      display:flex;\n",
       "      flex-wrap:wrap;\n",
       "      gap: 12px;\n",
       "    }\n",
       "\n",
       "    .colab-df-convert {\n",
       "      background-color: #E8F0FE;\n",
       "      border: none;\n",
       "      border-radius: 50%;\n",
       "      cursor: pointer;\n",
       "      display: none;\n",
       "      fill: #1967D2;\n",
       "      height: 32px;\n",
       "      padding: 0 0 0 0;\n",
       "      width: 32px;\n",
       "    }\n",
       "\n",
       "    .colab-df-convert:hover {\n",
       "      background-color: #E2EBFA;\n",
       "      box-shadow: 0px 1px 2px rgba(60, 64, 67, 0.3), 0px 1px 3px 1px rgba(60, 64, 67, 0.15);\n",
       "      fill: #174EA6;\n",
       "    }\n",
       "\n",
       "    [theme=dark] .colab-df-convert {\n",
       "      background-color: #3B4455;\n",
       "      fill: #D2E3FC;\n",
       "    }\n",
       "\n",
       "    [theme=dark] .colab-df-convert:hover {\n",
       "      background-color: #434B5C;\n",
       "      box-shadow: 0px 1px 3px 1px rgba(0, 0, 0, 0.15);\n",
       "      filter: drop-shadow(0px 1px 2px rgba(0, 0, 0, 0.3));\n",
       "      fill: #FFFFFF;\n",
       "    }\n",
       "  </style>\n",
       "\n",
       "      <script>\n",
       "        const buttonEl =\n",
       "          document.querySelector('#df-9f6cc617-86ae-4cc2-95ed-0e16f73cca49 button.colab-df-convert');\n",
       "        buttonEl.style.display =\n",
       "          google.colab.kernel.accessAllowed ? 'block' : 'none';\n",
       "\n",
       "        async function convertToInteractive(key) {\n",
       "          const element = document.querySelector('#df-9f6cc617-86ae-4cc2-95ed-0e16f73cca49');\n",
       "          const dataTable =\n",
       "            await google.colab.kernel.invokeFunction('convertToInteractive',\n",
       "                                                     [key], {});\n",
       "          if (!dataTable) return;\n",
       "\n",
       "          const docLinkHtml = 'Like what you see? Visit the ' +\n",
       "            '<a target=\"_blank\" href=https://colab.research.google.com/notebooks/data_table.ipynb>data table notebook</a>'\n",
       "            + ' to learn more about interactive tables.';\n",
       "          element.innerHTML = '';\n",
       "          dataTable['output_type'] = 'display_data';\n",
       "          await google.colab.output.renderOutput(dataTable, element);\n",
       "          const docLink = document.createElement('div');\n",
       "          docLink.innerHTML = docLinkHtml;\n",
       "          element.appendChild(docLink);\n",
       "        }\n",
       "      </script>\n",
       "    </div>\n",
       "  </div>\n",
       "  "
      ],
      "text/plain": [
       "                                          OriginalTweet           Sentiment  \\\n",
       "7563  @kmoxnews I am not the \"get-off-my-lawn guy,\" ...  Extremely Negative   \n",
       "3252  Our partners at @NetElixir are using their kno...            Positive   \n",
       "7966  Michigan farmers fear ruin as coronavirus lock...  Extremely Negative   \n",
       "2266  Wondering what impact Covid-19 is having on on...             Neutral   \n",
       "2921  Imagine there's no loo roll\\r\\r\\nIt's easy if ...  Extremely Positive   \n",
       "365   Tuskys partners with Amref to provide on groun...             Neutral   \n",
       "5515  We canÂt thank them enough!! #nhs #nurses #do...            Positive   \n",
       "5480  In light of DARE America is pulling employees ...  Extremely Positive   \n",
       "6066  Antibac handwash like gold dust in shops, but ...            Negative   \n",
       "1378  Another PSA supermarket edition: please stop b...             Neutral   \n",
       "\n",
       "        labels  Predicted  \n",
       "7563  negative          0  \n",
       "3252  positive          2  \n",
       "7966  negative          0  \n",
       "2266   neutral          1  \n",
       "2921  positive          2  \n",
       "365    neutral          1  \n",
       "5515  positive          2  \n",
       "5480  positive          2  \n",
       "6066  negative          2  \n",
       "1378   neutral          0  "
      ]
     },
     "execution_count": 109,
     "metadata": {},
     "output_type": "execute_result"
    }
   ],
   "source": [
    "manual_df = X_test[['OriginalTweet','Sentiment','labels']]\n",
    "manual_df['Predicted'] = Y_test_pred\n",
    "manual_df.sample(n=10)"
   ]
  },
  {
   "cell_type": "code",
   "execution_count": 91,
   "id": "yf8Bi5ZnqJaO",
   "metadata": {
    "colab": {
     "base_uri": "https://localhost:8080/",
     "height": 307
    },
    "id": "yf8Bi5ZnqJaO",
    "outputId": "74c92f1c-d1fe-4b6b-a990-0c08d5d3e9bf"
   },
   "outputs": [
    {
     "data": {
      "image/png": "[encoded data removed]",
      "text/plain": [
       "<Figure size 432x288 with 2 Axes>"
      ]
     },
     "metadata": {
      "needs_background": "light"
     },
     "output_type": "display_data"
    }
   ],
   "source": [
    "cm_mat = confusion_matrix(LE().fit_transform(manual_df['labels']), manual_df['Predicted'])\n",
    "\n",
    "# plot the confusion matrix\n",
    "sns.heatmap(cm_mat, annot=True, cmap='Blues', fmt='g', xticklabels=labelY, yticklabels=labelY)\n",
    "plt.xlabel('\\nPredicted Labels')\n",
    "plt.ylabel('Original')\n",
    "plt.title('Confusion Matrix')\n",
    "plt.show()"
   ]
  },
  {
   "cell_type": "code",
   "execution_count": 89,
   "id": "6aRlGaOoqqSR",
   "metadata": {
    "id": "6aRlGaOoqqSR"
   },
   "outputs": [],
   "source": []
  }
 ],
 "metadata": {
  "accelerator": "GPU",
  "colab": {
   "provenance": []
  },
  "gpuClass": "standard",
  "kernelspec": {
   "display_name": "Python 3 (ipykernel)",
   "language": "python",
   "name": "python3"
  },
  "language_info": {
   "codemirror_mode": {
    "name": "ipython",
    "version": 3
   },
   "file_extension": ".py",
   "mimetype": "text/x-python",
   "name": "python",
   "nbconvert_exporter": "python",
   "pygments_lexer": "ipython3",
   "version": "3.9.16"
  },
  "widgets": {
   "application/vnd.jupyter.widget-state+json": {
    "00c3934fbd1c47bb90d4cb315ac03612": {
     "model_module": "@jupyter-widgets/controls",
     "model_module_version": "1.5.0",
     "model_name": "FloatProgressModel",
     "state": {
      "_dom_classes": [],
      "_model_module": "@jupyter-widgets/controls",
      "_model_module_version": "1.5.0",
      "_model_name": "FloatProgressModel",
      "_view_count": null,
      "_view_module": "@jupyter-widgets/controls",
      "_view_module_version": "1.5.0",
      "_view_name": "ProgressView",
      "bar_style": "success",
      "description": "",
      "description_tooltip": null,
      "layout": "IPY_MODEL_0301034590f54343896b5c0cd1bb0a66",
      "max": 501200538,
      "min": 0,
      "orientation": "horizontal",
      "style": "IPY_MODEL_594cf0ba4b884275ad4b5cae926a0db1",
      "value": 501200538
     }
    },
    "0301034590f54343896b5c0cd1bb0a66": {
     "model_module": "@jupyter-widgets/base",
     "model_module_version": "1.2.0",
     "model_name": "LayoutModel",
     "state": {
      "_model_module": "@jupyter-widgets/base",
      "_model_module_version": "1.2.0",
      "_model_name": "LayoutModel",
      "_view_count": null,
      "_view_module": "@jupyter-widgets/base",
      "_view_module_version": "1.2.0",
      "_view_name": "LayoutView",
      "align_content": null,
      "align_items": null,
      "align_self": null,
      "border": null,
      "bottom": null,
      "display": null,
      "flex": null,
      "flex_flow": null,
      "grid_area": null,
      "grid_auto_columns": null,
      "grid_auto_flow": null,
      "grid_auto_rows": null,
      "grid_column": null,
      "grid_gap": null,
      "grid_row": null,
      "grid_template_areas": null,
      "grid_template_columns": null,
      "grid_template_rows": null,
      "height": null,
      "justify_content": null,
      "justify_items": null,
      "left": null,
      "margin": null,
      "max_height": null,
      "max_width": null,
      "min_height": null,
      "min_width": null,
      "object_fit": null,
      "object_position": null,
      "order": null,
      "overflow": null,
      "overflow_x": null,
      "overflow_y": null,
      "padding": null,
      "right": null,
      "top": null,
      "visibility": null,
      "width": null
     }
    },
    "044b0b47fa11416ea53189144f540500": {
     "model_module": "@jupyter-widgets/base",
     "model_module_version": "1.2.0",
     "model_name": "LayoutModel",
     "state": {
      "_model_module": "@jupyter-widgets/base",
      "_model_module_version": "1.2.0",
      "_model_name": "LayoutModel",
      "_view_count": null,
      "_view_module": "@jupyter-widgets/base",
      "_view_module_version": "1.2.0",
      "_view_name": "LayoutView",
      "align_content": null,
      "align_items": null,
      "align_self": null,
      "border": null,
      "bottom": null,
      "display": null,
      "flex": null,
      "flex_flow": null,
      "grid_area": null,
      "grid_auto_columns": null,
      "grid_auto_flow": null,
      "grid_auto_rows": null,
      "grid_column": null,
      "grid_gap": null,
      "grid_row": null,
      "grid_template_areas": null,
      "grid_template_columns": null,
      "grid_template_rows": null,
      "height": null,
      "justify_content": null,
      "justify_items": null,
      "left": null,
      "margin": null,
      "max_height": null,
      "max_width": null,
      "min_height": null,
      "min_width": null,
      "object_fit": null,
      "object_position": null,
      "order": null,
      "overflow": null,
      "overflow_x": null,
      "overflow_y": null,
      "padding": null,
      "right": null,
      "top": null,
      "visibility": null,
      "width": null
     }
    },
    "0b16e2796c264cfeb12d1da098d3f963": {
     "model_module": "@jupyter-widgets/controls",
     "model_module_version": "1.5.0",
     "model_name": "HBoxModel",
     "state": {
      "_dom_classes": [],
      "_model_module": "@jupyter-widgets/controls",
      "_model_module_version": "1.5.0",
      "_model_name": "HBoxModel",
      "_view_count": null,
      "_view_module": "@jupyter-widgets/controls",
      "_view_module_version": "1.5.0",
      "_view_name": "HBoxView",
      "box_style": "",
      "children": [
       "IPY_MODEL_4cbef72f8bb1483fba716406f451bbd9",
       "IPY_MODEL_00c3934fbd1c47bb90d4cb315ac03612",
       "IPY_MODEL_89e35c69239548e28ccaae405dcef233"
      ],
      "layout": "IPY_MODEL_d687412464a14b24af35acfb6cb6b810"
     }
    },
    "11f836a17e6d46bcb16609a09e5414c9": {
     "model_module": "@jupyter-widgets/base",
     "model_module_version": "1.2.0",
     "model_name": "LayoutModel",
     "state": {
      "_model_module": "@jupyter-widgets/base",
      "_model_module_version": "1.2.0",
      "_model_name": "LayoutModel",
      "_view_count": null,
      "_view_module": "@jupyter-widgets/base",
      "_view_module_version": "1.2.0",
      "_view_name": "LayoutView",
      "align_content": null,
      "align_items": null,
      "align_self": null,
      "border": null,
      "bottom": null,
      "display": null,
      "flex": null,
      "flex_flow": null,
      "grid_area": null,
      "grid_auto_columns": null,
      "grid_auto_flow": null,
      "grid_auto_rows": null,
      "grid_column": null,
      "grid_gap": null,
      "grid_row": null,
      "grid_template_areas": null,
      "grid_template_columns": null,
      "grid_template_rows": null,
      "height": null,
      "justify_content": null,
      "justify_items": null,
      "left": null,
      "margin": null,
      "max_height": null,
      "max_width": null,
      "min_height": null,
      "min_width": null,
      "object_fit": null,
      "object_position": null,
      "order": null,
      "overflow": null,
      "overflow_x": null,
      "overflow_y": null,
      "padding": null,
      "right": null,
      "top": null,
      "visibility": null,
      "width": null
     }
    },
    "12348a4251314016b51d27188e908a78": {
     "model_module": "@jupyter-widgets/controls",
     "model_module_version": "1.5.0",
     "model_name": "HTMLModel",
     "state": {
      "_dom_classes": [],
      "_model_module": "@jupyter-widgets/controls",
      "_model_module_version": "1.5.0",
      "_model_name": "HTMLModel",
      "_view_count": null,
      "_view_module": "@jupyter-widgets/controls",
      "_view_module_version": "1.5.0",
      "_view_name": "HTMLView",
      "description": "",
      "description_tooltip": null,
      "layout": "IPY_MODEL_695d05eded214a2abf94cc078c2d792a",
      "placeholder": "​",
      "style": "IPY_MODEL_1abb5a2911a4464aa26effc62ba1a9e7",
      "value": " 899k/899k [00:01&lt;00:00, 800kB/s]"
     }
    },
    "14bf4b43147644c584b606e87fd89f58": {
     "model_module": "@jupyter-widgets/controls",
     "model_module_version": "1.5.0",
     "model_name": "HBoxModel",
     "state": {
      "_dom_classes": [],
      "_model_module": "@jupyter-widgets/controls",
      "_model_module_version": "1.5.0",
      "_model_name": "HBoxModel",
      "_view_count": null,
      "_view_module": "@jupyter-widgets/controls",
      "_view_module_version": "1.5.0",
      "_view_name": "HBoxView",
      "box_style": "",
      "children": [
       "IPY_MODEL_8228eebd83564f7a950f7ec64fcab8d0",
       "IPY_MODEL_1a8bb9d981984d0082a6b37b3cdcee4d",
       "IPY_MODEL_cfff13a4f4bf485e9ff8ced364a2d266"
      ],
      "layout": "IPY_MODEL_270c22a1f21443669aba9ae1b1c2822c"
     }
    },
    "16946a44a9954651849dc0060f41a94a": {
     "model_module": "@jupyter-widgets/base",
     "model_module_version": "1.2.0",
     "model_name": "LayoutModel",
     "state": {
      "_model_module": "@jupyter-widgets/base",
      "_model_module_version": "1.2.0",
      "_model_name": "LayoutModel",
      "_view_count": null,
      "_view_module": "@jupyter-widgets/base",
      "_view_module_version": "1.2.0",
      "_view_name": "LayoutView",
      "align_content": null,
      "align_items": null,
      "align_self": null,
      "border": null,
      "bottom": null,
      "display": null,
      "flex": null,
      "flex_flow": null,
      "grid_area": null,
      "grid_auto_columns": null,
      "grid_auto_flow": null,
      "grid_auto_rows": null,
      "grid_column": null,
      "grid_gap": null,
      "grid_row": null,
      "grid_template_areas": null,
      "grid_template_columns": null,
      "grid_template_rows": null,
      "height": null,
      "justify_content": null,
      "justify_items": null,
      "left": null,
      "margin": null,
      "max_height": null,
      "max_width": null,
      "min_height": null,
      "min_width": null,
      "object_fit": null,
      "object_position": null,
      "order": null,
      "overflow": null,
      "overflow_x": null,
      "overflow_y": null,
      "padding": null,
      "right": null,
      "top": null,
      "visibility": null,
      "width": null
     }
    },
    "1a8bb9d981984d0082a6b37b3cdcee4d": {
     "model_module": "@jupyter-widgets/controls",
     "model_module_version": "1.5.0",
     "model_name": "FloatProgressModel",
     "state": {
      "_dom_classes": [],
      "_model_module": "@jupyter-widgets/controls",
      "_model_module_version": "1.5.0",
      "_model_name": "FloatProgressModel",
      "_view_count": null,
      "_view_module": "@jupyter-widgets/controls",
      "_view_module_version": "1.5.0",
      "_view_name": "ProgressView",
      "bar_style": "success",
      "description": "",
      "description_tooltip": null,
      "layout": "IPY_MODEL_b795de02ac054fbcbd370beccaf34062",
      "max": 1355863,
      "min": 0,
      "orientation": "horizontal",
      "style": "IPY_MODEL_aa3f4c64d1924739ae41737ac403401f",
      "value": 1355863
     }
    },
    "1abb5a2911a4464aa26effc62ba1a9e7": {
     "model_module": "@jupyter-widgets/controls",
     "model_module_version": "1.5.0",
     "model_name": "DescriptionStyleModel",
     "state": {
      "_model_module": "@jupyter-widgets/controls",
      "_model_module_version": "1.5.0",
      "_model_name": "DescriptionStyleModel",
      "_view_count": null,
      "_view_module": "@jupyter-widgets/base",
      "_view_module_version": "1.2.0",
      "_view_name": "StyleView",
      "description_width": ""
     }
    },
    "1bd3e1c28b01429bb7f3ed15de78ec9f": {
     "model_module": "@jupyter-widgets/controls",
     "model_module_version": "1.5.0",
     "model_name": "FloatProgressModel",
     "state": {
      "_dom_classes": [],
      "_model_module": "@jupyter-widgets/controls",
      "_model_module_version": "1.5.0",
      "_model_name": "FloatProgressModel",
      "_view_count": null,
      "_view_module": "@jupyter-widgets/controls",
      "_view_module_version": "1.5.0",
      "_view_name": "ProgressView",
      "bar_style": "success",
      "description": "",
      "description_tooltip": null,
      "layout": "IPY_MODEL_fe8b3ef9d8f049db89bea0ea7136c06d",
      "max": 898823,
      "min": 0,
      "orientation": "horizontal",
      "style": "IPY_MODEL_c328d58174da4934ad2e513d90e2a666",
      "value": 898823
     }
    },
    "206c778a483643ac991a4eae19f54af5": {
     "model_module": "@jupyter-widgets/base",
     "model_module_version": "1.2.0",
     "model_name": "LayoutModel",
     "state": {
      "_model_module": "@jupyter-widgets/base",
      "_model_module_version": "1.2.0",
      "_model_name": "LayoutModel",
      "_view_count": null,
      "_view_module": "@jupyter-widgets/base",
      "_view_module_version": "1.2.0",
      "_view_name": "LayoutView",
      "align_content": null,
      "align_items": null,
      "align_self": null,
      "border": null,
      "bottom": null,
      "display": null,
      "flex": null,
      "flex_flow": null,
      "grid_area": null,
      "grid_auto_columns": null,
      "grid_auto_flow": null,
      "grid_auto_rows": null,
      "grid_column": null,
      "grid_gap": null,
      "grid_row": null,
      "grid_template_areas": null,
      "grid_template_columns": null,
      "grid_template_rows": null,
      "height": null,
      "justify_content": null,
      "justify_items": null,
      "left": null,
      "margin": null,
      "max_height": null,
      "max_width": null,
      "min_height": null,
      "min_width": null,
      "object_fit": null,
      "object_position": null,
      "order": null,
      "overflow": null,
      "overflow_x": null,
      "overflow_y": null,
      "padding": null,
      "right": null,
      "top": null,
      "visibility": null,
      "width": null
     }
    },
    "212bdb0b9db9468b83f9ef3deeb4b37d": {
     "model_module": "@jupyter-widgets/controls",
     "model_module_version": "1.5.0",
     "model_name": "DescriptionStyleModel",
     "state": {
      "_model_module": "@jupyter-widgets/controls",
      "_model_module_version": "1.5.0",
      "_model_name": "DescriptionStyleModel",
      "_view_count": null,
      "_view_module": "@jupyter-widgets/base",
      "_view_module_version": "1.2.0",
      "_view_name": "StyleView",
      "description_width": ""
     }
    },
    "2257ec97c4274aa4a0ba8f8af3931018": {
     "model_module": "@jupyter-widgets/controls",
     "model_module_version": "1.5.0",
     "model_name": "HBoxModel",
     "state": {
      "_dom_classes": [],
      "_model_module": "@jupyter-widgets/controls",
      "_model_module_version": "1.5.0",
      "_model_name": "HBoxModel",
      "_view_count": null,
      "_view_module": "@jupyter-widgets/controls",
      "_view_module_version": "1.5.0",
      "_view_name": "HBoxView",
      "box_style": "",
      "children": [
       "IPY_MODEL_7797186a07154b20aafb040c76702ed1",
       "IPY_MODEL_dacd7907ce094bbcb9e201eac2fdf90e",
       "IPY_MODEL_a77663d37c7447ad902b28d1517da258"
      ],
      "layout": "IPY_MODEL_35a88cde80e64e9495c0690c00801e50"
     }
    },
    "270c22a1f21443669aba9ae1b1c2822c": {
     "model_module": "@jupyter-widgets/base",
     "model_module_version": "1.2.0",
     "model_name": "LayoutModel",
     "state": {
      "_model_module": "@jupyter-widgets/base",
      "_model_module_version": "1.2.0",
      "_model_name": "LayoutModel",
      "_view_count": null,
      "_view_module": "@jupyter-widgets/base",
      "_view_module_version": "1.2.0",
      "_view_name": "LayoutView",
      "align_content": null,
      "align_items": null,
      "align_self": null,
      "border": null,
      "bottom": null,
      "display": null,
      "flex": null,
      "flex_flow": null,
      "grid_area": null,
      "grid_auto_columns": null,
      "grid_auto_flow": null,
      "grid_auto_rows": null,
      "grid_column": null,
      "grid_gap": null,
      "grid_row": null,
      "grid_template_areas": null,
      "grid_template_columns": null,
      "grid_template_rows": null,
      "height": null,
      "justify_content": null,
      "justify_items": null,
      "left": null,
      "margin": null,
      "max_height": null,
      "max_width": null,
      "min_height": null,
      "min_width": null,
      "object_fit": null,
      "object_position": null,
      "order": null,
      "overflow": null,
      "overflow_x": null,
      "overflow_y": null,
      "padding": null,
      "right": null,
      "top": null,
      "visibility": null,
      "width": null
     }
    },
    "2cbdf81c2d2a4635aafdc48e86fe82b9": {
     "model_module": "@jupyter-widgets/base",
     "model_module_version": "1.2.0",
     "model_name": "LayoutModel",
     "state": {
      "_model_module": "@jupyter-widgets/base",
      "_model_module_version": "1.2.0",
      "_model_name": "LayoutModel",
      "_view_count": null,
      "_view_module": "@jupyter-widgets/base",
      "_view_module_version": "1.2.0",
      "_view_name": "LayoutView",
      "align_content": null,
      "align_items": null,
      "align_self": null,
      "border": null,
      "bottom": null,
      "display": null,
      "flex": null,
      "flex_flow": null,
      "grid_area": null,
      "grid_auto_columns": null,
      "grid_auto_flow": null,
      "grid_auto_rows": null,
      "grid_column": null,
      "grid_gap": null,
      "grid_row": null,
      "grid_template_areas": null,
      "grid_template_columns": null,
      "grid_template_rows": null,
      "height": null,
      "justify_content": null,
      "justify_items": null,
      "left": null,
      "margin": null,
      "max_height": null,
      "max_width": null,
      "min_height": null,
      "min_width": null,
      "object_fit": null,
      "object_position": null,
      "order": null,
      "overflow": null,
      "overflow_x": null,
      "overflow_y": null,
      "padding": null,
      "right": null,
      "top": null,
      "visibility": null,
      "width": null
     }
    },
    "2fc0103b5bde40ef87835f403f327ec1": {
     "model_module": "@jupyter-widgets/base",
     "model_module_version": "1.2.0",
     "model_name": "LayoutModel",
     "state": {
      "_model_module": "@jupyter-widgets/base",
      "_model_module_version": "1.2.0",
      "_model_name": "LayoutModel",
      "_view_count": null,
      "_view_module": "@jupyter-widgets/base",
      "_view_module_version": "1.2.0",
      "_view_name": "LayoutView",
      "align_content": null,
      "align_items": null,
      "align_self": null,
      "border": null,
      "bottom": null,
      "display": null,
      "flex": null,
      "flex_flow": null,
      "grid_area": null,
      "grid_auto_columns": null,
      "grid_auto_flow": null,
      "grid_auto_rows": null,
      "grid_column": null,
      "grid_gap": null,
      "grid_row": null,
      "grid_template_areas": null,
      "grid_template_columns": null,
      "grid_template_rows": null,
      "height": null,
      "justify_content": null,
      "justify_items": null,
      "left": null,
      "margin": null,
      "max_height": null,
      "max_width": null,
      "min_height": null,
      "min_width": null,
      "object_fit": null,
      "object_position": null,
      "order": null,
      "overflow": null,
      "overflow_x": null,
      "overflow_y": null,
      "padding": null,
      "right": null,
      "top": null,
      "visibility": null,
      "width": null
     }
    },
    "35a88cde80e64e9495c0690c00801e50": {
     "model_module": "@jupyter-widgets/base",
     "model_module_version": "1.2.0",
     "model_name": "LayoutModel",
     "state": {
      "_model_module": "@jupyter-widgets/base",
      "_model_module_version": "1.2.0",
      "_model_name": "LayoutModel",
      "_view_count": null,
      "_view_module": "@jupyter-widgets/base",
      "_view_module_version": "1.2.0",
      "_view_name": "LayoutView",
      "align_content": null,
      "align_items": null,
      "align_self": null,
      "border": null,
      "bottom": null,
      "display": null,
      "flex": null,
      "flex_flow": null,
      "grid_area": null,
      "grid_auto_columns": null,
      "grid_auto_flow": null,
      "grid_auto_rows": null,
      "grid_column": null,
      "grid_gap": null,
      "grid_row": null,
      "grid_template_areas": null,
      "grid_template_columns": null,
      "grid_template_rows": null,
      "height": null,
      "justify_content": null,
      "justify_items": null,
      "left": null,
      "margin": null,
      "max_height": null,
      "max_width": null,
      "min_height": null,
      "min_width": null,
      "object_fit": null,
      "object_position": null,
      "order": null,
      "overflow": null,
      "overflow_x": null,
      "overflow_y": null,
      "padding": null,
      "right": null,
      "top": null,
      "visibility": null,
      "width": null
     }
    },
    "4297d83044064cb49912d116ff9f7f22": {
     "model_module": "@jupyter-widgets/controls",
     "model_module_version": "1.5.0",
     "model_name": "DescriptionStyleModel",
     "state": {
      "_model_module": "@jupyter-widgets/controls",
      "_model_module_version": "1.5.0",
      "_model_name": "DescriptionStyleModel",
      "_view_count": null,
      "_view_module": "@jupyter-widgets/base",
      "_view_module_version": "1.2.0",
      "_view_name": "StyleView",
      "description_width": ""
     }
    },
    "48d9f4c1b7e6497eb6a8d89f72b0de7c": {
     "model_module": "@jupyter-widgets/controls",
     "model_module_version": "1.5.0",
     "model_name": "ProgressStyleModel",
     "state": {
      "_model_module": "@jupyter-widgets/controls",
      "_model_module_version": "1.5.0",
      "_model_name": "ProgressStyleModel",
      "_view_count": null,
      "_view_module": "@jupyter-widgets/base",
      "_view_module_version": "1.2.0",
      "_view_name": "StyleView",
      "bar_color": null,
      "description_width": ""
     }
    },
    "4cbef72f8bb1483fba716406f451bbd9": {
     "model_module": "@jupyter-widgets/controls",
     "model_module_version": "1.5.0",
     "model_name": "HTMLModel",
     "state": {
      "_dom_classes": [],
      "_model_module": "@jupyter-widgets/controls",
      "_model_module_version": "1.5.0",
      "_model_name": "HTMLModel",
      "_view_count": null,
      "_view_module": "@jupyter-widgets/controls",
      "_view_module_version": "1.5.0",
      "_view_name": "HTMLView",
      "description": "",
      "description_tooltip": null,
      "layout": "IPY_MODEL_998b98a39f13432abfc7c0afe271a41b",
      "placeholder": "​",
      "style": "IPY_MODEL_f6144258f5204bc5a1e84427d40a78d4",
      "value": "Downloading pytorch_model.bin: 100%"
     }
    },
    "53e0f66345e14fc9a47362dcdc63145c": {
     "model_module": "@jupyter-widgets/base",
     "model_module_version": "1.2.0",
     "model_name": "LayoutModel",
     "state": {
      "_model_module": "@jupyter-widgets/base",
      "_model_module_version": "1.2.0",
      "_model_name": "LayoutModel",
      "_view_count": null,
      "_view_module": "@jupyter-widgets/base",
      "_view_module_version": "1.2.0",
      "_view_name": "LayoutView",
      "align_content": null,
      "align_items": null,
      "align_self": null,
      "border": null,
      "bottom": null,
      "display": null,
      "flex": null,
      "flex_flow": null,
      "grid_area": null,
      "grid_auto_columns": null,
      "grid_auto_flow": null,
      "grid_auto_rows": null,
      "grid_column": null,
      "grid_gap": null,
      "grid_row": null,
      "grid_template_areas": null,
      "grid_template_columns": null,
      "grid_template_rows": null,
      "height": null,
      "justify_content": null,
      "justify_items": null,
      "left": null,
      "margin": null,
      "max_height": null,
      "max_width": null,
      "min_height": null,
      "min_width": null,
      "object_fit": null,
      "object_position": null,
      "order": null,
      "overflow": null,
      "overflow_x": null,
      "overflow_y": null,
      "padding": null,
      "right": null,
      "top": null,
      "visibility": null,
      "width": null
     }
    },
    "594cf0ba4b884275ad4b5cae926a0db1": {
     "model_module": "@jupyter-widgets/controls",
     "model_module_version": "1.5.0",
     "model_name": "ProgressStyleModel",
     "state": {
      "_model_module": "@jupyter-widgets/controls",
      "_model_module_version": "1.5.0",
      "_model_name": "ProgressStyleModel",
      "_view_count": null,
      "_view_module": "@jupyter-widgets/base",
      "_view_module_version": "1.2.0",
      "_view_name": "StyleView",
      "bar_color": null,
      "description_width": ""
     }
    },
    "61f0f90e23b5423486ba57dc1820ed71": {
     "model_module": "@jupyter-widgets/controls",
     "model_module_version": "1.5.0",
     "model_name": "ProgressStyleModel",
     "state": {
      "_model_module": "@jupyter-widgets/controls",
      "_model_module_version": "1.5.0",
      "_model_name": "ProgressStyleModel",
      "_view_count": null,
      "_view_module": "@jupyter-widgets/base",
      "_view_module_version": "1.2.0",
      "_view_name": "StyleView",
      "bar_color": null,
      "description_width": ""
     }
    },
    "695d05eded214a2abf94cc078c2d792a": {
     "model_module": "@jupyter-widgets/base",
     "model_module_version": "1.2.0",
     "model_name": "LayoutModel",
     "state": {
      "_model_module": "@jupyter-widgets/base",
      "_model_module_version": "1.2.0",
      "_model_name": "LayoutModel",
      "_view_count": null,
      "_view_module": "@jupyter-widgets/base",
      "_view_module_version": "1.2.0",
      "_view_name": "LayoutView",
      "align_content": null,
      "align_items": null,
      "align_self": null,
      "border": null,
      "bottom": null,
      "display": null,
      "flex": null,
      "flex_flow": null,
      "grid_area": null,
      "grid_auto_columns": null,
      "grid_auto_flow": null,
      "grid_auto_rows": null,
      "grid_column": null,
      "grid_gap": null,
      "grid_row": null,
      "grid_template_areas": null,
      "grid_template_columns": null,
      "grid_template_rows": null,
      "height": null,
      "justify_content": null,
      "justify_items": null,
      "left": null,
      "margin": null,
      "max_height": null,
      "max_width": null,
      "min_height": null,
      "min_width": null,
      "object_fit": null,
      "object_position": null,
      "order": null,
      "overflow": null,
      "overflow_x": null,
      "overflow_y": null,
      "padding": null,
      "right": null,
      "top": null,
      "visibility": null,
      "width": null
     }
    },
    "7797186a07154b20aafb040c76702ed1": {
     "model_module": "@jupyter-widgets/controls",
     "model_module_version": "1.5.0",
     "model_name": "HTMLModel",
     "state": {
      "_dom_classes": [],
      "_model_module": "@jupyter-widgets/controls",
      "_model_module_version": "1.5.0",
      "_model_name": "HTMLModel",
      "_view_count": null,
      "_view_module": "@jupyter-widgets/controls",
      "_view_module_version": "1.5.0",
      "_view_name": "HTMLView",
      "description": "",
      "description_tooltip": null,
      "layout": "IPY_MODEL_206c778a483643ac991a4eae19f54af5",
      "placeholder": "​",
      "style": "IPY_MODEL_f688c183cf7a4a8482bb8e6bc9f56f67",
      "value": "Downloading (…)olve/main/merges.txt: 100%"
     }
    },
    "7a897a5decc046a68df3ce5071cad1e8": {
     "model_module": "@jupyter-widgets/base",
     "model_module_version": "1.2.0",
     "model_name": "LayoutModel",
     "state": {
      "_model_module": "@jupyter-widgets/base",
      "_model_module_version": "1.2.0",
      "_model_name": "LayoutModel",
      "_view_count": null,
      "_view_module": "@jupyter-widgets/base",
      "_view_module_version": "1.2.0",
      "_view_name": "LayoutView",
      "align_content": null,
      "align_items": null,
      "align_self": null,
      "border": null,
      "bottom": null,
      "display": null,
      "flex": null,
      "flex_flow": null,
      "grid_area": null,
      "grid_auto_columns": null,
      "grid_auto_flow": null,
      "grid_auto_rows": null,
      "grid_column": null,
      "grid_gap": null,
      "grid_row": null,
      "grid_template_areas": null,
      "grid_template_columns": null,
      "grid_template_rows": null,
      "height": null,
      "justify_content": null,
      "justify_items": null,
      "left": null,
      "margin": null,
      "max_height": null,
      "max_width": null,
      "min_height": null,
      "min_width": null,
      "object_fit": null,
      "object_position": null,
      "order": null,
      "overflow": null,
      "overflow_x": null,
      "overflow_y": null,
      "padding": null,
      "right": null,
      "top": null,
      "visibility": null,
      "width": null
     }
    },
    "8228eebd83564f7a950f7ec64fcab8d0": {
     "model_module": "@jupyter-widgets/controls",
     "model_module_version": "1.5.0",
     "model_name": "HTMLModel",
     "state": {
      "_dom_classes": [],
      "_model_module": "@jupyter-widgets/controls",
      "_model_module_version": "1.5.0",
      "_model_name": "HTMLModel",
      "_view_count": null,
      "_view_module": "@jupyter-widgets/controls",
      "_view_module_version": "1.5.0",
      "_view_name": "HTMLView",
      "description": "",
      "description_tooltip": null,
      "layout": "IPY_MODEL_11f836a17e6d46bcb16609a09e5414c9",
      "placeholder": "​",
      "style": "IPY_MODEL_4297d83044064cb49912d116ff9f7f22",
      "value": "Downloading (…)/main/tokenizer.json: 100%"
     }
    },
    "8639209e9cff48e8919deb293af6d8d4": {
     "model_module": "@jupyter-widgets/controls",
     "model_module_version": "1.5.0",
     "model_name": "HTMLModel",
     "state": {
      "_dom_classes": [],
      "_model_module": "@jupyter-widgets/controls",
      "_model_module_version": "1.5.0",
      "_model_name": "HTMLModel",
      "_view_count": null,
      "_view_module": "@jupyter-widgets/controls",
      "_view_module_version": "1.5.0",
      "_view_name": "HTMLView",
      "description": "",
      "description_tooltip": null,
      "layout": "IPY_MODEL_044b0b47fa11416ea53189144f540500",
      "placeholder": "​",
      "style": "IPY_MODEL_c790b7ec42d44311af5f8bf84843860d",
      "value": "Downloading (…)lve/main/config.json: 100%"
     }
    },
    "891bfded9d644774a5a86f0dd58e77cf": {
     "model_module": "@jupyter-widgets/controls",
     "model_module_version": "1.5.0",
     "model_name": "DescriptionStyleModel",
     "state": {
      "_model_module": "@jupyter-widgets/controls",
      "_model_module_version": "1.5.0",
      "_model_name": "DescriptionStyleModel",
      "_view_count": null,
      "_view_module": "@jupyter-widgets/base",
      "_view_module_version": "1.2.0",
      "_view_name": "StyleView",
      "description_width": ""
     }
    },
    "89e35c69239548e28ccaae405dcef233": {
     "model_module": "@jupyter-widgets/controls",
     "model_module_version": "1.5.0",
     "model_name": "HTMLModel",
     "state": {
      "_dom_classes": [],
      "_model_module": "@jupyter-widgets/controls",
      "_model_module_version": "1.5.0",
      "_model_name": "HTMLModel",
      "_view_count": null,
      "_view_module": "@jupyter-widgets/controls",
      "_view_module_version": "1.5.0",
      "_view_name": "HTMLView",
      "description": "",
      "description_tooltip": null,
      "layout": "IPY_MODEL_c8738a0c03434b8886f0510e55c626e5",
      "placeholder": "​",
      "style": "IPY_MODEL_abd9250647a8473a8dc8146fe6ed0ac6",
      "value": " 501M/501M [00:05&lt;00:00, 86.7MB/s]"
     }
    },
    "8b3db1f6801a4bd29eb82436a1f8cb53": {
     "model_module": "@jupyter-widgets/controls",
     "model_module_version": "1.5.0",
     "model_name": "DescriptionStyleModel",
     "state": {
      "_model_module": "@jupyter-widgets/controls",
      "_model_module_version": "1.5.0",
      "_model_name": "DescriptionStyleModel",
      "_view_count": null,
      "_view_module": "@jupyter-widgets/base",
      "_view_module_version": "1.2.0",
      "_view_name": "StyleView",
      "description_width": ""
     }
    },
    "93e24ebca9484e03aa2c0f136b7f554b": {
     "model_module": "@jupyter-widgets/controls",
     "model_module_version": "1.5.0",
     "model_name": "DescriptionStyleModel",
     "state": {
      "_model_module": "@jupyter-widgets/controls",
      "_model_module_version": "1.5.0",
      "_model_name": "DescriptionStyleModel",
      "_view_count": null,
      "_view_module": "@jupyter-widgets/base",
      "_view_module_version": "1.2.0",
      "_view_name": "StyleView",
      "description_width": ""
     }
    },
    "96c0973207a44a6ea2e5332ffd7840f2": {
     "model_module": "@jupyter-widgets/controls",
     "model_module_version": "1.5.0",
     "model_name": "HTMLModel",
     "state": {
      "_dom_classes": [],
      "_model_module": "@jupyter-widgets/controls",
      "_model_module_version": "1.5.0",
      "_model_name": "HTMLModel",
      "_view_count": null,
      "_view_module": "@jupyter-widgets/controls",
      "_view_module_version": "1.5.0",
      "_view_name": "HTMLView",
      "description": "",
      "description_tooltip": null,
      "layout": "IPY_MODEL_7a897a5decc046a68df3ce5071cad1e8",
      "placeholder": "​",
      "style": "IPY_MODEL_212bdb0b9db9468b83f9ef3deeb4b37d",
      "value": " 481/481 [00:00&lt;00:00, 17.5kB/s]"
     }
    },
    "998b98a39f13432abfc7c0afe271a41b": {
     "model_module": "@jupyter-widgets/base",
     "model_module_version": "1.2.0",
     "model_name": "LayoutModel",
     "state": {
      "_model_module": "@jupyter-widgets/base",
      "_model_module_version": "1.2.0",
      "_model_name": "LayoutModel",
      "_view_count": null,
      "_view_module": "@jupyter-widgets/base",
      "_view_module_version": "1.2.0",
      "_view_name": "LayoutView",
      "align_content": null,
      "align_items": null,
      "align_self": null,
      "border": null,
      "bottom": null,
      "display": null,
      "flex": null,
      "flex_flow": null,
      "grid_area": null,
      "grid_auto_columns": null,
      "grid_auto_flow": null,
      "grid_auto_rows": null,
      "grid_column": null,
      "grid_gap": null,
      "grid_row": null,
      "grid_template_areas": null,
      "grid_template_columns": null,
      "grid_template_rows": null,
      "height": null,
      "justify_content": null,
      "justify_items": null,
      "left": null,
      "margin": null,
      "max_height": null,
      "max_width": null,
      "min_height": null,
      "min_width": null,
      "object_fit": null,
      "object_position": null,
      "order": null,
      "overflow": null,
      "overflow_x": null,
      "overflow_y": null,
      "padding": null,
      "right": null,
      "top": null,
      "visibility": null,
      "width": null
     }
    },
    "a4be5938528e47698233e821df6ea11d": {
     "model_module": "@jupyter-widgets/base",
     "model_module_version": "1.2.0",
     "model_name": "LayoutModel",
     "state": {
      "_model_module": "@jupyter-widgets/base",
      "_model_module_version": "1.2.0",
      "_model_name": "LayoutModel",
      "_view_count": null,
      "_view_module": "@jupyter-widgets/base",
      "_view_module_version": "1.2.0",
      "_view_name": "LayoutView",
      "align_content": null,
      "align_items": null,
      "align_self": null,
      "border": null,
      "bottom": null,
      "display": null,
      "flex": null,
      "flex_flow": null,
      "grid_area": null,
      "grid_auto_columns": null,
      "grid_auto_flow": null,
      "grid_auto_rows": null,
      "grid_column": null,
      "grid_gap": null,
      "grid_row": null,
      "grid_template_areas": null,
      "grid_template_columns": null,
      "grid_template_rows": null,
      "height": null,
      "justify_content": null,
      "justify_items": null,
      "left": null,
      "margin": null,
      "max_height": null,
      "max_width": null,
      "min_height": null,
      "min_width": null,
      "object_fit": null,
      "object_position": null,
      "order": null,
      "overflow": null,
      "overflow_x": null,
      "overflow_y": null,
      "padding": null,
      "right": null,
      "top": null,
      "visibility": null,
      "width": null
     }
    },
    "a77663d37c7447ad902b28d1517da258": {
     "model_module": "@jupyter-widgets/controls",
     "model_module_version": "1.5.0",
     "model_name": "HTMLModel",
     "state": {
      "_dom_classes": [],
      "_model_module": "@jupyter-widgets/controls",
      "_model_module_version": "1.5.0",
      "_model_name": "HTMLModel",
      "_view_count": null,
      "_view_module": "@jupyter-widgets/controls",
      "_view_module_version": "1.5.0",
      "_view_name": "HTMLView",
      "description": "",
      "description_tooltip": null,
      "layout": "IPY_MODEL_16946a44a9954651849dc0060f41a94a",
      "placeholder": "​",
      "style": "IPY_MODEL_891bfded9d644774a5a86f0dd58e77cf",
      "value": " 456k/456k [00:00&lt;00:00, 489kB/s]"
     }
    },
    "aa3f4c64d1924739ae41737ac403401f": {
     "model_module": "@jupyter-widgets/controls",
     "model_module_version": "1.5.0",
     "model_name": "ProgressStyleModel",
     "state": {
      "_model_module": "@jupyter-widgets/controls",
      "_model_module_version": "1.5.0",
      "_model_name": "ProgressStyleModel",
      "_view_count": null,
      "_view_module": "@jupyter-widgets/base",
      "_view_module_version": "1.2.0",
      "_view_name": "StyleView",
      "bar_color": null,
      "description_width": ""
     }
    },
    "abd9250647a8473a8dc8146fe6ed0ac6": {
     "model_module": "@jupyter-widgets/controls",
     "model_module_version": "1.5.0",
     "model_name": "DescriptionStyleModel",
     "state": {
      "_model_module": "@jupyter-widgets/controls",
      "_model_module_version": "1.5.0",
      "_model_name": "DescriptionStyleModel",
      "_view_count": null,
      "_view_module": "@jupyter-widgets/base",
      "_view_module_version": "1.2.0",
      "_view_name": "StyleView",
      "description_width": ""
     }
    },
    "b3800f43b53d459ab2a24d8d78a9a6a3": {
     "model_module": "@jupyter-widgets/controls",
     "model_module_version": "1.5.0",
     "model_name": "FloatProgressModel",
     "state": {
      "_dom_classes": [],
      "_model_module": "@jupyter-widgets/controls",
      "_model_module_version": "1.5.0",
      "_model_name": "FloatProgressModel",
      "_view_count": null,
      "_view_module": "@jupyter-widgets/controls",
      "_view_module_version": "1.5.0",
      "_view_name": "ProgressView",
      "bar_style": "success",
      "description": "",
      "description_tooltip": null,
      "layout": "IPY_MODEL_bb8eaa71b63f4a91a704b2824c3991e1",
      "max": 481,
      "min": 0,
      "orientation": "horizontal",
      "style": "IPY_MODEL_61f0f90e23b5423486ba57dc1820ed71",
      "value": 481
     }
    },
    "b795de02ac054fbcbd370beccaf34062": {
     "model_module": "@jupyter-widgets/base",
     "model_module_version": "1.2.0",
     "model_name": "LayoutModel",
     "state": {
      "_model_module": "@jupyter-widgets/base",
      "_model_module_version": "1.2.0",
      "_model_name": "LayoutModel",
      "_view_count": null,
      "_view_module": "@jupyter-widgets/base",
      "_view_module_version": "1.2.0",
      "_view_name": "LayoutView",
      "align_content": null,
      "align_items": null,
      "align_self": null,
      "border": null,
      "bottom": null,
      "display": null,
      "flex": null,
      "flex_flow": null,
      "grid_area": null,
      "grid_auto_columns": null,
      "grid_auto_flow": null,
      "grid_auto_rows": null,
      "grid_column": null,
      "grid_gap": null,
      "grid_row": null,
      "grid_template_areas": null,
      "grid_template_columns": null,
      "grid_template_rows": null,
      "height": null,
      "justify_content": null,
      "justify_items": null,
      "left": null,
      "margin": null,
      "max_height": null,
      "max_width": null,
      "min_height": null,
      "min_width": null,
      "object_fit": null,
      "object_position": null,
      "order": null,
      "overflow": null,
      "overflow_x": null,
      "overflow_y": null,
      "padding": null,
      "right": null,
      "top": null,
      "visibility": null,
      "width": null
     }
    },
    "bb8eaa71b63f4a91a704b2824c3991e1": {
     "model_module": "@jupyter-widgets/base",
     "model_module_version": "1.2.0",
     "model_name": "LayoutModel",
     "state": {
      "_model_module": "@jupyter-widgets/base",
      "_model_module_version": "1.2.0",
      "_model_name": "LayoutModel",
      "_view_count": null,
      "_view_module": "@jupyter-widgets/base",
      "_view_module_version": "1.2.0",
      "_view_name": "LayoutView",
      "align_content": null,
      "align_items": null,
      "align_self": null,
      "border": null,
      "bottom": null,
      "display": null,
      "flex": null,
      "flex_flow": null,
      "grid_area": null,
      "grid_auto_columns": null,
      "grid_auto_flow": null,
      "grid_auto_rows": null,
      "grid_column": null,
      "grid_gap": null,
      "grid_row": null,
      "grid_template_areas": null,
      "grid_template_columns": null,
      "grid_template_rows": null,
      "height": null,
      "justify_content": null,
      "justify_items": null,
      "left": null,
      "margin": null,
      "max_height": null,
      "max_width": null,
      "min_height": null,
      "min_width": null,
      "object_fit": null,
      "object_position": null,
      "order": null,
      "overflow": null,
      "overflow_x": null,
      "overflow_y": null,
      "padding": null,
      "right": null,
      "top": null,
      "visibility": null,
      "width": null
     }
    },
    "be7c52d528ac47dd911bdad532c92fba": {
     "model_module": "@jupyter-widgets/controls",
     "model_module_version": "1.5.0",
     "model_name": "HBoxModel",
     "state": {
      "_dom_classes": [],
      "_model_module": "@jupyter-widgets/controls",
      "_model_module_version": "1.5.0",
      "_model_name": "HBoxModel",
      "_view_count": null,
      "_view_module": "@jupyter-widgets/controls",
      "_view_module_version": "1.5.0",
      "_view_name": "HBoxView",
      "box_style": "",
      "children": [
       "IPY_MODEL_8639209e9cff48e8919deb293af6d8d4",
       "IPY_MODEL_b3800f43b53d459ab2a24d8d78a9a6a3",
       "IPY_MODEL_96c0973207a44a6ea2e5332ffd7840f2"
      ],
      "layout": "IPY_MODEL_d6ae77278495455c9941d78a0af5ca53"
     }
    },
    "c328d58174da4934ad2e513d90e2a666": {
     "model_module": "@jupyter-widgets/controls",
     "model_module_version": "1.5.0",
     "model_name": "ProgressStyleModel",
     "state": {
      "_model_module": "@jupyter-widgets/controls",
      "_model_module_version": "1.5.0",
      "_model_name": "ProgressStyleModel",
      "_view_count": null,
      "_view_module": "@jupyter-widgets/base",
      "_view_module_version": "1.2.0",
      "_view_name": "StyleView",
      "bar_color": null,
      "description_width": ""
     }
    },
    "c790b7ec42d44311af5f8bf84843860d": {
     "model_module": "@jupyter-widgets/controls",
     "model_module_version": "1.5.0",
     "model_name": "DescriptionStyleModel",
     "state": {
      "_model_module": "@jupyter-widgets/controls",
      "_model_module_version": "1.5.0",
      "_model_name": "DescriptionStyleModel",
      "_view_count": null,
      "_view_module": "@jupyter-widgets/base",
      "_view_module_version": "1.2.0",
      "_view_name": "StyleView",
      "description_width": ""
     }
    },
    "c8738a0c03434b8886f0510e55c626e5": {
     "model_module": "@jupyter-widgets/base",
     "model_module_version": "1.2.0",
     "model_name": "LayoutModel",
     "state": {
      "_model_module": "@jupyter-widgets/base",
      "_model_module_version": "1.2.0",
      "_model_name": "LayoutModel",
      "_view_count": null,
      "_view_module": "@jupyter-widgets/base",
      "_view_module_version": "1.2.0",
      "_view_name": "LayoutView",
      "align_content": null,
      "align_items": null,
      "align_self": null,
      "border": null,
      "bottom": null,
      "display": null,
      "flex": null,
      "flex_flow": null,
      "grid_area": null,
      "grid_auto_columns": null,
      "grid_auto_flow": null,
      "grid_auto_rows": null,
      "grid_column": null,
      "grid_gap": null,
      "grid_row": null,
      "grid_template_areas": null,
      "grid_template_columns": null,
      "grid_template_rows": null,
      "height": null,
      "justify_content": null,
      "justify_items": null,
      "left": null,
      "margin": null,
      "max_height": null,
      "max_width": null,
      "min_height": null,
      "min_width": null,
      "object_fit": null,
      "object_position": null,
      "order": null,
      "overflow": null,
      "overflow_x": null,
      "overflow_y": null,
      "padding": null,
      "right": null,
      "top": null,
      "visibility": null,
      "width": null
     }
    },
    "cfff13a4f4bf485e9ff8ced364a2d266": {
     "model_module": "@jupyter-widgets/controls",
     "model_module_version": "1.5.0",
     "model_name": "HTMLModel",
     "state": {
      "_dom_classes": [],
      "_model_module": "@jupyter-widgets/controls",
      "_model_module_version": "1.5.0",
      "_model_name": "HTMLModel",
      "_view_count": null,
      "_view_module": "@jupyter-widgets/controls",
      "_view_module_version": "1.5.0",
      "_view_name": "HTMLView",
      "description": "",
      "description_tooltip": null,
      "layout": "IPY_MODEL_53e0f66345e14fc9a47362dcdc63145c",
      "placeholder": "​",
      "style": "IPY_MODEL_8b3db1f6801a4bd29eb82436a1f8cb53",
      "value": " 1.36M/1.36M [00:01&lt;00:00, 1.18MB/s]"
     }
    },
    "d30ac011a1df4392b9b3be32070e7b3f": {
     "model_module": "@jupyter-widgets/controls",
     "model_module_version": "1.5.0",
     "model_name": "HTMLModel",
     "state": {
      "_dom_classes": [],
      "_model_module": "@jupyter-widgets/controls",
      "_model_module_version": "1.5.0",
      "_model_name": "HTMLModel",
      "_view_count": null,
      "_view_module": "@jupyter-widgets/controls",
      "_view_module_version": "1.5.0",
      "_view_name": "HTMLView",
      "description": "",
      "description_tooltip": null,
      "layout": "IPY_MODEL_2cbdf81c2d2a4635aafdc48e86fe82b9",
      "placeholder": "​",
      "style": "IPY_MODEL_93e24ebca9484e03aa2c0f136b7f554b",
      "value": "Downloading (…)olve/main/vocab.json: 100%"
     }
    },
    "d687412464a14b24af35acfb6cb6b810": {
     "model_module": "@jupyter-widgets/base",
     "model_module_version": "1.2.0",
     "model_name": "LayoutModel",
     "state": {
      "_model_module": "@jupyter-widgets/base",
      "_model_module_version": "1.2.0",
      "_model_name": "LayoutModel",
      "_view_count": null,
      "_view_module": "@jupyter-widgets/base",
      "_view_module_version": "1.2.0",
      "_view_name": "LayoutView",
      "align_content": null,
      "align_items": null,
      "align_self": null,
      "border": null,
      "bottom": null,
      "display": null,
      "flex": null,
      "flex_flow": null,
      "grid_area": null,
      "grid_auto_columns": null,
      "grid_auto_flow": null,
      "grid_auto_rows": null,
      "grid_column": null,
      "grid_gap": null,
      "grid_row": null,
      "grid_template_areas": null,
      "grid_template_columns": null,
      "grid_template_rows": null,
      "height": null,
      "justify_content": null,
      "justify_items": null,
      "left": null,
      "margin": null,
      "max_height": null,
      "max_width": null,
      "min_height": null,
      "min_width": null,
      "object_fit": null,
      "object_position": null,
      "order": null,
      "overflow": null,
      "overflow_x": null,
      "overflow_y": null,
      "padding": null,
      "right": null,
      "top": null,
      "visibility": null,
      "width": null
     }
    },
    "d6ae77278495455c9941d78a0af5ca53": {
     "model_module": "@jupyter-widgets/base",
     "model_module_version": "1.2.0",
     "model_name": "LayoutModel",
     "state": {
      "_model_module": "@jupyter-widgets/base",
      "_model_module_version": "1.2.0",
      "_model_name": "LayoutModel",
      "_view_count": null,
      "_view_module": "@jupyter-widgets/base",
      "_view_module_version": "1.2.0",
      "_view_name": "LayoutView",
      "align_content": null,
      "align_items": null,
      "align_self": null,
      "border": null,
      "bottom": null,
      "display": null,
      "flex": null,
      "flex_flow": null,
      "grid_area": null,
      "grid_auto_columns": null,
      "grid_auto_flow": null,
      "grid_auto_rows": null,
      "grid_column": null,
      "grid_gap": null,
      "grid_row": null,
      "grid_template_areas": null,
      "grid_template_columns": null,
      "grid_template_rows": null,
      "height": null,
      "justify_content": null,
      "justify_items": null,
      "left": null,
      "margin": null,
      "max_height": null,
      "max_width": null,
      "min_height": null,
      "min_width": null,
      "object_fit": null,
      "object_position": null,
      "order": null,
      "overflow": null,
      "overflow_x": null,
      "overflow_y": null,
      "padding": null,
      "right": null,
      "top": null,
      "visibility": null,
      "width": null
     }
    },
    "dacd7907ce094bbcb9e201eac2fdf90e": {
     "model_module": "@jupyter-widgets/controls",
     "model_module_version": "1.5.0",
     "model_name": "FloatProgressModel",
     "state": {
      "_dom_classes": [],
      "_model_module": "@jupyter-widgets/controls",
      "_model_module_version": "1.5.0",
      "_model_name": "FloatProgressModel",
      "_view_count": null,
      "_view_module": "@jupyter-widgets/controls",
      "_view_module_version": "1.5.0",
      "_view_name": "ProgressView",
      "bar_style": "success",
      "description": "",
      "description_tooltip": null,
      "layout": "IPY_MODEL_2fc0103b5bde40ef87835f403f327ec1",
      "max": 456318,
      "min": 0,
      "orientation": "horizontal",
      "style": "IPY_MODEL_48d9f4c1b7e6497eb6a8d89f72b0de7c",
      "value": 456318
     }
    },
    "dfea4fc448bb472782be93da00df9c5c": {
     "model_module": "@jupyter-widgets/controls",
     "model_module_version": "1.5.0",
     "model_name": "HBoxModel",
     "state": {
      "_dom_classes": [],
      "_model_module": "@jupyter-widgets/controls",
      "_model_module_version": "1.5.0",
      "_model_name": "HBoxModel",
      "_view_count": null,
      "_view_module": "@jupyter-widgets/controls",
      "_view_module_version": "1.5.0",
      "_view_name": "HBoxView",
      "box_style": "",
      "children": [
       "IPY_MODEL_d30ac011a1df4392b9b3be32070e7b3f",
       "IPY_MODEL_1bd3e1c28b01429bb7f3ed15de78ec9f",
       "IPY_MODEL_12348a4251314016b51d27188e908a78"
      ],
      "layout": "IPY_MODEL_a4be5938528e47698233e821df6ea11d"
     }
    },
    "f6144258f5204bc5a1e84427d40a78d4": {
     "model_module": "@jupyter-widgets/controls",
     "model_module_version": "1.5.0",
     "model_name": "DescriptionStyleModel",
     "state": {
      "_model_module": "@jupyter-widgets/controls",
      "_model_module_version": "1.5.0",
      "_model_name": "DescriptionStyleModel",
      "_view_count": null,
      "_view_module": "@jupyter-widgets/base",
      "_view_module_version": "1.2.0",
      "_view_name": "StyleView",
      "description_width": ""
     }
    },
    "f688c183cf7a4a8482bb8e6bc9f56f67": {
     "model_module": "@jupyter-widgets/controls",
     "model_module_version": "1.5.0",
     "model_name": "DescriptionStyleModel",
     "state": {
      "_model_module": "@jupyter-widgets/controls",
      "_model_module_version": "1.5.0",
      "_model_name": "DescriptionStyleModel",
      "_view_count": null,
      "_view_module": "@jupyter-widgets/base",
      "_view_module_version": "1.2.0",
      "_view_name": "StyleView",
      "description_width": ""
     }
    },
    "fe8b3ef9d8f049db89bea0ea7136c06d": {
     "model_module": "@jupyter-widgets/base",
     "model_module_version": "1.2.0",
     "model_name": "LayoutModel",
     "state": {
      "_model_module": "@jupyter-widgets/base",
      "_model_module_version": "1.2.0",
      "_model_name": "LayoutModel",
      "_view_count": null,
      "_view_module": "@jupyter-widgets/base",
      "_view_module_version": "1.2.0",
      "_view_name": "LayoutView",
      "align_content": null,
      "align_items": null,
      "align_self": null,
      "border": null,
      "bottom": null,
      "display": null,
      "flex": null,
      "flex_flow": null,
      "grid_area": null,
      "grid_auto_columns": null,
      "grid_auto_flow": null,
      "grid_auto_rows": null,
      "grid_column": null,
      "grid_gap": null,
      "grid_row": null,
      "grid_template_areas": null,
      "grid_template_columns": null,
      "grid_template_rows": null,
      "height": null,
      "justify_content": null,
      "justify_items": null,
      "left": null,
      "margin": null,
      "max_height": null,
      "max_width": null,
      "min_height": null,
      "min_width": null,
      "object_fit": null,
      "object_position": null,
      "order": null,
      "overflow": null,
      "overflow_x": null,
      "overflow_y": null,
      "padding": null,
      "right": null,
      "top": null,
      "visibility": null,
      "width": null
     }
    }
   }
  }
 },
 "nbformat": 4,
 "nbformat_minor": 5
}
